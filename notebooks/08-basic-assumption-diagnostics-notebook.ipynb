{
  "cells": [
    {
      "cell_type": "markdown",
      "metadata": {},
      "source": [
        "# Chapter 8 - Basic assumption diagnostics\n",
        "\n",
        "Joshua French\n",
        "\n",
        "To open this information in an interactive Colab notebook, click the Open in Colab graphic below.\n",
        "\n",
        "<a href=\"https://colab.research.google.com/github/jfrench/LinearRegression/blob/master/notebooks/08-basic-assumption-diagnostics-notebook.ipynb\"> <img src=\"https://colab.research.google.com/assets/colab-badge.svg\"> </a>\n",
        "\n",
        "------------------------------------------------------------------------"
      ],
      "id": "3813c672-dce4-4da3-84a0-ac63e97ecccb"
    },
    {
      "cell_type": "code",
      "execution_count": 1,
      "metadata": {},
      "outputs": [],
      "source": [
        "if(!require(faraway, quietly = TRUE)) {\n",
        "  install.packages(\"faraway\",\n",
        "                   repos = \"https://cran.rstudio.com/\")\n",
        "}\n",
        "if(!require(KingCountyHouses, quietly = TRUE)) {\n",
        "  install.packages(\"KingCountyHouses\",\n",
        "                   repos = \"https://cran.rstudio.com/\")\n",
        "}\n",
        "if(!require(car, quietly = TRUE)) {\n",
        "  install.packages(\"car\",\n",
        "                   repos = \"https://cran.rstudio.com/\")\n",
        "  library(car)\n",
        "}\n",
        "if(!require(lmtest, quietly = TRUE)) {\n",
        "  install.packages(\"lmtest\",\n",
        "                   repos = \"https://cran.rstudio.com/\")\n",
        "  library(lmtest)\n",
        "}"
      ],
      "id": "3361d117-da84-4450-b476-74dca4a4bc75"
    },
    {
      "cell_type": "markdown",
      "metadata": {},
      "source": [
        "We adjust some printing options for clarity."
      ],
      "id": "30ee1397-cac4-4964-ba16-b6cd6da3c183"
    },
    {
      "cell_type": "code",
      "execution_count": 2,
      "metadata": {},
      "outputs": [],
      "source": [
        "options(digits = 7, scipen = 2)"
      ],
      "id": "e037c351-aaff-45df-ba5e-7d8782a563ae"
    },
    {
      "cell_type": "markdown",
      "metadata": {},
      "source": [
        "We discuss basic, but effective approaches for assessing the validity of several of the assumptions discussed in the previous notebook.\n",
        "\n",
        "# Illustration data sets\n",
        "\n",
        "To facilitate this discussion we will consider two data sets.\n",
        "\n",
        "The first data set we will consider is the `prostate` data set, which is available in the **faraway** R package. The data provide information about 97 men who were going to receive a radical prostatectomy. The data set has 97 rows and 9 columns with the variables:\n",
        "\n",
        "The prostate data frame has 97 rows and 9 columns. A study on 97 men with prostate cancer who were due to receive a radical prostatectomy. The **faraway** package provides the following descriptions of the variables:\n",
        "\n",
        "-   `lcavol`: log(cancer volume).\n",
        "-   `lweight`: log(prostate weight).\n",
        "-   `age`: age in years.\n",
        "-   `lbph`: log(benign prostatic hyperplasia amount).\n",
        "-   `svi`: seminal vesicle invasion.\n",
        "-   `lcp`: log(capsular penetration).\n",
        "-   `gleason`: Gleason score.\n",
        "-   `pgg45`: percentage Gleason scores 4 or 5.\n",
        "-   `lpsa`: log(prostate specific antigen).\n",
        "\n",
        "We load this data set."
      ],
      "id": "293b9c3e-0594-4b63-be73-e5608316fbde"
    },
    {
      "cell_type": "code",
      "execution_count": 3,
      "metadata": {},
      "outputs": [],
      "source": [
        "data(prostate, package = \"faraway\")"
      ],
      "id": "3ac68773-964d-4f1e-b772-cc35f80c0101"
    },
    {
      "cell_type": "markdown",
      "metadata": {},
      "source": [
        "The `svi` variable is a factor, so we convert it to a factor with appropriate levels."
      ],
      "id": "1e698664-bf46-4925-b68a-bf637045f3dd"
    },
    {
      "cell_type": "code",
      "execution_count": 4,
      "metadata": {},
      "outputs": [],
      "source": [
        "prostate$svi <- factor(prostate$svi,\n",
        "                       labels = c(\"non-invasive\", \"invasive\"))"
      ],
      "id": "17e0bdd0-4d87-4c28-ae40-73b704a47399"
    },
    {
      "cell_type": "markdown",
      "metadata": {},
      "source": [
        "We will also use the `home_prices` data set in the **KingCountyHouses** package. The `home_prices` data set contains the sales prices of homes sold in King County, WA between 2014-05-02 and 2015-05-27. The data set is a data frame (tibble) with 21,613 rows and 19 columns. A subset of the relevant variables includes:\n",
        "\n",
        "-   `date_sold`: date of sale.\n",
        "-   `price`: sale price (log10 units).\n",
        "-   `bedrooms`: number of bedrooms.\n",
        "-   `bathrooms`: number of bathrooms.\n",
        "-   `sqft_living`: size of living space.\n",
        "-   `sqft_lot`: size of property.\n",
        "-   `floors`: number of floors.\n",
        "-   `waterfront`: indicator variable for a waterfront view.\n",
        "-   `view`: a numeric rating of the quality of the home’s view.\n",
        "-   `condition`: a factor variable indicating the condition of the house (poor to very good).\n",
        "-   `sqft_above`: size of living space above ground.\n",
        "-   `sqft_basement` (numeric):size of living space below ground.\n",
        "-   `yr_built`: year the home was built.\n",
        "-   `year_renovated`: the year renovated and, if not renovated, the year built.\n",
        "-   `zip_code`: the zip code of the home.\n",
        "\n",
        "We load the data below."
      ],
      "id": "3daac4d6-9bea-4182-9949-847212f808c2"
    },
    {
      "cell_type": "code",
      "execution_count": 5,
      "metadata": {},
      "outputs": [],
      "source": [
        "data(home_prices, package = \"KingCountyHouses\")"
      ],
      "id": "71ae9d5d-b0dd-4b2d-a0e0-fd98652dce86"
    },
    {
      "cell_type": "markdown",
      "metadata": {},
      "source": [
        "We do not wish to work with all of the variables for practical reasons, so we keep only the first 13 variables of the data frame."
      ],
      "id": "cce6121e-b1fb-4f10-8216-238141b0e7d6"
    },
    {
      "cell_type": "code",
      "execution_count": 6,
      "metadata": {},
      "outputs": [],
      "source": [
        "home_prices <- home_prices[,1:13]"
      ],
      "id": "a5c95532-b3c2-4ae9-8155-10f63193469f"
    },
    {
      "cell_type": "markdown",
      "metadata": {},
      "source": [
        "We will also remove the `sqft_basement` variable because the `sqrt_above` and `sqft_basement` variables sum to equal `sqft_living`, so we will have an issue with collinearity if we don’t remove one of hte variables."
      ],
      "id": "09a6defd-cabc-42be-857b-6581f443865b"
    },
    {
      "cell_type": "code",
      "execution_count": 7,
      "metadata": {},
      "outputs": [],
      "source": [
        "home_prices <- home_prices[,-12]"
      ],
      "id": "b1d9905d-0710-49c5-843a-fcfe11dc632e"
    },
    {
      "cell_type": "markdown",
      "metadata": {},
      "source": [
        "# \n",
        "\n",
        "The validity of our assumptions depend on the model fit to the data.\n",
        "\n",
        "For the prostate data we will regress `lpsa` on all the remaining variables in the `prostate` data frame.\n",
        "\n",
        "-   A shortcut for this is to use the formula `y ~ .`, where `y` is the response and `.` indicates to use all of the variables in the data frame containing `y`."
      ],
      "id": "2b92cd17-31b7-40e5-bb11-5cfdb40c4eda"
    },
    {
      "cell_type": "code",
      "execution_count": 8,
      "metadata": {},
      "outputs": [],
      "source": [
        "lmod_prostate <- lm(lpsa ~ ., data = prostate)\n",
        "coef(lmod_prostate)"
      ],
      "id": "50e63fe1-7da4-47f6-9c07-853895d6924c"
    },
    {
      "cell_type": "markdown",
      "metadata": {},
      "source": [
        "Similarly, for the `home_prices` data set, we will regress the `price` variable on all of the remaining variables in `home_prices`."
      ],
      "id": "f07046c0-019d-4a71-92c3-9e698d92d972"
    },
    {
      "cell_type": "code",
      "execution_count": 9,
      "metadata": {},
      "outputs": [],
      "source": [
        "lmod_homes <- lm(price ~ ., data = home_prices)\n",
        "coef(lmod_homes)"
      ],
      "id": "ee09ea66-c9b7-46e5-b274-cf26870aabce"
    },
    {
      "cell_type": "markdown",
      "metadata": {},
      "source": [
        "# Checking structure\n",
        "\n",
        "As mentioned in the previous chapter, the most important assumption is that the model structure is correct.\n",
        "\n",
        "Technically, this assumption is impossible to verify. However, we can verify that the model does an adequate job of approximating the behavior of the observed data.\n",
        "\n",
        "-   If the model doesn’t do a good job of mimicking the behavior of the observed data, then we can say this this assumption is violated.\n",
        "\n",
        "**Residual plot**\n",
        "\n",
        "------------------------------------------------------------------------\n",
        "\n",
        "The most basic approach for assessing whether the structural assumption is satisfied is to determine whether the residuals plot of the residuals versus fitted values.\n",
        "\n",
        "-   If the residuals are randomly, but approximately symmetrically, scattered around a horizontal line running through 0 on the y-axis, then this assumption is satisfied.\n",
        "\n",
        "Why does this approach work?\n",
        "\n",
        "-   We assume that the errors have mean zero for any combination of our predictors.\n",
        "-   If our fitted model adequately captures the mean of the data, then the residuals will have the same property.\n",
        "-   We expect our residuals to randomly fluctuate above and below 0 with no systematic pattern related to a specific combination of regressors.\n",
        "\n",
        "Note: assessing whether the structure of the model is correct is difficult to separate from assessing the validity of the assumption that the mean of the errors is zero.\n",
        "\n",
        "-   Even if the errors didn’t have mean zero (but the model was correct), then our regression model would be non-identifiable because we wouldn’t be able to separate the mean of the errors from the mean of the other components of the model.\n",
        "\n",
        "We plot the residuals versus the fitted values because it is a single plot relating the residuals to different combinations of regressors and links nicely with checkign several other assumptions.\n",
        "\n",
        "The `residualPlot` function in the **car** package is a convenient way of producing a plot of the residuals versus fitted values for a fitted model.\n",
        "\n",
        "The `residualPlot` function is a complex function, so we set `quadratic = FALSE` to get a simple plot.\n",
        "\n",
        "**Structural check for `prostate` data**\n",
        "\n",
        "------------------------------------------------------------------------\n",
        "\n",
        "We examine a plot of the residuals versus fitted values for the model fitted to the `prostate` data."
      ],
      "id": "9583a3ae-f427-4969-a2a7-18c691b22ab3"
    },
    {
      "cell_type": "code",
      "execution_count": 10,
      "metadata": {},
      "outputs": [],
      "source": [
        "residualPlot(lmod_prostate, quadratic = FALSE)"
      ],
      "id": "9b96c317-ed61-430c-80de-dc139c4f0c7f"
    },
    {
      "cell_type": "markdown",
      "metadata": {},
      "source": [
        "The points appear to be randomly scattered above and below 0 as we move from left to right across the x-axis. There is no clear violate of the structural assumption.\n",
        "\n",
        "A more details assessment of this assumption involves plotting the residuals versus each of the predictors.\n",
        "\n",
        "-   If the structural assumption is correct, then the residuals should randomly scatter above and below 0 as the predictor value changes.\n",
        "\n",
        "The `residualsPlots` function provided by the **car** package will produce plots of the residuals versus each first-order predictor and the fitted values.\n",
        "\n",
        "-   Setting `tests = FALSE` and `quadratic = FALSE` simplifies the output produced by the function.\n",
        "-   Setting `fitted = FALSE` prevents the function from display a plot of the residuals versus fitted values.\n",
        "\n",
        "We consider a the residual plots for the model fit to the `prostate` data below. Because there would be 9 plots by default, we select only 4 of the predictors to simplify our display."
      ],
      "id": "dd812037-b13b-4c45-960c-63b91ead56c4"
    },
    {
      "cell_type": "code",
      "execution_count": 11,
      "metadata": {},
      "outputs": [],
      "source": [
        "residualPlots(lmod_prostate, \n",
        "              terms = ~ lcavol + age + svi + gleason,\n",
        "              tests = FALSE, quadratic = FALSE, fitted = FALSE)"
      ],
      "id": "390d43e3-2bd5-4dfe-82b9-d9602188b46a"
    },
    {
      "cell_type": "markdown",
      "metadata": {},
      "source": [
        "The residual plots for `lcavol` and `age` looking relatively symmetric around 0 with no clear patterns.\n",
        "\n",
        "For a categorical predictor like `svi`, we want the boxplot of the residuals to by symmetric around zero, which is what we see for this data.\n",
        "\n",
        "Looking at the residual plot for the `gleason` predictor, it appears that the variability of the residuals may be smaller for higher values of `gleason`.\n",
        "\n",
        "-   This may be something to explore further.\n",
        "-   There are relatively few obserations with high gleason values, so it is difficult to draw a definitive conclusion.\n",
        "\n",
        "**Structural check for `home_prices` data**\n",
        "\n",
        "------------------------------------------------------------------------\n",
        "\n",
        "We now examine a plot of the residuals versus fitted values for the `home_prices` data."
      ],
      "id": "65539572-1fac-4f02-b16b-9d5509a1b78a"
    },
    {
      "cell_type": "code",
      "execution_count": 12,
      "metadata": {},
      "outputs": [],
      "source": [
        "residualPlot(lmod_homes, quadratic = FALSE)"
      ],
      "id": "89ad3204-6394-4fe4-9981-909f0fe08c84"
    },
    {
      "cell_type": "markdown",
      "metadata": {},
      "source": [
        "There are many many points in this plot compared to the residual plot for the `prostate` data, making it a bit more difficult to assess this assumption.\n",
        "\n",
        "The bulk of the data between the fitted values 5.25 and 6.5 is approximately symmetric around zero (as far as we can tell).\n",
        "\n",
        "There is one unusual point in the upper left part of the plot. This is an outlier. Since this is only a single unusual point for a data set with a lot of observations, this is not something to be concerned about.\n",
        "\n",
        "However, the residuals begin to systematically fall below 0 when the fitted values are above 6.5. This is an indication that we have a structural deficiency in our fitted model that should be addressed.\n",
        "\n",
        "# Checking constant variance\n",
        "\n",
        "Another key assumption is that the variance of the errors is constant for all combinations of regressor values.\n",
        "\n",
        "Similar to the check of structure, we can check this assumption through residual plots.\n",
        "\n",
        "However, it is important to note that even if the errors have constant variance, the residuals do not.\n",
        "\n",
        "Even if the variance of the errors is constant,\n",
        "\n",
        "$$\\mathrm{var}(\\hat{\\epsilon}_i) = \\frac{\\sigma^2}{\\sqrt{1-h_i}}, \\quad i = 1,2,\\ldots,n,$$\n",
        "\n",
        "where $h_i=\\mathbf{H}_{i,i}$ is $i$th diagonal element of the hat matrix $\\mathbf{H}=\\mathbf{X}(\\mathbf{X}^T\\mathbf{X})^{-1}\\mathbf{X}^T$.\n",
        "\n",
        "It is recommended that instead of assessing the validity of this assumption with the ordinary residuals, we instead use the standardized residuals given by the expression\n",
        "\n",
        "$$r_i = \\frac{\\hat{\\epsilon}_i}{\\hat{\\sigma}\\sqrt{1-h_i}}, \\quad i=1,2,\\ldots,n.$$\n",
        "\n",
        "The standardized residuals should have mean 0 and variance 1.\n",
        "\n",
        "**Standardized residual plot**\n",
        "\n",
        "------------------------------------------------------------------------\n",
        "\n",
        "The constant variance assumption can be assessed using plots of the standardized residuals versus fitted values or predictors.\n",
        "\n",
        "-   If the assumption is satisfied, then the points of these plots should have constant thickness symmetric about 0 as we move from left to right along the x-axis.\n",
        "\n",
        "Consider the 4 plots below:\n",
        "\n",
        "-   Panel (a) shows data that perfectly satisfy this assumption. However, the plot itself doesn’t have perfect constant thickness as we move from left to right along the axis.\n",
        "-   Panel (b) shows data with increasing variability as we move from left to right across the x-axis. This is difficult to see in the plot because the variability increases but then appears to decrase.\n",
        "-   Panel (c) shows data that has slightly decreasing variability as we move from left to right along the x-axis. However, this is difficult to see in the plot..\n",
        "-   Panel (d) shows data that has a structural issue (notice the curve in the data compared to the 0-line) while the points also increase in variability as we move from left to right along the x-axis."
      ],
      "id": "fc729c00-d495-4b11-8c56-8b20ef098e5e"
    },
    {
      "cell_type": "code",
      "execution_count": 13,
      "metadata": {},
      "outputs": [
        {
          "output_type": "display_data",
          "metadata": {},
          "data": {
            "image/png": "[encoded data removed]"
          }
        }
      ],
      "source": [],
      "id": "df2716d2-0177-4b65-be73-8390e1f71690"
    },
    {
      "cell_type": "markdown",
      "metadata": {},
      "source": [
        "What should we do if the plots are inconclusive?\n",
        "\n",
        "-   We don’t conclude an assumption is violated unless the violation is clear.\n",
        "-   Try to use a different method.\n",
        "\n",
        "**Scale-location plot**\n",
        "\n",
        "------------------------------------------------------------------------\n",
        "\n",
        "A scale-location plot can be used to assess whether the variance is constant when the standardized residual plot is inconclusive AND the structural assumption doesn’t appear to be violated.\n",
        "\n",
        "A *scale-location* plot is a plot of $\\sqrt{|\\hat{\\boldsymbol{\\epsilon}}|}$) versus $\\hat{\\mathbf{y}}$, i.e., a plot of the square root of the absolute value of the residuals versus the fitted values.\n",
        "\n",
        "-   If the constant variance assumption is satisfied (i.e., not clearly violated), then the points of this plot should should have constant thickness as we move from left to right along the x-axis.\n",
        "\n",
        "Recall that in panel (c) of the previous plot that we thought there was a slight decrease in the variability of the residuals as we moved from left-to-right across the x-axis.\n",
        "\n",
        "We produce a scale-location plot for panel (c) above.\n",
        "\n",
        "-   The red line is a visual indication of how the variability changes from left to right and should be approximately flat if this assumption is not violated.\n",
        "-   The red line clearly decreases in our plot indicating a violation of the constant variance assumption."
      ],
      "id": "99026a97-8d39-48da-9055-7dd18f2c41a2"
    },
    {
      "cell_type": "code",
      "execution_count": 14,
      "metadata": {},
      "outputs": [
        {
          "output_type": "display_data",
          "metadata": {},
          "data": {
            "image/png": "[encoded data removed]"
          }
        }
      ],
      "source": [],
      "id": "ae0945da-2f04-4db8-be76-8fc6c249ea63"
    },
    {
      "cell_type": "markdown",
      "metadata": {},
      "source": [
        "**Constant variance check for `prostate` data**\n",
        "\n",
        "We now assess the validity of the constant variance assumption for the `prostate` data.\n",
        "\n",
        "The `residualPlot` frunction from the **car** package can be used to construct a plot of the standardized residuals versus the fitted values.\n",
        "\n",
        "-   Set `type = \"rstandard\"`.\n",
        "\n",
        "We produce a standarized residual plot for the model fitted to the `prostate` data."
      ],
      "id": "61bad4eb-86a0-4ec4-87f1-c9710d6899a6"
    },
    {
      "cell_type": "code",
      "execution_count": 15,
      "metadata": {},
      "outputs": [],
      "source": [
        "residualPlot(lmod_prostate, type = \"rstandard\", quadratic = FALSE)"
      ],
      "id": "aa880f03-aee2-4b9f-b78a-7d8d3ddc61cb"
    },
    {
      "cell_type": "markdown",
      "metadata": {},
      "source": [
        "The plot of the standardized residuals versus the fitted values has almost perfectly constant thickness as we move from left to right along the x-axis, so there is not indication of a non-constant variance issue for our fitted model.\n",
        "\n",
        "We can produce plots of the standardized residuals versus the predictors using the `residualPlots` function.\n",
        "\n",
        "There is no indication of a violation of the constant variance assumption in the plots below."
      ],
      "id": "a73a9b84-7863-43f4-a92f-ae843b44a85f"
    },
    {
      "cell_type": "code",
      "execution_count": 16,
      "metadata": {},
      "outputs": [],
      "source": [
        "residualPlots(lmod_prostate, type = \"rstandard\",\n",
        "              terms = ~ lcavol + age + svi + pgg45,\n",
        "              tests = FALSE, quadratic = FALSE, fitted = FALSE)"
      ],
      "id": "31f3d1b1-00db-4f9b-88f6-bd3472abf7b4"
    },
    {
      "cell_type": "markdown",
      "metadata": {},
      "source": [
        "**Constant variance check for `home_prices` data**\n",
        "\n",
        "We now assess the validity of the constant error variance assumption for the `home_prices` data.\n",
        "\n",
        "Our standardized residual plot seems to show clear evidence that the variability tends to decrease as we move from left to right along the x-axis."
      ],
      "id": "5f0dbabb-1ac8-4d6b-89a7-8375b7bc3e22"
    },
    {
      "cell_type": "code",
      "execution_count": 17,
      "metadata": {},
      "outputs": [],
      "source": [
        "residualPlot(lmod_homes, type = \"rstandard\", quadratic = FALSE)"
      ],
      "id": "e2ff1cc9-8d48-4a8b-93c2-a118fba23869"
    },
    {
      "cell_type": "markdown",
      "metadata": {},
      "source": [
        "The verify our belief, we can look at a scale-location plot for the fitted model\n",
        "\n",
        "The `plot` function can be used to produce a scale-location plot.\n",
        "\n",
        "-   The `plot` function has a method for `lm` objects.\n",
        "-   Setting the `which` argument to 3 will produce a scale-location plot.\n",
        "\n",
        "We produce a scale-location plot of the fitted model for `home_prices`."
      ],
      "id": "d88e01e0-e3f1-48d7-b024-03ca6f2e153d"
    },
    {
      "cell_type": "code",
      "execution_count": 18,
      "metadata": {},
      "outputs": [],
      "source": [
        "plot(lmod_homes, which = 3)"
      ],
      "id": "44a9754a-a7a1-4180-be13-1edbfd815c83"
    },
    {
      "cell_type": "markdown",
      "metadata": {},
      "source": [
        "The red line shows that the variability decreases as we move from left to right. It then appears to increase, but this is an artifact of the model having a structural deficiency for larger fitted values. Focusing on the fitted values less than 6.25, we do see the absolute value of the standardized residuals tend to decrease as we move from left to right.\n",
        "\n",
        "# Checking normality\n",
        "\n",
        "A key assumption of many of our tests and confidence intervals is that the errors are normally distributed.\n",
        "\n",
        "We have previously shown that if our errors are normal that our residuals are also normal.\n",
        "\n",
        "-   If our errors have mean zero, then the residuals also have mean zero.\n",
        "\n",
        "**The Q-q plot**\n",
        "\n",
        "------------------------------------------------------------------------\n",
        "\n",
        "To assess whether the assumption of normally-distributed errors is reasonable, we will compare the residuals to the quantiles we would expect to get from the same number of i.i.d. normally-distributed observations with mean 0 and variance 1.\n",
        "\n",
        "-   If the normality assumption is satisfied, then a a plot of the observed values compared to the theoretical quantiles will fall approximately in a straight line.\n",
        "-   This plot is called a quantile-quantile or *q-q plot*.\n",
        "\n",
        "The `qqnorm` function can be used to create a q-q plot of data we believe to come from a normal distribution.\n",
        "\n",
        "We provide an example of a q-q plot for normally-distributed data below with a mean of 0 and a variance of 1 below.\n",
        "\n",
        "-   We can use the `qqline` function to add a reference line to see how closely the points fall to a straight line."
      ],
      "id": "2dd8a5a8-22eb-49dd-8097-42c7cf3660c8"
    },
    {
      "cell_type": "code",
      "execution_count": 19,
      "metadata": {},
      "outputs": [],
      "source": [
        "e <- rnorm(30)\n",
        "qqnorm(e)\n",
        "qqline(e)"
      ],
      "id": "d443b1a0-77e1-4f2f-bfd0-a791063db7fa"
    },
    {
      "cell_type": "markdown",
      "metadata": {},
      "source": [
        "The points of the q-q plot fall fairly close to a straight line. There tends to be more variability in the tails of a q-q plot (i.e., for the smallest and largest quantiles) so those points tend to fall a little farther from a straight line.\n",
        "\n",
        "Observations that deviate substantially from normality will result in a q-q plot that doesn’t look like a straight line of points.\n",
        "\n",
        "Consider a q-q plot of data sampled from a chi-square distribution with 5 degrees of freedom.\n",
        "\n",
        "-   This distribution is positively skewed.\n",
        "-   The points of the q-q plot do not fall that closely to a straight line."
      ],
      "id": "8c187cc5-1542-4423-9d5c-7a2de4088416"
    },
    {
      "cell_type": "code",
      "execution_count": 20,
      "metadata": {},
      "outputs": [],
      "source": [
        "e2 <- rchisq(30, 5)\n",
        "qqnorm(e2)\n",
        "qqline(e2)"
      ],
      "id": "74715903-9f93-4a93-bc0f-189a7115da92"
    },
    {
      "cell_type": "markdown",
      "metadata": {},
      "source": [
        "Q-q plots are generally constructed under the assumption that the data are independent and identically distributed.\n",
        "\n",
        "-   Ordinary residuals do not have constant variance.\n",
        "-   It is preferable to scale the residuals to have constant variance prior to constructing a q-q plot.\n",
        "    -   The standardized residuals, $r_i$, $i=1,2,\\ldots,n$ are one form of scaled residuals with variance equal to 1.\n",
        "    -   The studentized residuals, $t_i$, $i=1,2,\\ldots,n$ are another form of residuals scaled to have a variance of 1.\n",
        "        -   The denominator uses a different estimate of $\\sigma$ in the denominator. We do not discuss those details here.\n",
        "        -   In that case, we actually want to compare the observed values to quantiles from a $t$ distribution with $n-p-1$ degrees of freedom, assuming our model has $p$ estimated regression coefficients.\n",
        "-   Though the residuals are not independent, the correlation is typically weak and can be ignored when constructing a q-q plot.\n",
        "\n",
        "Standardized or studentized residuals should be used to assess the normality assumption.\n",
        "\n",
        "The `qqPlot` function in the **car** packages produced q-q plots of the studentized residuals.\n",
        "\n",
        "**The Shapiro-Wilk test**\n",
        "\n",
        "------------------------------------------------------------------------\n",
        "\n",
        "Another approach to assess normality is the Shapiro-Wilk test (Shapiro and Wilk, 1965).\n",
        "\n",
        "The null hypothesis for this test is that the data are a random sample from a normal distribution.\n",
        "\n",
        "The alternative hypothesis is that the data are not a random sample from a normal distribution.\n",
        "\n",
        "If the p-value of the test is less then the desired significance level, then we conclude that the data are not a random sample from a normal distribution. Otherwise, we fail to reject the null hypothesis that the data are a random sample from a normal distribution.\n",
        "\n",
        "The Shapiro-Wilk test can be applied to a vector of data using the `shapiro.test` function.\n",
        "\n",
        "**Normality check for `prostate` data**\n",
        "\n",
        "------------------------------------------------------------------------\n",
        "\n",
        "We now use the `qqPlot` function to create a q-q plot of the studentized residuals for the model fitted to the prostate data."
      ],
      "id": "35928727-622e-4e19-9a80-4c8780efedbf"
    },
    {
      "cell_type": "code",
      "execution_count": 21,
      "metadata": {},
      "outputs": [],
      "source": [
        "qqPlot(lmod_prostate)"
      ],
      "id": "ab757cb2-3ed2-4ec0-8466-30a4c1505098"
    },
    {
      "cell_type": "markdown",
      "metadata": {},
      "source": [
        "The points of the q-q plot fall close to a straight line, so the assumption of normally-distributed errors appears to be reasonable assumption for the fitted model.\n",
        "\n",
        "The `qqPlot` function also produced pointwise 95% confidence envelopes for the quantiles, giving us an idea of how much the points can deviate from a straight line without the assumption being violated.\n",
        "\n",
        "-   The envelopes are pointwise, which means they don’t adjust for multiple comparisons.\n",
        "\n",
        "To help confirm our belief, we apply the Shapiro-Wilk test to the residual of our fitted model."
      ],
      "id": "b4f10302-735d-479c-97ce-fb5bf5995731"
    },
    {
      "cell_type": "code",
      "execution_count": 22,
      "metadata": {},
      "outputs": [],
      "source": [
        "shapiro.test(residuals(lmod_prostate))"
      ],
      "id": "b8804882-4bfd-4355-bcba-9cb0bac53bb7"
    },
    {
      "cell_type": "markdown",
      "metadata": {},
      "source": [
        "Since our p-value is large, we believe our residuals (and by proxy, our errors) are a sample from a normal distribution.\n",
        "\n",
        "**Normality check for `prostate` data**\n",
        "\n",
        "------------------------------------------------------------------------\n",
        "\n",
        "We start with a q-q plot of the studentized residuals of the fitted model for the `home_prices` data."
      ],
      "id": "cc17471e-2ddb-4a7d-8d52-e67070874bfb"
    },
    {
      "cell_type": "code",
      "execution_count": 23,
      "metadata": {},
      "outputs": [],
      "source": [
        "qqPlot(lmod_homes)"
      ],
      "id": "733def78-0e4e-481b-9f15-a791a47a0379"
    },
    {
      "cell_type": "markdown",
      "metadata": {},
      "source": [
        "There are so many points in our plot that it is difficult to assess the model part of the plot. However, it is clear that the tails of the q-q plot deviate from a straight line. The normal error assumption appears to be violated for our fitted model.\n",
        "\n",
        "We could confirm our beliefs using the Shapiro-Wilk test, but the R function takes a maximum of 5000 observations, and we have over 20,000 residuals.\n",
        "\n",
        "Even though the normal error assumption appears to be violated for our fitted model, this may not be an issue in practice.\n",
        "\n",
        "-   The Central Limit Theorem applies to our estimated coefficients, so our confidence and hypothesis test should still be approximately valid.\n",
        "-   Our prediction intervals are very sensitive to the normality assumption, so that type of inference should not be trusted in this setting.\n",
        "\n",
        "# Checking for correlated errors\n",
        "\n",
        "Our errors are supposed to be uncorrelated.\n",
        "\n",
        "This assumption is impractical to check unless our data are time series or longitudinal data (observations observed over a series of time) or spatial data (the observations are associated with a specific geographic location).\n",
        "\n",
        "-   We will examine how to assess this assumption for time series data.\n",
        "\n",
        "If the data are not time series or spatial data then we don’t need to bother checking this assumption.\n",
        "\n",
        "If the errors $\\boldsymbol\\epsilon$ are uncorrelated, then the residuals $\\hat{\\boldsymbol\\epsilon}$ are typically close to uncorrelated, so we will use them as a proxy to assess the validity of this assumption.\n",
        "\n",
        "We will illustrate checking this assumption using a classic data set provided by Box et al. (1975) of the monthly total of international airline passengers in thousands from 1949 to 1960. The data are available in the `AirPassengers` data set in the **datasets** package.\n",
        "\n",
        "We first convert the data to a more usable form for our purposes. We will let month 1 be January of 1949 and month 144 be December of 1960 (the 12th month of the 12th year)"
      ],
      "id": "9235842d-1ef9-42aa-ae1d-e3ae2c8bddfd"
    },
    {
      "cell_type": "code",
      "execution_count": 24,
      "metadata": {},
      "outputs": [],
      "source": [
        "air <- data.frame(month = 1:144, passengers = c(AirPassengers))"
      ],
      "id": "3a71e633-2fff-486c-b48d-218d32e3220a"
    },
    {
      "cell_type": "markdown",
      "metadata": {},
      "source": [
        "We begin by creating a scatter plot of the passenger totals versus the month."
      ],
      "id": "750e6bc7-cd68-4735-94fd-1a40ff388444"
    },
    {
      "cell_type": "code",
      "execution_count": 25,
      "metadata": {},
      "outputs": [],
      "source": [
        "plot(passengers ~ month, data = air)"
      ],
      "id": "0f3851e3-4f3e-4880-bded-9b7861107d2f"
    },
    {
      "cell_type": "markdown",
      "metadata": {},
      "source": [
        "The passenger totals are clearly increasing over time and also increasing in variability.\n",
        "\n",
        "We will regress `log(passengers)` on `month`.\n",
        "\n",
        "-   We take the `log` of passengers to correct for the increasing variability of our data over time.\n",
        "\n",
        "The transformed data doesn’t appear to have the same issue."
      ],
      "id": "9c2478fd-aacb-4544-a7db-42c8610ce236"
    },
    {
      "cell_type": "code",
      "execution_count": 26,
      "metadata": {},
      "outputs": [],
      "source": [
        "plot(log(passengers) ~ month, data = air)"
      ],
      "id": "08d188de-0785-449c-89bd-acb033b2f994"
    },
    {
      "cell_type": "code",
      "execution_count": 27,
      "metadata": {},
      "outputs": [],
      "source": [
        "lmod_air <- lm(log(passengers) ~ month, data = air)"
      ],
      "id": "7b5116da-0ca2-47dc-9401-a13402d5c437"
    },
    {
      "cell_type": "markdown",
      "metadata": {},
      "source": [
        "**Residuals versus time**\n",
        "\n",
        "------------------------------------------------------------------------\n",
        "\n",
        "The easiest way to check for correlated residuals in time series data is to plot the residuals over the time variable.\n",
        "\n",
        "-   If the residuals tend to cluster with sequences of positive or negative residuals, then the data have a positive correlation.\n",
        "\n",
        "We create a scatter plot of the residuals versus month for the model fitted to the passengers data.\n",
        "\n",
        "-   We add a horizontal reference line at $y = 0$."
      ],
      "id": "b5d5fd9f-bfa8-4c89-bbff-fe49a32ae488"
    },
    {
      "cell_type": "code",
      "execution_count": 28,
      "metadata": {},
      "outputs": [],
      "source": [
        "plot(residuals(lmod_air) ~ month, data = air,\n",
        "     ylab = \"residuals\")\n",
        "abline(0, 0)"
      ],
      "id": "f52efa90-ef41-4878-805a-0679085b8fd4"
    },
    {
      "cell_type": "markdown",
      "metadata": {},
      "source": [
        "The pattern is a bit difficult to see because there is so much data.\n",
        "\n",
        "If we focus in on the first 24 months of data, we can clearly see sequences of times where the residuals are almost all positive or almost all negative. The residuals appear to have non-neglible positive correlation."
      ],
      "id": "8d62137b-756d-469d-8bfe-bc3f66614e40"
    },
    {
      "cell_type": "code",
      "execution_count": 29,
      "metadata": {},
      "outputs": [],
      "source": [
        "plot(residuals(lmod_air) ~ month, data = air,\n",
        "     ylab = \"residuals\", xlim = c(0, 24))\n",
        "abline(0, 0)"
      ],
      "id": "54162ce4-a8e1-4b7c-b900-cd37c47a755a"
    },
    {
      "cell_type": "markdown",
      "metadata": {},
      "source": [
        "**Successive residuals plot**\n",
        "\n",
        "------------------------------------------------------------------------\n",
        "\n",
        "A better way to assess whether there is strong correlation in the residuals is to plot pairs of successive residuals versus each other, i.e., to plot $\\hat{\\epsilon}_{i+1}$ versus $\\hat{\\epsilon}_i$ for $i=1,2,\\ldots,n-1$.\n",
        "\n",
        "-   If the successive residuals show a positive trend then there is positive correlation in the residuals.\n",
        "-   If the successive residuals show a negative trend then there is negative correlation in the residuals.\n",
        "    -   Negative correlation is very difficult to see visually when looking at a plot of the residuals over time because the pattern will look random.\n",
        "-   If there residuals appear to be a random scatter around 0 then there is no evidence of temporal correlation in the residuals.\n",
        "\n",
        "To construct the plot of success residuals we can use the following code."
      ],
      "id": "6bb2fe83-9c71-47be-b129-8baa744c60d7"
    },
    {
      "cell_type": "code",
      "execution_count": 30,
      "metadata": {},
      "outputs": [],
      "source": [
        "n <- nobs(lmod_air)\n",
        "ehat <- residuals(lmod_air)\n",
        "plot(ehat[2:n] ~ ehat[1:(n-1)],\n",
        "     xlab = expression(hat(epsilon)[i]),\n",
        "     ylab =expression(hat(epsilon)[i+1]))\n",
        "abline(h = 0 , v = 0, col = \"grey\")"
      ],
      "id": "4a719d25-9454-4068-b273-ce061c29b3d8"
    },
    {
      "cell_type": "markdown",
      "metadata": {},
      "source": [
        "`ehat[2:n]` extracts the last $n-1$ residuals while `ehat[1:(n-1)]` extracts the first $n-1$ residuals.\n",
        "\n",
        "The remaining code ads horizontal and vertical references lines at $y=0$ and $x=0$, respectively.\n",
        "\n",
        "Since the lagged residuals plot has a positive trend, there is clear evidence of positive temporal correlation among the residuals (and by proxy, the errors).\n",
        "\n",
        "If either of the previous plots do not provide a satisfactory con\n",
        "\n",
        "**The Durbin-Watson test**\n",
        "\n",
        "------------------------------------------------------------------------\n",
        "\n",
        "A formal test for temporal correlation between residuals can be performed using the *Durbin-Watson test*.\n",
        "\n",
        "-   Let $\\rho$ denote the temporal correlation between residuals.\n",
        "    -   H<sub>0</sub>: The residuals are uncorrelated, $\\rho = 0$.\n",
        "    -   H<sub>a</sub>: The residuals are related in some way ($\\rho = 0$, $\\rho > 0$, or $\\rho < 0$).\n",
        "-   The test statistic is:\n",
        "\n",
        "$$DW = \\frac{\\sum_{i=2}^n(\\hat{\\epsilon}_i - \\hat{\\epsilon}_{i-1})^2}{\\sum_{i=1}^n \\hat{\\epsilon}_i^2}.$$\n",
        "\n",
        "-   The `dwtest` function in the `lmtest` package can be used to test this hypothesis.\n",
        "\n",
        "We will test for positive temporal correlation among the residuals using the `dwtest` functions.\n",
        "\n",
        "-   Setting `alternative = \"greater\"` sets H<sub>a</sub> to be $\\rho > 0$."
      ],
      "id": "8d81a68b-f888-4345-a913-fb5fcf4ff13a"
    },
    {
      "cell_type": "code",
      "execution_count": 31,
      "metadata": {},
      "outputs": [],
      "source": [
        "dwtest(lmod_air, alternative = \"greater\")"
      ],
      "id": "d53fcc34-3920-4cdc-b221-49dadda7d43d"
    },
    {
      "cell_type": "markdown",
      "metadata": {},
      "source": [
        "The p-value for this test is close to 0, so we conclude that there is positive correlation among the residuals.\n",
        "\n",
        "# Summary of Methods for Checking Error Assumptions\n",
        "\n",
        "**Structural assumption**\n",
        "\n",
        "-   Plot of residuals versus fitted values.\n",
        "    -   If this assumption is satisfied, the residuals should be a random, symmetric scatter of points around $y=0$ as we move from left to right along the x-axis.\n",
        "\n",
        "**Constant error variance assumption**\n",
        "\n",
        "-   Plot of residuals versus fitted values.\n",
        "-   Plot of residuals versus each regressor.\n",
        "-   Plot of standardized residuals versus fitted values.\n",
        "    -   If this assumption is satisfied, then the points of each of the 3 plots above should have constant thickness around a horizontal line at $y=0$ as we move from left to right along the x-axis.\n",
        "-   Plot of $\\sqrt{| \\hat{\\epsilon} |}$ versus fitted values.\n",
        "    -   Only use this check if the structural assumption appears to be satisfied.\n",
        "    -   If this assumption is satisfied, then the points of the plot should have constant thickness as we move from left to right along the x-axis.\n",
        "\n",
        "**Normal error assumption**\n",
        "\n",
        "-   q-q plot of residuals.\n",
        "    -   The points should follow approximately a straight line.\n",
        "-   Shapiro-Wilk test.\n",
        "    -   The null hypothesis is that the residuals are consistent with a sample from a normal distribution, so we want the p-value of this test to be relative large.\n",
        "\n",
        "**Uncorrelated errors**\n",
        "\n",
        "This only needs to be checked for time series/longitudinal data or geographically-referenced data.\n",
        "\n",
        "For assessing temporal autocorrelation:\n",
        "\n",
        "-   Plot of residuals versus time.\n",
        "    -   The plot should be a random scatter of points with no clear pattern if this assumption is satisfied.\n",
        "    -   If there are sequences where there are many positive residuals or many negative residuals, then this assumption is violated and the residuals exhibit positive temporal correlation.\n",
        "-   Plot of successive pairs of residuals.\n",
        "    -   A positive trend indicates positive temporal correlation.\n",
        "    -   A negative trend indicates negative temoral correlation.\n",
        "    -   A random scatter indicates the residuals are consistent with being uncorrelated.\n",
        "-   Durbin-Watson test.\n",
        "    -   A large p-value indicates the residuals are compatible with being uncorrelated.\n",
        "    -   A small p-value indicates the residuals are temporally correlated, with the type of autocorrelation detected being associated with the H<sub>a</sub>.\n",
        "\n",
        "# References\n",
        "\n",
        "Box, G. E. P., Jenkins, G. M. and Reinsel, G. C. (1976). “Time Series Analysis, Forecasting and Control”. Third Edition. Holden-Day. Series G.\n",
        "\n",
        "Shapiro, S. S. and Wilk, M. B. (1965). “An analysis of variance test for normality (complete samples)”. Biometrika. 52(3–4): 591–611."
      ],
      "id": "9fbc6e2b-091d-4ea6-be35-675fd4cdea23"
    }
  ],
  "nbformat": 4,
  "nbformat_minor": 5,
  "metadata": {
    "kernelspec": {
      "name": "ir",
      "display_name": "R",
      "language": "R"
    },
    "language_info": {
      "name": "R",
      "codemirror_mode": "r",
      "file_extension": ".r",
      "mimetype": "text/x-r-source",
      "pygments_lexer": "r",
      "version": "4.2.2"
    }
  }
}