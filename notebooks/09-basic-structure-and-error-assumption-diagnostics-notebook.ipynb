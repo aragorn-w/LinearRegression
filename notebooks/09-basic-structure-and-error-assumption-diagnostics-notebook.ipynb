{
  "cells": [
    {
      "cell_type": "markdown",
      "metadata": {},
      "source": [
        "# Chapter 9 - Basic structure and error assumption diagnostics\n",
        "\n",
        "Joshua French\n",
        "\n",
        "To open this information in an interactive Colab notebook, click the Open in Colab graphic below.\n",
        "\n",
        "<a href=\"https://colab.research.google.com/github/jfrench/LinearRegression/blob/master/notebooks/09-basic-structure-and-error-assumption-diagnostics-notebook.ipynb\"> <img src=\"https://colab.research.google.com/assets/colab-badge.svg\"> </a>\n",
        "\n",
        "------------------------------------------------------------------------"
      ],
      "id": "99f208d0-0509-4cd5-941a-13ec9653f4da"
    },
    {
      "cell_type": "code",
      "execution_count": 1,
      "metadata": {},
      "outputs": [],
      "source": [
        "if(!require(faraway, quietly = TRUE)) {\n",
        "  install.packages(\"faraway\",\n",
        "                   repos = \"https://cran.rstudio.com/\")\n",
        "}\n",
        "if(!require(KingCountyHouses, quietly = TRUE)) {\n",
        "  install.packages(\"KingCountyHouses\",\n",
        "                   repos = \"https://cran.rstudio.com/\")\n",
        "}\n",
        "if(!require(car, quietly = TRUE)) {\n",
        "  install.packages(\"car\",\n",
        "                   repos = \"https://cran.rstudio.com/\")\n",
        "  library(car)\n",
        "}\n",
        "if(!require(lmtest, quietly = TRUE)) {\n",
        "  install.packages(\"lmtest\",\n",
        "                   repos = \"https://cran.rstudio.com/\")\n",
        "  library(lmtest)\n",
        "}"
      ],
      "id": "eb6739bf-ead9-499b-9e2d-30c17c50c661"
    },
    {
      "cell_type": "markdown",
      "metadata": {},
      "source": [
        "We adjust some printing options for clarity."
      ],
      "id": "ff927ceb-5088-4e3d-972c-4ff94e6b1126"
    },
    {
      "cell_type": "code",
      "execution_count": 2,
      "metadata": {},
      "outputs": [],
      "source": [
        "options(digits = 7, scipen = 2)"
      ],
      "id": "cb625c7c-888b-4a07-8bae-c35831c23b11"
    },
    {
      "cell_type": "markdown",
      "metadata": {},
      "source": [
        "We discuss basic, but effective approaches for assessing the validity of several of the assumptions discussed in the previous notebook.\n",
        "\n",
        "We will focus on assessing assumptions related:\n",
        "\n",
        "-   Model structure.\n",
        "-   The distribution of the errors.\n",
        "\n",
        "These assumptions tend to be checked in similar ways.\n",
        "\n",
        "# Illustration data sets\n",
        "\n",
        "To facilitate this discussion we will consider two data sets.\n",
        "\n",
        "The first data set we will consider is the `prostate` data set, which is available in the **faraway** R package. The data provide information about 97 men who were going to receive a radical prostatectomy. The data set has 97 rows and 9 columns with the variables:\n",
        "\n",
        "The prostate data frame has 97 rows and 9 columns. A study on 97 men with prostate cancer who were due to receive a radical prostatectomy. The **faraway** package provides the following descriptions of the variables:\n",
        "\n",
        "-   `lcavol`: log(cancer volume).\n",
        "-   `lweight`: log(prostate weight).\n",
        "-   `age`: age in years.\n",
        "-   `lbph`: log(benign prostatic hyperplasia amount).\n",
        "-   `svi`: seminal vesicle invasion.\n",
        "-   `lcp`: log(capsular penetration).\n",
        "-   `gleason`: Gleason score.\n",
        "-   `pgg45`: percentage Gleason scores 4 or 5.\n",
        "-   `lpsa`: log(prostate specific antigen).\n",
        "\n",
        "We load this data set."
      ],
      "id": "67c9d4c0-d639-4063-9d66-d37017ede28f"
    },
    {
      "cell_type": "code",
      "execution_count": 3,
      "metadata": {},
      "outputs": [],
      "source": [
        "data(prostate, package = \"faraway\")"
      ],
      "id": "c87b89bf-e962-49bd-98b9-5460c7bdad48"
    },
    {
      "cell_type": "markdown",
      "metadata": {},
      "source": [
        "The `svi` variable is a factor, so we convert it to a factor with appropriate levels."
      ],
      "id": "69925915-63d1-4691-900e-6e3a68784212"
    },
    {
      "cell_type": "code",
      "execution_count": 4,
      "metadata": {},
      "outputs": [],
      "source": [
        "prostate$svi <- factor(prostate$svi,\n",
        "                       labels = c(\"non-invasive\", \"invasive\"))"
      ],
      "id": "3a305c4b-11a5-4bcf-9af8-d1759ec9b2fa"
    },
    {
      "cell_type": "markdown",
      "metadata": {},
      "source": [
        "We will also use the `home_prices` data set in the **KingCountyHouses** package. The `home_prices` data set contains the sales prices of homes sold in King County, WA between 2014-05-02 and 2015-05-27. The data set is a data frame (tibble) with 21,613 rows and 19 columns. A subset of the relevant variables includes:\n",
        "\n",
        "-   `date_sold`: date of sale.\n",
        "-   `price`: sale price (log10 units).\n",
        "-   `bedrooms`: number of bedrooms.\n",
        "-   `bathrooms`: number of bathrooms.\n",
        "-   `sqft_living`: size of living space.\n",
        "-   `sqft_lot`: size of property.\n",
        "-   `floors`: number of floors.\n",
        "-   `waterfront`: indicator variable for a waterfront view.\n",
        "-   `view`: a numeric rating of the quality of the home’s view.\n",
        "-   `condition`: a factor variable indicating the condition of the house (poor to very good).\n",
        "-   `sqft_above`: size of living space above ground.\n",
        "-   `sqft_basement` (numeric):size of living space below ground.\n",
        "-   `yr_built`: year the home was built.\n",
        "-   `year_renovated`: the year renovated and, if not renovated, the year built.\n",
        "-   `zip_code`: the zip code of the home.\n",
        "\n",
        "We load the data below."
      ],
      "id": "4dcad977-187c-4ccf-9106-01a41d05485b"
    },
    {
      "cell_type": "code",
      "execution_count": 5,
      "metadata": {},
      "outputs": [],
      "source": [
        "data(home_prices, package = \"KingCountyHouses\")"
      ],
      "id": "82fbe04b-cced-4f16-b7e6-74b0272274da"
    },
    {
      "cell_type": "markdown",
      "metadata": {},
      "source": [
        "We do not wish to work with all of the variables for practical reasons, so we keep only the first 13 variables of the data frame."
      ],
      "id": "e74491e0-e9d3-43ba-80d6-4c38922e6da4"
    },
    {
      "cell_type": "code",
      "execution_count": 6,
      "metadata": {},
      "outputs": [],
      "source": [
        "home_prices <- home_prices[,1:13]"
      ],
      "id": "13af8fbe-d34d-47d0-8a83-267565839ef0"
    },
    {
      "cell_type": "markdown",
      "metadata": {},
      "source": [
        "We will also remove the `sqft_basement` variable because the `sqrt_above` and `sqft_basement` variables sum to equal `sqft_living`, so we will have an issue with collinearity if we don’t remove one of hte variables."
      ],
      "id": "59c17ab1-9dbb-422a-9eb3-b3aab03e6c35"
    },
    {
      "cell_type": "code",
      "execution_count": 7,
      "metadata": {},
      "outputs": [],
      "source": [
        "home_prices <- home_prices[,-12]"
      ],
      "id": "0c65ca7e-3b75-4ac4-954c-48da5e5ce381"
    },
    {
      "cell_type": "markdown",
      "metadata": {},
      "source": [
        "# \n",
        "\n",
        "The validity of our assumptions depend on the model fit to the data.\n",
        "\n",
        "For the prostate data we will regress `lpsa` on all the remaining variables in the `prostate` data frame.\n",
        "\n",
        "-   A shortcut for this is to use the formula `y ~ .`, where `y` is the response and `.` indicates to use all of the variables in the data frame containing `y`."
      ],
      "id": "c2deb2e4-6a4d-4a46-be87-5509bdd448db"
    },
    {
      "cell_type": "code",
      "execution_count": 8,
      "metadata": {},
      "outputs": [],
      "source": [
        "lmod_prostate <- lm(lpsa ~ ., data = prostate)\n",
        "coef(lmod_prostate)"
      ],
      "id": "0e4fd3ee-e4a5-44a8-9404-efa457c14813"
    },
    {
      "cell_type": "markdown",
      "metadata": {},
      "source": [
        "Similarly, for the `home_prices` data set, we will regress the `price` variable on all of the remaining variables in `home_prices`."
      ],
      "id": "688cd9f1-88fd-4ecf-8c31-4917209ed4da"
    },
    {
      "cell_type": "code",
      "execution_count": 9,
      "metadata": {},
      "outputs": [],
      "source": [
        "lmod_homes <- lm(price ~ ., data = home_prices)\n",
        "coef(lmod_homes)"
      ],
      "id": "614d9358-fee5-408a-bae0-8d184989292e"
    },
    {
      "cell_type": "markdown",
      "metadata": {},
      "source": [
        "# Checking structure\n",
        "\n",
        "As mentioned in the previous chapter, the most important assumption we make for our linear models is that the model structure is correct.\n",
        "\n",
        "Technically, this assumption is impossible to verify. However, we can verify that the model does an adequate job of approximating the behavior of the observed data.\n",
        "\n",
        "-   If the model doesn’t do a good job of mimicking the behavior of the observed data, then we can say this this assumption is violated.\n",
        "\n",
        "**Residual plot**\n",
        "\n",
        "------------------------------------------------------------------------\n",
        "\n",
        "The most basic approach for assessing whether the structural assumption is satisfied uses a plot of the residuals versus fitted values.\n",
        "\n",
        "-   This assumption is satisfied (technically, not violated) if the residuals appear to be randomly but symmetrically scattered around a horizontal line running through 0 on the y-axis.\n",
        "-   This assumption is violated if there are systematic pattern in the residuals like a trend or a curve departing from symmetry around 0.\n",
        "\n",
        "We provides example residuals plots in panels (a) and (b) below.\n",
        "\n",
        "-   Panel (a) is consistent with an appropriate model structure.\n",
        "    -   The residuals are randomly scattered and symmetric around the horizontal line running through the y-axis at 0.\n",
        "-   Panel (b) is consistent with a structural problem.\n",
        "    -   The data systematically curve as we move from left to right along the x-axis.\n",
        "    -   In this particular example, we are missing a needed quadratic regressor in our model."
      ],
      "id": "af867d58-a62f-45ae-b92a-90704ceeae76"
    },
    {
      "cell_type": "code",
      "execution_count": 10,
      "metadata": {},
      "outputs": [
        {
          "output_type": "display_data",
          "metadata": {},
          "data": {
            "image/png": "[encoded data removed]"
          }
        }
      ],
      "source": [],
      "id": "93a57876-b1b0-4b43-b751-4eeba8ed8612"
    },
    {
      "cell_type": "markdown",
      "metadata": {},
      "source": [
        "Why does the residual plot approach work for assessing a structure problem?\n",
        "\n",
        "-   We assume that the errors have mean zero for any combination of our predictors.\n",
        "-   If our fitted model adequately captures the mean of the data, then the residuals will have the same property.\n",
        "-   We expect our residuals to randomly fluctuate above and below 0 with no systematic pattern related to a specific combination of regressors.\n",
        "\n",
        "Note: assessing whether the structure of the model is correct is difficult to separate from assessing the validity of the assumption that the mean of the errors is zero.\n",
        "\n",
        "-   Even if the errors didn’t have mean zero (but the model was correct), then our regression model would be non-identifiable because we wouldn’t be able to separate the mean of the errors from the mean of the other components of the model.\n",
        "\n",
        "A related approach for assessing the validity of the structural assumption is to examine plots of the residuals versus each predictor.\n",
        "\n",
        "-   The structural assumption isn’t violated as long as the residuals appear to be randomly and symmetrically scattered around a horizontal line running through 0 on the y-axis .\n",
        "\n",
        "**Structural check for `prostate` data**\n",
        "\n",
        "------------------------------------------------------------------------\n",
        "\n",
        "We examine a plot of the residuals versus fitted values for the model fitted to the `prostate` data.\n",
        "\n",
        "The `residualPlot` function in the **car** package is a convenient way of producing a plot of the residuals versus fitted values for a fitted model.\n",
        "\n",
        "The `residualPlot` function is a complex function, so we set `quadratic = FALSE` to get a simple plot."
      ],
      "id": "476c5695-4252-4e01-8086-bc04321ed10c"
    },
    {
      "cell_type": "code",
      "execution_count": 11,
      "metadata": {},
      "outputs": [],
      "source": [
        "residualPlot(lmod_prostate, quadratic = FALSE)"
      ],
      "id": "7f89e3cc-68fe-4a5c-b1d8-013c6eaece4d"
    },
    {
      "cell_type": "markdown",
      "metadata": {},
      "source": [
        "The points appear to be randomly scattered above and below 0 as we move from left to right across the x-axis. There is no clear violate of the structural assumption.\n",
        "\n",
        "The `residualsPlots` function in the **car** package will produce plots of the residuals versus each first-order predictor and the fitted values.\n",
        "\n",
        "-   Setting `tests = FALSE` and `quadratic = FALSE` simplifies the output produced by the function.\n",
        "-   Setting `fitted = FALSE` prevents the function from displaying a plot of the residuals versus fitted values.\n",
        "\n",
        "We examine the residual plots for the model fit to the `prostate` data below. Because there would be 9 plots by default, we select only 4 of the predictors to simplify our display."
      ],
      "id": "61ea62ce-2f12-4937-83a2-4d2cec483f23"
    },
    {
      "cell_type": "code",
      "execution_count": 12,
      "metadata": {},
      "outputs": [],
      "source": [
        "residualPlots(lmod_prostate, \n",
        "              terms = ~ lcavol + age + svi + gleason,\n",
        "              tests = FALSE, quadratic = FALSE, fitted = FALSE)"
      ],
      "id": "5d6246a2-66c9-4ecc-9282-e593700fd62b"
    },
    {
      "cell_type": "markdown",
      "metadata": {},
      "source": [
        "The residual plots associated with `lcavol` and `age` look relatively symmetric around 0 with no clear patterns.\n",
        "\n",
        "For a categorical predictor like `svi`, we want the boxplot of the residuals to be symmetric around zero, which is what we see for this data. There is no evidence of a structural problem.\n",
        "\n",
        "Looking at the residual plot for the `gleason` predictor, the residual values tend to be lower for larger values of `gleason`.\n",
        "\n",
        "-   This may be something to explore further.\n",
        "-   There are relatively few observations with high `gleason` values, so it is difficult to draw a definitive conclusion. This is not clear evidence of a structural problem.\n",
        "\n",
        "**Structural check for `home_prices` data**\n",
        "\n",
        "------------------------------------------------------------------------\n",
        "\n",
        "We now examine a plot of the residuals versus fitted values for the `home_prices` data."
      ],
      "id": "0104b3a2-91ba-4f3d-a802-4af1cdcf2660"
    },
    {
      "cell_type": "code",
      "execution_count": 13,
      "metadata": {},
      "outputs": [],
      "source": [
        "residualPlot(lmod_homes, quadratic = FALSE)"
      ],
      "id": "de0c6c17-684c-406c-895f-b3a95f2db9e6"
    },
    {
      "cell_type": "markdown",
      "metadata": {},
      "source": [
        "There are many more points in this plot compared to the residual plot for the `prostate` data, making it a bit more difficult to assess this assumption.\n",
        "\n",
        "The bulk of the data between the fitted values 5.25 and 6.25 is approximately symmetric around zero (as far as we can tell).\n",
        "\n",
        "There is one unusual point in the upper left part of the plot.\n",
        "\n",
        "-   This is an *outlier*.\n",
        "-   Since this is only a single unusual point in a data set with many observations, this is not something to be concerned about.\n",
        "\n",
        "However, the residuals begin to systematically fall below 0 when the fitted values are above 6.25.\n",
        "\n",
        "-   This is an indication that we have a structural deficiency in our fitted model that should be addressed.\n",
        "\n",
        "# Checking constant variance\n",
        "\n",
        "Another key assumption is that the variance of the errors is constant for all combinations of regressor values.\n",
        "\n",
        "Similar to the check of structure, we can check this assumption through residual plots.\n",
        "\n",
        "However, it is important to note that even if the errors have constant variance, the residuals do not.\n",
        "\n",
        "Even if the variance of the errors is constant,\n",
        "\n",
        "$$\\mathrm{var}(\\hat{\\epsilon}_i) = \\sigma^2(1-h_i), \\quad i = 1,2,\\ldots,n,$$\n",
        "\n",
        "where $h_i=\\mathbf{H}_{i,i}$ is $i$th diagonal element of the hat matrix $\\mathbf{H}=\\mathbf{X}(\\mathbf{X}^T\\mathbf{X})^{-1}\\mathbf{X}^T$.\n",
        "\n",
        "It is recommended that instead of assessing the validity of this assumption with the ordinary residuals, $\\hat{\\epsilon}_1, \\ldots, \\hat{\\epsilon}_n$, we instead use the *standardized residuals* given by the equation\n",
        "\n",
        "$$r_i = \\frac{\\hat{\\epsilon}_i}{\\hat{\\sigma}\\sqrt{1-h_i}}, \\quad i=1,2,\\ldots,n.$$\n",
        "\n",
        "Under the standard assumptions, the standardized residuals have mean 0 and variance 1.\n",
        "\n",
        "**Standardized residual plot**\n",
        "\n",
        "------------------------------------------------------------------------\n",
        "\n",
        "The constant variance assumption can be assessed using plots of the standardized residuals versus the fitted values or predictors.\n",
        "\n",
        "-   If the constant error variance assumption is satisfied, then the points of these plots should have constant thickness, symmetric about 0 as we move from left to right along the x-axis.\n",
        "\n",
        "Consider the 4 plots below:\n",
        "\n",
        "-   Panel (a) shows data that perfectly satisfy this assumption. However, the plot itself doesn’t have perfect constant thickness as we move from left to right along the axis.\n",
        "-   Panel (b) shows data with increasing variability as we move from left to right across the x-axis. This is difficult to see in the plot because the variability increases but then appears to decrase.\n",
        "-   Panel (c) shows data that has slightly decreasing variability as we move from left to right along the x-axis. However, this is difficult to see in the plot..\n",
        "-   Panel (d) shows data that has a structural issue (notice the curve in the data compared to the 0-line) while the points also increase in variability as we move from left to right along the x-axis."
      ],
      "id": "8d4b4be1-9ffb-41f5-bc90-4053c0d3d7b4"
    },
    {
      "cell_type": "code",
      "execution_count": 14,
      "metadata": {},
      "outputs": [
        {
          "output_type": "display_data",
          "metadata": {},
          "data": {
            "image/png": "[encoded data removed]"
          }
        }
      ],
      "source": [],
      "id": "61ab2f85-9320-4134-b1c2-f5bccedc378b"
    },
    {
      "cell_type": "markdown",
      "metadata": {},
      "source": [
        "What should we do if the plots are inconclusive?\n",
        "\n",
        "-   We don’t conclude an assumption is violated unless the violation is clear.\n",
        "-   Try to use a different method.\n",
        "\n",
        "**Scale-location plot**\n",
        "\n",
        "------------------------------------------------------------------------\n",
        "\n",
        "A scale-location plot can be used to assess whether the variance is constant when the standardized residual plot is inconclusive AND the structural assumption doesn’t appear to be violated.\n",
        "\n",
        "A *scale-location* plot is a plot of $\\sqrt{|\\hat{\\boldsymbol{\\epsilon}}|}$) versus $\\hat{\\mathbf{y}}$, i.e., a plot of the square root of the absolute value of the residuals versus the fitted values.\n",
        "\n",
        "-   If the constant variance assumption is satisfied (i.e., not clearly violated), then the points of this plot should should have constant thickness as we move from left to right along the x-axis.\n",
        "\n",
        "Recall that in panel (c) of the previous plot that we thought there was a slight decrease in the variability of the residuals as we moved from left-to-right across the x-axis.\n",
        "\n",
        "We produce a scale-location plot for panel (c) above.\n",
        "\n",
        "-   The red line is a visual indication of how the variability changes from left to right and should be approximately flat if this assumption is not violated.\n",
        "-   The red line clearly decreases in our plot indicating a violation of the constant variance assumption."
      ],
      "id": "6d5537ff-c799-44d9-a2e9-7362a47fca43"
    },
    {
      "cell_type": "code",
      "execution_count": 15,
      "metadata": {},
      "outputs": [
        {
          "output_type": "display_data",
          "metadata": {},
          "data": {
            "image/png": "[encoded data removed]"
          }
        }
      ],
      "source": [],
      "id": "b334d6ab-28c0-4101-a654-e47706da7130"
    },
    {
      "cell_type": "markdown",
      "metadata": {},
      "source": [
        "**Constant variance check for `prostate` data**\n",
        "\n",
        "We now assess the validity of the constant variance assumption for the `prostate` data.\n",
        "\n",
        "The `residualPlot` frunction from the **car** package can be used to construct a plot of the standardized residuals versus the fitted values.\n",
        "\n",
        "-   Set `type = \"rstandard\"`.\n",
        "\n",
        "We produce a standarized residual plot for the model fitted to the `prostate` data."
      ],
      "id": "5647a1ca-5f69-4e8e-9b12-dd78c17eae74"
    },
    {
      "cell_type": "code",
      "execution_count": 16,
      "metadata": {},
      "outputs": [],
      "source": [
        "residualPlot(lmod_prostate, type = \"rstandard\", quadratic = FALSE)"
      ],
      "id": "0d9ff045-b1ef-4743-abda-f638a67d9b9d"
    },
    {
      "cell_type": "markdown",
      "metadata": {},
      "source": [
        "The plot of the standardized residuals versus the fitted values has almost perfectly constant thickness as we move from left to right along the x-axis, so there is no indication of a non-constant variance issue for our fitted model.\n",
        "\n",
        "We can produce plots of the standardized residuals versus the predictors using the `residualPlots` function.\n",
        "\n",
        "-   We must specify `type == \"rstandard\"`.\n",
        "\n",
        "There is no indication of a violation of the constant variance assumption in the plots below."
      ],
      "id": "cd4ec7a3-f371-40bd-a676-9770314ac33f"
    },
    {
      "cell_type": "code",
      "execution_count": 17,
      "metadata": {},
      "outputs": [],
      "source": [
        "residualPlots(lmod_prostate, type = \"rstandard\",\n",
        "              terms = ~ lcavol + age + svi + pgg45,\n",
        "              tests = FALSE, quadratic = FALSE, fitted = FALSE)"
      ],
      "id": "1e385068-7862-404a-9811-d6a48b78c706"
    },
    {
      "cell_type": "markdown",
      "metadata": {},
      "source": [
        "**Constant variance check for `home_prices` data**\n",
        "\n",
        "We now assess the validity of the constant error variance assumption for the `home_prices` data.\n",
        "\n",
        "Our standardized residual plot seems to show clear evidence that the variability tends to decrease as we move from left to right along the x-axis."
      ],
      "id": "2abeccc5-0d21-48d3-be2b-04c94e40f660"
    },
    {
      "cell_type": "code",
      "execution_count": 18,
      "metadata": {},
      "outputs": [],
      "source": [
        "residualPlot(lmod_homes, type = \"rstandard\", quadratic = FALSE)"
      ],
      "id": "3c23528d-1a29-4576-9f1c-7f948ddf0c39"
    },
    {
      "cell_type": "markdown",
      "metadata": {},
      "source": [
        "The verify our belief, we can look at a scale-location plot for the fitted model\n",
        "\n",
        "The `plot` function can be used to produce a scale-location plot.\n",
        "\n",
        "-   The `plot` function has a method for `lm` objects.\n",
        "-   Setting the `which` argument to 3 will produce a scale-location plot.\n",
        "\n",
        "We produce a scale-location plot of the fitted model for `home_prices`."
      ],
      "id": "23f11316-e389-4ee7-aac9-9349eabd9d7b"
    },
    {
      "cell_type": "code",
      "execution_count": 19,
      "metadata": {},
      "outputs": [],
      "source": [
        "plot(lmod_homes, which = 3)"
      ],
      "id": "5e7340f6-f0d2-47b6-94da-2fe1918f0097"
    },
    {
      "cell_type": "markdown",
      "metadata": {},
      "source": [
        "The red line shows that the variability decreases as we move from left to right. It then appears to increase, but this is an artifact of the model having a structural deficiency for larger fitted values.\n",
        "\n",
        "Focusing on the fitted values less than 6.25, we do see the absolute value of the standardized residuals tend to decrease as we move from left to right.\n",
        "\n",
        "# Checking normality\n",
        "\n",
        "A key assumption of many of our tests and confidence intervals is that the errors are normally distributed.\n",
        "\n",
        "We have previously shown that if our errors are normal that our residuals are also normal.\n",
        "\n",
        "-   If our errors have mean zero, then the residuals also have mean zero.\n",
        "\n",
        "**The Q-q plot**\n",
        "\n",
        "------------------------------------------------------------------------\n",
        "\n",
        "To assess whether the assumption of normally-distributed errors is reasonable, we will compare the residuals to the quantiles we would expect to get from the same number of i.i.d. normally-distributed observations with mean 0 and variance 1.\n",
        "\n",
        "-   If the normality assumption is satisfied, then a a plot of the observed values compared to the theoretical quantiles will fall approximately in a straight line.\n",
        "-   This plot is called a quantile-quantile or *q-q plot*.\n",
        "\n",
        "The `qqnorm` function can be used to create a q-q plot of data we believe to come from a normal distribution.\n",
        "\n",
        "We provide an example below of a q-q plot for normally-distributed data with a mean of 0 and a variance of 1.\n",
        "\n",
        "-   We can use the `qqline` function to add a reference line to see how closely the points fall to a straight line."
      ],
      "id": "23daebd4-d733-4f4a-807b-c5b76de50efd"
    },
    {
      "cell_type": "code",
      "execution_count": 20,
      "metadata": {},
      "outputs": [],
      "source": [
        "set.seed(19)\n",
        "e <- rnorm(30)\n",
        "qqnorm(e)\n",
        "qqline(e)"
      ],
      "id": "2569fbf6-c1c1-4482-93dc-92f1497884a5"
    },
    {
      "cell_type": "markdown",
      "metadata": {},
      "source": [
        "The points of the q-q plot fall fairly close to a straight line, which is what we expect when the sample observations are a sample from a normal distribution.\n",
        "\n",
        "There tends to be more variability in the tails of a q-q plot (i.e., for the smallest and largest quantiles) so those points tend to fall a little farther from a straight line.\n",
        "\n",
        "Observations that deviate substantially from normality will result in a q-q plot that doesn’t look like a straight line of points.\n",
        "\n",
        "Consider a q-q plot of data sampled from a chi-square distribution with 5 degrees of freedom.\n",
        "\n",
        "-   This distribution is positively skewed.\n",
        "-   The points of the q-q plot do not fall that closely to a straight line."
      ],
      "id": "7bcc869b-d31d-4c7e-884f-11023425206b"
    },
    {
      "cell_type": "code",
      "execution_count": 21,
      "metadata": {},
      "outputs": [],
      "source": [
        "set.seed(22)\n",
        "e2 <- rchisq(30, 5)\n",
        "qqnorm(e2)\n",
        "qqline(e2)"
      ],
      "id": "5d30089f-4b78-4221-ac88-5bad24e1e871"
    },
    {
      "cell_type": "markdown",
      "metadata": {},
      "source": [
        "Q-q plots are generally constructed under the assumption that the data are independent and identically distributed.\n",
        "\n",
        "-   Ordinary residuals do not have constant variance.\n",
        "-   It is preferable to scale the residuals to have constant variance prior to constructing a q-q plot.\n",
        "    -   The standardized residuals, $r_i$, $i=1,2,\\ldots,n$ are one form of scaled residuals with variance equal to 1.\n",
        "    -   The studentized residuals, $t_i$, $i=1,2,\\ldots,n$ are another form of residuals scaled to have a variance of 1.\n",
        "        -   The denominator uses a different estimate of $\\sigma$ than the standardized residuals. We do not discuss those details here.\n",
        "        -   In that case, we actually want to compare the observed values to quantiles from a $t$ distribution with $n-p-1$ degrees of freedom, assuming our model has $p$ estimated regression coefficients.\n",
        "-   Though the residuals are not independent, the correlation is typically weak and can be ignored when constructing a q-q plot.\n",
        "\n",
        "Standardized or studentized residuals should be used to assess the normality assumption.\n",
        "\n",
        "The `qqPlot` function in the **car** packages produced q-q plots of the studentized residuals.\n",
        "\n",
        "**The Shapiro-Wilk test**\n",
        "\n",
        "------------------------------------------------------------------------\n",
        "\n",
        "Another approach to assess normality is the Shapiro-Wilk test (Shapiro and Wilk, 1965).\n",
        "\n",
        "The null hypothesis for this test is that the data are a random sample from a normal distribution.\n",
        "\n",
        "The alternative hypothesis is that the data are not a random sample from a normal distribution.\n",
        "\n",
        "If the p-value of the test is less then the desired significance level, then we conclude that the data are not a random sample from a normal distribution. Otherwise, we fail to reject the null hypothesis that the data are a random sample from a normal distribution.\n",
        "\n",
        "The Shapiro-Wilk test can be applied to a vector of data using the `shapiro.test` function.\n",
        "\n",
        "**Normality check for `prostate` data**\n",
        "\n",
        "------------------------------------------------------------------------\n",
        "\n",
        "We now use the `qqPlot` function to create a q-q plot of the studentized residuals for the model fitted to the prostate data."
      ],
      "id": "fdee3b25-4259-43b6-ab4b-d61219b74644"
    },
    {
      "cell_type": "code",
      "execution_count": 22,
      "metadata": {},
      "outputs": [],
      "source": [
        "qqPlot(lmod_prostate)"
      ],
      "id": "915ce23b-c5aa-474e-8448-aecdf8007c70"
    },
    {
      "cell_type": "markdown",
      "metadata": {},
      "source": [
        "The points of the q-q plot fall close to a straight line, so the assumption of normally-distributed errors appears to be reasonable assumption for the fitted model.\n",
        "\n",
        "The `qqPlot` function also produces pointwise 95% confidence envelopes for the quantiles, giving us an idea of how much the points can deviate from a straight line without the assumption being violated.\n",
        "\n",
        "-   The envelopes are pointwise, which means they don’t adjust for multiple comparisons.\n",
        "\n",
        "To help confirm our belief, we apply the Shapiro-Wilk test to the standardized residuals of our fitted model.\n",
        "\n",
        "-   We use the `rstandard` function to extract the standardized residuals from our fitted model."
      ],
      "id": "e4af9082-7b69-45c2-b201-5f055dd00419"
    },
    {
      "cell_type": "code",
      "execution_count": 23,
      "metadata": {},
      "outputs": [],
      "source": [
        "shapiro.test(rstandard(lmod_prostate))"
      ],
      "id": "69765d2c-82d9-4148-a59a-4d6737ddfa07"
    },
    {
      "cell_type": "markdown",
      "metadata": {},
      "source": [
        "Since our p-value is large, we believe our residuals (and by proxy, our errors) are a sample from a normal distribution.\n",
        "\n",
        "**Normality check for `prostate` data**\n",
        "\n",
        "------------------------------------------------------------------------\n",
        "\n",
        "We start with a q-q plot of the studentized residuals of the fitted model for the `home_prices` data."
      ],
      "id": "abdb6bfb-2060-42ac-8363-e5cf56facb76"
    },
    {
      "cell_type": "code",
      "execution_count": 24,
      "metadata": {},
      "outputs": [],
      "source": [
        "qqPlot(lmod_homes)"
      ],
      "id": "8da61622-29eb-4dc3-a8b5-35efed6085fd"
    },
    {
      "cell_type": "markdown",
      "metadata": {},
      "source": [
        "There are so many points in our plot that it is difficult to assess the central part of the plot. However, it is clear that the tails of the q-q plot deviate from a straight line.\n",
        "\n",
        "-   The normal error assumption appears to be violated for our fitted model.\n",
        "\n",
        "We could confirm our beliefs using the Shapiro-Wilk test, but the R function takes a maximum of 5000 observations, and we have over 20,000 residuals.\n",
        "\n",
        "Even though the normal error assumption appears to be violated for our fitted model, this may not be an issue in practice.\n",
        "\n",
        "-   The Central Limit Theorem applies to our estimated coefficients, so our confidence and hypothesis test should still be approximately valid.\n",
        "-   Our prediction intervals are very sensitive to the normality assumption, so that type of inference should not be trusted in this setting.\n",
        "\n",
        "# Checking for correlated errors\n",
        "\n",
        "Our errors are supposed to be uncorrelated.\n",
        "\n",
        "This assumption is impractical to check unless our data are time series or longitudinal data (observations observed over a series of time) or spatial data (the observations are associated with a specific geographic location).\n",
        "\n",
        "-   We will examine how to assess this assumption for time series data.\n",
        "\n",
        "If the data are not time series or spatial data then we don’t need to bother checking this assumption.\n",
        "\n",
        "If the errors $\\boldsymbol\\epsilon$ are uncorrelated, then the residuals $\\hat{\\boldsymbol\\epsilon}$ are typically close to uncorrelated, so we will use them as a proxy to assess the validity of this assumption.\n",
        "\n",
        "We will illustrate checking this assumption using a classic data set provided by Box et al. (1975) of the monthly total of international airline passengers in thousands from 1949 to 1960. The data are available in the `AirPassengers` data set in the **datasets** package.\n",
        "\n",
        "We first convert the data to a more usable form for our purposes. We will let month 1 be January of 1949 and month 144 be December of 1960 (the 12th month of the 12th year)"
      ],
      "id": "de94bb0c-2b5c-4b3d-a401-08ba9abf9267"
    },
    {
      "cell_type": "code",
      "execution_count": 25,
      "metadata": {},
      "outputs": [],
      "source": [
        "air <- data.frame(month = 1:144, passengers = c(AirPassengers))"
      ],
      "id": "8745c340-22d1-461d-be62-5e0cbeca07f6"
    },
    {
      "cell_type": "markdown",
      "metadata": {},
      "source": [
        "We begin by creating a scatter plot of the passenger totals versus the month."
      ],
      "id": "8912694c-6344-4bea-b43f-dbc296ba5f20"
    },
    {
      "cell_type": "code",
      "execution_count": 26,
      "metadata": {},
      "outputs": [],
      "source": [
        "plot(passengers ~ month, data = air)"
      ],
      "id": "94450662-6eaa-4c50-a00e-2e08c7fbad8a"
    },
    {
      "cell_type": "markdown",
      "metadata": {},
      "source": [
        "The passenger totals are clearly increasing over time and also increasing in variability.\n",
        "\n",
        "We take the `log` of `passengers` to correct for the increasing variability of that variable over time.\n",
        "\n",
        "-   The transformed data doesn’t appear to have the same issue."
      ],
      "id": "0de2b090-fb80-4ac0-bede-e4ab52a6cf60"
    },
    {
      "cell_type": "code",
      "execution_count": 27,
      "metadata": {},
      "outputs": [],
      "source": [
        "plot(log(passengers) ~ month, data = air)"
      ],
      "id": "afe7ed48-fe23-4e29-9c33-16d1ccd8b48e"
    },
    {
      "cell_type": "markdown",
      "metadata": {},
      "source": [
        "We will regress `log(passengers)` on `month` and then discuss diagnostics to assess whether the residuals are temporally correlated."
      ],
      "id": "cc4c9ef0-80fd-4fc1-b8bd-507171768e1b"
    },
    {
      "cell_type": "code",
      "execution_count": 28,
      "metadata": {},
      "outputs": [],
      "source": [
        "lmod_air <- lm(log(passengers) ~ month, data = air)"
      ],
      "id": "6f929920-def5-450b-8873-1a051c70d859"
    },
    {
      "cell_type": "markdown",
      "metadata": {},
      "source": [
        "**Residuals versus time plot**\n",
        "\n",
        "------------------------------------------------------------------------\n",
        "\n",
        "The easiest way to check for correlated residuals in time series data is to plot the residuals versus the time variable.\n",
        "\n",
        "-   If the residuals tend to cluster with sequences of positive or negative residuals, then the data have a positive correlation.\n",
        "\n",
        "We create a scatter plot of the residuals versus month for the model fitted to the passengers data.\n",
        "\n",
        "-   We add a horizontal reference line at $y = 0$."
      ],
      "id": "0d9df7cb-46ab-4528-8504-e0e588704497"
    },
    {
      "cell_type": "code",
      "execution_count": 29,
      "metadata": {},
      "outputs": [],
      "source": [
        "plot(residuals(lmod_air) ~ month, data = air,\n",
        "     ylab = \"residuals\")\n",
        "abline(0, 0)"
      ],
      "id": "6b3c7b52-b2d1-46d3-8dba-fd1bbb8d75a6"
    },
    {
      "cell_type": "markdown",
      "metadata": {},
      "source": [
        "The pattern is a bit difficult to see because there is so much data.\n",
        "\n",
        "If we focus in on the first 24 months of data, we can clearly see sequences of times where the residuals are almost all positive or almost all negative.\n",
        "\n",
        "-   The residuals appear to have non-neglible positive correlation."
      ],
      "id": "927f16b7-bbf5-4172-9aa6-4b8ea1c98e7d"
    },
    {
      "cell_type": "code",
      "execution_count": 30,
      "metadata": {},
      "outputs": [],
      "source": [
        "plot(residuals(lmod_air) ~ month, data = air,\n",
        "     ylab = \"residuals\", xlim = c(0, 24))\n",
        "abline(0, 0)"
      ],
      "id": "8f0013a2-cfbc-4378-a6f4-320af874079a"
    },
    {
      "cell_type": "markdown",
      "metadata": {},
      "source": [
        "**Successive residual pairs plot**\n",
        "\n",
        "------------------------------------------------------------------------\n",
        "\n",
        "A better way to assess whether there is strong temporal correlation in the residuals is to plot pairs of successive residuals versus each other, i.e., to plot $\\hat{\\epsilon}_{i+1}$ versus $\\hat{\\epsilon}_i$ for $i=1,2,\\ldots,n-1$.\n",
        "\n",
        "-   If the successive residuals show a positive trend then there is positive temporal correlation in the residuals.\n",
        "-   If the successive residuals show a negative trend then there is negative temporal correlation in the residuals.\n",
        "    -   Negative correlation is very difficult to see visually when looking at a plot of the residuals over time because the pattern will look random.\n",
        "-   If the successive residuals appear to be a random scatter around 0 then there is no evidence of temporal correlation in the residuals.\n",
        "\n",
        "To construct a plot of successive residual pairs we can use the following code."
      ],
      "id": "77d2119a-2e21-403d-8dcf-f77780e0afde"
    },
    {
      "cell_type": "code",
      "execution_count": 31,
      "metadata": {},
      "outputs": [],
      "source": [
        "n <- nobs(lmod_air)\n",
        "ehat <- residuals(lmod_air)\n",
        "plot(ehat[2:n] ~ ehat[1:(n-1)],\n",
        "     xlab = expression(hat(epsilon)[i]),\n",
        "     ylab =expression(hat(epsilon)[i+1]))\n",
        "abline(h = 0 , v = 0, col = \"grey\")"
      ],
      "id": "64663552-02ce-4381-a2ed-37e150a08c96"
    },
    {
      "cell_type": "markdown",
      "metadata": {},
      "source": [
        "`ehat[2:n]` extracts the last $n-1$ residuals while `ehat[1:(n-1)]` extracts the first $n-1$ residuals.\n",
        "\n",
        "The remaining code adds horizontal and vertical reference lines at $y=0$ and $x=0$, respectively.\n",
        "\n",
        "Since the successive residual pairs plot has a positive trend, there is clear evidence of positive temporal correlation among the residuals (and by proxy, the errors).\n",
        "\n",
        "If either of the previous plots do not provide a satisfactory conclusion, then we can use the Durbin-Watson to draw a definitive conclusion.\n",
        "\n",
        "**The Durbin-Watson test**\n",
        "\n",
        "------------------------------------------------------------------------\n",
        "\n",
        "A formal test for temporal correlation between residuals can be performed using the *Durbin-Watson test*.\n",
        "\n",
        "-   Let $\\rho$ denote the temporal correlation between residuals.\n",
        "    -   H<sub>0</sub>: The residuals are uncorrelated, $\\rho = 0$.\n",
        "    -   H<sub>a</sub>: The residuals are related in some way ($\\rho \\neq 0$, $\\rho > 0$, or $\\rho < 0$).\n",
        "-   The test statistic is:\n",
        "\n",
        "$$DW = \\frac{\\sum_{i=2}^n(\\hat{\\epsilon}_i - \\hat{\\epsilon}_{i-1})^2}{\\sum_{i=1}^n \\hat{\\epsilon}_i^2}.$$\n",
        "\n",
        "-   The `dwtest` function in the `lmtest` package can be used to test this hypothesis.\n",
        "\n",
        "We will test for positive temporal correlation among the residuals using the `dwtest` function.\n",
        "\n",
        "-   Setting `alternative = \"greater\"` sets H<sub>a</sub> to be $\\rho > 0$."
      ],
      "id": "221a3107-31ec-4c9e-a751-fbc1509271f7"
    },
    {
      "cell_type": "code",
      "execution_count": 32,
      "metadata": {},
      "outputs": [],
      "source": [
        "dwtest(lmod_air, alternative = \"greater\")"
      ],
      "id": "c9e1b335-1b5e-446c-843c-7255ed95c503"
    },
    {
      "cell_type": "markdown",
      "metadata": {},
      "source": [
        "The p-value for this test is close to 0, so we conclude that there is positive correlation among the residuals.\n",
        "\n",
        "# Summary of Methods for Checking Error Assumptions\n",
        "\n",
        "**Structural assumption**\n",
        "\n",
        "-   Plot of residuals versus fitted values.\n",
        "-   Plot of residuals versus each predictor.\n",
        "    -   For both plots, if this assumption is satisfied, the residuals should be symmetrically and randomly scattered around a horizontal line at $y=0$ as we move from left to right along the x-axis.\n",
        "\n",
        "**Constant error variance assumption**\n",
        "\n",
        "-   Plot of standardized residuals versus fitted values.\n",
        "-   Plot of standardized residuals versus each predictor.\n",
        "    -   For both plots, if this assumption is satisfied, then the points should have constant thickness around a horizontal line at $y=0$ as we move from left to right along the x-axis.\n",
        "-   Plot of $\\sqrt{| \\hat{\\epsilon} |}$ versus fitted values.\n",
        "    -   Only use this check if the structural assumption appears to be satisfied.\n",
        "    -   If this assumption is satisfied, then the points of the plot should have constant thickness as we move from left to right along the x-axis.\n",
        "\n",
        "**Normal error assumption**\n",
        "\n",
        "-   Q-q plot of (standardized or studentized) residuals.\n",
        "    -   The points should follow approximately a straight line.\n",
        "-   Shapiro-Wilk test.\n",
        "    -   The null hypothesis is that the residuals are consistent with a sample from a normal distribution, so we want the p-value of this test to be relatively large.\n",
        "\n",
        "**Uncorrelated errors**\n",
        "\n",
        "This only needs to be checked for time series/longitudinal data or geographically-referenced data.\n",
        "\n",
        "For assessing temporal autocorrelation:\n",
        "\n",
        "-   Plot of residuals versus time.\n",
        "    -   The plot should be a random scatter of points with no clear pattern if this assumption is satisfied.\n",
        "    -   If there are sequences where there are many positive residuals or many negative residuals, then this assumption is violated and the residuals exhibit positive temporal correlation.\n",
        "-   Plot of successive residuals pairs.\n",
        "    -   A positive trend indicates positive temporal correlation.\n",
        "    -   A negative trend indicates negative temoral correlation.\n",
        "    -   A random scatter indicates the residuals are consistent with being uncorrelated.\n",
        "-   Durbin-Watson test applied to the residuals.\n",
        "    -   A large p-value indicates the residuals are compatible with being uncorrelated.\n",
        "    -   A small p-value indicates the residuals are temporally correlated, with the type of autocorrelation detected being associated with the H<sub>a</sub>.\n",
        "\n",
        "# References\n",
        "\n",
        "Box, G. E. P., Jenkins, G. M. and Reinsel, G. C. (1976). “Time Series Analysis, Forecasting and Control”. Third Edition. Holden-Day. Series G.\n",
        "\n",
        "Shapiro, S. S. and Wilk, M. B. (1965). “An analysis of variance test for normality (complete samples)”. Biometrika. 52(3–4): 591–611."
      ],
      "id": "445cd5b4-da91-4077-a789-dec8dfb3b928"
    }
  ],
  "nbformat": 4,
  "nbformat_minor": 5,
  "metadata": {
    "kernelspec": {
      "name": "ir",
      "display_name": "R",
      "language": "R"
    },
    "language_info": {
      "name": "R",
      "codemirror_mode": "r",
      "file_extension": ".r",
      "mimetype": "text/x-r-source",
      "pygments_lexer": "r",
      "version": "4.2.2"
    }
  }
}