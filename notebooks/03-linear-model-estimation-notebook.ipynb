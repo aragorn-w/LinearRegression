{
  "cells": [
    {
      "cell_type": "markdown",
      "metadata": {},
      "source": [
        "# Chapter 3 - Linear Model Estimation\n",
        "\n",
        "Joshua French\n",
        "\n",
        "To open this information in an interactive Colab notebook, click the\n",
        "Open in Colab graphic below.\n",
        "\n",
        "<a href=\"https://colab.research.google.com/github/jfrench/LinearRegression/blob/master/notebooks/03-linear-model-estimation-notebook.ipynb\">\n",
        "<img src=\"https://colab.research.google.com/assets/colab-badge.svg\">\n",
        "</a>"
      ],
      "id": "281959ed-0647-4947-90c1-8cb618a7702d"
    },
    {
      "cell_type": "code",
      "execution_count": 1,
      "metadata": {},
      "outputs": [],
      "source": [
        "if(!require(palmerpenguins, quietly = TRUE)) {\n",
        "  install.packages(\"palmerpenguins\", repos = \"https://cran.rstudio.com/\")\n",
        "  library(palmerpenguins)\n",
        "}\n",
        "if(!require(ggplot2, quietly = TRUE)) {\n",
        "  install.packages(\"ggplot2\", repos = \"https://cran.rstudio.com/\")\n",
        "  library(ggplot2)\n",
        "}"
      ],
      "id": "ada35d31-5d3f-4d39-aa63-58e4d71672e3"
    },
    {
      "cell_type": "markdown",
      "metadata": {},
      "source": [
        "# A simple motivating example\n",
        "\n",
        "Suppose you observe data related to the heights of 5 mothers and their\n",
        "adult daughters. The data are in the table below.\n",
        "\n",
        "| observation | mother | daughter |\n",
        "|------------:|-------:|---------:|\n",
        "|           1 |   57.5 |     61.5 |\n",
        "|           2 |   60.5 |     63.5 |\n",
        "|           3 |   63.5 |     63.5 |\n",
        "|           4 |   66.5 |     66.5 |\n",
        "|           5 |   69.5 |     66.5 |\n",
        "\n",
        "Would it be reasonable to use a mother’s height to predict the height of\n",
        "her adult daughter? Consider the plot below."
      ],
      "id": "0e98b00c-ba79-4a43-b59e-695f495d5532"
    },
    {
      "cell_type": "code",
      "execution_count": 2,
      "metadata": {},
      "outputs": [
        {
          "output_type": "display_data",
          "metadata": {},
          "data": {
            "image/png": "[encoded data removed]"
          }
        }
      ],
      "source": [
        "x <- c(57.5, 50.5, 63.5, 66.5, 69.5) # mothers' heights\n",
        "y <- c(61.5, 63.5, 63.5, 66.5, 66.5) # daughters' heights\n",
        "plot(y ~ x, pch = 19, xlab = \"mother's height (in)\", ylab = \"daughter's height (in)\")"
      ],
      "id": "7cc7fe98-4969-4a7f-8bb8-aee0bcbef007"
    },
    {
      "cell_type": "markdown",
      "metadata": {},
      "source": [
        "A **regression analysis** is the process of building a model describing\n",
        "the typical relationship between a set of observed variables.\n",
        "\n",
        "In the present context, we want to model the height of adult daughters\n",
        "using their height of their mothers. The model we build is known as a\n",
        "**regression model**.\n",
        "\n",
        "The variables in a regression analysis may be divided into two types:\n",
        "\n",
        "-   The response variable.\n",
        "-   The predictor variables.\n",
        "\n",
        "The outcome variable we are trying to predict is known as the **response\n",
        "variable**.\n",
        "\n",
        "-   Response variables are also known as **outcome**, **output**, or\n",
        "    **dependent** variables.\n",
        "-   The response variable is denoted by $Y$.\n",
        "\n",
        "The variables available to model the response variable are known as\n",
        "**predictors variables**:\n",
        "\n",
        "-   They are also called **explanatory**, **regressor**, **input**,\n",
        "    **dependent** variables or simply as **features**.\n",
        "-   Following the convention of Weisberg (2014), we use the term\n",
        "    **regressor** to refer to the variables used in our regression\n",
        "    model, whether that is the original predictor variable, some\n",
        "    transformation of a predictor, some combination of predictors, etc.\n",
        "-   Every predictor can be a regressor but not all regressors are a\n",
        "    predictor.\n",
        "-   The regressor variables are denoted as $X_1, X_2, \\ldots, X_{p-1}$.\n",
        "\n",
        "A regression analysis assumes:\n",
        "\n",
        "-   We have observed variables $X_1, X_2, \\ldots, X_{p-1}$ and $Y$ for\n",
        "    each of $n$ subjects from some population.\n",
        "-   $x_{i,j}$ denotes the value of $X_j$ for observation $i$.\n",
        "-   $Y_i$ denotes the value of $Y$ for observation $i$.\n",
        "-   If there is only a single regressor, we can denote the single\n",
        "    regressor as $X$ and the observed values of $X$ as\n",
        "    $x_1, x_2, \\ldots, x_n$.\n",
        "\n",
        "For the height data, the 5 pairs of observed data are denoted\n",
        "$$(x_1, Y_1), (x_2, Y_2), \\ldots, (x_5, Y_5),$$ with $(x_i, Y_i)$\n",
        "denoting the data for observation $i$.\n",
        "\n",
        "-   $x_i$ denotes the mother’s height for observation $i$.\n",
        "-   $Y_i$ denotes the daughter’s height for observation $i$.\n",
        "\n",
        "Suppose we want to find the straight line that best fits the plot of\n",
        "mother and daughter heights.\n",
        "\n",
        "How do we determine the “best fitting” model?\n",
        "\n",
        "Consider these potential “best fitting” lines which are drawn on the\n",
        "scatter plot of the height data. Which one is best?"
      ],
      "id": "1be764b9-a4d5-4e5c-a8ba-da236afdff0c"
    },
    {
      "cell_type": "code",
      "execution_count": 3,
      "metadata": {},
      "outputs": [
        {
          "output_type": "display_data",
          "metadata": {},
          "data": {
            "image/png": "[encoded data removed]"
          }
        }
      ],
      "source": [
        "lmod <- lm(y ~ x)\n",
        "coef_ls <- coef(lmod) # OLS estimates\n",
        "lad <- function(b) {\n",
        "  yhat <- b[1] + b[2] * x\n",
        "  return(sum(abs(y-yhat)))\n",
        "}\n",
        "coef_lad <- optim(coef_ls, fn = lad)$par # least absolute deviation\n",
        "plot(y ~ x, pch = 19, xlab = \"parent's height (in)\", ylab = \"child's heights (in)\")\n",
        "abline(a = coef_ls[1], b= coef_ls[2], col = \"grey\")\n",
        "abline(a = coef_lad[1], b = coef_lad[2], col = \"grey\")"
      ],
      "id": "ca0c22e0-000c-405a-a22c-697fa151243e"
    },
    {
      "cell_type": "markdown",
      "metadata": {},
      "source": [
        "# Estimation of the simple linear regression model\n",
        "\n",
        "**Parameter estimation** is the process of using observed data to\n",
        "estimate values for the regression coefficients.\n",
        "\n",
        "There are many different methods of parameter estimation in statistics:\n",
        "\n",
        "-   Method-of-moments.\n",
        "-   Maximum likelihood.\n",
        "-   Bayesian.\n",
        "-   Etc.\n",
        "\n",
        "The most common parameter estimation method for linear models is the\n",
        "**least squares method**, which is commonly called **Ordinary Least\n",
        "Squares (OLS)** estimation.\n",
        "\n",
        "OLS estimation estimates the regression coefficients with the values\n",
        "that minimize the residual sum of squares (RSS), which we will define\n",
        "shortly.\n",
        "\n",
        "## Model definition, fitted values, residuals, and RSS\n",
        "\n",
        "The regression model for $Y$ as a function of $X$, denoted\n",
        "$E(Y \\mid X)$, is the expected value of $Y$ conditional on the regressor\n",
        "$X$.\n",
        "\n",
        "The **simple linear regression model** for a response variable assumes\n",
        "the mean of $Y$ conditional on a single regressor $X$ is $$\n",
        "E(Y\\mid X) = \\beta_0 + \\beta_1 X.\n",
        "$$\n",
        "\n",
        "The response variable $Y$ is modeled as $$\n",
        "\\begin{aligned}\n",
        "Y &= E(Y \\mid X) + \\epsilon \\\\\n",
        "&= \\beta_0 + \\beta_1 X + \\epsilon,\n",
        "\\end{aligned}\n",
        "(\\#eq:slr-model-Y)\n",
        "$$ where $\\epsilon$ is known as the model error.\n",
        "\n",
        "The error term $\\epsilon$ is literally the deviation of the response\n",
        "variable from its mean.\n",
        "\n",
        "-   We typically assume that conditional on the regressor variable, the\n",
        "    error term has mean 0 and variance $\\sigma^2$.\n",
        "-   This is written as $$\n",
        "    E(\\epsilon \\mid X) = 0\n",
        "    $$ and $$\n",
        "    \\mathrm{var}(\\epsilon \\mid X) = \\sigma^2.\n",
        "    $$\n",
        "\n",
        "The observed data are modeled as $$\n",
        "\\begin{aligned}\n",
        "Y_i &= \\beta_0 + \\beta_1 x_i + \\epsilon \\\\\n",
        "&= E(Y\\mid X = x_i) + \\epsilon_i,\n",
        "\\end{aligned}\n",
        "$$ for $i=1$, $2$,$\\ldots$,$n$, where $\\epsilon_i$ denotes the error for\n",
        "observation $i$.\n",
        "\n",
        "The **estimated regression model** is defined as $$\n",
        "\\hat{E}(Y|X) = \\hat{\\beta}_0 + \\hat{\\beta}_1 X,\n",
        "$$ where $\\hat{\\beta}_j$ denotes the estimated value of $\\beta_j$ for\n",
        "$j=0,1$.\n",
        "\n",
        "The $i$th **fitted value** is defined as $$\n",
        "\\hat{Y}_i = \\hat{E}(Y|X = x_i) = \\hat{\\beta}_0 + \\hat{\\beta}_1 x_i. $$\n",
        "\n",
        "-   The $i$th fitted value is the estimated mean of $Y$ when the\n",
        "    regressor $X=x_i$.\n",
        "\n",
        "The $i$th **residual** is defined as $$\n",
        "\\hat{\\epsilon}_i = Y_i - \\hat{Y}_i. (\\#eq:def-residual-slr)\n",
        "$$\n",
        "\n",
        "-   The $i$th residual is the difference between the response and\n",
        "    estimated mean response of observation $i$.\n",
        "\n",
        "The **residual sum of squares (RSS)** of a regression model is the sum\n",
        "of its squared residuals. The RSS for a simple linear regression model,\n",
        "as a function of the estimated regression coefficients $\\hat{\\beta}_0$\n",
        "and $\\hat{\\beta}_1$, is defined as $$\n",
        "RSS(\\hat{\\beta}_0, \\hat{\\beta}_1) = \\sum_{i=1}^n \\hat{\\epsilon}_i^2. (\\#eq:def-rss-slr)\n",
        "$$\n",
        "\n",
        "Using the various objects defined above, there are many equivalent\n",
        "expressions for the RSS.\n",
        "\n",
        "$$\n",
        "\\begin{aligned}\n",
        "RSS(\\hat{\\beta}_0, \\hat{\\beta}_1) &= \\sum_{i=1}^n \\hat{\\epsilon}_i^2 \\\\\n",
        "&= \\sum_{i=1}^n (Y_i - \\hat{Y}_i)^2 & \\\\\n",
        "&= \\sum_{i=1}^n (Y_i - \\hat{E}(Y|X=x_i))^2 \\\\\n",
        "&= \\sum_{i=1}^n (Y_i - (\\hat{\\beta}_0 + \\hat{\\beta}_1 x_i))^2.\n",
        "\\end{aligned}\n",
        "(\\#eq:equiv-def-rss-slr)\n",
        "$$\n",
        "\n",
        "The **fitted model** is the estimated model that minimizes the RSS, and\n",
        "is written as $$\n",
        "\\hat{Y}=\\hat{E}(Y|X) = \\hat{\\beta}_0 + \\hat{\\beta}_1 X. (\\#eq:def-fitted-model-slr)\n",
        "$$\n",
        "\n",
        "-   $\\hat{Y}$ is used for brevity.\n",
        "-   $\\hat{E}(Y|X)$ is used for clarity.\n",
        "\n",
        "In a simple linear regression context, the fitted model is known as the\n",
        "**line of best fit**."
      ],
      "id": "e9769be8-12dd-4e2f-9720-387769321040"
    },
    {
      "cell_type": "code",
      "execution_count": 4,
      "metadata": {},
      "outputs": [
        {
          "output_type": "display_data",
          "metadata": {},
          "data": {
            "image/png": "[encoded data removed]"
          }
        }
      ],
      "source": [
        "set.seed(2)\n",
        "x <- c(3, 5, 7, 8, 9)\n",
        "y <- 2 + 2 * x + rnorm(5, sd = 4)\n",
        "plot(y ~ x, pch = 19, xlab = \"X\", ylab = \"Y\")\n",
        "lmod <- lm(y ~ x)\n",
        "yhat <- fitted(lmod)\n",
        "abline(lmod, col = \"grey\", lty = 2)\n",
        "points(yhat ~ x, pch = 4, col = \"blue\")\n",
        "segments(x, y, x, yhat, col = \"orange\")\n",
        "legend(\"topleft\",\n",
        "       legend = c(\"observed response\", \"fitted value\", \"residual\", \"fitted model\"),\n",
        "       pch = c(19, 4, NA, NA),\n",
        "       col = c(\"black\", \"blue\", \"orange\", \"grey\"),\n",
        "       lty = c(NA, NA, 1, 2),\n",
        "       lwd = c(NA, NA, 1, 1))"
      ],
      "id": "d7e18653-dd3a-47cf-a46e-9f22035b7ced"
    },
    {
      "cell_type": "markdown",
      "metadata": {},
      "source": [
        "In the graphic above, we visualize the response values, fitted values,\n",
        "residuals, and fitted model in a simple linear regression context. Note\n",
        "that:\n",
        "\n",
        "-   The fitted model is shown as the dashed grey line and minimizes the\n",
        "    RSS.\n",
        "-   The response values, shown as black dots, are the observed values of\n",
        "    $Y$.\n",
        "-   The fitted values, shown as blue x’s, are the values returned by\n",
        "    evaluating the fitted model at the observed regressor values.\n",
        "-   The residuals, shown as solid orange lines, indicate the distance\n",
        "    and direction between the observed responses and their corresponding\n",
        "    fitted value. If the response is larger than the fitted value then\n",
        "    the residual is positive, otherwise it is negative.\n",
        "-   The RSS is the sum of the squared vertical distances between the\n",
        "    response and fitted values.\n",
        "\n",
        "## OLS estimators of the simple linear regression parameters\n",
        "\n",
        "The estimators of $\\beta_0$ and $\\beta_1$ that minimize the RSS for a\n",
        "simple linear regression model can be obtained analytically using basic\n",
        "calculus (as long as $x_1,\\ldots,x_n$ are not all equal to the same\n",
        "number).\n",
        "\n",
        "Define:\n",
        "\n",
        "-   $\\bar{x}=\\frac{1}{n}\\sum_{i=1}^n x_i$.\n",
        "-   $\\bar{Y} = \\frac{1}{n}\\sum_{i=1}^n Y_i$.\n",
        "\n",
        "The OLS estimators of the simple linear regression coefficients that\n",
        "minimize the RSS are $$\n",
        "\\begin{aligned}\n",
        "\\hat{\\beta}_1 &= \\frac{\\sum_{i=1}^n x_i Y_i - \\frac{1}{n} \\biggl(\\sum_{i=1}^n x_i\\biggr)\\biggl(\\sum_{i=1}^n Y_i\\biggr)}{\\sum_{i=1}^n x_i^2 - \\frac{1}{n} \\biggl(\\sum_{i=1}^n x_i\\biggr)^2} \\notag \\\\\n",
        "&= \\frac{\\sum_{i=1}^n (x_i - \\bar{x})(Y_i - \\bar{Y})}{\\sum_{i=1}^n (x_i - \\bar{x})^2} \\notag \\\\\n",
        "&= \\frac{\\sum_{i=1}^n (x_i - \\bar{x})Y_i}{\\sum_{i=1}^n (x_i - \\bar{x})x_i}\n",
        "\\end{aligned}\n",
        "$$ and $$\n",
        "\\hat{\\beta}_0 = \\bar{Y} - \\hat{\\beta}_1 \\bar{x}.\n",
        "$$\n",
        "\n",
        "The most common estimator of the error variance is $$\n",
        "\\hat{\\sigma}^2 = \\frac{RSS}{\\mathrm{df}_{RSS}}.\n",
        "$$\n",
        "\n",
        "-   $\\mathrm{df}_{RSS}$ is the **degrees of freedom** of the RSS.\n",
        "-   For simply linear regression, $\\mathrm{df}_{RSS}=n-2$.\n",
        "\n",
        "# Penguins simple linear regression example\n",
        "\n",
        "The `penguins` data set provides data related to various penguin species\n",
        "measured in the Palmer Archipelago (Antarctica), originally provided by\n",
        "Gorman et al. (2014). We start by loading the data into memory."
      ],
      "id": "b803512d-3320-437d-ac7a-0fcf008f54fa"
    },
    {
      "cell_type": "code",
      "execution_count": 5,
      "metadata": {},
      "outputs": [
        {
          "output_type": "display_data",
          "metadata": {},
          "data": {
            "text/html": [
              "<table class=\"dataframe\">\n",
              "<caption>A tibble: 6 × 8</caption>\n",
              "<thead>\n",
              "    <tr><th scope=col>species</th><th scope=col>island</th><th scope=col>bill_length_mm</th><th scope=col>bill_depth_mm</th><th scope=col>flipper_length_mm</th><th scope=col>body_mass_g</th><th scope=col>sex</th><th scope=col>year</th></tr>\n",
              "    <tr><th scope=col>&lt;fct&gt;</th><th scope=col>&lt;fct&gt;</th><th scope=col>&lt;dbl&gt;</th><th scope=col>&lt;dbl&gt;</th><th scope=col>&lt;int&gt;</th><th scope=col>&lt;int&gt;</th><th scope=col>&lt;fct&gt;</th><th scope=col>&lt;int&gt;</th></tr>\n",
              "</thead>\n",
              "<tbody>\n",
              "    <tr><td>Adelie</td><td>Torgersen</td><td>39.1</td><td>18.7</td><td>181</td><td>3750</td><td>male  </td><td>2007</td></tr>\n",
              "    <tr><td>Adelie</td><td>Torgersen</td><td>39.5</td><td>17.4</td><td>186</td><td>3800</td><td>female</td><td>2007</td></tr>\n",
              "    <tr><td>Adelie</td><td>Torgersen</td><td>40.3</td><td>18.0</td><td>195</td><td>3250</td><td>female</td><td>2007</td></tr>\n",
              "    <tr><td>Adelie</td><td>Torgersen</td><td>  NA</td><td>  NA</td><td> NA</td><td>  NA</td><td>NA    </td><td>2007</td></tr>\n",
              "    <tr><td>Adelie</td><td>Torgersen</td><td>36.7</td><td>19.3</td><td>193</td><td>3450</td><td>female</td><td>2007</td></tr>\n",
              "    <tr><td>Adelie</td><td>Torgersen</td><td>39.3</td><td>20.6</td><td>190</td><td>3650</td><td>male  </td><td>2007</td></tr>\n",
              "</tbody>\n",
              "</table>"
            ]
          }
        }
      ],
      "source": [
        "data(penguins, package = \"palmerpenguins\")\n",
        "head(penguins)"
      ],
      "id": "c846f8ba-99e0-4da8-9886-f27099daf997"
    },
    {
      "cell_type": "markdown",
      "metadata": {},
      "source": [
        "The data set includes 344 observations of 8 variables. The variables\n",
        "are:\n",
        "\n",
        "-   `species`: a `factor` indicating the penguin species.\n",
        "-   `island`: a `factor` indicating the island the penguin was observed.\n",
        "-   `bill_length_mm`: a `numeric` variable indicating the bill length in\n",
        "    millimeters.\n",
        "-   `bill_depth_mm`: a `numeric` variable indicating the bill depth in\n",
        "    millimeters.\n",
        "-   `flipper_length_mm`: an `integer` variable indicating the flipper\n",
        "    length in millimeters\n",
        "-   `body_mass_g`: an `integer` variable indicating the body mass in\n",
        "    grams.\n",
        "-   `sex`: a `factor` indicating the penguin sex (`female`, `male`).\n",
        "-   `year`: an integer denoting the study year the penguin was observed\n",
        "    (`2007`, `2008`, or `2009`).\n",
        "\n",
        "We begin by creating a scatter plot of `bill_length_mm` versus\n",
        "`body_mass_g`."
      ],
      "id": "8ad596f8-8a04-4ba4-a62e-c1341a039982"
    },
    {
      "cell_type": "code",
      "execution_count": 6,
      "metadata": {},
      "outputs": [
        {
          "output_type": "display_data",
          "metadata": {},
          "data": {
            "image/png": "[encoded data removed]"
          }
        }
      ],
      "source": [
        "plot(bill_length_mm ~ body_mass_g, data = penguins,\n",
        "     ylab = \"bill length (mm)\", xlab = \"body mass (g)\",\n",
        "     main = \"Penguin size measurements\")"
      ],
      "id": "4eb2ed02-1f4d-4ac4-ba2b-e97382829632"
    },
    {
      "cell_type": "markdown",
      "metadata": {},
      "source": [
        "**Questions:**\n",
        "\n",
        "-   Is there a positive/negative association between body mass and bill\n",
        "    length?\n",
        "-   Is the relationship approximately linear?\n",
        "\n",
        "We will build a simple linear regression model that regresses\n",
        "`bill_length_mm` on `body_mass_g`.\n",
        "\n",
        "We want to estimate the parameters of the model $$\n",
        "E(\\mathtt{bill\\_length\\_mm}\\mid \\mathtt{body\\_mass\\_g})=\\beta_0+\\beta_1\\,\\mathtt{body\\_mass\\_g}.\n",
        "$$\n",
        "\n",
        "The `lm` function uses OLS estimation to fit a linear model to data. The\n",
        "function has two main arguments:\n",
        "\n",
        "-   `data`: the data frame in which the model variables are stored. This\n",
        "    can be omitted if the variables are already stored in memory.\n",
        "-   `formula`: a Wilkinson and Rogers (1973) style formula describing\n",
        "    the linear regression model. For complete details, run\n",
        "    `?stats:formula` in the Console. If `y` is the response variable and\n",
        "    `x` is an available numeric predictor, then `formula = y ~ x` tells\n",
        "    `lm` to fit the simple linear regression model\n",
        "    $E(Y|X)=\\beta_0+\\beta_1 X$."
      ],
      "id": "54f0579f-0ec2-46f4-8b36-d911d5f0eb1e"
    },
    {
      "cell_type": "code",
      "execution_count": 7,
      "metadata": {},
      "outputs": [
        {
          "output_type": "display_data",
          "metadata": {},
          "data": {
            "text/html": [
              "'lm'"
            ]
          }
        }
      ],
      "source": [
        "lmod <- lm(bill_length_mm ~ body_mass_g, data = penguins) # fit model\n",
        "class(lmod) # class of lmod"
      ],
      "id": "66aae7c8-9cf3-41a7-af28-045857220363"
    },
    {
      "cell_type": "markdown",
      "metadata": {},
      "source": [
        "The `summary` function is commonly used to summarize the results of our\n",
        "fitted model.\n",
        "\n",
        "When an `lm` object is supplied to the `summary` function, it returns:\n",
        "\n",
        "-   `Call`: the function call used to fit the model.\n",
        "-   `Residuals`: A 5-number summary of the\n",
        "    $\\hat{\\epsilon}_1, \\ldots, \\hat{\\epsilon}_n$.\n",
        "-   `Coefficients`: A table that lists:\n",
        "    -   The regressors in the fitted model.\n",
        "    -   `Estimate`: the estimated coefficient for each regressor.\n",
        "    -   `Std. Error`: the *estimated* standard error of the estimated\n",
        "        coefficients.\n",
        "    -   `t value`: the computed test statistic associated with testing\n",
        "        $H_0: \\beta_j = 0$ versus $H_a: \\beta_j \\neq 0$ for each\n",
        "        regression coefficient in the model.\n",
        "    -   `Pr(>|t|)`: the associated p-value of each test.\n",
        "-   Various summary statistics:\n",
        "    -   `Residual standard error` is the value of $\\hat{\\sigma}$, the\n",
        "        estimate of the error standard deviation. The degrees of freedom\n",
        "        is $\\mathrm{df}_{RSS}$, the number of observations minus the\n",
        "        number of estimated coefficients in the model.\n",
        "    -   `Multiple R-squared` is an estimate of model fit.\n",
        "    -   `Adjusted R-squared` is a modified version of\n",
        "        `Multiple R-squared`.\n",
        "    -   `F-statistic` is the test statistic for the test that compares\n",
        "        the model with an only an intercept to the fitted model. The\n",
        "        `DF` (degrees of freedom) values relate to the statistic under\n",
        "        the null hypothesis, and the `p-value` is the p-value for the\n",
        "        test.\n",
        "\n",
        "We use the `summary` function on `lmod` to produce the output below."
      ],
      "id": "891f00ed-450c-4b2b-b71d-f295a393c72c"
    },
    {
      "cell_type": "code",
      "execution_count": 8,
      "metadata": {},
      "outputs": [
        {
          "output_type": "display_data",
          "metadata": {},
          "data": {
            "text/plain": [
              "\n",
              "Call:\n",
              "lm(formula = bill_length_mm ~ body_mass_g, data = penguins)\n",
              "\n",
              "Residuals:\n",
              "     Min       1Q   Median       3Q      Max \n",
              "-10.1251  -3.0434  -0.8089   2.0711  16.1109 \n",
              "\n",
              "Coefficients:\n",
              "             Estimate Std. Error t value Pr(>|t|)    \n",
              "(Intercept) 2.690e+01  1.269e+00   21.19   <2e-16 ***\n",
              "body_mass_g 4.051e-03  2.967e-04   13.65   <2e-16 ***\n",
              "---\n",
              "Signif. codes:  0 '***' 0.001 '**' 0.01 '*' 0.05 '.' 0.1 ' ' 1\n",
              "\n",
              "Residual standard error: 4.394 on 340 degrees of freedom\n",
              "  (2 observations deleted due to missingness)\n",
              "Multiple R-squared:  0.3542,    Adjusted R-squared:  0.3523 \n",
              "F-statistic: 186.4 on 1 and 340 DF,  p-value: < 2.2e-16"
            ]
          }
        }
      ],
      "source": [
        "# summarize results stored in lmod\n",
        "summary(lmod)"
      ],
      "id": "8d9a182e-4a9e-46cc-8907-90acee2a4d8b"
    },
    {
      "cell_type": "markdown",
      "metadata": {},
      "source": [
        "Using the output above, we see that the estimated parameters are\n",
        "$\\hat{\\beta}_0=26.9$ and $\\hat{\\beta}_1=0.004$.\n",
        "\n",
        "Our fitted model is $$\n",
        "\\widehat{\\mathtt{bill\\_length\\_mm}}=26.9+0.004 \\,\\mathtt{body\\_mass\\_g}.\n",
        "$$\n",
        "\n",
        "In the context of a simple linear regression model:\n",
        "\n",
        "-   The intercept term is the expected response when the value of the\n",
        "    regressor is zero.\n",
        "-   The slope is the expected change in the response when the regressor\n",
        "    increases by 1 unit.\n",
        "\n",
        "Thus, based on the model we fit to the `penguins` data, we can make the\n",
        "following interpretations:\n",
        "\n",
        "-   $\\hat{\\beta}_1$: If a penguin has a body mass 1 gram larger than\n",
        "    another penguin, we expect the larger penguin’s bill length to be\n",
        "    0.004 millimeters longer.\n",
        "\n",
        "-   $\\hat{\\beta}_0$: A penguin with a body mass of 0 grams is expected\n",
        "    to have a bill length of 26.9 millimeters.\n",
        "\n",
        "-   **Question:** Does the intercept term make sense physically?\n",
        "\n",
        "The `abline` function can be used to automatically overlay the fitted\n",
        "model on the observed data."
      ],
      "id": "8a1ea11b-7332-4927-a70b-983010affe35"
    },
    {
      "cell_type": "code",
      "execution_count": 9,
      "metadata": {},
      "outputs": [
        {
          "output_type": "display_data",
          "metadata": {},
          "data": {
            "image/png": "[encoded data removed]"
          }
        }
      ],
      "source": [
        "plot(bill_length_mm ~ body_mass_g,\n",
        "     data = penguins, main = \"Penguin size measurements\",\n",
        "     ylab = \"bill length (mm)\", xlab = \"body mass (g)\")\n",
        "# draw fitted line of plot\n",
        "abline(lmod)"
      ],
      "id": "1bca68ec-4f1f-4a0f-a571-63103f3257ff"
    },
    {
      "cell_type": "markdown",
      "metadata": {},
      "source": [
        "R provides many additional methods (generic functions that do something\n",
        "specific when applied to a certain type of object) for `lm` objects.\n",
        "Commonly used ones include:"
      ],
      "id": "69fbcf4a-c6b9-4048-81f2-3f3a85cdd546"
    },
    {
      "cell_type": "code",
      "execution_count": 10,
      "metadata": {},
      "outputs": [
        {
          "output_type": "display_data",
          "metadata": {},
          "data": {
            "text/html": [
              "<style>\n",
              ".dl-inline {width: auto; margin:0; padding: 0}\n",
              ".dl-inline>dt, .dl-inline>dd {float: none; width: auto; display: inline-block}\n",
              ".dl-inline>dt::after {content: \":\\0020\"; padding-right: .5ex}\n",
              ".dl-inline>dt:not(:first-of-type) {padding-left: .5ex}\n",
              "</style><dl class=dl-inline><dt>(Intercept)</dt><dd>26.8988724235986</dd><dt>body_mass_g</dt><dd>0.00405141658394523</dd></dl>"
            ]
          }
        },
        {
          "output_type": "display_data",
          "metadata": {},
          "data": {
            "text/html": [
              "<style>\n",
              ".dl-inline {width: auto; margin:0; padding: 0}\n",
              ".dl-inline>dt, .dl-inline>dd {float: none; width: auto; display: inline-block}\n",
              ".dl-inline>dt::after {content: \":\\0020\"; padding-right: .5ex}\n",
              ".dl-inline>dt:not(:first-of-type) {padding-left: .5ex}\n",
              "</style><dl class=dl-inline><dt>1</dt><dd>-2.99168461339244</dd><dt>2</dt><dd>-2.79425544259038</dd><dt>3</dt><dd>0.234023678579446</dd><dt>5</dt><dd>-4.17625963820959</dd><dt>6</dt><dd>-2.38654295499865</dd><dt>7</dt><dd>-2.68525754040001</dd></dl>"
            ]
          }
        },
        {
          "output_type": "display_data",
          "metadata": {},
          "data": {
            "text/html": [
              "<style>\n",
              ".dl-inline {width: auto; margin:0; padding: 0}\n",
              ".dl-inline>dt, .dl-inline>dd {float: none; width: auto; display: inline-block}\n",
              ".dl-inline>dt::after {content: \":\\0020\"; padding-right: .5ex}\n",
              ".dl-inline>dt:not(:first-of-type) {padding-left: .5ex}\n",
              "</style><dl class=dl-inline><dt>1</dt><dd>42.0916846133924</dd><dt>2</dt><dd>42.2942554425904</dd><dt>3</dt><dd>40.0659763214205</dd><dt>5</dt><dd>40.8762596382096</dd><dt>6</dt><dd>41.6865429549986</dd><dt>7</dt><dd>41.5852575404</dd></dl>"
            ]
          }
        },
        {
          "output_type": "display_data",
          "metadata": {},
          "data": {
            "text/html": [
              "<style>\n",
              ".dl-inline {width: auto; margin:0; padding: 0}\n",
              ".dl-inline>dt, .dl-inline>dd {float: none; width: auto; display: inline-block}\n",
              ".dl-inline>dt::after {content: \":\\0020\"; padding-right: .5ex}\n",
              ".dl-inline>dt:not(:first-of-type) {padding-left: .5ex}\n",
              "</style><dl class=dl-inline><dt>1</dt><dd>42.0916846133932</dd><dt>2</dt><dd>42.2942554425905</dd><dt>3</dt><dd>40.0659763214206</dd><dt>5</dt><dd>40.8762596382096</dd><dt>6</dt><dd>41.6865429549987</dd><dt>7</dt><dd>41.5852575404</dd></dl>"
            ]
          }
        },
        {
          "output_type": "display_data",
          "metadata": {},
          "data": {
            "text/html": [
              "6564.49417126171"
            ]
          }
        },
        {
          "output_type": "display_data",
          "metadata": {},
          "data": {
            "text/html": [
              "340"
            ]
          }
        },
        {
          "output_type": "display_data",
          "metadata": {},
          "data": {
            "text/html": [
              "19.3073357978286"
            ]
          }
        }
      ],
      "source": [
        "(coeffs <- coef(lmod)) # extract, assign, and print coefficients\n",
        "ehat <- residuals(lmod) # extract and assign residuals\n",
        "head(ehat) # first few residuals\n",
        "yhat <- fitted(lmod) # extract and assign fitted values\n",
        "head(yhat) # first few fitted values\n",
        "yhat2 <- predict(lmod) # compute and assign fitted values\n",
        "head(yhat2) # first few fitted values\n",
        "(rss <- deviance(lmod)) # extract, assign, and print rss\n",
        "(dfr <- df.residual(lmod)) # extract residual df\n",
        "(sigmasqhat <- sigma(lmod)^2) # estimated error variance"
      ],
      "id": "031da84e-016c-4c5b-9a64-30e889dadecd"
    },
    {
      "cell_type": "markdown",
      "metadata": {},
      "source": [
        "**Question:**\n",
        "\n",
        "-   What is the RSS of the fitted model?"
      ],
      "id": "a22bf7d3-67af-46ea-ba70-04668a304849"
    },
    {
      "cell_type": "raw",
      "metadata": {
        "raw_mimetype": "text/html"
      },
      "source": [
        "<!-- # Defining a linear model -->"
      ],
      "id": "ba630d45-455b-4abd-a53c-3cdca9047afd"
    },
    {
      "cell_type": "raw",
      "metadata": {
        "raw_mimetype": "text/html"
      },
      "source": [
        "<!-- - $Y$ denotes the response variable. -->"
      ],
      "id": "c37f0d54-af06-46e6-93f7-61f74f9b1188"
    },
    {
      "cell_type": "raw",
      "metadata": {
        "raw_mimetype": "text/html"
      },
      "source": [
        "<!--     - The response variable is treated as a random variable. -->"
      ],
      "id": "ae0ab18b-70d2-4783-991f-e98c23d0558c"
    },
    {
      "cell_type": "raw",
      "metadata": {
        "raw_mimetype": "text/html"
      },
      "source": [
        "<!--     - We will observe realizations of this random variable for each observation in our data set. -->"
      ],
      "id": "57d9f4e0-e033-4431-b664-782bbefcff9a"
    },
    {
      "cell_type": "raw",
      "metadata": {
        "raw_mimetype": "text/html"
      },
      "source": [
        "<!-- - $X$ denotes a single regressor variable. $X_1, X_2, \\ldots, X_{p-1}$ denote distinct regressor variables if we are performing regression with multiple regressor variables. -->"
      ],
      "id": "8a6a8cdb-5696-4715-b87d-17c13087b4cc"
    },
    {
      "cell_type": "raw",
      "metadata": {
        "raw_mimetype": "text/html"
      },
      "source": [
        "<!--     - The regressor variables are treated as non-random variables. -->"
      ],
      "id": "68f84a51-fc60-40cf-9f58-7c11db9a0662"
    },
    {
      "cell_type": "raw",
      "metadata": {
        "raw_mimetype": "text/html"
      },
      "source": [
        "<!--     - The observed values of the regressor variables are treated as fixed, known values. -->"
      ],
      "id": "654f4f5e-a9a9-467a-850f-cebf17c78692"
    },
    {
      "cell_type": "raw",
      "metadata": {
        "raw_mimetype": "text/html"
      },
      "source": [
        "<!-- - $\\mathbb{X}=\\{X_0, X_1,\\ldots,X_{p-1}\\}$ denotes the collection of all regressors under consideration, though this notation is really only needed in the context of multiple regression. $X_0$ is usually the constant regressor 1, which is needed to include an intercept in the regression model. -->"
      ],
      "id": "693509cf-fa47-419e-b688-95eb290fe84d"
    },
    {
      "cell_type": "raw",
      "metadata": {
        "raw_mimetype": "text/html"
      },
      "source": [
        "<!-- - $\\beta_0$, $\\beta_1$, $\\ldots$, $\\beta_{p-1}$ denote **regression coefficients**. -->"
      ],
      "id": "b7b118f1-136e-4dd7-b38b-9fedf93b11d6"
    },
    {
      "cell_type": "raw",
      "metadata": {
        "raw_mimetype": "text/html"
      },
      "source": [
        "<!--     - Regression coefficients are statistical parameters that we will estimate from our data. -->"
      ],
      "id": "1a8134b9-a991-43ae-b276-6b88bff18f1f"
    },
    {
      "cell_type": "raw",
      "metadata": {
        "raw_mimetype": "text/html"
      },
      "source": [
        "<!--     - The regression coefficients are treated as fixed, non-random but unknown values. -->"
      ],
      "id": "65b4e121-cfca-4a77-abd5-80d6e00c4e4d"
    },
    {
      "cell_type": "raw",
      "metadata": {
        "raw_mimetype": "text/html"
      },
      "source": [
        "<!--     - Regression coefficients are not observable. -->"
      ],
      "id": "75bfff56-d63a-4f00-abea-d396ecac83c3"
    },
    {
      "cell_type": "raw",
      "metadata": {
        "raw_mimetype": "text/html"
      },
      "source": [
        "<!-- - $\\epsilon$ denotes model **error**. -->"
      ],
      "id": "3d4bf66a-2c1c-4400-9b87-bc272d9cf51f"
    },
    {
      "cell_type": "raw",
      "metadata": {
        "raw_mimetype": "text/html"
      },
      "source": [
        "<!--     - The model error is more accurately described as random variation of each observation from the regression model. -->"
      ],
      "id": "e917660c-01a4-4aa7-b5a2-01949728e4dc"
    },
    {
      "cell_type": "raw",
      "metadata": {
        "raw_mimetype": "text/html"
      },
      "source": [
        "<!--     - The error is treated as a random variable. -->"
      ],
      "id": "d77f03a4-799c-4f5c-84ab-28e2a5bc33b6"
    },
    {
      "cell_type": "raw",
      "metadata": {
        "raw_mimetype": "text/html"
      },
      "source": [
        "<!--     - The error is assumed to have mean 0 for all values of the regressors. We write this as $E(\\epsilon \\mid \\mathbb{X}) = 0$, which is read as, \"The expected value of $\\epsilon$ conditional on knowing all the regressor values equals 0\". The notation \"$\\mid \\mathbb{X}$\" extends the notation used in Equation \\@ref(eq:slr-equation) to multiple regressors. -->"
      ],
      "id": "34b159b4-78cd-4769-9d13-0d3c8a13b1e2"
    },
    {
      "cell_type": "raw",
      "metadata": {
        "raw_mimetype": "text/html"
      },
      "source": [
        "<!--     - The variance of the errors is assumed to be a constant value for all values of the regressors. We write this assumption as $\\mathrm{var}(\\epsilon \\mid \\mathbb{X})=\\sigma^2$. -->"
      ],
      "id": "48907a56-c388-4e5d-bb09-ae29021eef4f"
    },
    {
      "cell_type": "raw",
      "metadata": {
        "raw_mimetype": "text/html"
      },
      "source": [
        "<!--     - The error is never observable (except in the context of a simulation study where the experimenter literally defines the true model). -->"
      ],
      "id": "e43361a0-2379-405e-9b52-af6516dce466"
    },
    {
      "cell_type": "raw",
      "metadata": {
        "raw_mimetype": "text/html"
      },
      "source": [
        "<!-- ## Standard definition of linear model -->"
      ],
      "id": "e468b9b1-5302-4d3f-a3bb-78bba85e7244"
    },
    {
      "cell_type": "raw",
      "metadata": {
        "raw_mimetype": "text/html"
      },
      "source": [
        "<!-- In general, a linear regression model can have an arbitrary number of regressors. A **multiple linear regression** model has two or more regressors. -->"
      ],
      "id": "ffb63c82-a521-4ff2-94cd-1a8873c050f1"
    },
    {
      "cell_type": "raw",
      "metadata": {
        "raw_mimetype": "text/html"
      },
      "source": [
        "<!-- A **linear model** for $Y$ is defined by the equation -->"
      ],
      "id": "b29a70db-999e-47e9-9ce4-d115dce89997"
    },
    {
      "cell_type": "raw",
      "metadata": {
        "raw_mimetype": "text/html"
      },
      "source": [
        "<!-- \\[ -->"
      ],
      "id": "35d096fe-a76a-4261-8ad3-1cb128dd4f5f"
    },
    {
      "cell_type": "raw",
      "metadata": {
        "raw_mimetype": "text/html"
      },
      "source": [
        "<!-- \\begin{aligned} -->"
      ],
      "id": "7c679fba-be63-4534-9299-912f48ed17ac"
    },
    {
      "cell_type": "raw",
      "metadata": {
        "raw_mimetype": "text/html"
      },
      "source": [
        "<!-- Y &= \\beta_0 + \\beta_1 X_1 + \\beta_2 X_2 + \\cdots + \\beta_{p-1} -->"
      ],
      "id": "1e19b79e-d262-493c-ba08-3a6d253613bf"
    },
    {
      "cell_type": "raw",
      "metadata": {
        "raw_mimetype": "text/html"
      },
      "source": [
        "<!-- X_{p-1} + \\epsilon \\\\ -->"
      ],
      "id": "fa45a787-6b25-4b98-9832-bad38301b0f2"
    },
    {
      "cell_type": "raw",
      "metadata": {
        "raw_mimetype": "text/html"
      },
      "source": [
        "<!-- &= E(Y \\mid \\mathbb{X}) + \\epsilon. -->"
      ],
      "id": "2a9588d2-f972-4918-9223-0546b5e2497b"
    },
    {
      "cell_type": "raw",
      "metadata": {
        "raw_mimetype": "text/html"
      },
      "source": [
        "<!-- \\end{aligned} -->"
      ],
      "id": "d79c6258-ee21-4842-af71-e3d6e6ec8646"
    },
    {
      "cell_type": "raw",
      "metadata": {
        "raw_mimetype": "text/html"
      },
      "source": [
        "<!-- (\\#eq:lmdef) -->"
      ],
      "id": "944beabb-bd05-4336-b0d4-ce5d89d3f5a3"
    },
    {
      "cell_type": "raw",
      "metadata": {
        "raw_mimetype": "text/html"
      },
      "source": [
        "<!-- \\] -->"
      ],
      "id": "9aa0fb9b-bc35-4426-bd0e-9577d30b40cd"
    },
    {
      "cell_type": "raw",
      "metadata": {
        "raw_mimetype": "text/html"
      },
      "source": [
        "<!-- We write the linear model in this way to emphasize the fact *the response value equals the expected response for that combination of regressor values plus some error*. It should be clear from comparing Equation \\@ref(eq:lmdef) with the previous line that -->"
      ],
      "id": "0722b06f-bda3-443f-b211-cfca41415830"
    },
    {
      "cell_type": "raw",
      "metadata": {
        "raw_mimetype": "text/html"
      },
      "source": [
        "<!-- \\[ -->"
      ],
      "id": "edb7b83a-7186-4f8a-8d04-5b12cf9681ff"
    },
    {
      "cell_type": "raw",
      "metadata": {
        "raw_mimetype": "text/html"
      },
      "source": [
        "<!-- E(Y \\mid \\mathbb{X}) = \\beta_0 + \\beta_1 X_1 + \\beta_2 X_2 + \\cdots + \\beta_{p-1} X_{p-1}, -->"
      ],
      "id": "172f7e4b-0dbe-414c-8619-20d6f1b7c012"
    },
    {
      "cell_type": "raw",
      "metadata": {
        "raw_mimetype": "text/html"
      },
      "source": [
        "<!-- \\] -->"
      ],
      "id": "daec9e8c-3bbd-4225-bad1-a69d50583f21"
    },
    {
      "cell_type": "raw",
      "metadata": {
        "raw_mimetype": "text/html"
      },
      "source": [
        "<!-- --- -->"
      ],
      "id": "635c37ec-d2df-4558-a39d-16405c4b9156"
    },
    {
      "cell_type": "raw",
      "metadata": {
        "raw_mimetype": "text/html"
      },
      "source": [
        "<!-- More generally, one can say that a regression model is linear if the mean function can be written as a linear combination of the regression coefficients and known values created from our regressor variables, i.e., -->"
      ],
      "id": "c19cd64d-eb36-4aa7-8b26-ce7495535201"
    },
    {
      "cell_type": "raw",
      "metadata": {
        "raw_mimetype": "text/html"
      },
      "source": [
        "<!-- \\[ -->"
      ],
      "id": "0e6613cb-0ea9-4fef-9979-7f9b1864404c"
    },
    {
      "cell_type": "raw",
      "metadata": {
        "raw_mimetype": "text/html"
      },
      "source": [
        "<!-- E(Y \\mid \\mathbb{X}) = \\sum_{j=0}^{p-1} c_j \\beta_j, (\\#eq:lmdef-cj) -->"
      ],
      "id": "d17e7a20-c7c5-4982-9323-4513b776c317"
    },
    {
      "cell_type": "raw",
      "metadata": {
        "raw_mimetype": "text/html"
      },
      "source": [
        "<!-- \\] -->"
      ],
      "id": "98714da1-3f30-48cf-9af4-b32faa26290a"
    },
    {
      "cell_type": "raw",
      "metadata": {
        "raw_mimetype": "text/html"
      },
      "source": [
        "<!-- where $c_0, c_1, \\ldots, c_{p-1}$ are known functions of -->"
      ],
      "id": "6dd7fa25-3ec5-4dcf-91ea-43d00aa1a020"
    },
    {
      "cell_type": "raw",
      "metadata": {
        "raw_mimetype": "text/html"
      },
      "source": [
        "<!-- the regressor variables, e.g., $c_1 = X_1 X_2 X_3$, $c_3 = X_2^2$, -->"
      ],
      "id": "9a187da4-cc98-403b-b495-3adfeebce2b4"
    },
    {
      "cell_type": "raw",
      "metadata": {
        "raw_mimetype": "text/html"
      },
      "source": [
        "<!-- $c_8 = \\ln(X_1)/X_2^2$, etc. Thus, if $g_0,\\ldots,g_{p-1}$ are functions of $\\mathbb{X}$, then we can say that the regression model is linear if -->"
      ],
      "id": "b0a7a9bd-16ee-49b7-b20e-f1e9cf381abb"
    },
    {
      "cell_type": "raw",
      "metadata": {
        "raw_mimetype": "text/html"
      },
      "source": [
        "<!-- it can be written as -->"
      ],
      "id": "7b8afcdb-5449-48f0-afd9-b9eafba6ec72"
    },
    {
      "cell_type": "raw",
      "metadata": {
        "raw_mimetype": "text/html"
      },
      "source": [
        "<!-- \\[ -->"
      ],
      "id": "da2f3b35-01b2-4624-b881-8fef4be8a4db"
    },
    {
      "cell_type": "raw",
      "metadata": {
        "raw_mimetype": "text/html"
      },
      "source": [
        "<!-- E(Y\\mid \\mathbb{X}) = \\sum_{j=0}^{p-1} g_j(\\mathbb{X})\\beta_j. -->"
      ],
      "id": "5ccd9c12-7f7c-4148-8900-af059649a154"
    },
    {
      "cell_type": "raw",
      "metadata": {
        "raw_mimetype": "text/html"
      },
      "source": [
        "<!-- \\] -->"
      ],
      "id": "44c71cf2-453e-436e-b32b-8adae9292e4c"
    },
    {
      "cell_type": "raw",
      "metadata": {
        "raw_mimetype": "text/html"
      },
      "source": [
        "<!-- --- -->"
      ],
      "id": "ad4a9def-d31e-4366-99f5-b36ba18ea8b7"
    },
    {
      "cell_type": "raw",
      "metadata": {
        "raw_mimetype": "text/html"
      },
      "source": [
        "<!-- A model is linear because of its *form*, not the shape it produces. Many of the linear model examples given below do not result in a straight line or surface, but are curved. Some examples of linear regression models are: -->"
      ],
      "id": "dbd7aa2b-9f9b-4050-955e-27d0b7dd4f37"
    },
    {
      "cell_type": "raw",
      "metadata": {
        "raw_mimetype": "text/html"
      },
      "source": [
        "<!-- -   $E(Y|X) = \\beta_0$. -->"
      ],
      "id": "8f6ea082-4e6b-405f-9f9a-9fc0f17b1e5c"
    },
    {
      "cell_type": "raw",
      "metadata": {
        "raw_mimetype": "text/html"
      },
      "source": [
        "<!-- -   $E(Y|X) = \\beta_0 + +\\beta_1 X + \\beta_2 X^2$. -->"
      ],
      "id": "b9c7cf1f-4b73-46c4-a842-7bd5c9153439"
    },
    {
      "cell_type": "raw",
      "metadata": {
        "raw_mimetype": "text/html"
      },
      "source": [
        "<!-- -   $E(Y|X_1, X_2) = \\beta_0 + \\beta_1 X_1 + \\beta_2 X_2$. -->"
      ],
      "id": "757796e9-e223-43fe-aeea-dc2d5bd47dde"
    },
    {
      "cell_type": "raw",
      "metadata": {
        "raw_mimetype": "text/html"
      },
      "source": [
        "<!-- -   $E(Y|X_1, X_2) = \\beta_0 + \\beta_1 X_1 + \\beta_2 X_2 + \\beta_3 X_1 X_2$. -->"
      ],
      "id": "5460f572-0926-403c-b4e5-2fa51a34e303"
    },
    {
      "cell_type": "raw",
      "metadata": {
        "raw_mimetype": "text/html"
      },
      "source": [
        "<!-- -   $E(Y|X_1, X_2) = \\beta_0 + \\beta_1 \\ln(X_1) + \\beta_2 X_2^{-1}$. -->"
      ],
      "id": "69fb4627-390e-4247-a7ed-720008462086"
    },
    {
      "cell_type": "raw",
      "metadata": {
        "raw_mimetype": "text/html"
      },
      "source": [
        "<!-- -   $E(\\ln(Y)|X_1, X_2) = \\beta_0 + \\beta_1 X_1 + \\beta_2 X_2$. -->"
      ],
      "id": "3e2abd43-f2ba-4c56-a579-63ba4ab44fa1"
    },
    {
      "cell_type": "raw",
      "metadata": {
        "raw_mimetype": "text/html"
      },
      "source": [
        "<!-- -   $E(Y^{-1}|X_1, X_2) = \\beta_0 + \\beta_1 X_1 + \\beta_2 X_2$. -->"
      ],
      "id": "261c94b2-23c8-48cc-b095-f9978f8750a9"
    },
    {
      "cell_type": "raw",
      "metadata": {
        "raw_mimetype": "text/html"
      },
      "source": [
        "<!-- Some examples of non-linear regression models are: -->"
      ],
      "id": "87644755-e3ae-46de-bb27-5c28f7b0a9e7"
    },
    {
      "cell_type": "raw",
      "metadata": {
        "raw_mimetype": "text/html"
      },
      "source": [
        "<!-- -   $E(Y|X) = \\beta_0 + e^{\\beta_1 X}$. -->"
      ],
      "id": "d46eee81-0606-461b-89f4-5c58053fbfc2"
    },
    {
      "cell_type": "raw",
      "metadata": {
        "raw_mimetype": "text/html"
      },
      "source": [
        "<!-- -   $E(Y|X) = \\beta_0 + \\beta_1 X/(\\beta_2 + X)$. -->"
      ],
      "id": "d7e8d417-205c-4be5-8ea9-af1385cb2cec"
    },
    {
      "cell_type": "raw",
      "metadata": {
        "raw_mimetype": "text/html"
      },
      "source": [
        "<!-- The latter regression models are non-linear models because there is no way to express them using the expression in Equation \\@ref(eq:lmdef-cj). -->"
      ],
      "id": "ff1451be-7c54-475c-9fc8-bc838afba41f"
    },
    {
      "cell_type": "raw",
      "metadata": {
        "raw_mimetype": "text/html"
      },
      "source": [
        "<!-- # Estimation of the multiple linear regression model -->"
      ],
      "id": "f8a3b39f-69fc-486a-864b-e99d2d423e1a"
    },
    {
      "cell_type": "raw",
      "metadata": {
        "raw_mimetype": "text/html"
      },
      "source": [
        "<!-- Suppose we want to estimate the parameters of a linear model with 1 or more regressors, i.e., when we use the model -->"
      ],
      "id": "530db75f-4f35-4b8a-afde-421b2ac8cb21"
    },
    {
      "cell_type": "raw",
      "metadata": {
        "raw_mimetype": "text/html"
      },
      "source": [
        "<!-- \\[ -->"
      ],
      "id": "5b511fa7-3e08-47ff-920d-639550a838fb"
    },
    {
      "cell_type": "raw",
      "metadata": {
        "raw_mimetype": "text/html"
      },
      "source": [
        "<!-- Y=\\beta_0 + \\beta_1 X_1 + \\cdots + \\beta_{p-1} X_{p-1} + \\epsilon. -->"
      ],
      "id": "34de79e5-f9b1-4a85-a269-6756bf36f8e3"
    },
    {
      "cell_type": "raw",
      "metadata": {
        "raw_mimetype": "text/html"
      },
      "source": [
        "<!-- \\] -->"
      ],
      "id": "8d036da0-8857-4371-962b-e8d9ba1c35a5"
    },
    {
      "cell_type": "raw",
      "metadata": {
        "raw_mimetype": "text/html"
      },
      "source": [
        "<!-- The system of equations relating the responses, the regressors, and the errors for all $n$ observations can be written as -->"
      ],
      "id": "eb06f4de-1fc8-4a40-9ccf-b75e8672a8a6"
    },
    {
      "cell_type": "raw",
      "metadata": {
        "raw_mimetype": "text/html"
      },
      "source": [
        "<!-- \\[ -->"
      ],
      "id": "182c26fb-907e-452e-a760-d438c387dac5"
    },
    {
      "cell_type": "raw",
      "metadata": {
        "raw_mimetype": "text/html"
      },
      "source": [
        "<!-- Y_i = \\beta_0 + \\beta_1 x_{i,1} + \\beta_2 x_{i,2} + \\cdots + \\beta_{p-1} x_{i,p-1} + \\epsilon_i,\\quad i=1,2,\\ldots,n. -->"
      ],
      "id": "df1875e1-f3d6-4750-8df4-581268e13f89"
    },
    {
      "cell_type": "raw",
      "metadata": {
        "raw_mimetype": "text/html"
      },
      "source": [
        "<!-- (\\#eq:lmSystem) -->"
      ],
      "id": "357e91ef-6628-4e40-8e3b-27a364fe9602"
    },
    {
      "cell_type": "raw",
      "metadata": {
        "raw_mimetype": "text/html"
      },
      "source": [
        "<!-- \\] -->"
      ],
      "id": "f12cab1b-4c6b-409d-a3be-103ee3ee975b"
    },
    {
      "cell_type": "raw",
      "metadata": {
        "raw_mimetype": "text/html"
      },
      "source": [
        "<!-- ## Using matrix notation to represent a linear model -->"
      ],
      "id": "475fbdea-86c0-4a08-9abe-71e470475886"
    },
    {
      "cell_type": "raw",
      "metadata": {
        "raw_mimetype": "text/html"
      },
      "source": [
        "<!-- We can simplify the linear model described in Equation \\@ref(eq:lmSystem) using matrix notation. It may be useful to refer to Appendix \\@ref(overview-of-matrix-facts) for a brief overview of matrix-related information. -->"
      ],
      "id": "d33ac601-9ead-4ef4-a36a-758e29bbf72d"
    },
    {
      "cell_type": "raw",
      "metadata": {
        "raw_mimetype": "text/html"
      },
      "source": [
        "<!-- We use the following notation: -->"
      ],
      "id": "fc7b3a76-1978-4091-8622-91db7a510587"
    },
    {
      "cell_type": "raw",
      "metadata": {
        "raw_mimetype": "text/html"
      },
      "source": [
        "<!-- -   $\\mathbf{y} = [Y_1, Y_2, \\ldots, Y_n]$ denotes the column vector containing the $n$ observed response values. -->"
      ],
      "id": "ca1cd319-ffd4-4dba-b0e1-3340c13cb7b6"
    },
    {
      "cell_type": "raw",
      "metadata": {
        "raw_mimetype": "text/html"
      },
      "source": [
        "<!-- -   $\\mathbf{X}$ denotes the matrix containing a column of 1s and the observed regressor values for $X_1, X_2, \\ldots, X_{p-1}$. This may be written as -->"
      ],
      "id": "27c2b132-cac6-4783-9768-6a12fa9a7869"
    },
    {
      "cell_type": "raw",
      "metadata": {
        "raw_mimetype": "text/html"
      },
      "source": [
        "<!--     \\[\\mathbf{X} = \\begin{bmatrix} -->"
      ],
      "id": "b64d2770-ec12-4f14-bd57-ad0c381a47be"
    },
    {
      "cell_type": "raw",
      "metadata": {
        "raw_mimetype": "text/html"
      },
      "source": [
        "<!--     1 & x_{1,1} & x_{1,2} & \\cdots & x_{1,p-1} \\\\ -->"
      ],
      "id": "fdfca530-bea6-49ea-91d1-cc2e45d12197"
    },
    {
      "cell_type": "raw",
      "metadata": {
        "raw_mimetype": "text/html"
      },
      "source": [
        "<!--     1 & x_{2,1} & x_{2,2} & \\cdots & x_{2,p-1} \\\\ -->"
      ],
      "id": "8458ce69-2e5c-4421-a7d4-bce987afedcb"
    },
    {
      "cell_type": "raw",
      "metadata": {
        "raw_mimetype": "text/html"
      },
      "source": [
        "<!--     \\vdots & \\vdots & \\vdots & \\vdots & \\vdots \\\\ -->"
      ],
      "id": "f907e107-7581-450e-855a-4c03ee17a572"
    },
    {
      "cell_type": "raw",
      "metadata": {
        "raw_mimetype": "text/html"
      },
      "source": [
        "<!--     1 & x_{n,1} & x_{n,2} & \\cdots & x_{n,p-1} -->"
      ],
      "id": "1d4cfa92-c5be-459e-9ab8-0a8f4a15ab51"
    },
    {
      "cell_type": "raw",
      "metadata": {
        "raw_mimetype": "text/html"
      },
      "source": [
        "<!--     \\end{bmatrix}.\\] -->"
      ],
      "id": "20288cd5-fe9e-426d-9bba-376b0f037f7e"
    },
    {
      "cell_type": "raw",
      "metadata": {
        "raw_mimetype": "text/html"
      },
      "source": [
        "<!-- -   $\\boldsymbol{\\beta} = [\\beta_0, \\beta_1, \\ldots, \\beta_{p-1}]$ denotes the column vector containing the $p$ regression coefficients. -->"
      ],
      "id": "f169fbc4-bd1e-4fd4-b285-2cc122eddf9a"
    },
    {
      "cell_type": "raw",
      "metadata": {
        "raw_mimetype": "text/html"
      },
      "source": [
        "<!-- -   $\\boldsymbol{\\epsilon} = [\\epsilon_1, \\epsilon_2, \\ldots, \\epsilon_n]$ denotes the column vector contained the $n$ errors. -->"
      ],
      "id": "3633ac11-92e6-4a3b-84b8-ab83eaea9a0e"
    },
    {
      "cell_type": "raw",
      "metadata": {
        "raw_mimetype": "text/html"
      },
      "source": [
        "<!-- --- -->"
      ],
      "id": "d40b8368-9d94-4139-859c-14d17709fe9f"
    },
    {
      "cell_type": "raw",
      "metadata": {
        "raw_mimetype": "text/html"
      },
      "source": [
        "<!-- The system of equations defining the linear model in Equation \\@ref(eq:lmSystem) can be written as -->"
      ],
      "id": "0f90071e-42b6-4a80-a408-42524d94fa0f"
    },
    {
      "cell_type": "raw",
      "metadata": {
        "raw_mimetype": "text/html"
      },
      "source": [
        "<!-- \\[ -->"
      ],
      "id": "28b22c94-a270-4668-853d-cc8500706c48"
    },
    {
      "cell_type": "raw",
      "metadata": {
        "raw_mimetype": "text/html"
      },
      "source": [
        "<!-- \\mathbf{y} = \\mathbf{X}\\boldsymbol{\\beta} + \\boldsymbol{\\epsilon}. -->"
      ],
      "id": "7eb57762-0ced-4a92-a0aa-f86122037a79"
    },
    {
      "cell_type": "raw",
      "metadata": {
        "raw_mimetype": "text/html"
      },
      "source": [
        "<!-- \\] -->"
      ],
      "id": "6c0aef74-9508-4ceb-a66c-091bcfa166cb"
    },
    {
      "cell_type": "raw",
      "metadata": {
        "raw_mimetype": "text/html"
      },
      "source": [
        "<!-- Thus, matrix notation can be used to represent a system of linear equations. A model that cannot be represented as a system of linear equations using matrices is not a linear model. -->"
      ],
      "id": "49773e97-17e6-4a4e-a8d5-a70006cc8a39"
    },
    {
      "cell_type": "raw",
      "metadata": {
        "raw_mimetype": "text/html"
      },
      "source": [
        "<!-- ## Residuals, fitted values, and RSS for multiple linear regression  -->"
      ],
      "id": "29c4473c-0cc7-4adc-be5e-143ad0330339"
    },
    {
      "cell_type": "raw",
      "metadata": {
        "raw_mimetype": "text/html"
      },
      "source": [
        "<!-- We now discuss of residuals, fitted values, and RSS for the multiple linear regression context using matrix notation. -->"
      ],
      "id": "ac7edcbd-160f-483f-af4f-0562eded40a1"
    },
    {
      "cell_type": "raw",
      "metadata": {
        "raw_mimetype": "text/html"
      },
      "source": [
        "<!-- The vector of estimated values for the coefficients contained in $\\boldsymbol{\\beta}$ is denoted -->"
      ],
      "id": "3819bf51-b9ab-45a6-9389-2b079ec3d94c"
    },
    {
      "cell_type": "raw",
      "metadata": {
        "raw_mimetype": "text/html"
      },
      "source": [
        "<!-- \\[ -->"
      ],
      "id": "acd42930-ea29-4bba-9e9b-cc626b155349"
    },
    {
      "cell_type": "raw",
      "metadata": {
        "raw_mimetype": "text/html"
      },
      "source": [
        "<!-- \\hat{\\boldsymbol{\\beta}}=[\\hat{\\beta}_0,\\hat{\\beta}_1,\\ldots,\\hat{\\beta}_{p-1}]. (\\#eq:def-beta-matrix) -->"
      ],
      "id": "ceb49141-2a3a-4f0d-9a88-bac5841bdc9f"
    },
    {
      "cell_type": "raw",
      "metadata": {
        "raw_mimetype": "text/html"
      },
      "source": [
        "<!-- \\] -->"
      ],
      "id": "1a656183-9239-4db0-b14f-545520c19cb6"
    },
    {
      "cell_type": "raw",
      "metadata": {
        "raw_mimetype": "text/html"
      },
      "source": [
        "<!-- The vector of regressor values for the $i$th observation is denoted -->"
      ],
      "id": "34608d60-8ac1-45ba-babe-890b144cbe50"
    },
    {
      "cell_type": "raw",
      "metadata": {
        "raw_mimetype": "text/html"
      },
      "source": [
        "<!-- \\[ -->"
      ],
      "id": "66817d05-530e-41d1-95fa-e9db19fdf886"
    },
    {
      "cell_type": "raw",
      "metadata": {
        "raw_mimetype": "text/html"
      },
      "source": [
        "<!-- \\mathbf{x}_i=[1,x_{i,1},\\ldots,x_{i,p-1}], (\\#eq:def-ith-regressor-matrix) -->"
      ],
      "id": "a1ef8734-5d1d-4fa4-b88d-8145e7204b83"
    },
    {
      "cell_type": "raw",
      "metadata": {
        "raw_mimetype": "text/html"
      },
      "source": [
        "<!-- \\] -->"
      ],
      "id": "1f55bad0-c3df-4047-ad2e-7161d298d94e"
    },
    {
      "cell_type": "raw",
      "metadata": {
        "raw_mimetype": "text/html"
      },
      "source": [
        "<!-- * **Question:** Why do we include a vector of $1$'s? -->"
      ],
      "id": "9656b95c-7b68-4c41-8d8f-6a80f9ba8fa0"
    },
    {
      "cell_type": "raw",
      "metadata": {
        "raw_mimetype": "text/html"
      },
      "source": [
        "<!-- --- -->"
      ],
      "id": "6d96e428-82dc-493e-bf76-d0c17795fc46"
    },
    {
      "cell_type": "raw",
      "metadata": {
        "raw_mimetype": "text/html"
      },
      "source": [
        "<!-- Extending the original definition of a fitted value in Equation \\@ref(eq:def-fitted-value-slr), the $i$th **fitted value** in the context of multiple linear regression is defined as -->"
      ],
      "id": "12496868-a2da-4f06-958b-58fe2504406e"
    },
    {
      "cell_type": "raw",
      "metadata": {
        "raw_mimetype": "text/html"
      },
      "source": [
        "<!-- \\[ -->"
      ],
      "id": "ac4936f8-8d41-4da5-b946-0d6588b95f75"
    },
    {
      "cell_type": "raw",
      "metadata": {
        "raw_mimetype": "text/html"
      },
      "source": [
        "<!-- \\begin{aligned} -->"
      ],
      "id": "ef738991-2f5b-47bc-8b66-dac9700473df"
    },
    {
      "cell_type": "raw",
      "metadata": {
        "raw_mimetype": "text/html"
      },
      "source": [
        "<!-- \\hat{Y}_i &= \\hat{E}(Y \\mid \\mathbb{X} = \\mathbf{x}_i) \\\\ -->"
      ],
      "id": "4db40bfb-c11e-46e5-929c-f9c54ae15bdf"
    },
    {
      "cell_type": "raw",
      "metadata": {
        "raw_mimetype": "text/html"
      },
      "source": [
        "<!-- &= \\hat{\\beta}_0 + \\hat{\\beta}_1 x_{i,1} + \\cdots + \\hat{\\beta}_{p-1} x_{i,p-1} \\\\ -->"
      ],
      "id": "ce580bb5-24cc-4fd3-b9de-ade18014858e"
    },
    {
      "cell_type": "raw",
      "metadata": {
        "raw_mimetype": "text/html"
      },
      "source": [
        "<!-- &= \\mathbf{x}_i^T\\hat{\\boldsymbol{\\beta}}. -->"
      ],
      "id": "ee92ddf0-7514-4096-bf9a-1ea2ddb6221f"
    },
    {
      "cell_type": "raw",
      "metadata": {
        "raw_mimetype": "text/html"
      },
      "source": [
        "<!-- \\end{aligned} -->"
      ],
      "id": "e24ca978-993c-44ba-a24a-46ec51079993"
    },
    {
      "cell_type": "raw",
      "metadata": {
        "raw_mimetype": "text/html"
      },
      "source": [
        "<!-- (\\#eq:def-fitted-value-matrix) -->"
      ],
      "id": "241f2f8e-da7c-497c-8741-014e3e8fac76"
    },
    {
      "cell_type": "raw",
      "metadata": {
        "raw_mimetype": "text/html"
      },
      "source": [
        "<!-- \\] -->"
      ],
      "id": "9f86be57-5ba6-4422-8260-3ea3e21df2a1"
    },
    {
      "cell_type": "raw",
      "metadata": {
        "raw_mimetype": "text/html"
      },
      "source": [
        "<!-- The notation \"$\\mathbb{X} = \\mathbf{x}_i$\" is a concise way of saying \"$X_0 = 1, X_1=x_{i,1}, \\ldots, X_{p-1}=x_{i,p-1}$\". -->"
      ],
      "id": "305603cc-9d96-4481-9fff-7220b1196584"
    },
    {
      "cell_type": "raw",
      "metadata": {
        "raw_mimetype": "text/html"
      },
      "source": [
        "<!-- The column vector of fitted values is defined as -->"
      ],
      "id": "ffd8538b-346a-4b75-8df3-613fbdfae93a"
    },
    {
      "cell_type": "raw",
      "metadata": {
        "raw_mimetype": "text/html"
      },
      "source": [
        "<!-- \\[ -->"
      ],
      "id": "d70804b6-f139-4ba8-83f8-b9efc1766193"
    },
    {
      "cell_type": "raw",
      "metadata": {
        "raw_mimetype": "text/html"
      },
      "source": [
        "<!-- \\hat{\\mathbf{y}} = [\\hat{Y}_1,\\ldots,\\hat{Y}_n], (\\#eq:def-fitted-values-matrix) -->"
      ],
      "id": "60d9b040-6dd7-4dbb-bf8f-de892212414d"
    },
    {
      "cell_type": "raw",
      "metadata": {
        "raw_mimetype": "text/html"
      },
      "source": [
        "<!-- \\] -->"
      ],
      "id": "75fa14af-6fb0-46b9-a18d-b284bf02ae8c"
    },
    {
      "cell_type": "raw",
      "metadata": {
        "raw_mimetype": "text/html"
      },
      "source": [
        "<!-- and can be computed as -->"
      ],
      "id": "ce2c29c1-c73a-4443-93f9-de0b2192a055"
    },
    {
      "cell_type": "raw",
      "metadata": {
        "raw_mimetype": "text/html"
      },
      "source": [
        "<!-- \\[ -->"
      ],
      "id": "70bf487d-a677-4049-9a0f-81692c79e6ce"
    },
    {
      "cell_type": "raw",
      "metadata": {
        "raw_mimetype": "text/html"
      },
      "source": [
        "<!-- \\hat{\\mathbf{y}} = \\mathbf{X}\\hat{\\boldsymbol{\\beta}}. (\\#eq:compute-yhat) -->"
      ],
      "id": "2381621f-04f6-4444-a9e7-a3d255023655"
    },
    {
      "cell_type": "raw",
      "metadata": {
        "raw_mimetype": "text/html"
      },
      "source": [
        "<!-- \\] -->"
      ],
      "id": "9b59a0b6-a628-4569-a587-f6adce3c08d0"
    },
    {
      "cell_type": "raw",
      "metadata": {
        "raw_mimetype": "text/html"
      },
      "source": [
        "<!-- --- -->"
      ],
      "id": "3438ec9c-3dde-4ec6-877f-452688a58e98"
    },
    {
      "cell_type": "raw",
      "metadata": {
        "raw_mimetype": "text/html"
      },
      "source": [
        "<!-- Extending the original definition of a residual in Equation \\@ref(eq:def-residual-slr), -->"
      ],
      "id": "c7729cd5-a1dc-4e8f-9619-e2b26eaf8294"
    },
    {
      "cell_type": "raw",
      "metadata": {
        "raw_mimetype": "text/html"
      },
      "source": [
        "<!-- the $i$th **residual** in the context of multiple linear regression can be written as -->"
      ],
      "id": "f8dba22f-14ce-407d-a60f-c5de6fc6848b"
    },
    {
      "cell_type": "raw",
      "metadata": {
        "raw_mimetype": "text/html"
      },
      "source": [
        "<!-- \\[ -->"
      ],
      "id": "d7a95f59-4b37-44f1-a10f-3481b2e10a02"
    },
    {
      "cell_type": "raw",
      "metadata": {
        "raw_mimetype": "text/html"
      },
      "source": [
        "<!-- \\begin{aligned} -->"
      ],
      "id": "6e3784bc-ee9a-4d30-b889-510d0b791eba"
    },
    {
      "cell_type": "raw",
      "metadata": {
        "raw_mimetype": "text/html"
      },
      "source": [
        "<!-- \\hat{\\epsilon}_i = Y_i - \\hat{Y}_i=Y_i-\\mathbf{x}_i^T\\hat{\\boldsymbol{\\beta}}, -->"
      ],
      "id": "cfaf1eb2-b0be-4b7e-86bb-ce1c6ec7fb9e"
    },
    {
      "cell_type": "raw",
      "metadata": {
        "raw_mimetype": "text/html"
      },
      "source": [
        "<!-- \\end{aligned} -->"
      ],
      "id": "ffaf7195-bc8a-4a18-95c3-8e8991a3c3e3"
    },
    {
      "cell_type": "raw",
      "metadata": {
        "raw_mimetype": "text/html"
      },
      "source": [
        "<!-- \\] -->"
      ],
      "id": "6e6ec144-4473-4fe8-ad76-9f8f2279bf9a"
    },
    {
      "cell_type": "raw",
      "metadata": {
        "raw_mimetype": "text/html"
      },
      "source": [
        "<!-- using Equation \\@ref(eq:def-fitted-value-matrix). -->"
      ],
      "id": "64c08649-ab33-4b83-94a1-88264c4b6162"
    },
    {
      "cell_type": "raw",
      "metadata": {
        "raw_mimetype": "text/html"
      },
      "source": [
        "<!-- The column vector of residuals is defined as -->"
      ],
      "id": "054b541c-8ac5-4976-bc02-7ef0f48e9c98"
    },
    {
      "cell_type": "raw",
      "metadata": {
        "raw_mimetype": "text/html"
      },
      "source": [
        "<!-- \\[ -->"
      ],
      "id": "0dff52dc-dcb0-4fb9-b503-0100645c0387"
    },
    {
      "cell_type": "raw",
      "metadata": {
        "raw_mimetype": "text/html"
      },
      "source": [
        "<!-- \\hat{\\boldsymbol{\\epsilon}} = [\\hat{\\epsilon}_1,\\ldots,\\hat{\\epsilon}_n]. (\\#eq:def-residuals-matrix) -->"
      ],
      "id": "a116d0cb-9156-4fae-be89-0a7d84771c07"
    },
    {
      "cell_type": "raw",
      "metadata": {
        "raw_mimetype": "text/html"
      },
      "source": [
        "<!-- \\] -->"
      ],
      "id": "f0db391c-82bd-481d-95ee-60c3d3804bc8"
    },
    {
      "cell_type": "raw",
      "metadata": {
        "raw_mimetype": "text/html"
      },
      "source": [
        "<!-- Using Equations \\@ref(eq:def-fitted-values-matrix) and \\@ref(eq:compute-yhat), equivalent expressions for the residual vector are -->"
      ],
      "id": "8862543b-d47c-4e6c-805d-dcbaab847b66"
    },
    {
      "cell_type": "raw",
      "metadata": {
        "raw_mimetype": "text/html"
      },
      "source": [
        "<!-- \\[ -->"
      ],
      "id": "47b97cb3-e5ea-43ad-8ced-f80391e83454"
    },
    {
      "cell_type": "raw",
      "metadata": {
        "raw_mimetype": "text/html"
      },
      "source": [
        "<!-- \\hat{\\boldsymbol{\\epsilon}}=\\mathbf{y}-\\hat{\\mathbf{y}}=\\mathbf{y}-\\mathbf{X}\\hat{\\boldsymbol{\\beta}}.(\\#eq:epsilonhat-expressions) -->"
      ],
      "id": "32b4a701-bf99-4b19-a0a4-99137e4efa0b"
    },
    {
      "cell_type": "raw",
      "metadata": {
        "raw_mimetype": "text/html"
      },
      "source": [
        "<!-- \\] -->"
      ],
      "id": "f59b2c10-b9be-44eb-9799-a4789b72e2cf"
    },
    {
      "cell_type": "raw",
      "metadata": {
        "raw_mimetype": "text/html"
      },
      "source": [
        "<!-- --- -->"
      ],
      "id": "ce83587c-41b2-4db1-88e0-e5c4b8f51974"
    },
    {
      "cell_type": "raw",
      "metadata": {
        "raw_mimetype": "text/html"
      },
      "source": [
        "<!-- The RSS for a multiple linear regression model, as a function of the estimated regression coefficients, is -->"
      ],
      "id": "061c6803-7f34-4d6d-a200-f1b8466ceae7"
    },
    {
      "cell_type": "raw",
      "metadata": {
        "raw_mimetype": "text/html"
      },
      "source": [
        "<!-- \\[ -->"
      ],
      "id": "4df2cd46-bf31-4057-a9a6-0918dcef3e09"
    },
    {
      "cell_type": "raw",
      "metadata": {
        "raw_mimetype": "text/html"
      },
      "source": [
        "<!-- \\begin{aligned} -->"
      ],
      "id": "9e36d0c0-47f8-4d4e-8eba-d8a5f5bed4dd"
    },
    {
      "cell_type": "raw",
      "metadata": {
        "raw_mimetype": "text/html"
      },
      "source": [
        "<!-- RSS(\\hat{\\boldsymbol{\\beta}}) &= \\sum_{i=1}^n \\hat{\\epsilon}_i^2 \\\\ -->"
      ],
      "id": "49bf9d76-e8ba-4f68-ba01-e9ecd2a09ccc"
    },
    {
      "cell_type": "raw",
      "metadata": {
        "raw_mimetype": "text/html"
      },
      "source": [
        "<!-- &= \\hat{\\boldsymbol{\\epsilon}}^T \\hat{\\boldsymbol{\\epsilon}} \\\\ -->"
      ],
      "id": "a6a47acc-f9e6-4586-b1e4-36b3eb2e1510"
    },
    {
      "cell_type": "raw",
      "metadata": {
        "raw_mimetype": "text/html"
      },
      "source": [
        "<!-- &= (\\mathbf{y} - \\hat{\\mathbf{y}})^T (\\mathbf{y} - \\hat{\\mathbf{y}}) \\\\ -->"
      ],
      "id": "7002e641-b418-4bac-bd94-91e7dba3f97e"
    },
    {
      "cell_type": "raw",
      "metadata": {
        "raw_mimetype": "text/html"
      },
      "source": [
        "<!-- & = (\\mathbf{y} - \\mathbf{X}\\hat{\\boldsymbol{\\beta}})^T (\\mathbf{y} - \\hat{\\boldsymbol{\\beta}}). -->"
      ],
      "id": "4070262f-a9b6-4a91-9913-f299ebd9aed0"
    },
    {
      "cell_type": "raw",
      "metadata": {
        "raw_mimetype": "text/html"
      },
      "source": [
        "<!-- \\end{aligned} (\\#eq:def-rss-matrix) -->"
      ],
      "id": "e838f1a7-3aad-4e9f-844e-f4d5ac9e824b"
    },
    {
      "cell_type": "raw",
      "metadata": {
        "raw_mimetype": "text/html"
      },
      "source": [
        "<!-- \\] -->"
      ],
      "id": "43cb07aa-1ba4-467f-bf62-d4346e06e87d"
    },
    {
      "cell_type": "raw",
      "metadata": {
        "raw_mimetype": "text/html"
      },
      "source": [
        "<!-- The various expressions in Equation \\@ref(eq:def-rss-matrix) are equivalent (cf. Equation \\@ref(eq:epsilonhat-expressions)). -->"
      ],
      "id": "aa9ae640-921a-4ebe-abfc-3fb34415c176"
    },
    {
      "cell_type": "raw",
      "metadata": {
        "raw_mimetype": "text/html"
      },
      "source": [
        "<!-- ## OLS estimator of the regression coefficients -->"
      ],
      "id": "bf5f9888-9761-4ca0-8b09-e4ee4d8c1da7"
    },
    {
      "cell_type": "raw",
      "metadata": {
        "raw_mimetype": "text/html"
      },
      "source": [
        "<!-- The OLS estimator of the regression coefficient vector, $\\boldsymbol{\\beta}$, is -->"
      ],
      "id": "18a66ad4-832d-427b-a8b1-1e49e4a3e552"
    },
    {
      "cell_type": "raw",
      "metadata": {
        "raw_mimetype": "text/html"
      },
      "source": [
        "<!-- \\[ -->"
      ],
      "id": "22cc8af0-335b-4193-b40a-8f371ef1c00a"
    },
    {
      "cell_type": "raw",
      "metadata": {
        "raw_mimetype": "text/html"
      },
      "source": [
        "<!-- \\hat{\\boldsymbol{\\beta}} = (\\mathbf{X}^T\\mathbf{X})^{-1}\\mathbf{X}^T\\mathbf{y}. (\\#eq:betahat) -->"
      ],
      "id": "5a5d3be6-0ec5-4b35-8b53-0e87895f68fc"
    },
    {
      "cell_type": "raw",
      "metadata": {
        "raw_mimetype": "text/html"
      },
      "source": [
        "<!-- \\] -->"
      ],
      "id": "b6d6e984-09f8-430c-bec7-5ee223acc1fb"
    },
    {
      "cell_type": "raw",
      "metadata": {
        "raw_mimetype": "text/html"
      },
      "source": [
        "<!-- Equation \\@ref(eq:betahat) assumes that $\\mathbf{X}$ has full-rank ($n>p$ and none of the columns of $\\mathbf{X}$ are linear combinations of other columns in $\\mathbf{X}$), which is a very mild assumption.  -->"
      ],
      "id": "f498b933-2d02-4ab2-8c65-2daae5d262e6"
    },
    {
      "cell_type": "raw",
      "metadata": {
        "raw_mimetype": "text/html"
      },
      "source": [
        "<!-- --- -->"
      ],
      "id": "208f29d4-b960-4bcc-8a30-8b93f7913e97"
    },
    {
      "cell_type": "raw",
      "metadata": {
        "raw_mimetype": "text/html"
      },
      "source": [
        "<!-- The general estimator of the $\\sigma^2$ in the context of multiple linear regression is -->"
      ],
      "id": "5d0ab193-f1ce-4476-83e4-3ffed87707b0"
    },
    {
      "cell_type": "raw",
      "metadata": {
        "raw_mimetype": "text/html"
      },
      "source": [
        "<!-- \\[ -->"
      ],
      "id": "7df4e5ce-668a-4b8b-9d18-c5b7211e75f7"
    },
    {
      "cell_type": "raw",
      "metadata": {
        "raw_mimetype": "text/html"
      },
      "source": [
        "<!-- \\hat{\\sigma}^2 = \\frac{RSS}{n-p}, -->"
      ],
      "id": "48116e09-b1fc-46f3-a99e-5f768af6a24b"
    },
    {
      "cell_type": "raw",
      "metadata": {
        "raw_mimetype": "text/html"
      },
      "source": [
        "<!-- \\] -->"
      ],
      "id": "cb657d9d-21f6-448b-bb47-7b428e2003b3"
    },
    {
      "cell_type": "raw",
      "metadata": {
        "raw_mimetype": "text/html"
      },
      "source": [
        "<!-- which is consistent with the previous definition given in Equation \\@ref(eq:sigmasq-hat). -->"
      ],
      "id": "8fbb8cfa-8f98-4070-bc5c-25e5844e7131"
    },
    {
      "cell_type": "raw",
      "metadata": {
        "raw_mimetype": "text/html"
      },
      "source": [
        "<!-- # Penguins multiple linear regression example -->"
      ],
      "id": "6d4d306a-a9ca-461c-9a77-c260411a752f"
    },
    {
      "cell_type": "raw",
      "metadata": {
        "raw_mimetype": "text/html"
      },
      "source": [
        "<!-- We will fit a multiple linear regression model regressing `bill_length_mm` on `body_mass_g` and `flipper_length_mm`, and will once again do so using the `lm` function. -->"
      ],
      "id": "2050eee9-14b0-4d6c-8222-b4a5141957f7"
    },
    {
      "cell_type": "raw",
      "metadata": {
        "raw_mimetype": "text/html"
      },
      "source": [
        "<!-- Before we do that, we provide some additional discussion of the of the `formula` argument of the `lm` function. This will be very important as we discuss more complicated models. Assume `y` is the response variable and `x`, `x1`, `x2`, `x3` are available numeric predictors. Then: -->"
      ],
      "id": "e69d20e4-8174-48c9-bb09-e61231379fb6"
    },
    {
      "cell_type": "raw",
      "metadata": {
        "raw_mimetype": "text/html"
      },
      "source": [
        "<!--   -   `y ~ x` describes the simple linear regression model $E(Y|X)=\\beta_0+\\beta_1 X$. -->"
      ],
      "id": "5a0e762f-7e67-4d75-a03d-b0f7e767988c"
    },
    {
      "cell_type": "raw",
      "metadata": {
        "raw_mimetype": "text/html"
      },
      "source": [
        "<!--   -   `y ~ x1 + x2` describes the multiple linear regression model $E(Y|X_1, X_2)=\\beta_0+\\beta_1 X_1 + \\beta_2 X_2$. -->"
      ],
      "id": "baa397f3-bb03-460d-bcc9-23c267db571d"
    },
    {
      "cell_type": "raw",
      "metadata": {
        "raw_mimetype": "text/html"
      },
      "source": [
        "<!--   -   `y ~ x1 + x2 + x1:x2` and `y ~ x1 * x2` describe the multiple linear regression model -->"
      ],
      "id": "e35082c1-da80-478a-b33d-e2344f434307"
    },
    {
      "cell_type": "raw",
      "metadata": {
        "raw_mimetype": "text/html"
      },
      "source": [
        "<!--   $E(Y|X_1, X_2)=\\beta_0+\\beta_1 X_1 + \\beta_2 X_2 + \\beta_3 X_1 X_2$. -->"
      ],
      "id": "83dfcb68-a639-4a5a-b564-a942ba3767fa"
    },
    {
      "cell_type": "raw",
      "metadata": {
        "raw_mimetype": "text/html"
      },
      "source": [
        "<!--   -   `y ~ -1 + x1 + x2` describe a multiple linear regression model without an intercept, in this case, -->"
      ],
      "id": "ec31eed2-4007-4cc5-a742-45322079f57c"
    },
    {
      "cell_type": "raw",
      "metadata": {
        "raw_mimetype": "text/html"
      },
      "source": [
        "<!--   $E(Y|X_1, X_2)=\\beta_1 X_1 + \\beta_2 X_2$. The `-1` tells R not to include an intercept in the fitted model. -->"
      ],
      "id": "7ad745e7-fc8b-435a-a538-891465ca747f"
    },
    {
      "cell_type": "raw",
      "metadata": {
        "raw_mimetype": "text/html"
      },
      "source": [
        "<!--   -   `y ~ x + I(x^2)` describe the multiple linear regression model $E(Y|X)=\\beta_0+\\beta_1 X + \\beta_2 X^2$. The `I()` function is a special function that tells R to create a regressor based on the syntax inside the `()` and include that regressor in the model. -->"
      ],
      "id": "90ef9ff9-d151-44ad-9514-263447873ad3"
    },
    {
      "cell_type": "raw",
      "metadata": {
        "raw_mimetype": "text/html"
      },
      "source": [
        "<!-- --- -->"
      ],
      "id": "b7f54a51-71b3-4d33-8497-fa999ccbf232"
    },
    {
      "cell_type": "raw",
      "metadata": {
        "raw_mimetype": "text/html"
      },
      "source": [
        "<!-- In the code below, we fit the linear model regressing `bill_length_mm` on `body_mass_g` and `flipper_length_mm` and then use the `coef` and `deviance` functions to extract the estimated coefficients and RSS of the fitted model, respectively. -->"
      ],
      "id": "c47f9736-d7da-41cb-9709-701b92ee7174"
    },
    {
      "cell_type": "raw",
      "metadata": {
        "raw_mimetype": "text/html"
      },
      "source": [
        "<!-- ```{r} -->"
      ],
      "id": "ffa890b4-56eb-46a5-9ba6-96d844615c78"
    },
    {
      "cell_type": "raw",
      "metadata": {
        "raw_mimetype": "text/html"
      },
      "source": [
        "<!-- # fit model -->"
      ],
      "id": "d5d2aa94-51f9-4de2-aeb6-193d848a5392"
    },
    {
      "cell_type": "raw",
      "metadata": {
        "raw_mimetype": "text/html"
      },
      "source": [
        "<!-- mlmod <- lm(bill_length_mm ~ body_mass_g + flipper_length_mm, data = penguins) -->"
      ],
      "id": "72a89352-b779-42c6-9997-ca7ca7e911f2"
    },
    {
      "cell_type": "raw",
      "metadata": {
        "raw_mimetype": "text/html"
      },
      "source": [
        "<!-- # extract estimated coefficients -->"
      ],
      "id": "db4bdedc-c9e9-4ff0-be8b-ea99dceedad2"
    },
    {
      "cell_type": "raw",
      "metadata": {
        "raw_mimetype": "text/html"
      },
      "source": [
        "<!-- coef(mlmod) -->"
      ],
      "id": "2f4f1d98-e693-4ee5-ac17-45b928335643"
    },
    {
      "cell_type": "raw",
      "metadata": {
        "raw_mimetype": "text/html"
      },
      "source": [
        "<!-- # extract RSS -->"
      ],
      "id": "52af9f1c-e01f-431d-8690-a5b4b8e69cbf"
    },
    {
      "cell_type": "raw",
      "metadata": {
        "raw_mimetype": "text/html"
      },
      "source": [
        "<!-- deviance(mlmod) -->"
      ],
      "id": "a2a8dd17-ad62-4ac3-9d3f-f8a146503be7"
    },
    {
      "cell_type": "raw",
      "metadata": {
        "raw_mimetype": "text/html"
      },
      "source": [
        "<!-- ``` -->"
      ],
      "id": "da40bf39-d030-42d0-8089-bbf6397ad201"
    },
    {
      "cell_type": "raw",
      "metadata": {
        "raw_mimetype": "text/html"
      },
      "source": [
        "<!-- The fitted model is -->"
      ],
      "id": "fa0bdcf3-76f4-4d12-afcc-244c9937ec41"
    },
    {
      "cell_type": "raw",
      "metadata": {
        "raw_mimetype": "text/html"
      },
      "source": [
        "<!-- \\[ -->"
      ],
      "id": "e18d46d5-23d0-4f45-92aa-41b4b3f43c86"
    },
    {
      "cell_type": "raw",
      "metadata": {
        "raw_mimetype": "text/html"
      },
      "source": [
        "<!-- \\widehat{\\mathtt{bill\\_length\\_mm}}=-3.44+0.0007 \\,\\mathtt{body\\_mass\\_g}+0.22\\,\\mathtt{flipper\\_length\\_mm}. -->"
      ],
      "id": "86231177-a01b-473a-ad2f-bf56fa7b462a"
    },
    {
      "cell_type": "raw",
      "metadata": {
        "raw_mimetype": "text/html"
      },
      "source": [
        "<!-- \\] -->"
      ],
      "id": "38b18149-69d8-472b-89ef-95b12d246d05"
    },
    {
      "cell_type": "raw",
      "metadata": {
        "raw_mimetype": "text/html"
      },
      "source": [
        "<!-- - **Question:** What is the RSS? How does it compare to the simple linear model we used before? -->"
      ],
      "id": "da78cf46-01d5-48b1-b339-ded02f06581a"
    },
    {
      "cell_type": "raw",
      "metadata": {
        "raw_mimetype": "text/html"
      },
      "source": [
        "<!-- # Types of linear models -->"
      ],
      "id": "9354e6c5-64ac-4640-8031-49f4d320c79a"
    },
    {
      "cell_type": "raw",
      "metadata": {
        "raw_mimetype": "text/html"
      },
      "source": [
        "<!-- - **Simple**: a model with an intercept and a single regressor. -->"
      ],
      "id": "6d2db5d0-297f-4b9e-9c78-ba5bb3433436"
    },
    {
      "cell_type": "raw",
      "metadata": {
        "raw_mimetype": "text/html"
      },
      "source": [
        "<!-- - **Multiple**: a model with 2 or more regressors. -->"
      ],
      "id": "c0e6ba47-6677-4331-ae06-0830630b93e2"
    },
    {
      "cell_type": "raw",
      "metadata": {
        "raw_mimetype": "text/html"
      },
      "source": [
        "<!-- - **Polynomial**: a model with squared, cubic, quartic predictors, etc. E.g, $E(Y\\mid X) = \\beta_0 + \\beta_1 X + \\beta_2 X^2 + \\beta_3 X^3$ is a 4th-degree polynomial. -->"
      ],
      "id": "d8e75ed7-2caa-4d6c-a268-88460daa4a13"
    },
    {
      "cell_type": "raw",
      "metadata": {
        "raw_mimetype": "text/html"
      },
      "source": [
        "<!-- - **First-order**: a model in which each predictor is used to create no more than one regressor. -->"
      ],
      "id": "2e350c8d-55d7-4bd8-8991-3925c41146f2"
    },
    {
      "cell_type": "raw",
      "metadata": {
        "raw_mimetype": "text/html"
      },
      "source": [
        "<!-- - **Main effect**: a model in which none of the regressors are functions of more than one predictor. A predictor can be used more than once, but each regressor is only a function of one predictor. E.g., if $X_1$ and $X_2$ are different predictors, then the regression model $E(Y\\mid X_1, X_2) = \\beta_0 + \\beta_1 X_1 + \\beta_2 X_1^2 + \\beta_3 X_2$ would be a main effect model, but not a first-order model since $X_1$ was used to create two regressors. -->"
      ],
      "id": "0919b695-be6c-4f79-868d-c72917c25a32"
    },
    {
      "cell_type": "raw",
      "metadata": {
        "raw_mimetype": "text/html"
      },
      "source": [
        "<!-- - **Interaction**: a model in which some of the regressors are functions of more than 1 predictor. E.g., if $X_1$ and $X_2$ are different predictors, then the regression model $E(Y\\mid X_1, X_2) = \\beta_0 + \\beta_1 X_1 + \\beta_2 X_2 + \\beta_3 X_1X_2$ is a very simple interaction model since the third regressor is the product of $X_1$ and $X_2$. -->"
      ],
      "id": "2f1866ef-ac63-4700-91b4-f7b9d188d8f2"
    },
    {
      "cell_type": "raw",
      "metadata": {
        "raw_mimetype": "text/html"
      },
      "source": [
        "<!-- - **Analysis of variance (ANOVA)**: a model for which all predictors used in the model are categorical. -->"
      ],
      "id": "04aa4e8d-88c7-44dc-a261-e2ba226d5453"
    },
    {
      "cell_type": "raw",
      "metadata": {
        "raw_mimetype": "text/html"
      },
      "source": [
        "<!-- - **Analysis of covariance (ANCOVA)**: a model that uses at least one numeric predictor and at least one categorical predictor. -->"
      ],
      "id": "4e41fe06-9f6f-41b1-b324-125cd328e7b8"
    },
    {
      "cell_type": "raw",
      "metadata": {
        "raw_mimetype": "text/html"
      },
      "source": [
        "<!-- - **Generalized (GLM)**: a \"generalized\" linear regression model in which the responses do not come from a normal distribution. -->"
      ],
      "id": "149d7b42-ca4b-4042-a563-2c90085cd464"
    },
    {
      "cell_type": "raw",
      "metadata": {
        "raw_mimetype": "text/html"
      },
      "source": [
        "<!-- # Categorical predictors -->"
      ],
      "id": "355d6970-b10b-49cd-9108-b4a58ac98bbb"
    },
    {
      "cell_type": "raw",
      "metadata": {
        "raw_mimetype": "text/html"
      },
      "source": [
        "<!-- Categorical  predictors can greatly improve the explanatory power or predictive capability of a fitted model when different patterns exist for different levels of the variables. We discuss two basic uses of categorical predictors in linear regression models. We will briefly introduce the: -->"
      ],
      "id": "8a1f94eb-f3a9-4fd3-9065-28d5b716c416"
    },
    {
      "cell_type": "raw",
      "metadata": {
        "raw_mimetype": "text/html"
      },
      "source": [
        "<!-- - **parallel lines regression model**, which is a main effect regression model that has a single numeric regressor and a single categorical predictor. The model produces parallel lines for each level of the categorical variable. -->"
      ],
      "id": "5eae82da-db05-487c-bd22-ec993e0f8501"
    },
    {
      "cell_type": "raw",
      "metadata": {
        "raw_mimetype": "text/html"
      },
      "source": [
        "<!-- - **separate lines regression model**, which adds an interaction term between the numeric regressor and categorical predictor of the parallel lines regression model. The model produces separate lines for each level of the categorical variable. -->"
      ],
      "id": "41e64beb-e629-40f0-9de8-275ae0d388c5"
    },
    {
      "cell_type": "raw",
      "metadata": {
        "raw_mimetype": "text/html"
      },
      "source": [
        "<!-- ## Indicator variables -->"
      ],
      "id": "a9c7e644-2b2e-4bf6-b1c5-c23874f1a885"
    },
    {
      "cell_type": "raw",
      "metadata": {
        "raw_mimetype": "text/html"
      },
      "source": [
        "<!-- In order to compute $\\hat{\\boldsymbol{\\beta}}$ using Equation \\@ref(eq:betahat), both $\\mathbf{X}$ and $\\mathbf{y}$ must contain numeric values. How can we use a categorical predictor in our regression model when its values are not numeric? To do so, we must transform the categorical predictor into one or more **indicator** or **dummy variables**, which we explain in more detail below. -->"
      ],
      "id": "f7b6d7e5-7c5a-4e8e-8fae-b1357709d26c"
    },
    {
      "cell_type": "raw",
      "metadata": {
        "raw_mimetype": "text/html"
      },
      "source": [
        "<!-- An **indicator function** is a function that takes the value 1 if a certain property is true and 0 otherwise. An **indicator variable** is the variable that results from applying an indicator function to each observation of a variable. Many notations exist for indicator functions. We use the notation, -->"
      ],
      "id": "c22905f4-9b9e-4c12-b4e3-30b65f98a7a5"
    },
    {
      "cell_type": "raw",
      "metadata": {
        "raw_mimetype": "text/html"
      },
      "source": [
        "<!-- \\[ -->"
      ],
      "id": "c81226d2-a02a-4f18-b031-2a123fd75fd3"
    },
    {
      "cell_type": "raw",
      "metadata": {
        "raw_mimetype": "text/html"
      },
      "source": [
        "<!-- I_S(x) = -->"
      ],
      "id": "2ef66d33-e78a-4b30-99e5-8fe42fe7a9b2"
    },
    {
      "cell_type": "raw",
      "metadata": {
        "raw_mimetype": "text/html"
      },
      "source": [
        "<!-- \\begin{cases} -->"
      ],
      "id": "6a95924f-0687-4adf-b9a9-0781eae4c88e"
    },
    {
      "cell_type": "raw",
      "metadata": {
        "raw_mimetype": "text/html"
      },
      "source": [
        "<!-- 1 & \\textrm{if}\\;x \\in S\\\\ -->"
      ],
      "id": "ddcf6f1a-0637-4fc6-9ea3-024e2ae015e2"
    },
    {
      "cell_type": "raw",
      "metadata": {
        "raw_mimetype": "text/html"
      },
      "source": [
        "<!-- 0 & \\textrm{if}\\;x \\notin S -->"
      ],
      "id": "023bcdcb-52fb-48f1-9da4-7775085c0307"
    },
    {
      "cell_type": "raw",
      "metadata": {
        "raw_mimetype": "text/html"
      },
      "source": [
        "<!-- \\end{cases}, -->"
      ],
      "id": "a3e4be29-f087-4079-bb21-e1b7f84fc1f1"
    },
    {
      "cell_type": "raw",
      "metadata": {
        "raw_mimetype": "text/html"
      },
      "source": [
        "<!-- \\] -->"
      ],
      "id": "796dc258-7b3a-43c2-9d52-0e2d01b66476"
    },
    {
      "cell_type": "raw",
      "metadata": {
        "raw_mimetype": "text/html"
      },
      "source": [
        "<!-- which is shorthand for a function that returns 1 if $x$ is in the set $S$ and 0 otherwise. -->"
      ],
      "id": "6520753a-e63b-4477-aa74-863263cad9e6"
    },
    {
      "cell_type": "raw",
      "metadata": {
        "raw_mimetype": "text/html"
      },
      "source": [
        "<!-- --- -->"
      ],
      "id": "9fc893d9-6089-4561-aa27-431694f8e895"
    },
    {
      "cell_type": "raw",
      "metadata": {
        "raw_mimetype": "text/html"
      },
      "source": [
        "<!-- Let $C$ denote a categorical predictor with levels $L_1$ and $L_2$. The $C$ stands for \"categorical\", while the $L$ stands for \"level\". Let $c_i$ denote the value of $C$ for observation $i$. -->"
      ],
      "id": "4ca27f03-f2fe-4a56-8cd3-4665634331db"
    },
    {
      "cell_type": "raw",
      "metadata": {
        "raw_mimetype": "text/html"
      },
      "source": [
        "<!-- Let $D_j$ denote the indicator (dummy) variable for factor level $L_j$ of $C$. The value of $D_j$ for observation $i$ is denoted $d_{i,j}$, with -->"
      ],
      "id": "f13ca15e-ce90-4f0a-95b8-9deb67ed56fd"
    },
    {
      "cell_type": "raw",
      "metadata": {
        "raw_mimetype": "text/html"
      },
      "source": [
        "<!-- \\[ -->"
      ],
      "id": "270f6f5e-6a15-4486-8393-c6fefdd4f0b7"
    },
    {
      "cell_type": "raw",
      "metadata": {
        "raw_mimetype": "text/html"
      },
      "source": [
        "<!-- d_{i,j} = I_{\\{L_j\\}}(c_i), -->"
      ],
      "id": "f00d8d76-a724-4649-b329-5ef4bd847501"
    },
    {
      "cell_type": "raw",
      "metadata": {
        "raw_mimetype": "text/html"
      },
      "source": [
        "<!-- \\] -->"
      ],
      "id": "853c655c-3eb0-459d-895d-adb78aa3265a"
    },
    {
      "cell_type": "raw",
      "metadata": {
        "raw_mimetype": "text/html"
      },
      "source": [
        "<!-- i.e., $d_{i,j}$ is 1 if $c_i$ has factor level $L_j$ and 0 otherwise. -->"
      ],
      "id": "f368eb1b-fd33-4c53-9513-848a23a9f1c7"
    },
    {
      "cell_type": "raw",
      "metadata": {
        "raw_mimetype": "text/html"
      },
      "source": [
        "<!-- ## Parallel and separate lines models -->"
      ],
      "id": "2af3b799-5039-4b7e-b05a-34133bb0aa10"
    },
    {
      "cell_type": "raw",
      "metadata": {
        "raw_mimetype": "text/html"
      },
      "source": [
        "<!-- Assume we want to build a linear regression model using a single numeric regressor $X$ and a two-level categorical predictor $C$. -->"
      ],
      "id": "7ada4c2f-6c3b-4acf-a202-ce5d9e3bae6b"
    },
    {
      "cell_type": "raw",
      "metadata": {
        "raw_mimetype": "text/html"
      },
      "source": [
        "<!-- The standard simple linear regression model is -->"
      ],
      "id": "309cabac-2e84-41cc-a92b-d476515e9f98"
    },
    {
      "cell_type": "raw",
      "metadata": {
        "raw_mimetype": "text/html"
      },
      "source": [
        "<!-- \\[E(Y\\mid X)=\\beta_0 + \\beta_1 X.\\] -->"
      ],
      "id": "34faf481-e495-476a-8fc3-4ab0f5ac0911"
    },
    {
      "cell_type": "raw",
      "metadata": {
        "raw_mimetype": "text/html"
      },
      "source": [
        "<!-- To create a parallel lines regression model, we add regressor $D_2$ to the simple linear regression model. Thus, the parallel lines regression model is -->"
      ],
      "id": "ed985d82-c31c-4b94-b93f-3771eed44eb3"
    },
    {
      "cell_type": "raw",
      "metadata": {
        "raw_mimetype": "text/html"
      },
      "source": [
        "<!-- \\[ -->"
      ],
      "id": "9251cdef-217e-48c7-b45e-28799e924595"
    },
    {
      "cell_type": "raw",
      "metadata": {
        "raw_mimetype": "text/html"
      },
      "source": [
        "<!-- E(Y\\mid X,C)=\\beta_{0}+\\beta_1 X+\\beta_2 D_2. (\\#eq:parallel-lines-model) -->"
      ],
      "id": "0f1857ab-1b3b-4102-8c8c-dd7df4ee03d4"
    },
    {
      "cell_type": "raw",
      "metadata": {
        "raw_mimetype": "text/html"
      },
      "source": [
        "<!-- \\] -->"
      ],
      "id": "f8922793-d6c8-4c4c-ae8f-c3f5b357e265"
    },
    {
      "cell_type": "raw",
      "metadata": {
        "raw_mimetype": "text/html"
      },
      "source": [
        "<!-- Since $D_2=0$ when $C=L_1$ and $D_2=1$ when $C=L_2$, we see that the model in Equation \\@ref(eq:parallel-lines-model) simplifies to -->"
      ],
      "id": "c15aaf29-2701-4318-839d-b6fc403bb4f2"
    },
    {
      "cell_type": "raw",
      "metadata": {
        "raw_mimetype": "text/html"
      },
      "source": [
        "<!-- \\[ -->"
      ],
      "id": "91849744-b4a3-4164-857d-5a3af172c6fb"
    },
    {
      "cell_type": "raw",
      "metadata": {
        "raw_mimetype": "text/html"
      },
      "source": [
        "<!-- E(Y\\mid X, C) = -->"
      ],
      "id": "406fac0c-be27-44ce-9d93-0d67230d0cad"
    },
    {
      "cell_type": "raw",
      "metadata": {
        "raw_mimetype": "text/html"
      },
      "source": [
        "<!-- \\begin{cases} -->"
      ],
      "id": "6e916e27-ecf7-41a1-a6ac-d4d00edfff49"
    },
    {
      "cell_type": "raw",
      "metadata": {
        "raw_mimetype": "text/html"
      },
      "source": [
        "<!--   \\beta_0+\\beta_1 X & \\mathrm{if}\\;C = L_1 \\\\ -->"
      ],
      "id": "701a9440-f651-4adb-843a-e3df7cc7a454"
    },
    {
      "cell_type": "raw",
      "metadata": {
        "raw_mimetype": "text/html"
      },
      "source": [
        "<!--   (\\beta_0 + \\beta_2) +\\beta_1 X & \\mathrm{if}\\;C = L_2 -->"
      ],
      "id": "c65d1df1-0963-4f00-bdb9-75acf8db93d4"
    },
    {
      "cell_type": "raw",
      "metadata": {
        "raw_mimetype": "text/html"
      },
      "source": [
        "<!-- \\end{cases}. -->"
      ],
      "id": "366664cc-771e-4ae9-b9f8-f826da06f015"
    },
    {
      "cell_type": "raw",
      "metadata": {
        "raw_mimetype": "text/html"
      },
      "source": [
        "<!-- \\] -->"
      ],
      "id": "2c480d08-b054-41b0-942b-81e46cf7a8dc"
    },
    {
      "cell_type": "raw",
      "metadata": {
        "raw_mimetype": "text/html"
      },
      "source": [
        "<!-- - **Question:** What will the vertical distance between the lines be? -->"
      ],
      "id": "8bf14835-4899-4dab-b0d3-700eaa271b8d"
    },
    {
      "cell_type": "raw",
      "metadata": {
        "raw_mimetype": "text/html"
      },
      "source": [
        "<!-- --- -->"
      ],
      "id": "72523181-20a0-48d3-a5d0-406a638a61ab"
    },
    {
      "cell_type": "raw",
      "metadata": {
        "raw_mimetype": "text/html"
      },
      "source": [
        "<!-- To create a separate lines regression model, we add regressor $D_2$ and the interaction regressor $X D_2$ to our simple linear regression model. Thus, the separate lines regression model is -->"
      ],
      "id": "7a0eb9a4-e214-4b11-8633-80df65e2fa8e"
    },
    {
      "cell_type": "raw",
      "metadata": {
        "raw_mimetype": "text/html"
      },
      "source": [
        "<!-- \\[ -->"
      ],
      "id": "b4639d05-1ca0-43c8-9515-e51303f9a60d"
    },
    {
      "cell_type": "raw",
      "metadata": {
        "raw_mimetype": "text/html"
      },
      "source": [
        "<!-- E(Y\\mid X,C)=\\beta_0+\\beta_1 X+\\beta_2 D_2 + \\beta_{3} XD_2, -->"
      ],
      "id": "99067f21-3244-4c6b-b275-af9c21a1eda8"
    },
    {
      "cell_type": "raw",
      "metadata": {
        "raw_mimetype": "text/html"
      },
      "source": [
        "<!-- \\] -->"
      ],
      "id": "66d3e8f6-b541-4747-9512-795b27c1a3d4"
    },
    {
      "cell_type": "raw",
      "metadata": {
        "raw_mimetype": "text/html"
      },
      "source": [
        "<!-- which, similar to the previous model, simplifies to -->"
      ],
      "id": "19efca10-4b81-40aa-9a45-7980fe90a6b9"
    },
    {
      "cell_type": "raw",
      "metadata": {
        "raw_mimetype": "text/html"
      },
      "source": [
        "<!-- \\[ -->"
      ],
      "id": "dc14058d-e511-43dd-a0f0-9a582fead7a8"
    },
    {
      "cell_type": "raw",
      "metadata": {
        "raw_mimetype": "text/html"
      },
      "source": [
        "<!-- E(Y\\mid X, C) = -->"
      ],
      "id": "cb3522d8-683e-4acd-b4d2-a2f75518f776"
    },
    {
      "cell_type": "raw",
      "metadata": {
        "raw_mimetype": "text/html"
      },
      "source": [
        "<!-- \\begin{cases} -->"
      ],
      "id": "180e2c30-6f17-4d35-80ed-ceb3065beba6"
    },
    {
      "cell_type": "raw",
      "metadata": {
        "raw_mimetype": "text/html"
      },
      "source": [
        "<!--   \\beta_{0}+\\beta_1 X & \\mathrm{if}\\;C = L_1 \\\\ -->"
      ],
      "id": "ae7789cf-ce6b-4e75-865d-6532f3b5f409"
    },
    {
      "cell_type": "raw",
      "metadata": {
        "raw_mimetype": "text/html"
      },
      "source": [
        "<!--   (\\beta_{0} + \\beta_{2}) +(\\beta_1 + \\beta_{3}) X & \\mathrm{if}\\;C = L_2 -->"
      ],
      "id": "c7af0e2e-bc3e-49bd-ac27-30907ecdeae6"
    },
    {
      "cell_type": "raw",
      "metadata": {
        "raw_mimetype": "text/html"
      },
      "source": [
        "<!-- \\end{cases}. -->"
      ],
      "id": "1650abd0-8b65-4e0e-ae17-5f362e6c01af"
    },
    {
      "cell_type": "raw",
      "metadata": {
        "raw_mimetype": "text/html"
      },
      "source": [
        "<!-- \\] -->"
      ],
      "id": "b3cadae3-d022-48e5-b6e1-aebc629897b5"
    },
    {
      "cell_type": "raw",
      "metadata": {
        "raw_mimetype": "text/html"
      },
      "source": [
        "<!-- ## Extensions -->"
      ],
      "id": "3d2cbbc1-a622-46a8-90e4-c513325bafe1"
    },
    {
      "cell_type": "raw",
      "metadata": {
        "raw_mimetype": "text/html"
      },
      "source": [
        "<!-- We have presented the most basic regression models that include a categorical predictor. If you had a categorical predictor $C$ with $K$ levels $L_1, L_2, \\ldots, L_K$, then you could add indicator variables $D_2, D_3, \\ldots, L_K$ to a simple linear regression model to create a parallel lines model for each level of $C$. Similarly, you could add regressors $D_2, D_3, \\ldots, D_K, X D_2, X D_3, \\ldots, X D_K$ to a simple linear regression model to create a separate lines model for each level of $C$. -->"
      ],
      "id": "7232e7c0-8b5d-4230-8ac2-9c102610d6e9"
    },
    {
      "cell_type": "raw",
      "metadata": {
        "raw_mimetype": "text/html"
      },
      "source": [
        "<!-- It is easy to imagine using multiple categorical predictors in a model, interacting one or more categorical predictors with one or more numeric regressors in model, etc. These models can be fit easily using R (as we'll see below), though interpretation becomes more challenging. -->"
      ],
      "id": "7d6c1413-2a6c-4a99-92e6-703cf0457ccd"
    },
    {
      "cell_type": "raw",
      "metadata": {
        "raw_mimetype": "text/html"
      },
      "source": [
        "<!-- ## Avoiding an easy mistake -->"
      ],
      "id": "77738f4a-984d-49dc-aa16-bb512be644d2"
    },
    {
      "cell_type": "raw",
      "metadata": {
        "raw_mimetype": "text/html"
      },
      "source": [
        "<!-- Why didn't we add $D_1$ to the parallel lines model? Or $D_1$ and $D_1 X$ to the separate lines model? First, we notice that we don't *need* to add them. E.g., if an observation doesn't havel level $L_2$ ($D_2=0$), then it must have level $L_1$. More importantly, we didn't do this because it will create linear dependencies in the columns of the regressor matrix $\\mathbf{X}$. -->"
      ],
      "id": "3c713ed5-faa0-4ee8-b852-0744548d8de1"
    },
    {
      "cell_type": "raw",
      "metadata": {
        "raw_mimetype": "text/html"
      },
      "source": [
        "<!-- Let $\\mathbf{d}_1=[d_{1,1}, d_{2,1}, \\ldots, d_{n,1}]$ be the column vector of observed values for indicator variable $D_1$ and $\\mathbf{d}_2$ be the column vector for $D_2$. Then for a two-level categorical variable, $\\mathbf{d}_1 + \\mathbf{d}_2$ is an $n\\times 1$ vector of 1s, meaning that $D_1$ and $D_2$ will be linearly dependent with the intercept column of our $\\mathbf{X}$ matrix. Thus, adding $D_1$ to the parallel lines model would result in $\\mathbf{X}$ having linearly dependent columns, which creates estimation problems. -->"
      ],
      "id": "fd31f903-5241-4daf-bd51-c377e419534b"
    },
    {
      "cell_type": "raw",
      "metadata": {
        "raw_mimetype": "text/html"
      },
      "source": [
        "<!-- For a categorical predictor with $K$ levels, we only need indicator variables for $K-1$ levels of the categorical predictor. The level without an indicator variable in the regression model is known as the **reference level**, which is explained in Chapter  \\@ref(interp-chapter). Technically, you can choose any level to be your reference level, but R automatically chooses the first level of a categorical (`factor`) variable to be the reference level, so we adopt that convention. -->"
      ],
      "id": "3a386331-f44d-4457-b6ee-2ec7c9731a51"
    },
    {
      "cell_type": "raw",
      "metadata": {
        "raw_mimetype": "text/html"
      },
      "source": [
        "<!-- # Penguins example with categorical predictor -->"
      ],
      "id": "87b34f42-c3a0-4481-bc6f-13ec988f378c"
    },
    {
      "cell_type": "raw",
      "metadata": {
        "raw_mimetype": "text/html"
      },
      "source": [
        "<!-- We return once again to the `penguins` data previously introduced. We use the code below to produce Figure \\@ref(fig:penguins-grouped-scatter), which displays the grouped scatter plot of `bill_length_mm` versus `body_mass_g` that distinguishes the `species` of each observation. -->"
      ],
      "id": "f2631e42-9c11-45c2-a71e-35862ce99713"
    },
    {
      "cell_type": "raw",
      "metadata": {
        "raw_mimetype": "text/html"
      },
      "source": [
        "<!-- ```{r penguins-grouped-scatter, fig.cap=\"A grouped scatter plot of body mass versus bill length that distinguishes penguin species.\", warning = FALSE} -->"
      ],
      "id": "c2250e4d-e674-4523-815e-e90ee3b36eb5"
    },
    {
      "cell_type": "raw",
      "metadata": {
        "raw_mimetype": "text/html"
      },
      "source": [
        "<!-- library(ggplot2) # load package -->"
      ],
      "id": "310d2342-0062-406b-987d-716c8a724ff7"
    },
    {
      "cell_type": "raw",
      "metadata": {
        "raw_mimetype": "text/html"
      },
      "source": [
        "<!-- # create grouped scatterplot -->"
      ],
      "id": "d856525b-afb9-420b-94ee-dc8769055507"
    },
    {
      "cell_type": "raw",
      "metadata": {
        "raw_mimetype": "text/html"
      },
      "source": [
        "<!-- ggplot(data = penguins) + -->"
      ],
      "id": "4b566203-a5a7-4449-9da9-351afc2bca8c"
    },
    {
      "cell_type": "raw",
      "metadata": {
        "raw_mimetype": "text/html"
      },
      "source": [
        "<!--   geom_point(aes(x = body_mass_g, y = bill_length_mm, shape = species, color = species)) + -->"
      ],
      "id": "7c41c5a6-4ebf-4f6e-b134-3564638874cd"
    },
    {
      "cell_type": "raw",
      "metadata": {
        "raw_mimetype": "text/html"
      },
      "source": [
        "<!--   xlab(\"body mass (g)\") + ylab(\"bill length (mm)\") -->"
      ],
      "id": "c6af57a6-8d32-4d2c-891e-f2a2163b1832"
    },
    {
      "cell_type": "raw",
      "metadata": {
        "raw_mimetype": "text/html"
      },
      "source": [
        "<!-- ``` -->"
      ],
      "id": "51d27129-8a92-4bd9-9dc8-2226218223c4"
    },
    {
      "cell_type": "raw",
      "metadata": {
        "raw_mimetype": "text/html"
      },
      "source": [
        "<!-- - **Question:** Does the relationship between bill length and body mass change depending on the species of penguin? -->"
      ],
      "id": "5d762e68-a196-489e-a29b-611218598e8a"
    },
    {
      "cell_type": "raw",
      "metadata": {
        "raw_mimetype": "text/html"
      },
      "source": [
        "<!-- --- -->"
      ],
      "id": "23c685f7-20b4-42e6-9963-3753def7ea99"
    },
    {
      "cell_type": "raw",
      "metadata": {
        "raw_mimetype": "text/html"
      },
      "source": [
        "<!-- How do you use a categorical variable in R's `lm` function? Recall that we should represent our categorical variables as a `factor` in R. The `lm` function will automatically convert a `factor` variable to the correct number of indicator variables when you include the `factor` variable in your `formula` argument. R will automatically choose the reference level to be the first level of the `factor` variable. To add a main effect term for a categorical predictor, we simply add the term to our `lm` formula. To create an interaction term, we use `:` between the interacting variables. E.g., if `c` is a `factor` variable and `x` is a `numeric` variable, you can use the notation `c:x` in your `formula` to get all the interactions between `c` and `x`. -->"
      ],
      "id": "57a5cfb5-7866-4b74-ab6a-27cb2b74541a"
    },
    {
      "cell_type": "raw",
      "metadata": {
        "raw_mimetype": "text/html"
      },
      "source": [
        "<!-- In our present context, the categorical predictor of interest is `species`, which has the levels `Adelie`, `Chinstrap`, and `Gentoo`. The `species` variable is already a `factor`. Since the variable has 3 levels, it will be transformed into 2 indicator variables by R. The first level of species is `Adelie`, so R will treat that level as the reference level, and automatically create indicator variables for the levels `Chinstrap` and `Gentoo`. (Reminder: to determine the level order of a `factor` variable `c`, run the commend `levels(c)`, or in this case `levels(penguins$species)`.) -->"
      ],
      "id": "98161d04-e5cb-4ee0-8e41-d4135ed73cc2"
    },
    {
      "cell_type": "raw",
      "metadata": {
        "raw_mimetype": "text/html"
      },
      "source": [
        "<!-- Let $D_C$ denote the indicator variable for the `Chinstrap` level and $D_G$ denote the indicator variable for the `Gentoo` level. To fit the parallel lines regression model -->"
      ],
      "id": "f1884343-75ac-4527-8f44-bc2a784aa659"
    },
    {
      "cell_type": "raw",
      "metadata": {
        "raw_mimetype": "text/html"
      },
      "source": [
        "<!-- \\[E(\\mathtt{bill\\_length\\_mm} \\mid \\mathtt{body\\_mass\\_g}, \\mathtt{species}) = \\beta_{0} + \\beta_1 \\mathtt{body\\_mass\\_g} + \\beta_2 D_C + \\beta_3 D_G,\\] -->"
      ],
      "id": "0adb259f-9001-4a04-9815-f653ddb177d3"
    },
    {
      "cell_type": "raw",
      "metadata": {
        "raw_mimetype": "text/html"
      },
      "source": [
        "<!-- we run the code below. The `coef` function is used to extract the estimated coefficients from our fitted model in `lmodp`. -->"
      ],
      "id": "7d6cd390-8918-43bc-8258-76559bf182c3"
    },
    {
      "cell_type": "raw",
      "metadata": {
        "raw_mimetype": "text/html"
      },
      "source": [
        "<!-- --- -->"
      ],
      "id": "66c7f4e1-68c5-4c3d-812b-f1424b218dcd"
    },
    {
      "cell_type": "raw",
      "metadata": {
        "raw_mimetype": "text/html"
      },
      "source": [
        "<!-- ```{r} -->"
      ],
      "id": "39a4501f-be4a-46cf-8d25-e298a1371ae4"
    },
    {
      "cell_type": "raw",
      "metadata": {
        "raw_mimetype": "text/html"
      },
      "source": [
        "<!-- # fit parallel lines model -->"
      ],
      "id": "7ad28344-cc2e-4cc8-8126-50ba6aacb5e8"
    },
    {
      "cell_type": "raw",
      "metadata": {
        "raw_mimetype": "text/html"
      },
      "source": [
        "<!-- lmodp <- lm(bill_length_mm ~ body_mass_g + species, data = penguins) -->"
      ],
      "id": "41d75981-d15b-4882-8a6b-b9d9074cb51d"
    },
    {
      "cell_type": "raw",
      "metadata": {
        "raw_mimetype": "text/html"
      },
      "source": [
        "<!-- # extract coefficients -->"
      ],
      "id": "0e4213f8-e175-447c-a7a1-a53253432884"
    },
    {
      "cell_type": "raw",
      "metadata": {
        "raw_mimetype": "text/html"
      },
      "source": [
        "<!-- coef(lmodp) -->"
      ],
      "id": "903e3342-40be-4f23-92f5-794d2a6d6bc1"
    },
    {
      "cell_type": "raw",
      "metadata": {
        "raw_mimetype": "text/html"
      },
      "source": [
        "<!-- ``` -->"
      ],
      "id": "f0b6553e-94e7-4aa5-9fe1-919d6fa510fa"
    },
    {
      "cell_type": "raw",
      "metadata": {
        "raw_mimetype": "text/html"
      },
      "source": [
        "<!-- Thus, the fitted parallel lines model is -->"
      ],
      "id": "9deac02c-5221-4eeb-bfb2-4989352cb6a3"
    },
    {
      "cell_type": "raw",
      "metadata": {
        "raw_mimetype": "text/html"
      },
      "source": [
        "<!-- \\[ -->"
      ],
      "id": "c68aeec1-15b5-45af-a869-9d0798b92e48"
    },
    {
      "cell_type": "raw",
      "metadata": {
        "raw_mimetype": "text/html"
      },
      "source": [
        "<!-- \\begin{aligned} -->"
      ],
      "id": "cd16e963-1d75-4519-9066-9eb1ef45f31a"
    },
    {
      "cell_type": "raw",
      "metadata": {
        "raw_mimetype": "text/html"
      },
      "source": [
        "<!-- &\\hat{E}(\\mathtt{bill\\_length\\_mm} \\mid \\mathtt{body\\_mass\\_g}, \\mathtt{species}) \\\\ -->"
      ],
      "id": "2b387e80-62dd-4cb9-af72-c1d178f071da"
    },
    {
      "cell_type": "raw",
      "metadata": {
        "raw_mimetype": "text/html"
      },
      "source": [
        "<!-- &= 24.92 + 0.004 \\mathtt{body\\_mass\\_g} + 9.92 D_C + 3.56 D_G. -->"
      ],
      "id": "6d986da1-3fff-412c-be36-f22036af41b2"
    },
    {
      "cell_type": "raw",
      "metadata": {
        "raw_mimetype": "text/html"
      },
      "source": [
        "<!-- \\end{aligned} -->"
      ],
      "id": "6f61bb86-b47b-4185-b82e-e26c471f8328"
    },
    {
      "cell_type": "raw",
      "metadata": {
        "raw_mimetype": "text/html"
      },
      "source": [
        "<!-- (\\#eq:pl-model-penguins) -->"
      ],
      "id": "5d6bd1a9-8d75-4759-a6bc-e26c67a54a44"
    },
    {
      "cell_type": "raw",
      "metadata": {
        "raw_mimetype": "text/html"
      },
      "source": [
        "<!-- \\] -->"
      ],
      "id": "0a0968fc-4fb7-4cb6-be14-0f14560a2c6f"
    },
    {
      "cell_type": "raw",
      "metadata": {
        "raw_mimetype": "text/html"
      },
      "source": [
        "<!-- Note that `speciesChinstrap` and `speciesGentoo` are the indicator variables related to the `Chinstrap` and `Gentoo` levels of `species`, respectively, i.e., they represent $D_C$ and $D_G$. When an observation has `species` level `Adelie`, then Equation \\@ref(eq:pl-model-penguins) simplifies to -->"
      ],
      "id": "e998ccb1-2539-465f-b1bc-e9e51e99625d"
    },
    {
      "cell_type": "raw",
      "metadata": {
        "raw_mimetype": "text/html"
      },
      "source": [
        "<!-- \\[ -->"
      ],
      "id": "329fa18c-0b9c-4470-8a58-09f05072ab75"
    },
    {
      "cell_type": "raw",
      "metadata": {
        "raw_mimetype": "text/html"
      },
      "source": [
        "<!-- \\begin{aligned} -->"
      ],
      "id": "e22e5a10-691d-4dad-b96a-41c0ce8aeee1"
    },
    {
      "cell_type": "raw",
      "metadata": {
        "raw_mimetype": "text/html"
      },
      "source": [
        "<!-- &\\hat{E}(\\mathtt{bill\\_length\\_mm} \\mid \\mathtt{body\\_mass\\_g}, \\mathtt{species}=\\mathtt{Adelie}) \\\\ -->"
      ],
      "id": "45c4d80d-1aa7-462e-bae4-2a3249e67182"
    },
    {
      "cell_type": "raw",
      "metadata": {
        "raw_mimetype": "text/html"
      },
      "source": [
        "<!-- &=24.92 + 0.004 \\mathtt{body\\_mass\\_g} + 9.92 \\cdot 0 + 3.56 \\cdot 0 \\\\ -->"
      ],
      "id": "b9f3e6b1-8ef1-4ef0-b497-9cad34426d51"
    },
    {
      "cell_type": "raw",
      "metadata": {
        "raw_mimetype": "text/html"
      },
      "source": [
        "<!-- &= 24.92 + 0.004 \\mathtt{body\\_mass\\_g}. -->"
      ],
      "id": "918a2a2e-946d-41bc-a1cb-1952e93a22ad"
    },
    {
      "cell_type": "raw",
      "metadata": {
        "raw_mimetype": "text/html"
      },
      "source": [
        "<!-- \\end{aligned} -->"
      ],
      "id": "3b8942a5-0fff-4a10-ae07-d3cb8327b178"
    },
    {
      "cell_type": "raw",
      "metadata": {
        "raw_mimetype": "text/html"
      },
      "source": [
        "<!-- \\] -->"
      ],
      "id": "92618503-cae1-48ce-9820-6a95d5f33d15"
    },
    {
      "cell_type": "raw",
      "metadata": {
        "raw_mimetype": "text/html"
      },
      "source": [
        "<!-- --- -->"
      ],
      "id": "0cfd7945-807e-4b3b-81a2-3c3d01216ba7"
    },
    {
      "cell_type": "raw",
      "metadata": {
        "raw_mimetype": "text/html"
      },
      "source": [
        "<!-- When an observation has `species` level `Chinstrap`, then Equation \\@ref(eq:pl-model-penguins) simplifies to -->"
      ],
      "id": "cc3743b3-7613-48ec-ad1d-25256462f5f3"
    },
    {
      "cell_type": "raw",
      "metadata": {
        "raw_mimetype": "text/html"
      },
      "source": [
        "<!-- \\[ -->"
      ],
      "id": "a157878c-195a-477d-ba96-f792b527dee2"
    },
    {
      "cell_type": "raw",
      "metadata": {
        "raw_mimetype": "text/html"
      },
      "source": [
        "<!-- \\begin{aligned} -->"
      ],
      "id": "71d3f625-f946-4eb9-ba25-6ee510390ebb"
    },
    {
      "cell_type": "raw",
      "metadata": {
        "raw_mimetype": "text/html"
      },
      "source": [
        "<!-- &\\hat{E}(\\mathtt{bill\\_length\\_mm} \\mid \\mathtt{body\\_mass\\_g}, \\mathtt{species}=\\mathtt{Chinstrap}) \\\\ -->"
      ],
      "id": "6e13d3a1-a7dd-4b54-b664-0ba8fba2a100"
    },
    {
      "cell_type": "raw",
      "metadata": {
        "raw_mimetype": "text/html"
      },
      "source": [
        "<!-- &=24.92 + 0.004 \\mathtt{body\\_mass\\_g} + 9.92 \\cdot 1 + 3.56 \\cdot 0 \\\\ -->"
      ],
      "id": "1f1e1803-2839-4b5c-9a09-f4240c06680c"
    },
    {
      "cell_type": "raw",
      "metadata": {
        "raw_mimetype": "text/html"
      },
      "source": [
        "<!-- &= 34.84 + 0.004 \\mathtt{body\\_mass\\_g}. -->"
      ],
      "id": "ec363f6f-bd3a-4e7c-afc7-3a292b53c338"
    },
    {
      "cell_type": "raw",
      "metadata": {
        "raw_mimetype": "text/html"
      },
      "source": [
        "<!-- \\end{aligned} -->"
      ],
      "id": "659f5cdb-5ae9-4296-8e13-22d5481a9bb9"
    },
    {
      "cell_type": "raw",
      "metadata": {
        "raw_mimetype": "text/html"
      },
      "source": [
        "<!-- \\] -->"
      ],
      "id": "980095a3-04e3-4b76-8200-eac8358ac4a2"
    },
    {
      "cell_type": "raw",
      "metadata": {
        "raw_mimetype": "text/html"
      },
      "source": [
        "<!-- Lastly, when an observation has `species` level `Gentoo`, then Equation \\@ref(eq:pl-model-penguins) simplifies to -->"
      ],
      "id": "a8a7a9b7-7d95-4d14-84d3-df1ae796435e"
    },
    {
      "cell_type": "raw",
      "metadata": {
        "raw_mimetype": "text/html"
      },
      "source": [
        "<!-- \\[ -->"
      ],
      "id": "80e1025f-d5ed-4430-b45a-fde108ab3aed"
    },
    {
      "cell_type": "raw",
      "metadata": {
        "raw_mimetype": "text/html"
      },
      "source": [
        "<!-- \\begin{aligned} -->"
      ],
      "id": "0812cf55-5a9f-42c4-a34c-b966a82087fe"
    },
    {
      "cell_type": "raw",
      "metadata": {
        "raw_mimetype": "text/html"
      },
      "source": [
        "<!-- &\\hat{E}(\\mathtt{bill\\_length\\_mm} \\mid \\mathtt{body\\_mass\\_g}, \\mathtt{species}=\\mathtt{Gentoo}) \\\\ -->"
      ],
      "id": "3227db13-834a-4715-81b9-1570a4ba7ae3"
    },
    {
      "cell_type": "raw",
      "metadata": {
        "raw_mimetype": "text/html"
      },
      "source": [
        "<!-- &=24.92 + 0.004 \\mathtt{body\\_mass\\_g} + 9.92 \\cdot 0 + 3.56 \\cdot 1 \\\\ -->"
      ],
      "id": "97b81653-2fd3-4c1d-baa3-e7c4b8b91cb0"
    },
    {
      "cell_type": "raw",
      "metadata": {
        "raw_mimetype": "text/html"
      },
      "source": [
        "<!-- &= 28.48 + 0.004 \\mathtt{body\\_mass\\_g}. -->"
      ],
      "id": "8b3488cd-fe1e-4e39-8feb-209b3a656338"
    },
    {
      "cell_type": "raw",
      "metadata": {
        "raw_mimetype": "text/html"
      },
      "source": [
        "<!-- \\end{aligned} -->"
      ],
      "id": "9f7179ab-4a0d-4f3b-b350-e4cce4e1f757"
    },
    {
      "cell_type": "raw",
      "metadata": {
        "raw_mimetype": "text/html"
      },
      "source": [
        "<!-- \\] -->"
      ],
      "id": "991aba76-b163-4dd3-9c9b-f52401f09a8d"
    },
    {
      "cell_type": "raw",
      "metadata": {
        "raw_mimetype": "text/html"
      },
      "source": [
        "<!-- --- -->"
      ],
      "id": "54ab77da-02e1-4b61-aa13-6c22454e2464"
    },
    {
      "cell_type": "raw",
      "metadata": {
        "raw_mimetype": "text/html"
      },
      "source": [
        "<!-- Adding fitted lines for each `species` level to the scatter plot in Figure \\@ref(fig:penguins-grouped-scatter) is a bit more difficult than before. One technique is to use `predict` to get the fitted values of each observation, use the `transform` function to add those values as a column to the original the data frame, then use `geom_line` to connect the fitted values from each group. -->"
      ],
      "id": "711d4eae-d405-4bf1-9e9c-bdc22df0ee81"
    },
    {
      "cell_type": "raw",
      "metadata": {
        "raw_mimetype": "text/html"
      },
      "source": [
        "<!-- We start by adding our fitted values to the `penguins` data frame. We use the `predict` function to obtained the fitted values of our fitted model and then use the `transform` function to add those values as the `pl_fitted` variable in the `penguins` data frame. -->"
      ],
      "id": "a74af244-27f9-4964-a954-a178c2d18ee2"
    },
    {
      "cell_type": "raw",
      "metadata": {
        "raw_mimetype": "text/html"
      },
      "source": [
        "<!-- ```{r, error=TRUE} -->"
      ],
      "id": "b6a92532-2206-4270-907e-e427d57523c5"
    },
    {
      "cell_type": "raw",
      "metadata": {
        "raw_mimetype": "text/html"
      },
      "source": [
        "<!-- penguins <- -->"
      ],
      "id": "82011cb7-e043-4fbc-ab8a-0316f60e211a"
    },
    {
      "cell_type": "raw",
      "metadata": {
        "raw_mimetype": "text/html"
      },
      "source": [
        "<!--   penguins |> -->"
      ],
      "id": "74b5fc1b-1ef1-453c-98bd-c9f1754f7e39"
    },
    {
      "cell_type": "raw",
      "metadata": {
        "raw_mimetype": "text/html"
      },
      "source": [
        "<!--   transform(pl_fitted = predict(lmodp)) -->"
      ],
      "id": "c716b2f6-8fca-4469-b13d-5783f0586761"
    },
    {
      "cell_type": "raw",
      "metadata": {
        "raw_mimetype": "text/html"
      },
      "source": [
        "<!-- ``` -->"
      ],
      "id": "f04f7dcf-70d2-426f-92e0-c1079ccfe6e4"
    },
    {
      "cell_type": "raw",
      "metadata": {
        "raw_mimetype": "text/html"
      },
      "source": [
        "<!-- - **Question:** Why are we getting this error? -->"
      ],
      "id": "fe911658-7b86-47ca-b6c6-85d77cdc6acd"
    },
    {
      "cell_type": "raw",
      "metadata": {
        "raw_mimetype": "text/html"
      },
      "source": [
        "<!-- --- -->"
      ],
      "id": "1d8d2c79-3462-4371-aa31-f72da86b64b8"
    },
    {
      "cell_type": "raw",
      "metadata": {
        "raw_mimetype": "text/html"
      },
      "source": [
        "<!-- To handle this error, we refit our model while setting the `na.action` argument to `na.exclude`. As stated Details section of the documentation for the `lm` function (run `?lm` in the Console): -->"
      ],
      "id": "8a62f620-17d5-4f22-b420-643ffab39d06"
    },
    {
      "cell_type": "raw",
      "metadata": {
        "raw_mimetype": "text/html"
      },
      "source": [
        "<!-- > $\\ldots$ when `na.exclude` is used the residuals and predictions are padded to the correct length by inserting `NA`s for cases omitted by `na.exclude`. -->"
      ],
      "id": "11bfd39c-8d6b-4aee-8e3d-8d6bde16b49c"
    },
    {
      "cell_type": "raw",
      "metadata": {
        "raw_mimetype": "text/html"
      },
      "source": [
        "<!-- We refit the parallel lines model below with `na.action = na.exclude`, then use the `predict` function to add the fitted values to the `penguins` data frame via the `transform` function. -->"
      ],
      "id": "de0fe9eb-71eb-41ea-b5d1-f521182c6826"
    },
    {
      "cell_type": "raw",
      "metadata": {
        "raw_mimetype": "text/html"
      },
      "source": [
        "<!-- ```{r} -->"
      ],
      "id": "6caea8f5-c8d6-4e9e-a6da-de0968d25fe6"
    },
    {
      "cell_type": "raw",
      "metadata": {
        "raw_mimetype": "text/html"
      },
      "source": [
        "<!-- # refit parallel lines model with new na.action behavior -->"
      ],
      "id": "3939a53e-a6b1-46f0-9a80-02404eed3dde"
    },
    {
      "cell_type": "raw",
      "metadata": {
        "raw_mimetype": "text/html"
      },
      "source": [
        "<!-- lmodp <- lm(bill_length_mm ~ body_mass_g + species, data = penguins, na.action = na.exclude) -->"
      ],
      "id": "68e3cb84-e0fe-43da-aac9-030e0ee49fc3"
    },
    {
      "cell_type": "raw",
      "metadata": {
        "raw_mimetype": "text/html"
      },
      "source": [
        "<!-- # add fitted values to penguins data frame -->"
      ],
      "id": "a4b514ef-28e5-4075-9a05-7a9f29685390"
    },
    {
      "cell_type": "raw",
      "metadata": {
        "raw_mimetype": "text/html"
      },
      "source": [
        "<!-- penguins <- -->"
      ],
      "id": "315f3f31-9d5e-4784-890e-479471960326"
    },
    {
      "cell_type": "raw",
      "metadata": {
        "raw_mimetype": "text/html"
      },
      "source": [
        "<!--   penguins |> -->"
      ],
      "id": "5053ca28-fe37-4252-ba0e-30c26cb4b47e"
    },
    {
      "cell_type": "raw",
      "metadata": {
        "raw_mimetype": "text/html"
      },
      "source": [
        "<!--   transform(pl_fitted = predict(lmodp)) -->"
      ],
      "id": "59cdc3d0-ff2b-4f7a-8779-cba57127f957"
    },
    {
      "cell_type": "raw",
      "metadata": {
        "raw_mimetype": "text/html"
      },
      "source": [
        "<!-- ``` -->"
      ],
      "id": "71c21e47-0e82-4bf5-b3f7-577b6d2ca235"
    },
    {
      "cell_type": "raw",
      "metadata": {
        "raw_mimetype": "text/html"
      },
      "source": [
        "<!-- --- -->"
      ],
      "id": "4384f5fd-133b-4763-9ca3-36c39da5f8e5"
    },
    {
      "cell_type": "raw",
      "metadata": {
        "raw_mimetype": "text/html"
      },
      "source": [
        "<!-- We now use the `geom_line` function to add the fitted lines for each `species` level to our scatter plot. Figure \\@ref(fig:pl-penguin-fit) displays the results from running the code below. The parallel lines model shown in Figure \\@ref(fig:pl-penguin-fit) fits the `penguins` data better than the simple linear regression model shown in Figure \\@ref(fig:slr-penguin-fit). -->"
      ],
      "id": "ccfd00f0-10b9-4f25-b37c-41df71b4d5f7"
    },
    {
      "cell_type": "raw",
      "metadata": {
        "raw_mimetype": "text/html"
      },
      "source": [
        "<!-- ```{r pl-penguin-fit, fig.cap=\"The fitted lines from the separate lines model for each level of `species` is added to the grouped scatter plot of `bill_length_mm` versus `body_mass_g`.\", warning = FALSE} -->"
      ],
      "id": "ba993db4-c80e-4616-a08e-28143c10c9e8"
    },
    {
      "cell_type": "raw",
      "metadata": {
        "raw_mimetype": "text/html"
      },
      "source": [
        "<!-- # create plot -->"
      ],
      "id": "b89e7241-8b8b-4fbc-8d96-c9cb2613f68f"
    },
    {
      "cell_type": "raw",
      "metadata": {
        "raw_mimetype": "text/html"
      },
      "source": [
        "<!-- # create scatterplot -->"
      ],
      "id": "d5af3311-1105-430f-8aff-fd734431e6b6"
    },
    {
      "cell_type": "raw",
      "metadata": {
        "raw_mimetype": "text/html"
      },
      "source": [
        "<!-- # customize labels -->"
      ],
      "id": "3beddce7-cd7d-4994-bf2a-22f6dab3827f"
    },
    {
      "cell_type": "raw",
      "metadata": {
        "raw_mimetype": "text/html"
      },
      "source": [
        "<!-- # add lines for each level of species -->"
      ],
      "id": "553a5832-f6aa-4c36-a47e-c836e63a5456"
    },
    {
      "cell_type": "raw",
      "metadata": {
        "raw_mimetype": "text/html"
      },
      "source": [
        "<!-- ggplot(data = penguins) + -->"
      ],
      "id": "f4330d7e-0424-4e2d-9863-5a621e51e812"
    },
    {
      "cell_type": "raw",
      "metadata": {
        "raw_mimetype": "text/html"
      },
      "source": [
        "<!--   geom_point(aes(x = body_mass_g, y = bill_length_mm, -->"
      ],
      "id": "213c00ea-6506-4994-a488-ca58ee42807f"
    },
    {
      "cell_type": "raw",
      "metadata": {
        "raw_mimetype": "text/html"
      },
      "source": [
        "<!--                  shape = species, color = species)) + -->"
      ],
      "id": "545720de-0116-4c95-8d17-687aceb8d8a1"
    },
    {
      "cell_type": "raw",
      "metadata": {
        "raw_mimetype": "text/html"
      },
      "source": [
        "<!--   xlab(\"body mass (g)\") + ylab(\"bill length (mm)\") + -->"
      ],
      "id": "ab6116d8-a0ab-42ba-8207-f3dd4765f90d"
    },
    {
      "cell_type": "raw",
      "metadata": {
        "raw_mimetype": "text/html"
      },
      "source": [
        "<!--   geom_line(aes(x = body_mass_g, y = pl_fitted, color = species)) -->"
      ],
      "id": "73d3c680-3f7f-47b1-b552-0ff9060cf857"
    },
    {
      "cell_type": "raw",
      "metadata": {
        "raw_mimetype": "text/html"
      },
      "source": [
        "<!-- ``` -->"
      ],
      "id": "d1d0b085-4401-4cbc-891a-6012d200f551"
    },
    {
      "cell_type": "raw",
      "metadata": {
        "raw_mimetype": "text/html"
      },
      "source": [
        "<!-- --- -->"
      ],
      "id": "db9ef9e6-2962-4854-b72c-6930c96d8f36"
    },
    {
      "cell_type": "raw",
      "metadata": {
        "raw_mimetype": "text/html"
      },
      "source": [
        "<!-- We now fit a separate lines regression model to the `penguins` data. Specifically, we fit the model -->"
      ],
      "id": "ddbfa9fd-2394-48b1-85d7-9c6f16c41f24"
    },
    {
      "cell_type": "raw",
      "metadata": {
        "raw_mimetype": "text/html"
      },
      "source": [
        "<!-- \\[ -->"
      ],
      "id": "0fdf1fff-3a15-42e5-9be8-5c8a5f5478ff"
    },
    {
      "cell_type": "raw",
      "metadata": {
        "raw_mimetype": "text/html"
      },
      "source": [
        "<!-- \\begin{aligned} -->"
      ],
      "id": "ea38d30c-c44c-474f-ad68-2fdbcb2e630f"
    },
    {
      "cell_type": "raw",
      "metadata": {
        "raw_mimetype": "text/html"
      },
      "source": [
        "<!-- &E(\\mathtt{bill\\_length\\_mm} \\mid \\mathtt{body\\_mass\\_g}, \\mathtt{species}) \\\\ -->"
      ],
      "id": "dded305d-979e-4c51-a290-f56aae0b0b3e"
    },
    {
      "cell_type": "raw",
      "metadata": {
        "raw_mimetype": "text/html"
      },
      "source": [
        "<!-- &= \\beta_{0} + \\beta_1 \\mathtt{body\\_mass\\_g} + \\beta_2 D_C + \\beta_3 D_G + \\beta_4 \\mathtt{body\\_mass\\_g} D_C + \\beta_5 \\mathtt{body\\_mass\\_g} D_G , -->"
      ],
      "id": "f197517d-d3a0-4700-a3e8-9bf3a9ebb79b"
    },
    {
      "cell_type": "raw",
      "metadata": {
        "raw_mimetype": "text/html"
      },
      "source": [
        "<!-- \\end{aligned} -->"
      ],
      "id": "b1d9069d-fa38-44c2-96fc-234a78e4dcd7"
    },
    {
      "cell_type": "raw",
      "metadata": {
        "raw_mimetype": "text/html"
      },
      "source": [
        "<!-- \\] -->"
      ],
      "id": "8f8897e0-b2bd-4605-9d47-1b359076c52c"
    },
    {
      "cell_type": "raw",
      "metadata": {
        "raw_mimetype": "text/html"
      },
      "source": [
        "<!-- using the code below, using the `coef` function to extract the estimated coefficients. The terms with `:` are interaction variables, e.g., `body_mass_g:speciesChinstrap` is $\\hat{\\beta}_4$, the coefficient for the interaction between regressor $\\mathtt{body\\_mass\\_g} D_C$. -->"
      ],
      "id": "2b61ae75-65c6-418c-a962-9cc5a5c54ae4"
    },
    {
      "cell_type": "raw",
      "metadata": {
        "raw_mimetype": "text/html"
      },
      "source": [
        "<!-- ```{r} -->"
      ],
      "id": "c39d9025-0235-4d89-a291-834ce6c9630b"
    },
    {
      "cell_type": "raw",
      "metadata": {
        "raw_mimetype": "text/html"
      },
      "source": [
        "<!-- # fit separate lines model -->"
      ],
      "id": "3fc22f63-8c8c-4abf-a54c-cbb7f32eb561"
    },
    {
      "cell_type": "raw",
      "metadata": {
        "raw_mimetype": "text/html"
      },
      "source": [
        "<!-- # na.omit = na.exclude used to change predict behavior -->"
      ],
      "id": "f5a76d18-9c27-4438-96ad-103a53d46d58"
    },
    {
      "cell_type": "raw",
      "metadata": {
        "raw_mimetype": "text/html"
      },
      "source": [
        "<!-- lmods <- lm(bill_length_mm ~ body_mass_g + species + body_mass_g:species, -->"
      ],
      "id": "fd1ae089-88d6-401f-968a-3fd21da89e86"
    },
    {
      "cell_type": "raw",
      "metadata": {
        "raw_mimetype": "text/html"
      },
      "source": [
        "<!--             data = penguins, na.action = na.exclude) -->"
      ],
      "id": "c2736db4-5406-4826-a5c2-a9a1c61904a1"
    },
    {
      "cell_type": "raw",
      "metadata": {
        "raw_mimetype": "text/html"
      },
      "source": [
        "<!-- # extract estimated coefficients -->"
      ],
      "id": "db39134b-097a-4ed9-b9c0-820df6b01426"
    },
    {
      "cell_type": "raw",
      "metadata": {
        "raw_mimetype": "text/html"
      },
      "source": [
        "<!-- coef(lmods) -->"
      ],
      "id": "e87fd9cf-87a4-4ed7-a037-2bda1afbdbb5"
    },
    {
      "cell_type": "raw",
      "metadata": {
        "raw_mimetype": "text/html"
      },
      "source": [
        "<!-- ``` -->"
      ],
      "id": "40479fb7-0997-43c2-9517-2f013574eb91"
    },
    {
      "cell_type": "raw",
      "metadata": {
        "raw_mimetype": "text/html"
      },
      "source": [
        "<!-- Thus, the fitted separate lines model is -->"
      ],
      "id": "d713de66-5dbc-4a8a-818e-c5d0952ae97e"
    },
    {
      "cell_type": "raw",
      "metadata": {
        "raw_mimetype": "text/html"
      },
      "source": [
        "<!-- \\[ -->"
      ],
      "id": "a7dddc41-482f-486b-b064-9c5ce4d87c6f"
    },
    {
      "cell_type": "raw",
      "metadata": {
        "raw_mimetype": "text/html"
      },
      "source": [
        "<!-- \\begin{aligned} -->"
      ],
      "id": "ca5037ca-9f4f-4765-a601-7e6f83ba4d82"
    },
    {
      "cell_type": "raw",
      "metadata": {
        "raw_mimetype": "text/html"
      },
      "source": [
        "<!-- &\\hat{E}(\\mathtt{bill\\_length\\_mm} \\mid \\mathtt{body\\_mass\\_g}, \\mathtt{species}) \\\\ -->"
      ],
      "id": "59ca2cfa-cd45-46b6-b057-2ed73bb9542a"
    },
    {
      "cell_type": "raw",
      "metadata": {
        "raw_mimetype": "text/html"
      },
      "source": [
        "<!-- &= 26.99 + 0.003 \\mathtt{body\\_mass\\_g} + 5.18 D_C - 0.25 D_G \\\\ -->"
      ],
      "id": "a0bfa6c4-8730-458a-9757-25c63739e743"
    },
    {
      "cell_type": "raw",
      "metadata": {
        "raw_mimetype": "text/html"
      },
      "source": [
        "<!-- &\\quad + 0.001 \\mathtt{body\\_mass\\_g} D_C + 0.0009 \\mathtt{body\\_mass\\_g} D_G, (\\#eq:sl-model-penguins) -->"
      ],
      "id": "d2268ce7-ee1e-4c57-b19b-01bf6f0c263d"
    },
    {
      "cell_type": "raw",
      "metadata": {
        "raw_mimetype": "text/html"
      },
      "source": [
        "<!-- \\end{aligned} -->"
      ],
      "id": "5d67be3e-f83b-45c3-a528-41d5a2931327"
    },
    {
      "cell_type": "raw",
      "metadata": {
        "raw_mimetype": "text/html"
      },
      "source": [
        "<!-- \\] -->"
      ],
      "id": "07c38afb-3fda-40c4-9302-58a04c11e7d7"
    },
    {
      "cell_type": "raw",
      "metadata": {
        "raw_mimetype": "text/html"
      },
      "source": [
        "<!-- --- -->"
      ],
      "id": "ec3612d4-8991-41f4-855e-4a4a223049de"
    },
    {
      "cell_type": "raw",
      "metadata": {
        "raw_mimetype": "text/html"
      },
      "source": [
        "<!-- When an observation has `species` level `Adelie`, then Equation \\@ref(eq:sl-model-penguins) simplifies to -->"
      ],
      "id": "0d832bfc-1516-4d63-9a42-cf8887111d24"
    },
    {
      "cell_type": "raw",
      "metadata": {
        "raw_mimetype": "text/html"
      },
      "source": [
        "<!-- \\[ -->"
      ],
      "id": "8d48a658-9527-48f6-a431-70420c80422e"
    },
    {
      "cell_type": "raw",
      "metadata": {
        "raw_mimetype": "text/html"
      },
      "source": [
        "<!-- \\begin{aligned} -->"
      ],
      "id": "9e94cc74-f99d-456c-834d-76d6e72f2491"
    },
    {
      "cell_type": "raw",
      "metadata": {
        "raw_mimetype": "text/html"
      },
      "source": [
        "<!-- &\\hat{E}(\\mathtt{bill\\_length\\_mm} \\mid \\mathtt{body\\_mass\\_g}, \\mathtt{species}=\\mathtt{Adelie}) \\\\ -->"
      ],
      "id": "9571669f-649d-4c3c-9f5b-4e89e189b9be"
    },
    {
      "cell_type": "raw",
      "metadata": {
        "raw_mimetype": "text/html"
      },
      "source": [
        "<!-- &=26.99 + 0.003 \\mathtt{body\\_mass\\_g} + 5.18 \\cdot 0 - 0.25 \\cdot 0\\\\ -->"
      ],
      "id": "53d44b87-10f8-4aa0-9d3a-9569a803423c"
    },
    {
      "cell_type": "raw",
      "metadata": {
        "raw_mimetype": "text/html"
      },
      "source": [
        "<!-- &\\quad + 0.001 \\cdot \\mathtt{body\\_mass\\_g} \\cdot 0 + 0.0009 \\cdot \\mathtt{body\\_mass\\_g} \\cdot 0\\\\ -->"
      ],
      "id": "f91a6b2f-2b6f-461c-8229-0990a1757eea"
    },
    {
      "cell_type": "raw",
      "metadata": {
        "raw_mimetype": "text/html"
      },
      "source": [
        "<!-- &= 26.99 + 0.003 \\mathtt{body\\_mass\\_g}. -->"
      ],
      "id": "8c955046-fa94-4e16-89a9-9f18882d8a1f"
    },
    {
      "cell_type": "raw",
      "metadata": {
        "raw_mimetype": "text/html"
      },
      "source": [
        "<!-- \\end{aligned} -->"
      ],
      "id": "5c1b6b84-607e-472a-890d-46514c936627"
    },
    {
      "cell_type": "raw",
      "metadata": {
        "raw_mimetype": "text/html"
      },
      "source": [
        "<!-- \\] -->"
      ],
      "id": "64853fba-54da-45b5-b866-909f6db4f988"
    },
    {
      "cell_type": "raw",
      "metadata": {
        "raw_mimetype": "text/html"
      },
      "source": [
        "<!-- When an observation has `species` level `Chinstrap`, then Equation \\@ref(eq:sl-model-penguins) simplifies to -->"
      ],
      "id": "8fb0f69c-c396-4237-a2e1-bc21380cf3c3"
    },
    {
      "cell_type": "raw",
      "metadata": {
        "raw_mimetype": "text/html"
      },
      "source": [
        "<!-- \\[ -->"
      ],
      "id": "6f5dd08e-fb2a-4350-878e-d8cd79a50ea9"
    },
    {
      "cell_type": "raw",
      "metadata": {
        "raw_mimetype": "text/html"
      },
      "source": [
        "<!-- \\begin{aligned} -->"
      ],
      "id": "a23e8736-8f67-49e0-b160-b4bc10437e1b"
    },
    {
      "cell_type": "raw",
      "metadata": {
        "raw_mimetype": "text/html"
      },
      "source": [
        "<!-- &\\hat{E}(\\mathtt{bill\\_length\\_mm} \\mid \\mathtt{body\\_mass\\_g}, \\mathtt{species}=\\mathtt{Chinstrap}) \\\\ -->"
      ],
      "id": "8db360bc-62d4-4637-90f5-952e2b28684a"
    },
    {
      "cell_type": "raw",
      "metadata": {
        "raw_mimetype": "text/html"
      },
      "source": [
        "<!-- &=26.99 + 0.003 \\mathtt{body\\_mass\\_g} + 5.18 \\cdot 1 - 0.25 \\cdot 0 \\\\ -->"
      ],
      "id": "69124118-77fd-41e2-85bc-153f30daaacd"
    },
    {
      "cell_type": "raw",
      "metadata": {
        "raw_mimetype": "text/html"
      },
      "source": [
        "<!-- &\\quad + 0.001 \\cdot \\mathtt{body\\_mass\\_g} \\cdot 1 + 0.0009 \\cdot \\mathtt{body\\_mass\\_g} \\cdot 0 \\\\ -->"
      ],
      "id": "556dff17-1605-4b81-9a16-e6604290d7fb"
    },
    {
      "cell_type": "raw",
      "metadata": {
        "raw_mimetype": "text/html"
      },
      "source": [
        "<!-- &= 31.17 + 0.004 \\mathtt{body\\_mass\\_g}. -->"
      ],
      "id": "d1cac289-a266-418b-86fd-1b926394620d"
    },
    {
      "cell_type": "raw",
      "metadata": {
        "raw_mimetype": "text/html"
      },
      "source": [
        "<!-- \\end{aligned} -->"
      ],
      "id": "30e0c87b-e053-4699-8b2e-1df31e7ebb9b"
    },
    {
      "cell_type": "raw",
      "metadata": {
        "raw_mimetype": "text/html"
      },
      "source": [
        "<!-- \\] -->"
      ],
      "id": "1cd690c6-36ba-4b47-8c4e-6b16d740e2d4"
    },
    {
      "cell_type": "raw",
      "metadata": {
        "raw_mimetype": "text/html"
      },
      "source": [
        "<!-- When an observation has `species` level `Gentoo`, then Equation \\@ref(eq:sl-model-penguins) simplifies to -->"
      ],
      "id": "701854ca-6476-467f-8bad-b2f770ae3825"
    },
    {
      "cell_type": "raw",
      "metadata": {
        "raw_mimetype": "text/html"
      },
      "source": [
        "<!-- \\[ -->"
      ],
      "id": "3f660761-52dc-48f0-8a8f-cf970b32db4d"
    },
    {
      "cell_type": "raw",
      "metadata": {
        "raw_mimetype": "text/html"
      },
      "source": [
        "<!-- \\begin{aligned} -->"
      ],
      "id": "9231336b-2a79-439e-856c-91a63eb9bae2"
    },
    {
      "cell_type": "raw",
      "metadata": {
        "raw_mimetype": "text/html"
      },
      "source": [
        "<!-- &\\hat{E}(\\mathtt{bill\\_length\\_mm} \\mid \\mathtt{body\\_mass\\_g}, \\mathtt{species}=\\mathtt{Chinstrap}) \\\\ -->"
      ],
      "id": "5c8a2a2b-6a93-4c38-ab43-ab5ac2ab32c3"
    },
    {
      "cell_type": "raw",
      "metadata": {
        "raw_mimetype": "text/html"
      },
      "source": [
        "<!-- &=26.99 + 0.003 \\mathtt{body\\_mass\\_g} + 5.18 \\cdot 0 - 0.25 \\cdot 1 \\\\ -->"
      ],
      "id": "80084fd6-6023-44ea-aa6d-c01e6dfcf490"
    },
    {
      "cell_type": "raw",
      "metadata": {
        "raw_mimetype": "text/html"
      },
      "source": [
        "<!-- &\\quad + 0.001 \\cdot \\mathtt{body\\_mass\\_g} \\cdot 0 + 0.0009 \\cdot \\mathtt{body\\_mass\\_g} \\cdot 1 \\\\ -->"
      ],
      "id": "6c618516-410f-4bfd-b568-ed65cff73b5f"
    },
    {
      "cell_type": "raw",
      "metadata": {
        "raw_mimetype": "text/html"
      },
      "source": [
        "<!-- &= 26.74 + 0.004 \\mathtt{body\\_mass\\_g}. -->"
      ],
      "id": "040d2a2f-4d3c-4f38-8397-f2e70ee8182b"
    },
    {
      "cell_type": "raw",
      "metadata": {
        "raw_mimetype": "text/html"
      },
      "source": [
        "<!-- \\end{aligned} -->"
      ],
      "id": "9d2dcd9c-8bd8-44ec-b449-e8b6c5ce57d8"
    },
    {
      "cell_type": "raw",
      "metadata": {
        "raw_mimetype": "text/html"
      },
      "source": [
        "<!-- \\] -->"
      ],
      "id": "c86b8f46-a3c5-457d-8398-292e7149d26f"
    },
    {
      "cell_type": "raw",
      "metadata": {
        "raw_mimetype": "text/html"
      },
      "source": [
        "<!-- --- -->"
      ],
      "id": "2a7b5ad5-52c6-4d2f-8bc9-e6cd145fb0bb"
    },
    {
      "cell_type": "raw",
      "metadata": {
        "raw_mimetype": "text/html"
      },
      "source": [
        "<!-- We use the code below to display the fitted lines for the separate lines model on the `penguins` data.  -->"
      ],
      "id": "2376e4f0-ad6c-4ebd-92df-6a9a66f2615a"
    },
    {
      "cell_type": "raw",
      "metadata": {
        "raw_mimetype": "text/html"
      },
      "source": [
        "<!-- ```{r sl-penguin-fit, fig.cap=\"The fitted model for each level of `species` is added to the grouped scatter plot of `bill_length_mm` versus `body_mass_g`.\", warning = FALSE} -->"
      ],
      "id": "58c22c08-9459-41bc-8561-359f5a0593d9"
    },
    {
      "cell_type": "raw",
      "metadata": {
        "raw_mimetype": "text/html"
      },
      "source": [
        "<!-- # add separate lines fitted values to penguins data frame -->"
      ],
      "id": "672ee7ac-9413-409a-ab06-328cb6385a25"
    },
    {
      "cell_type": "raw",
      "metadata": {
        "raw_mimetype": "text/html"
      },
      "source": [
        "<!-- penguins <- -->"
      ],
      "id": "ce02b91c-73a4-4b8d-8ed3-dc0183d7936a"
    },
    {
      "cell_type": "raw",
      "metadata": {
        "raw_mimetype": "text/html"
      },
      "source": [
        "<!--   penguins |> -->"
      ],
      "id": "f97815ad-e5db-49e9-a403-490e3ba07100"
    },
    {
      "cell_type": "raw",
      "metadata": {
        "raw_mimetype": "text/html"
      },
      "source": [
        "<!--   transform(sl_fitted = predict(lmods)) -->"
      ],
      "id": "b49d509c-83ef-4491-971d-669ac93f60d2"
    },
    {
      "cell_type": "raw",
      "metadata": {
        "raw_mimetype": "text/html"
      },
      "source": [
        "<!-- # use geom_line to add fitted lines to plot -->"
      ],
      "id": "1a78789e-c99b-4f91-bffd-c256d3a5f24c"
    },
    {
      "cell_type": "raw",
      "metadata": {
        "raw_mimetype": "text/html"
      },
      "source": [
        "<!-- ggplot(data = penguins) + -->"
      ],
      "id": "28cd6a2a-cd17-4594-b6d5-26303ed926b1"
    },
    {
      "cell_type": "raw",
      "metadata": {
        "raw_mimetype": "text/html"
      },
      "source": [
        "<!--   geom_point(aes(x = body_mass_g, y = bill_length_mm, shape = species, color = species)) + -->"
      ],
      "id": "bdffad38-61c1-4fda-84a3-8caca1915868"
    },
    {
      "cell_type": "raw",
      "metadata": {
        "raw_mimetype": "text/html"
      },
      "source": [
        "<!--   xlab(\"body mass (g)\") + ylab(\"bill length (mm)\") + -->"
      ],
      "id": "25229b64-1434-43ad-a5a9-c284784b5780"
    },
    {
      "cell_type": "raw",
      "metadata": {
        "raw_mimetype": "text/html"
      },
      "source": [
        "<!--   geom_line(aes(x = body_mass_g, y = sl_fitted, col = species)) -->"
      ],
      "id": "fc1cef7c-9456-4c73-a5fe-a42a2b8b707d"
    },
    {
      "cell_type": "raw",
      "metadata": {
        "raw_mimetype": "text/html"
      },
      "source": [
        "<!-- ``` -->"
      ],
      "id": "9f9a83e4-d69e-43df-9322-3e750de7ac2f"
    },
    {
      "cell_type": "raw",
      "metadata": {
        "raw_mimetype": "text/html"
      },
      "source": [
        "<!-- - **Question:** Do the fitted lines match the observed data behavior reasonably well? -->"
      ],
      "id": "d0f4e035-d2f0-4c51-ad71-fc76e3fdfaf3"
    },
    {
      "cell_type": "raw",
      "metadata": {
        "raw_mimetype": "text/html"
      },
      "source": [
        "<!-- # Evaluating model fit -->"
      ],
      "id": "7cd5b874-0d12-4aea-b69b-1d44c527d8a0"
    },
    {
      "cell_type": "raw",
      "metadata": {
        "raw_mimetype": "text/html"
      },
      "source": [
        "<!-- The most basic statistic measuring the fit of a regression model is the **coefficient of determination**, which is defined as -->"
      ],
      "id": "302f2e60-4cd7-4121-bee6-9ac708a25ea2"
    },
    {
      "cell_type": "raw",
      "metadata": {
        "raw_mimetype": "text/html"
      },
      "source": [
        "<!-- \\[ -->"
      ],
      "id": "f66b66a9-a691-41dd-b92e-36ed71a4ceca"
    },
    {
      "cell_type": "raw",
      "metadata": {
        "raw_mimetype": "text/html"
      },
      "source": [
        "<!-- R^2 = 1 - \\frac{\\sum_{i=1}^n (Y_i-\\hat{Y}_i)^2}{\\sum_{i=1}^n (Y_i-\\bar{Y})^2},(\\#eq:rsquared) -->"
      ],
      "id": "b382137e-0a51-4711-8634-383f87f98dc6"
    },
    {
      "cell_type": "raw",
      "metadata": {
        "raw_mimetype": "text/html"
      },
      "source": [
        "<!-- \\] -->"
      ],
      "id": "9adad40e-c518-449e-bcba-2ec7eac23cd4"
    },
    {
      "cell_type": "raw",
      "metadata": {
        "raw_mimetype": "text/html"
      },
      "source": [
        "<!-- where $\\bar{Y}$ is the sample mean of the observed response values. -->"
      ],
      "id": "0c58e128-9620-4dab-9346-2c0cc6084d3a"
    },
    {
      "cell_type": "raw",
      "metadata": {
        "raw_mimetype": "text/html"
      },
      "source": [
        "<!-- --- -->"
      ],
      "id": "abe814bf-8443-42ad-9c0b-e18c7128afc3"
    },
    {
      "cell_type": "raw",
      "metadata": {
        "raw_mimetype": "text/html"
      },
      "source": [
        "<!-- To interpret this statistic, we need to introduce some new \"sum-of-squares\" statistics similar to the RSS. -->"
      ],
      "id": "7bee4c4e-e186-4127-838b-081eb64c9b7a"
    },
    {
      "cell_type": "raw",
      "metadata": {
        "raw_mimetype": "text/html"
      },
      "source": [
        "<!-- The **total sum of squares** (corrected for the mean) is computed as -->"
      ],
      "id": "a7cdba40-7be1-4aed-9a11-6644640bf5a5"
    },
    {
      "cell_type": "raw",
      "metadata": {
        "raw_mimetype": "text/html"
      },
      "source": [
        "<!-- \\[ -->"
      ],
      "id": "bc6fefc9-b665-474c-a106-35cab0094c49"
    },
    {
      "cell_type": "raw",
      "metadata": {
        "raw_mimetype": "text/html"
      },
      "source": [
        "<!-- TSS = \\sum_{i=1}^n(Y_i-\\bar{Y})^2. (\\#eq:tss) -->"
      ],
      "id": "716a9ba4-3bf0-4601-a464-58ad8dc061d8"
    },
    {
      "cell_type": "raw",
      "metadata": {
        "raw_mimetype": "text/html"
      },
      "source": [
        "<!-- \\] -->"
      ],
      "id": "3e696cb2-af51-443b-81c0-027ff53f9714"
    },
    {
      "cell_type": "raw",
      "metadata": {
        "raw_mimetype": "text/html"
      },
      "source": [
        "<!-- The TSS is the sum of the squared deviations of the response values from the sample mean. However, it has a more insightful interpretation. Consider the **constant mean model**, which is the model -->"
      ],
      "id": "f3ce701d-c01e-47f4-ae3f-7b175fabf3f2"
    },
    {
      "cell_type": "raw",
      "metadata": {
        "raw_mimetype": "text/html"
      },
      "source": [
        "<!-- \\[ -->"
      ],
      "id": "af019b38-2705-495e-ba4a-0ab08a977f6f"
    },
    {
      "cell_type": "raw",
      "metadata": {
        "raw_mimetype": "text/html"
      },
      "source": [
        "<!-- E(Y)=\\beta_0. (\\#eq:constant-mean-model) -->"
      ],
      "id": "adae8122-6b6e-404b-9fb3-90b2103b587b"
    },
    {
      "cell_type": "raw",
      "metadata": {
        "raw_mimetype": "text/html"
      },
      "source": [
        "<!-- \\] -->"
      ],
      "id": "0141f6ac-726e-4918-b920-13121797eb1c"
    },
    {
      "cell_type": "raw",
      "metadata": {
        "raw_mimetype": "text/html"
      },
      "source": [
        "<!-- --- -->"
      ],
      "id": "9c9c7830-4666-498b-a8b5-95a4dfd365c9"
    },
    {
      "cell_type": "raw",
      "metadata": {
        "raw_mimetype": "text/html"
      },
      "source": [
        "<!-- Using basic calculus, you can show that the OLS estimator of $\\beta_0$ for the model in Equation \\@ref(eq:constant-mean-model) is $\\hat{\\beta}_0=\\bar{Y}$. For the constant mean model, the fitted value of every observation is $\\hat{\\beta}_0$, i.e., $\\hat{Y}_i=\\hat{\\beta}_0$ for $i=1,2,\\ldots,n$. Thus, the RSS of the constant mean model is $\\sum_{i=1}^n(Y_i-\\hat{Y}_i)^2=\\sum_{i=1}^n(Y_i-\\bar{Y})^2$. Thus, *the TSS is the RSS for the constant mean model*. -->"
      ],
      "id": "fff6a646-4635-4340-aa1f-f37a913f4459"
    },
    {
      "cell_type": "raw",
      "metadata": {
        "raw_mimetype": "text/html"
      },
      "source": [
        "<!-- The **regression sum-of-squares** or **model sum-of-squares** is defined as -->"
      ],
      "id": "619e3157-6ff1-4d06-8120-3d351c35b595"
    },
    {
      "cell_type": "raw",
      "metadata": {
        "raw_mimetype": "text/html"
      },
      "source": [
        "<!-- \\[ -->"
      ],
      "id": "63f80f59-ec90-4e58-912c-8b5e6285e531"
    },
    {
      "cell_type": "raw",
      "metadata": {
        "raw_mimetype": "text/html"
      },
      "source": [
        "<!-- SS_{reg} = \\sum_{i=1}^n(\\hat{Y}_i-\\bar{Y})^2. (\\#eq:ssreg) -->"
      ],
      "id": "0aade9a4-9840-4593-95ed-df36f50a3e74"
    },
    {
      "cell_type": "raw",
      "metadata": {
        "raw_mimetype": "text/html"
      },
      "source": [
        "<!-- \\] -->"
      ],
      "id": "036f4950-bda0-4bc0-a40d-e45c4de677cf"
    },
    {
      "cell_type": "raw",
      "metadata": {
        "raw_mimetype": "text/html"
      },
      "source": [
        "<!-- Thus, SS~reg~ is the sum of the squared deviations between the fitted values of a model and the fitted values of the constant mean model. More helpfully, we have the following equation relating TSS, RSS, and SS~reg~: -->"
      ],
      "id": "e6b65b29-3819-48a8-ac17-c68734968818"
    },
    {
      "cell_type": "raw",
      "metadata": {
        "raw_mimetype": "text/html"
      },
      "source": [
        "<!-- \\[ -->"
      ],
      "id": "c8502233-16d5-4ff5-9503-f08ba08a51d8"
    },
    {
      "cell_type": "raw",
      "metadata": {
        "raw_mimetype": "text/html"
      },
      "source": [
        "<!-- TSS = RSS + SS_{reg}.(\\#eq:ss-equality) -->"
      ],
      "id": "067000c4-07f3-4284-842a-b16e2b6665ba"
    },
    {
      "cell_type": "raw",
      "metadata": {
        "raw_mimetype": "text/html"
      },
      "source": [
        "<!-- \\] -->"
      ],
      "id": "b08162d0-24f0-4b51-be73-8e0ced41ef94"
    },
    {
      "cell_type": "raw",
      "metadata": {
        "raw_mimetype": "text/html"
      },
      "source": [
        "<!-- Thus, $SS_{reg}=TSS-RSS$. This means that *SS~reg~ measures the reduction in RSS when comparing the fitted model to the constant mean model*. -->"
      ],
      "id": "5c4e553a-0be9-4939-972b-1e230e91cc2a"
    },
    {
      "cell_type": "raw",
      "metadata": {
        "raw_mimetype": "text/html"
      },
      "source": [
        "<!-- --- -->"
      ],
      "id": "08cb1229-9d92-4bfe-a5e6-04a2065500f8"
    },
    {
      "cell_type": "raw",
      "metadata": {
        "raw_mimetype": "text/html"
      },
      "source": [
        "<!-- Comparing Equations \\@ref(eq:def-rss-slr), \\@ref(eq:rsquared), \\@ref(eq:tss), and \\@ref(eq:ssreg), we can express $R^2$ as: -->"
      ],
      "id": "4eabe370-363e-4a9a-a68b-00b1fed9e6ec"
    },
    {
      "cell_type": "raw",
      "metadata": {
        "raw_mimetype": "text/html"
      },
      "source": [
        "<!-- \\[ -->"
      ],
      "id": "4f2c05d9-88ef-4786-a9d4-cfa6a2dd7e4b"
    },
    {
      "cell_type": "raw",
      "metadata": {
        "raw_mimetype": "text/html"
      },
      "source": [
        "<!-- \\begin{aligned} -->"
      ],
      "id": "480ab843-f6a1-486b-856e-d8eaaba57be0"
    },
    {
      "cell_type": "raw",
      "metadata": {
        "raw_mimetype": "text/html"
      },
      "source": [
        "<!-- R^2 &= 1-\\frac{\\sum_{i=1}^n (Y_i-\\hat{Y}_i)^2}{\\sum_{i=1}^n (Y_i-\\bar{Y})^2} \\\\ -->"
      ],
      "id": "863af256-c80b-43e0-8dae-7c3d20a8abfa"
    },
    {
      "cell_type": "raw",
      "metadata": {
        "raw_mimetype": "text/html"
      },
      "source": [
        "<!-- &= 1 - \\frac{RSS}{TSS} \\\\ -->"
      ],
      "id": "116034c9-8af0-4045-a2d2-01d2b68b2e39"
    },
    {
      "cell_type": "raw",
      "metadata": {
        "raw_mimetype": "text/html"
      },
      "source": [
        "<!-- &= \\frac{TSS - RSS}{TSS} \\\\ -->"
      ],
      "id": "8f454cb7-59ae-4c09-90f6-2570771abffd"
    },
    {
      "cell_type": "raw",
      "metadata": {
        "raw_mimetype": "text/html"
      },
      "source": [
        "<!-- &= \\frac{SS_{reg}}{TSS} \\\\ -->"
      ],
      "id": "c7429f09-2a57-4888-8e4a-4389156699ce"
    },
    {
      "cell_type": "raw",
      "metadata": {
        "raw_mimetype": "text/html"
      },
      "source": [
        "<!-- &= [\\mathrm{cor}(\\mathbf{y}, \\hat{\\mathbf{y}})]^2. -->"
      ],
      "id": "b75b8867-77ec-4a74-8c3c-25b0aaa08d3c"
    },
    {
      "cell_type": "raw",
      "metadata": {
        "raw_mimetype": "text/html"
      },
      "source": [
        "<!-- \\end{aligned} -->"
      ],
      "id": "5c198d49-709b-492c-ad13-6af6c0409af9"
    },
    {
      "cell_type": "raw",
      "metadata": {
        "raw_mimetype": "text/html"
      },
      "source": [
        "<!-- (\\#eq:rsquared2) -->"
      ],
      "id": "cee6370d-0ecd-430a-b3d0-a5af35180a4a"
    },
    {
      "cell_type": "raw",
      "metadata": {
        "raw_mimetype": "text/html"
      },
      "source": [
        "<!-- \\] -->"
      ],
      "id": "819342dd-1585-49ce-8893-748214fa4a31"
    },
    {
      "cell_type": "raw",
      "metadata": {
        "raw_mimetype": "text/html"
      },
      "source": [
        "<!-- The last expression is the squared sample correlation between the observed and fitted values, and is a helpful way to express the coefficient of determination because it extends to regression models that are not linear. -->"
      ],
      "id": "8decd3b8-18d6-4e01-8bcf-ac1f93b9df3e"
    },
    {
      "cell_type": "raw",
      "metadata": {
        "raw_mimetype": "text/html"
      },
      "source": [
        "<!-- --- -->"
      ],
      "id": "dfbde115-f8f5-4799-9aab-1e90c24c6e43"
    },
    {
      "cell_type": "raw",
      "metadata": {
        "raw_mimetype": "text/html"
      },
      "source": [
        "<!-- Looking at Equation \\@ref(eq:rsquared2) in particular, we can say that *the coefficient of determination is the proportional reduction in RSS when comparing the fitted model to the constant mean model*. -->"
      ],
      "id": "912c405c-d270-4ffc-a55a-bba30ad176b6"
    },
    {
      "cell_type": "raw",
      "metadata": {
        "raw_mimetype": "text/html"
      },
      "source": [
        "<!-- Some comments about the coefficient of determination: -->"
      ],
      "id": "425d8d87-ed04-4ee9-b382-ef44e4c0e86a"
    },
    {
      "cell_type": "raw",
      "metadata": {
        "raw_mimetype": "text/html"
      },
      "source": [
        "<!-- - $0\\leq R^2 \\leq 1$. -->"
      ],
      "id": "0913eb76-95d4-4682-b80a-e95a0b64554e"
    },
    {
      "cell_type": "raw",
      "metadata": {
        "raw_mimetype": "text/html"
      },
      "source": [
        "<!-- - $R^2=0$ for the constant mean model. -->"
      ],
      "id": "9dbb5da0-ab82-450f-9ddd-59f3d42e442f"
    },
    {
      "cell_type": "raw",
      "metadata": {
        "raw_mimetype": "text/html"
      },
      "source": [
        "<!-- - $R^2=1$ for a fitted model that perfectly fits the data (the fitted values match the observed response values). -->"
      ],
      "id": "112ed53f-2d3a-4e95-b2e4-79747015d8a9"
    },
    {
      "cell_type": "raw",
      "metadata": {
        "raw_mimetype": "text/html"
      },
      "source": [
        "<!-- - Generally, larger values of $R^2$ suggest that the model explains a lot of the variation in the response variable. Smaller $R^2$ values suggest the fitted model does not explain a lot of the response variation. -->"
      ],
      "id": "80453a9e-49d9-4ef3-86e7-826d94437bf2"
    },
    {
      "cell_type": "raw",
      "metadata": {
        "raw_mimetype": "text/html"
      },
      "source": [
        "<!-- - The `Multiple R-squared` value printed by the `summary` of an `lm` object is $R^2$. -->"
      ],
      "id": "83010aa4-b55e-4099-9e3f-6a522ac83bb0"
    },
    {
      "cell_type": "raw",
      "metadata": {
        "raw_mimetype": "text/html"
      },
      "source": [
        "<!-- - To extract $R^2$ from a fitted model, you can use the syntax `summary(lmod)$r.squared`, where `lmod` is your fitted model. -->"
      ],
      "id": "ed176766-1e85-4499-9334-b52abc18f3e9"
    },
    {
      "cell_type": "raw",
      "metadata": {
        "raw_mimetype": "text/html"
      },
      "source": [
        "<!-- --- -->"
      ],
      "id": "8bf806aa-ddab-43e8-8f63-b26c0742986c"
    },
    {
      "cell_type": "raw",
      "metadata": {
        "raw_mimetype": "text/html"
      },
      "source": [
        "<!-- Figure \\@ref(fig:rsquared-examples) provides examples of the $R^2$ value for various fitted simple linear regression models. The closer the points fall to a straight line, the larger $R^2$ tends to be. However, as shown in the bottom right panel of Figure \\@ref(fig:rsquared-examples), a poorly fit model can result in a lower $R^2$ model even if there is a clear relationship between the points (the points have a perfect quadratic relationship). -->"
      ],
      "id": "8970fd2c-cbeb-47c8-b27d-41bce3d59e97"
    },
    {
      "cell_type": "raw",
      "metadata": {
        "raw_mimetype": "text/html"
      },
      "source": [
        "<!-- ```{r rsquared-examples, fig.cap=\"The coefficient of determination values for 4 different data sets.\", echo = FALSE} -->"
      ],
      "id": "b093210a-eb49-4d84-af23-efc13ba37f97"
    },
    {
      "cell_type": "raw",
      "metadata": {
        "raw_mimetype": "text/html"
      },
      "source": [
        "<!-- par(mfrow = c(2, 2)) -->"
      ],
      "id": "c1f16fbe-1553-4b77-b4cf-4c48bd4f3639"
    },
    {
      "cell_type": "raw",
      "metadata": {
        "raw_mimetype": "text/html"
      },
      "source": [
        "<!-- set.seed(27) -->"
      ],
      "id": "847f4f63-6fb2-4a12-90b5-56600aaa7483"
    },
    {
      "cell_type": "raw",
      "metadata": {
        "raw_mimetype": "text/html"
      },
      "source": [
        "<!-- x1 <- runif(25, 0, 10) -->"
      ],
      "id": "6f1e7ebf-eef7-4d4b-aa72-0ea2dfe0fef7"
    },
    {
      "cell_type": "raw",
      "metadata": {
        "raw_mimetype": "text/html"
      },
      "source": [
        "<!-- y1 <- 2 + 3 * x1 -->"
      ],
      "id": "99bf10eb-01da-4cf8-931d-0085bf55bfc8"
    },
    {
      "cell_type": "raw",
      "metadata": {
        "raw_mimetype": "text/html"
      },
      "source": [
        "<!-- fit1 <- lm(y1 ~ x1) -->"
      ],
      "id": "795ac703-3cb1-4c80-9f7f-6e011666a091"
    },
    {
      "cell_type": "raw",
      "metadata": {
        "raw_mimetype": "text/html"
      },
      "source": [
        "<!-- plot(x1, 2 + 3 * x1, xlab = \"X\", ylab = \"Y\") -->"
      ],
      "id": "128a0f7f-8c3a-4b75-aca3-42b0ab619049"
    },
    {
      "cell_type": "raw",
      "metadata": {
        "raw_mimetype": "text/html"
      },
      "source": [
        "<!-- abline(fit1) -->"
      ],
      "id": "263fd86d-bf3a-40e4-ba37-4d6b9cd02619"
    },
    {
      "cell_type": "raw",
      "metadata": {
        "raw_mimetype": "text/html"
      },
      "source": [
        "<!-- title(expression(R^2==1)) -->"
      ],
      "id": "c46db6fb-544b-42fc-9530-6971b2971c3f"
    },
    {
      "cell_type": "raw",
      "metadata": {
        "raw_mimetype": "text/html"
      },
      "source": [
        "<!-- x2 <- runif(25, 0, 10) -->"
      ],
      "id": "e9f5161d-7a07-4f8c-9bce-bc343570cc47"
    },
    {
      "cell_type": "raw",
      "metadata": {
        "raw_mimetype": "text/html"
      },
      "source": [
        "<!-- y2 <- rnorm(length(x2)) -->"
      ],
      "id": "3e297854-06d5-4881-b8ad-f1eb1fa85089"
    },
    {
      "cell_type": "raw",
      "metadata": {
        "raw_mimetype": "text/html"
      },
      "source": [
        "<!-- fit2 <- lm(y2 ~ x2) -->"
      ],
      "id": "8fdeaac7-c5b7-4c23-a594-6cdf19cb5478"
    },
    {
      "cell_type": "raw",
      "metadata": {
        "raw_mimetype": "text/html"
      },
      "source": [
        "<!-- r2b <- round(summary(fit2)$r.squared, 2) -->"
      ],
      "id": "afe3a431-1c89-4ade-9f87-6248ac38ef40"
    },
    {
      "cell_type": "raw",
      "metadata": {
        "raw_mimetype": "text/html"
      },
      "source": [
        "<!-- q2 <- bquote(R^2==.(format(r2b, digits = 2))) -->"
      ],
      "id": "2bc7d113-19d9-46a4-b48f-8f6f927d8930"
    },
    {
      "cell_type": "raw",
      "metadata": {
        "raw_mimetype": "text/html"
      },
      "source": [
        "<!-- plot(x2, y2, xlab = \"X\", ylab = \"Y\") -->"
      ],
      "id": "38d04220-1925-406b-bd4f-b304f937015f"
    },
    {
      "cell_type": "raw",
      "metadata": {
        "raw_mimetype": "text/html"
      },
      "source": [
        "<!-- abline(fit2) -->"
      ],
      "id": "e3458168-e724-4c5c-adc9-5ddd972faeaf"
    },
    {
      "cell_type": "raw",
      "metadata": {
        "raw_mimetype": "text/html"
      },
      "source": [
        "<!-- title(q2) -->"
      ],
      "id": "83c5f393-ef7d-4c51-b600-6edba8f9dba9"
    },
    {
      "cell_type": "raw",
      "metadata": {
        "raw_mimetype": "text/html"
      },
      "source": [
        "<!-- x3 <- runif(25, 0, 10) -->"
      ],
      "id": "54ff95f1-4591-40c1-9362-9843043f9d55"
    },
    {
      "cell_type": "raw",
      "metadata": {
        "raw_mimetype": "text/html"
      },
      "source": [
        "<!-- y3 <- 3 - 2 * x3 + rnorm(length(x3), sd = 5) -->"
      ],
      "id": "f87cf287-bf82-413e-87e3-8a6aa7ae6f06"
    },
    {
      "cell_type": "raw",
      "metadata": {
        "raw_mimetype": "text/html"
      },
      "source": [
        "<!-- fit3 <- lm(y3 ~ x3) -->"
      ],
      "id": "c86c8fc4-4301-4542-8d02-23ec3fd76ea6"
    },
    {
      "cell_type": "raw",
      "metadata": {
        "raw_mimetype": "text/html"
      },
      "source": [
        "<!-- r2c <- round(summary(fit3)$r.squared, 2) -->"
      ],
      "id": "433bc55a-35de-4c8d-990a-10235212b043"
    },
    {
      "cell_type": "raw",
      "metadata": {
        "raw_mimetype": "text/html"
      },
      "source": [
        "<!-- q3 <- bquote(R^2==.(format(r2c, digits = 2))) -->"
      ],
      "id": "acd6a950-72a7-4a09-852b-474b386d4d87"
    },
    {
      "cell_type": "raw",
      "metadata": {
        "raw_mimetype": "text/html"
      },
      "source": [
        "<!-- plot(x3, y3, xlab = \"X\", ylab = \"Y\") -->"
      ],
      "id": "5917b5b5-3869-4d4c-8dfe-327e013f1484"
    },
    {
      "cell_type": "raw",
      "metadata": {
        "raw_mimetype": "text/html"
      },
      "source": [
        "<!-- abline(fit3) -->"
      ],
      "id": "e606de39-9b8a-4fa2-bb94-4f593521866b"
    },
    {
      "cell_type": "raw",
      "metadata": {
        "raw_mimetype": "text/html"
      },
      "source": [
        "<!-- title(q3) -->"
      ],
      "id": "d4afa030-3463-457d-b2f6-26f751473449"
    },
    {
      "cell_type": "raw",
      "metadata": {
        "raw_mimetype": "text/html"
      },
      "source": [
        "<!-- x4 <- runif(25, -10, 10) -->"
      ],
      "id": "958defae-9788-4ed3-87d2-f235300d1f13"
    },
    {
      "cell_type": "raw",
      "metadata": {
        "raw_mimetype": "text/html"
      },
      "source": [
        "<!-- y4 <- 2 - 2 * x4 + 3 - x4^2 -->"
      ],
      "id": "9bec2600-22a4-4292-ba9f-a5e581d0bc3d"
    },
    {
      "cell_type": "raw",
      "metadata": {
        "raw_mimetype": "text/html"
      },
      "source": [
        "<!-- fit4 <- lm(y4 ~ x4) -->"
      ],
      "id": "525a0de1-ea38-408d-b013-01f4d6e56dbc"
    },
    {
      "cell_type": "raw",
      "metadata": {
        "raw_mimetype": "text/html"
      },
      "source": [
        "<!-- r2c <- round(summary(fit4)$r.squared, 2) -->"
      ],
      "id": "9eebfe7d-119b-4c41-8099-a8d696d1dcf8"
    },
    {
      "cell_type": "raw",
      "metadata": {
        "raw_mimetype": "text/html"
      },
      "source": [
        "<!-- q4 <- bquote(R^2==.(format(r2c, digits = 2))) -->"
      ],
      "id": "0df88240-3a96-4283-924b-3f81efcaefb5"
    },
    {
      "cell_type": "raw",
      "metadata": {
        "raw_mimetype": "text/html"
      },
      "source": [
        "<!-- plot(x4, y4, xlab = \"X\", ylab = \"Y\") -->"
      ],
      "id": "d3d06742-1ace-4473-9367-21547d43ea32"
    },
    {
      "cell_type": "raw",
      "metadata": {
        "raw_mimetype": "text/html"
      },
      "source": [
        "<!-- abline(fit4) -->"
      ],
      "id": "6d93df89-119c-4a62-b53e-cd04a3f22a33"
    },
    {
      "cell_type": "raw",
      "metadata": {
        "raw_mimetype": "text/html"
      },
      "source": [
        "<!-- title(q4) -->"
      ],
      "id": "f3386a5e-cc20-4e11-99a7-4358c74e5c5b"
    },
    {
      "cell_type": "raw",
      "metadata": {
        "raw_mimetype": "text/html"
      },
      "source": [
        "<!-- par(mfrow = c(1, 1)) -->"
      ],
      "id": "087c5883-2df0-4add-a1fd-e01db5da7656"
    },
    {
      "cell_type": "raw",
      "metadata": {
        "raw_mimetype": "text/html"
      },
      "source": [
        "<!-- ``` -->"
      ],
      "id": "ed80947a-730d-47e4-a5fd-66d757e6560d"
    },
    {
      "cell_type": "raw",
      "metadata": {
        "raw_mimetype": "text/html"
      },
      "source": [
        "<!-- --- -->"
      ],
      "id": "a834a86c-2629-48f2-a65e-a2fe4dd1e376"
    },
    {
      "cell_type": "raw",
      "metadata": {
        "raw_mimetype": "text/html"
      },
      "source": [
        "<!-- The coefficient of determination for the parallel lines model fit to the `penguins` data in Section \\@ref(s:penguins-mlr2) is 0.81, as shown in the R output below. By adding the `body_mass_g` regressor and `species` predictor to the constant mean model of `bill_length_mm`, we reduced the RSS by 81%. -->"
      ],
      "id": "c5507eec-a2d5-4ea0-ac61-97bcc29d5bc0"
    },
    {
      "cell_type": "raw",
      "metadata": {
        "raw_mimetype": "text/html"
      },
      "source": [
        "<!-- ```{r} -->"
      ],
      "id": "e3181d89-ddcb-4470-804d-c4c5bc949a26"
    },
    {
      "cell_type": "raw",
      "metadata": {
        "raw_mimetype": "text/html"
      },
      "source": [
        "<!-- summary(lmodp)$r.squared -->"
      ],
      "id": "0e7c4085-6291-41c3-8765-23f4744d386b"
    },
    {
      "cell_type": "raw",
      "metadata": {
        "raw_mimetype": "text/html"
      },
      "source": [
        "<!-- ``` -->"
      ],
      "id": "34a2f905-fa78-4b25-b70e-0e22ef40edf1"
    },
    {
      "cell_type": "raw",
      "metadata": {
        "raw_mimetype": "text/html"
      },
      "source": [
        "<!-- It may seem sensible to choose between models based on the value of $R^2$. This is unwise for two reasons: -->"
      ],
      "id": "3cf7455a-8090-4df8-abcb-37ab6b7c2681"
    },
    {
      "cell_type": "raw",
      "metadata": {
        "raw_mimetype": "text/html"
      },
      "source": [
        "<!-- 1. $R^2$ never decreases as regressors are added to an existing model. Basically, you can increase $R^2$ by simply adding regressors to your existing model, even if they are non-sensical. -->"
      ],
      "id": "84070ce1-22ca-40d4-ba95-247f9432e27e"
    },
    {
      "cell_type": "raw",
      "metadata": {
        "raw_mimetype": "text/html"
      },
      "source": [
        "<!-- 2. $R^2$ doesn't tell you whether a model adequately describes the pattern of the observed data. $R^2$ is a useful statistic for measuring model fit when there is approximately a linear relationship between the response values and fitted values. -->"
      ],
      "id": "50330370-650e-42f4-83aa-751bf833dfe2"
    },
    {
      "cell_type": "raw",
      "metadata": {
        "raw_mimetype": "text/html"
      },
      "source": [
        "<!-- --- -->"
      ],
      "id": "4fac52af-ee8c-495d-8c87-7c1656366a8e"
    },
    {
      "cell_type": "raw",
      "metadata": {
        "raw_mimetype": "text/html"
      },
      "source": [
        "<!-- Regarding point 1, consider what happens when we add a regressor of random values to the parallel lines model fit to the `penguins` data. The code below sets a random number seed so that we can get the same results each time we run the code, creates the regressor `noisyx` by sampling 344 values randomly drawn from a $\\mathsf{N}(0,1)$ distribution, adds `noisyx` as a regressor to the parallel lines regression model stored in `lmodp`, and then extracts the $R^2$ value. We use the `update` method to update our existing model. The `update` function takes an existing model as its first argument and then the `formula` for the updated model. The syntax `. ~ .` means \"keep the same response (on the left) and the same regressors (on the right)\". We can then add or subtract regressors using the typical `formula` syntax. We use this approach to add the `noisyx` regressor to the regressors already in `lmodp`. -->"
      ],
      "id": "f8062b39-a8fd-4a5b-893e-2c4f58529157"
    },
    {
      "cell_type": "raw",
      "metadata": {
        "raw_mimetype": "text/html"
      },
      "source": [
        "<!-- ```{r} -->"
      ],
      "id": "8bd813a8-ba80-4b08-a3ee-8c02ed0ee9c2"
    },
    {
      "cell_type": "raw",
      "metadata": {
        "raw_mimetype": "text/html"
      },
      "source": [
        "<!-- set.seed(28) # for reproducibility -->"
      ],
      "id": "805b577d-3e3d-41ab-832c-1abc11ed1c8e"
    },
    {
      "cell_type": "raw",
      "metadata": {
        "raw_mimetype": "text/html"
      },
      "source": [
        "<!-- # create regressor of random noise -->"
      ],
      "id": "9f0daca1-6d30-477c-a8b6-9dc671924984"
    },
    {
      "cell_type": "raw",
      "metadata": {
        "raw_mimetype": "text/html"
      },
      "source": [
        "<!-- noisyx <- rnorm(344) -->"
      ],
      "id": "8b07a095-b4c5-45d7-a5f6-76bdcea178fa"
    },
    {
      "cell_type": "raw",
      "metadata": {
        "raw_mimetype": "text/html"
      },
      "source": [
        "<!-- # add noisyx as regressor to lmodp -->"
      ],
      "id": "02b2fe7b-6a0f-43cd-b7a0-c7d08246a51d"
    },
    {
      "cell_type": "raw",
      "metadata": {
        "raw_mimetype": "text/html"
      },
      "source": [
        "<!-- lmod_silly <- update(lmodp, . ~ . + noisyx) -->"
      ],
      "id": "bd473bd1-1146-43ae-8658-59a8572638c2"
    },
    {
      "cell_type": "raw",
      "metadata": {
        "raw_mimetype": "text/html"
      },
      "source": [
        "<!-- # extract R^2 from fitted model -->"
      ],
      "id": "ca10d0bf-34fe-4b26-9dcf-83235eeb0d8e"
    },
    {
      "cell_type": "raw",
      "metadata": {
        "raw_mimetype": "text/html"
      },
      "source": [
        "<!-- summary(lmod_silly)$r.squared -->"
      ],
      "id": "4c40fc62-3485-4d30-916c-66788e14e36b"
    },
    {
      "cell_type": "raw",
      "metadata": {
        "raw_mimetype": "text/html"
      },
      "source": [
        "<!-- ``` -->"
      ],
      "id": "e4f7453c-3a4a-4fa2-9aea-c17af0b6df5e"
    },
    {
      "cell_type": "raw",
      "metadata": {
        "raw_mimetype": "text/html"
      },
      "source": [
        "<!-- The $R^2$ value increased from 0.8080 to 0.8088! So clearly, choosing the model with the largest $R^2$ can be a mistake, as it will tend to favor models with more regressors. -->"
      ],
      "id": "35b6e6d2-b5c7-417d-bea9-be5415823a40"
    },
    {
      "cell_type": "raw",
      "metadata": {
        "raw_mimetype": "text/html"
      },
      "source": [
        "<!-- --- -->"
      ],
      "id": "4074ce63-1ae4-4c0f-b8d9-106d2c59ae37"
    },
    {
      "cell_type": "raw",
      "metadata": {
        "raw_mimetype": "text/html"
      },
      "source": [
        "<!-- Regarding point 2, $R^2$ can mislead you into thinking an inappropriate model fits better than it actually does. @anscombe1973graphs provided a canonical data set known as \"Anscombe's quartet\" that illustrates this point. The data set is comprised of 4 different data sets. When a simple linear regression model is fit to each data set, we find that $\\hat{\\beta}_0=3$, $\\hat{\\beta}_1=0.5$, and that $R^2=0.67$. However, as we will see, not all models describe the data particularly well! -->"
      ],
      "id": "785bae9d-c03f-45df-be6a-05164c32cc59"
    },
    {
      "cell_type": "raw",
      "metadata": {
        "raw_mimetype": "text/html"
      },
      "source": [
        "<!-- Anscombe's quartet is available as the `anscombe` data set in the **datasets** package. The data set includes `r nrow(anscombe)` observations of -->"
      ],
      "id": "4b74ea31-a4ad-4996-bd4e-aca2e8f9a6a9"
    },
    {
      "cell_type": "raw",
      "metadata": {
        "raw_mimetype": "text/html"
      },
      "source": [
        "<!-- `r ncol(anscombe)` variables. The variables are: -->"
      ],
      "id": "99afd6ea-8561-41ae-b26f-bd6e6e0012d0"
    },
    {
      "cell_type": "raw",
      "metadata": {
        "raw_mimetype": "text/html"
      },
      "source": [
        "<!-- -   `x1`, `x2`, `x3` `x4`: the regressor variable for each individual data set. -->"
      ],
      "id": "1260efeb-811f-494a-b3bf-fc7494d206c9"
    },
    {
      "cell_type": "raw",
      "metadata": {
        "raw_mimetype": "text/html"
      },
      "source": [
        "<!-- -   `y1`, `y2`, `y3` `y4`: the response variable for each individual data set. -->"
      ],
      "id": "1eeaf47f-6b89-4930-a8cf-062d9a1cd67b"
    },
    {
      "cell_type": "raw",
      "metadata": {
        "raw_mimetype": "text/html"
      },
      "source": [
        "<!-- We fit the simple linear regression model to the four data sets in the code below, then extract the coefficients and $R^2$ to verify the information provided above. -->"
      ],
      "id": "9032e240-b4da-46a6-9fd9-9dd08d246b4b"
    },
    {
      "cell_type": "raw",
      "metadata": {
        "raw_mimetype": "text/html"
      },
      "source": [
        "<!-- ```{r} -->"
      ],
      "id": "d6656041-d5e3-48c7-b1ba-edb335b156e5"
    },
    {
      "cell_type": "raw",
      "metadata": {
        "raw_mimetype": "text/html"
      },
      "source": [
        "<!-- # fit model to first data set -->"
      ],
      "id": "ff498165-4150-470c-8d2b-61ea0dcd698b"
    },
    {
      "cell_type": "raw",
      "metadata": {
        "raw_mimetype": "text/html"
      },
      "source": [
        "<!-- lmod_a1 <- lm(y1 ~ x1, data = anscombe) -->"
      ],
      "id": "bffc66ac-0911-4860-ac15-f70ed5af339d"
    },
    {
      "cell_type": "raw",
      "metadata": {
        "raw_mimetype": "text/html"
      },
      "source": [
        "<!-- # extract coefficients from fitted model -->"
      ],
      "id": "9ec16ab6-a383-4455-80be-31ed4ba4b94a"
    },
    {
      "cell_type": "raw",
      "metadata": {
        "raw_mimetype": "text/html"
      },
      "source": [
        "<!-- coef(lmod_a1) -->"
      ],
      "id": "eeb31df4-179f-47df-9792-39032ee5c393"
    },
    {
      "cell_type": "raw",
      "metadata": {
        "raw_mimetype": "text/html"
      },
      "source": [
        "<!-- # extract R^2 from fitted model -->"
      ],
      "id": "da3fdec9-4496-4078-a5b9-4720e9e795b0"
    },
    {
      "cell_type": "raw",
      "metadata": {
        "raw_mimetype": "text/html"
      },
      "source": [
        "<!-- summary(lmod_a1)$r.squared -->"
      ],
      "id": "d34c90fa-d62e-4da9-83bd-a926e490a8de"
    },
    {
      "cell_type": "raw",
      "metadata": {
        "raw_mimetype": "text/html"
      },
      "source": [
        "<!-- # fit model to second data set -->"
      ],
      "id": "f46c1b6b-7ee1-4f24-8927-c4353cf1916b"
    },
    {
      "cell_type": "raw",
      "metadata": {
        "raw_mimetype": "text/html"
      },
      "source": [
        "<!-- lmod_a2 <- lm(y2 ~ x2, data = anscombe) -->"
      ],
      "id": "b829b429-bd99-4246-8b93-0bca287bf437"
    },
    {
      "cell_type": "raw",
      "metadata": {
        "raw_mimetype": "text/html"
      },
      "source": [
        "<!-- coef(lmod_a2) -->"
      ],
      "id": "7b7ab6ec-93b4-4bd3-9a7c-4bae3b0b8c60"
    },
    {
      "cell_type": "raw",
      "metadata": {
        "raw_mimetype": "text/html"
      },
      "source": [
        "<!-- summary(lmod_a2)$r.squared -->"
      ],
      "id": "109e69a0-6491-480d-9762-73a54e7a1f15"
    },
    {
      "cell_type": "raw",
      "metadata": {
        "raw_mimetype": "text/html"
      },
      "source": [
        "<!-- # fit model to third data set -->"
      ],
      "id": "ef546711-d276-4412-b2f3-e62e743997ea"
    },
    {
      "cell_type": "raw",
      "metadata": {
        "raw_mimetype": "text/html"
      },
      "source": [
        "<!-- lmod_a3 <- lm(y3 ~ x3, data = anscombe) -->"
      ],
      "id": "4a2a8610-9d78-47d2-aa02-8b8cfaf22635"
    },
    {
      "cell_type": "raw",
      "metadata": {
        "raw_mimetype": "text/html"
      },
      "source": [
        "<!-- coef(lmod_a3) -->"
      ],
      "id": "b1be3203-9b38-497b-95d9-4909f166fc89"
    },
    {
      "cell_type": "raw",
      "metadata": {
        "raw_mimetype": "text/html"
      },
      "source": [
        "<!-- summary(lmod_a3)$r.squared -->"
      ],
      "id": "97981719-c1a1-441a-8115-ae1d8dbb462f"
    },
    {
      "cell_type": "raw",
      "metadata": {
        "raw_mimetype": "text/html"
      },
      "source": [
        "<!-- # fit model to fourth data set -->"
      ],
      "id": "582eede4-8ef5-4fbe-8f74-fd9b87b5d5b9"
    },
    {
      "cell_type": "raw",
      "metadata": {
        "raw_mimetype": "text/html"
      },
      "source": [
        "<!-- lmod_a4 <- lm(y4 ~ x4, data = anscombe) -->"
      ],
      "id": "c93b226b-d4ed-467f-883e-9975fc89d85d"
    },
    {
      "cell_type": "raw",
      "metadata": {
        "raw_mimetype": "text/html"
      },
      "source": [
        "<!-- coef(lmod_a4) -->"
      ],
      "id": "cd17559d-ffcf-4d2d-b34e-f6ba62e108dd"
    },
    {
      "cell_type": "raw",
      "metadata": {
        "raw_mimetype": "text/html"
      },
      "source": [
        "<!-- summary(lmod_a4)$r.squared -->"
      ],
      "id": "40cb84c4-52bd-4a7e-9bf5-9199505a55dc"
    },
    {
      "cell_type": "raw",
      "metadata": {
        "raw_mimetype": "text/html"
      },
      "source": [
        "<!-- ``` -->"
      ],
      "id": "8e313048-f82c-4094-b0f2-3348067125f8"
    },
    {
      "cell_type": "raw",
      "metadata": {
        "raw_mimetype": "text/html"
      },
      "source": [
        "<!-- Figure \\@ref(fig:anscombe-plots) provides a scatter plot each data set and overlays their fitted models. -->"
      ],
      "id": "7d4e087c-7b42-4212-8081-7dd1fdaac052"
    },
    {
      "cell_type": "raw",
      "metadata": {
        "raw_mimetype": "text/html"
      },
      "source": [
        "<!-- ```{r anscombe-plots, fig.cap=\"Scatter plots of the four Anscombe data sets along with their line of best fit.\", fig.asp = .5, echo = FALSE, message = FALSE} -->"
      ],
      "id": "50502e4d-e590-403e-a439-8db862948a4d"
    },
    {
      "cell_type": "raw",
      "metadata": {
        "raw_mimetype": "text/html"
      },
      "source": [
        "<!-- # par(mfrow = c(1, 4)) -->"
      ],
      "id": "1614fd50-eba4-4956-b64f-8d63ddeeecd4"
    },
    {
      "cell_type": "raw",
      "metadata": {
        "raw_mimetype": "text/html"
      },
      "source": [
        "<!-- # plot(y1 ~ x1, data = anscombe) -->"
      ],
      "id": "b277b910-2153-4c4e-80ea-8f8223b3dd19"
    },
    {
      "cell_type": "raw",
      "metadata": {
        "raw_mimetype": "text/html"
      },
      "source": [
        "<!-- # title(\"data set 1\") -->"
      ],
      "id": "816b14b3-3ef0-481e-a83e-fbd26ba11b3f"
    },
    {
      "cell_type": "raw",
      "metadata": {
        "raw_mimetype": "text/html"
      },
      "source": [
        "<!-- # abline(lmod_a1) -->"
      ],
      "id": "3ba48922-3f9a-4345-a350-293fc710a258"
    },
    {
      "cell_type": "raw",
      "metadata": {
        "raw_mimetype": "text/html"
      },
      "source": [
        "<!-- # plot(y2 ~ x2, data = anscombe) -->"
      ],
      "id": "7de51811-0441-4f2b-8170-4f3ea04521c3"
    },
    {
      "cell_type": "raw",
      "metadata": {
        "raw_mimetype": "text/html"
      },
      "source": [
        "<!-- # title(\"data set 2\") -->"
      ],
      "id": "92513a97-a72f-44fa-a606-5ca12f370e8d"
    },
    {
      "cell_type": "raw",
      "metadata": {
        "raw_mimetype": "text/html"
      },
      "source": [
        "<!-- # abline(lmod_a2) -->"
      ],
      "id": "d65ae02e-207a-4544-a7dc-39bda62c5d74"
    },
    {
      "cell_type": "raw",
      "metadata": {
        "raw_mimetype": "text/html"
      },
      "source": [
        "<!-- # plot(y3 ~ x3, data = anscombe) -->"
      ],
      "id": "a77292c8-fe05-4209-8c22-c33b9e6acf3a"
    },
    {
      "cell_type": "raw",
      "metadata": {
        "raw_mimetype": "text/html"
      },
      "source": [
        "<!-- # title(\"data set 3\") -->"
      ],
      "id": "0bcbcea3-ef1a-4fa8-b239-e720a2a1cff6"
    },
    {
      "cell_type": "raw",
      "metadata": {
        "raw_mimetype": "text/html"
      },
      "source": [
        "<!-- # abline(lmod_a3) -->"
      ],
      "id": "9b4a0160-290c-4dea-88a3-3de0b4e5eea3"
    },
    {
      "cell_type": "raw",
      "metadata": {
        "raw_mimetype": "text/html"
      },
      "source": [
        "<!-- # plot(y4 ~ x4, data = anscombe) -->"
      ],
      "id": "b7a7cfaa-0bde-48fc-963c-5d62216cbdb6"
    },
    {
      "cell_type": "raw",
      "metadata": {
        "raw_mimetype": "text/html"
      },
      "source": [
        "<!-- # title(\"data set 4\") -->"
      ],
      "id": "60cef104-f4da-46c2-a3ee-ee5b931ec286"
    },
    {
      "cell_type": "raw",
      "metadata": {
        "raw_mimetype": "text/html"
      },
      "source": [
        "<!-- # abline(lmod_a4) -->"
      ],
      "id": "097d1b96-58e0-4e8d-b64d-ab84ff2a80a8"
    },
    {
      "cell_type": "raw",
      "metadata": {
        "raw_mimetype": "text/html"
      },
      "source": [
        "<!-- # par(mfrow = c(1, 1)) -->"
      ],
      "id": "1ab210e5-0b86-4efc-8b4e-4f44c0f955f7"
    },
    {
      "cell_type": "raw",
      "metadata": {
        "raw_mimetype": "text/html"
      },
      "source": [
        "<!-- adf = data.frame(x = unlist(anscombe[,1:4]), -->"
      ],
      "id": "1aaa1252-1f08-4c24-978e-1eaf9d0c0847"
    },
    {
      "cell_type": "raw",
      "metadata": {
        "raw_mimetype": "text/html"
      },
      "source": [
        "<!--                  y = unlist(anscombe[,5:8]), -->"
      ],
      "id": "057e1505-2f5b-4fbc-ace9-d4afcf876743"
    },
    {
      "cell_type": "raw",
      "metadata": {
        "raw_mimetype": "text/html"
      },
      "source": [
        "<!--                  set = factor(rep(1:4, each = 11))) -->"
      ],
      "id": "bff557cc-5231-4d9a-b5cb-96b2f7a36405"
    },
    {
      "cell_type": "raw",
      "metadata": {
        "raw_mimetype": "text/html"
      },
      "source": [
        "<!-- ggplot(adf, aes(x = x, y = y, group = set, col = set)) + -->"
      ],
      "id": "494bc4e4-be67-4a61-9bf5-0eac33bffe63"
    },
    {
      "cell_type": "raw",
      "metadata": {
        "raw_mimetype": "text/html"
      },
      "source": [
        "<!--   geom_point(col = \"black\") + -->"
      ],
      "id": "e2ded3b4-3da2-4154-aa5b-5f7b234d945f"
    },
    {
      "cell_type": "raw",
      "metadata": {
        "raw_mimetype": "text/html"
      },
      "source": [
        "<!--   geom_smooth(aes(group = set), method = \"lm\", se = FALSE) + -->"
      ],
      "id": "d85691b8-1a18-4a42-baa1-b59d7cfdf55e"
    },
    {
      "cell_type": "raw",
      "metadata": {
        "raw_mimetype": "text/html"
      },
      "source": [
        "<!--   facet_grid(. ~ set) + -->"
      ],
      "id": "fb97fafa-4f1f-40b0-9c8c-a99217fec97c"
    },
    {
      "cell_type": "raw",
      "metadata": {
        "raw_mimetype": "text/html"
      },
      "source": [
        "<!--   theme_bw() -->"
      ],
      "id": "6fc759bd-041d-41ff-ae07-1481c3ebd635"
    },
    {
      "cell_type": "raw",
      "metadata": {
        "raw_mimetype": "text/html"
      },
      "source": [
        "<!-- ``` -->"
      ],
      "id": "558cc8dd-fa32-4f5f-80b2-984da35a0555"
    },
    {
      "cell_type": "raw",
      "metadata": {
        "raw_mimetype": "text/html"
      },
      "source": [
        "<!-- While the fitted model and $R^2$ value is essentially the same for each model, the fitted model is only appropriate for data set 1. The fitted model for the second data set fails to model the curve of the data. The third fitted model doesn't handle the outlier in the data. Lastly, the fourth data set has a single point on the far right side driving the model fit, so the fitted model is highly questionable. -->"
      ],
      "id": "53ff2c7c-f406-401c-af06-7293a64ac41c"
    },
    {
      "cell_type": "raw",
      "metadata": {
        "raw_mimetype": "text/html"
      },
      "source": [
        "<!-- To address the problem with $R^2$ that it cannot decrease as regressors are added to a model, @ezekiel1930methods proposed the adjusted R-squared statistic for measuring model fit. The adjusted $R^2$ statistic is defined as -->"
      ],
      "id": "e33f4f3a-eed6-46fe-8510-8429c03de4f0"
    },
    {
      "cell_type": "raw",
      "metadata": {
        "raw_mimetype": "text/html"
      },
      "source": [
        "<!-- \\[ -->"
      ],
      "id": "543d9a8b-7fe9-4f68-b378-5c5f68c57b6c"
    },
    {
      "cell_type": "raw",
      "metadata": {
        "raw_mimetype": "text/html"
      },
      "source": [
        "<!-- R^2_a=1-(1-R^2)\\frac{n-1}{n-p}=1-\\frac{RSS/(n-p)}{TSS/(n-1)}. -->"
      ],
      "id": "4c4956a4-b46e-4ae3-8b1c-589a836c2f9b"
    },
    {
      "cell_type": "raw",
      "metadata": {
        "raw_mimetype": "text/html"
      },
      "source": [
        "<!-- \\] -->"
      ],
      "id": "c4ed6dba-5bbd-4712-8f41-0403ebe5322b"
    },
    {
      "cell_type": "raw",
      "metadata": {
        "raw_mimetype": "text/html"
      },
      "source": [
        "<!-- Practically speaking, $R^2_a$ will only increase when a regressors substantively improves the fit of the model to the observed data. We favor models with larger values of $R^2_a$. To extract the adjusted R-squared from a fitted model, we can use the syntax `summary(lmod)$adj.R.squared`, where `lmod` is the fitted model. -->"
      ],
      "id": "a1cad15f-0531-47e7-bf99-d44329baddf6"
    },
    {
      "cell_type": "raw",
      "metadata": {
        "raw_mimetype": "text/html"
      },
      "source": [
        "<!-- Using the code below, we extract the $R^2_a$ for the 4 models we previously fit to the `penguins` data. Specifically, we extract $R_a^2$ for the simple linear regression model fit in Section \\@ref(s:penguins-slr), the multiple linear regression model in Section \\@ref(s:penguins-mlr), and the parallel and separate lines models fit in Section \\@ref(s:penguins-mlr2). -->"
      ],
      "id": "cb7d136b-9868-4137-8f19-0dd9b2f8d208"
    },
    {
      "cell_type": "raw",
      "metadata": {
        "raw_mimetype": "text/html"
      },
      "source": [
        "<!-- ```{r} -->"
      ],
      "id": "72fb1b09-e6a7-427f-85f6-a8058497f3d6"
    },
    {
      "cell_type": "raw",
      "metadata": {
        "raw_mimetype": "text/html"
      },
      "source": [
        "<!-- # simple linear regression model -->"
      ],
      "id": "c3574788-0a82-4930-8b8f-4d92719a8549"
    },
    {
      "cell_type": "raw",
      "metadata": {
        "raw_mimetype": "text/html"
      },
      "source": [
        "<!-- summary(lmod)$adj.r.squared -->"
      ],
      "id": "6124af36-a648-48b1-a0a0-dcd8548acf20"
    },
    {
      "cell_type": "raw",
      "metadata": {
        "raw_mimetype": "text/html"
      },
      "source": [
        "<!-- # multiple linear regression model -->"
      ],
      "id": "30d9c384-3f45-4c8b-9cc9-579d0984e31a"
    },
    {
      "cell_type": "raw",
      "metadata": {
        "raw_mimetype": "text/html"
      },
      "source": [
        "<!-- summary(mlmod)$adj.r.squared -->"
      ],
      "id": "ac0a5bef-111f-4c9c-8532-06497744d374"
    },
    {
      "cell_type": "raw",
      "metadata": {
        "raw_mimetype": "text/html"
      },
      "source": [
        "<!-- # parallel lines model -->"
      ],
      "id": "11c3103d-2261-4308-9b96-0b1ac923ebb8"
    },
    {
      "cell_type": "raw",
      "metadata": {
        "raw_mimetype": "text/html"
      },
      "source": [
        "<!-- summary(lmodp)$adj.r.squared -->"
      ],
      "id": "072dbf53-68e7-462a-bc50-3a6e2bee0220"
    },
    {
      "cell_type": "raw",
      "metadata": {
        "raw_mimetype": "text/html"
      },
      "source": [
        "<!-- # separate lines model -->"
      ],
      "id": "f1b1c43b-f1ef-489d-a7a0-7a91627d06c0"
    },
    {
      "cell_type": "raw",
      "metadata": {
        "raw_mimetype": "text/html"
      },
      "source": [
        "<!-- summary(lmods)$adj.r.squared -->"
      ],
      "id": "920232a3-7439-4261-866c-ffbe15b9d2d4"
    },
    {
      "cell_type": "raw",
      "metadata": {
        "raw_mimetype": "text/html"
      },
      "source": [
        "<!-- ``` -->"
      ],
      "id": "52a7ceba-928f-4463-9792-1b2fd986004d"
    },
    {
      "cell_type": "raw",
      "metadata": {
        "raw_mimetype": "text/html"
      },
      "source": [
        "<!-- With an $R_a^2$ of 0.8070, the separate lines regression model appears to be slightly favored over the other 3 models fit to the `penguins` data. To confirm that this statistic is meaningful (i.e., that the model provides a reasonable fit to the data), we use the code below to create a scatter plot of the response versus fitted values shown in Figure \\@ref(fig:y-vs-yhat-penguins). The points in Figure \\@ref(fig:y-vs-yhat-penguins) follow a linear pattern, so the separate lines model seems to be a reasonable model for the `penguins` data. -->"
      ],
      "id": "5ad72a18-f341-4fb3-94cc-99793cc2bf0a"
    },
    {
      "cell_type": "raw",
      "metadata": {
        "raw_mimetype": "text/html"
      },
      "source": [
        "<!-- ```{r y-vs-yhat-penguins, fig.cap=\"A scatter plot of the observed bill length versus the fitted values of the separate lines model for the `penguins` data.\"} -->"
      ],
      "id": "8588b5db-802f-4154-85a1-a0909572d3a0"
    },
    {
      "cell_type": "raw",
      "metadata": {
        "raw_mimetype": "text/html"
      },
      "source": [
        "<!-- plot(penguins$bill_length_mm ~ fitted(lmods), -->"
      ],
      "id": "0aea5d54-2a9a-4492-9834-6754b4157e81"
    },
    {
      "cell_type": "raw",
      "metadata": {
        "raw_mimetype": "text/html"
      },
      "source": [
        "<!--      xlab = \"fitted values\", ylab = \"bill length (mm)\") -->"
      ],
      "id": "4923d1eb-c402-429b-ae13-b7faff16f771"
    },
    {
      "cell_type": "raw",
      "metadata": {
        "raw_mimetype": "text/html"
      },
      "source": [
        "<!-- ``` -->"
      ],
      "id": "19e29887-fda7-4a9c-bb8b-1142ead87fa5"
    },
    {
      "cell_type": "raw",
      "metadata": {
        "raw_mimetype": "text/html"
      },
      "source": [
        "<!-- # Summary -->"
      ],
      "id": "101825c7-074c-42b1-8fc9-aef1981b81a0"
    },
    {
      "cell_type": "raw",
      "metadata": {
        "raw_mimetype": "text/html"
      },
      "source": [
        "<!-- In this chapter, we learned: -->"
      ],
      "id": "fe84f43b-b530-4df2-9e78-8854a79e5ea5"
    },
    {
      "cell_type": "raw",
      "metadata": {
        "raw_mimetype": "text/html"
      },
      "source": [
        "<!-- - What a linear model is. -->"
      ],
      "id": "6314133f-51dc-4ee4-8e3d-68d743272a00"
    },
    {
      "cell_type": "raw",
      "metadata": {
        "raw_mimetype": "text/html"
      },
      "source": [
        "<!-- - What various objects are, such as coefficients, residuals, fitted values, etc. -->"
      ],
      "id": "1965630a-94d7-4cc2-9e34-80e8b9a9dcf2"
    },
    {
      "cell_type": "raw",
      "metadata": {
        "raw_mimetype": "text/html"
      },
      "source": [
        "<!-- - How to estimate the coefficients of a linear model using ordinary least squares estimation. -->"
      ],
      "id": "e6b1a264-e2ed-4692-9f46-d2c9f834689e"
    },
    {
      "cell_type": "raw",
      "metadata": {
        "raw_mimetype": "text/html"
      },
      "source": [
        "<!-- - How to fit a linear model using R. -->"
      ],
      "id": "49572dc1-5c9f-4cfb-8fd9-1706081541fb"
    },
    {
      "cell_type": "raw",
      "metadata": {
        "raw_mimetype": "text/html"
      },
      "source": [
        "<!-- - How to include a categorical predictor in a linear model. -->"
      ],
      "id": "f24b5d8a-1616-472b-9b95-a69c7af7d931"
    },
    {
      "cell_type": "raw",
      "metadata": {
        "raw_mimetype": "text/html"
      },
      "source": [
        "<!-- - How to evaluate the fit of a model. -->"
      ],
      "id": "094601cc-1d6a-489c-8d13-3c55641cb6e1"
    },
    {
      "cell_type": "raw",
      "metadata": {
        "raw_mimetype": "text/html"
      },
      "source": [
        "<!-- ## Summary of terms -->"
      ],
      "id": "5ee22291-4a44-4e43-90c8-1c34eabb69f6"
    },
    {
      "cell_type": "raw",
      "metadata": {
        "raw_mimetype": "text/html"
      },
      "source": [
        "<!-- We have introduced many terms to define a linear model. It can be difficult to keep track of their notation, their purpose, whether they are observable, and whether they are treated as random variables or vectors. We discuss various terms below, and then summarize the discussion in Table \\@ref(tab:term-df). -->"
      ],
      "id": "79709807-edab-44a6-aa0a-5815a05cbe6e"
    },
    {
      "cell_type": "raw",
      "metadata": {
        "raw_mimetype": "text/html"
      },
      "source": [
        "<!-- We've already talked about observing the response variable and the predictor/regressor variables. So these objects are observable. However, we have no way to measure the regression coefficients or the error. These are not observable. One way to distinguish observable versus non-observable variables is that observable variables are denoted using Phoenician letters (e.g., $X$ and $Y$) while non-observable variables are denoted using Greek letters (e.g., $\\beta_j$, $\\epsilon$, $\\sigma^2$). -->"
      ],
      "id": "f2e190ea-a815-4d65-9416-98477306e96b"
    },
    {
      "cell_type": "raw",
      "metadata": {
        "raw_mimetype": "text/html"
      },
      "source": [
        "<!-- We treat the response variable as a random variable. Perhaps surprisingly, we treat the predictor and regressor variables as fixed, non-random variables. The regression coefficients are treated as fixed, non-random but unknown values. This is standard for parameters in a statistical model. The errors are also treated as random variables. In fact, since both the regressor variables and the regression coefficients are non-random, the only way for the responses in Equation \\@ref(eq:lmSystem) to be random variables is for the errors to be random. -->"
      ],
      "id": "e733dfff-184c-4189-b53f-1d9628aa11ff"
    },
    {
      "cell_type": "raw",
      "metadata": {
        "raw_mimetype": "text/html"
      },
      "source": [
        "<!-- ```{r term-df, echo = FALSE} -->"
      ],
      "id": "cf62966f-c14a-4cd9-889e-ea332fdbc816"
    },
    {
      "cell_type": "raw",
      "metadata": {
        "raw_mimetype": "text/html"
      },
      "source": [
        "<!-- term <- c(\"$Y$\", \"$Y_i$\", \"$\\\\mathbf{y}$\", \"$X$\", -->"
      ],
      "id": "e23f3d1d-408a-456f-bd8c-ff7012d2c174"
    },
    {
      "cell_type": "raw",
      "metadata": {
        "raw_mimetype": "text/html"
      },
      "source": [
        "<!--              \"$X_j$\", \"$x_{i,j}$\", \"$\\\\mathbf{X}$\", \"$\\\\mathbf{x}_i$\", \"$\\\\beta_j$\", \"$\\\\boldsymbol{\\\\beta}$\", \"$\\\\epsilon$\", \"$\\\\epsilon_i$\") -->"
      ],
      "id": "041b09c0-659b-4edf-be62-f9950bb556ce"
    },
    {
      "cell_type": "raw",
      "metadata": {
        "raw_mimetype": "text/html"
      },
      "source": [
        "<!-- description <- c(\"response variable\", \"response value for the $i$th observation\", \"the $n\\\\times 1$ column vector of response values\", \"regressor variable\", \"the $j$th regressor variable\", \"the value of the $j$th regressor variable for the $i$th observation\", \"the $n\\\\times p$ matrix of regressor values\", \"the $p\\\\times 1$ vector of regressor values for the $i$th observation\", \"the coefficient associated with the $j$th regressor variable\", \"the $p\\\\times 1$ column vector of regression coefficients\", \"the model error\", \"the error for the $i$th observation\") -->"
      ],
      "id": "8b53b3af-ed93-4605-9702-bb6d93a7f047"
    },
    {
      "cell_type": "raw",
      "metadata": {
        "raw_mimetype": "text/html"
      },
      "source": [
        "<!-- observable <- c(\"Yes\", \"Yes\", \"Yes\", \"Yes\", \"Yes\", \"Yes\", \"Yes\", \"Yes\", \"No\", \"No\", \"No\", \"No\") -->"
      ],
      "id": "edb38072-beca-498f-889e-3d19c0bcc1a7"
    },
    {
      "cell_type": "raw",
      "metadata": {
        "raw_mimetype": "text/html"
      },
      "source": [
        "<!-- random <- c(\"Yes\", \"Yes\", \"Yes\", \"No\", \"No\", \"No\", \"No\", \"No\", \"No\", \"No\", \"Yes\", \"Yes\") -->"
      ],
      "id": "d6759979-f64a-4bc3-aa15-2e663b0560fb"
    },
    {
      "cell_type": "raw",
      "metadata": {
        "raw_mimetype": "text/html"
      },
      "source": [
        "<!-- term_df <- data.frame(term, description, observable, random) -->"
      ],
      "id": "76c5ecef-a526-4f9a-bc1c-1f2d1fa1af82"
    },
    {
      "cell_type": "raw",
      "metadata": {
        "raw_mimetype": "text/html"
      },
      "source": [
        "<!-- kbl(term_df, -->"
      ],
      "id": "0969cbda-32f4-4023-876e-4ba5c06ad4ff"
    },
    {
      "cell_type": "raw",
      "metadata": {
        "raw_mimetype": "text/html"
      },
      "source": [
        "<!--     col.names = c(\"Term\", \"Description\", \"Observable?\", \"Random?\"), -->"
      ],
      "id": "5d35b40f-84ff-48ea-927f-a81e8036f7d8"
    },
    {
      "cell_type": "raw",
      "metadata": {
        "raw_mimetype": "text/html"
      },
      "source": [
        "<!--     caption = \"An overview of terms used to define a linear model.\", -->"
      ],
      "id": "6101fb87-7f23-45aa-b281-f37cfef31350"
    },
    {
      "cell_type": "raw",
      "metadata": {
        "raw_mimetype": "text/html"
      },
      "source": [
        "<!--     booktabs = TRUE, -->"
      ],
      "id": "e57cbd1e-7c85-4b2c-81a0-68db416f3e48"
    },
    {
      "cell_type": "raw",
      "metadata": {
        "raw_mimetype": "text/html"
      },
      "source": [
        "<!--     escape = FALSE) |> -->"
      ],
      "id": "d6b2a9e5-f43a-4c89-a82b-63543f6dddee"
    },
    {
      "cell_type": "raw",
      "metadata": {
        "raw_mimetype": "text/html"
      },
      "source": [
        "<!--   column_spec(2, width = \"2in\") |> -->"
      ],
      "id": "06d6cca5-7100-44e1-b47e-96fc2de580e7"
    },
    {
      "cell_type": "raw",
      "metadata": {
        "raw_mimetype": "text/html"
      },
      "source": [
        "<!--   kable_styling(full_width = FALSE) -->"
      ],
      "id": "c77b3ee2-1d6f-41ff-bca6-30416dccc658"
    },
    {
      "cell_type": "raw",
      "metadata": {
        "raw_mimetype": "text/html"
      },
      "source": [
        "<!-- ``` -->"
      ],
      "id": "0f7372b6-0474-4fd9-94c5-6e57c8ecfb88"
    },
    {
      "cell_type": "raw",
      "metadata": {
        "raw_mimetype": "text/html"
      },
      "source": [
        "<!-- ## Summary of functions -->"
      ],
      "id": "232606be-6e37-49ee-8054-0fcb7becaadf"
    },
    {
      "cell_type": "raw",
      "metadata": {
        "raw_mimetype": "text/html"
      },
      "source": [
        "<!-- We have used many functions in this Chapter. We summarize some of the most important ones in Table \\@ref(tab:function-df). -->"
      ],
      "id": "584d53ef-919e-41ce-a7a8-232c43cf85ff"
    },
    {
      "cell_type": "raw",
      "metadata": {
        "raw_mimetype": "text/html"
      },
      "source": [
        "<!-- ```{r function-df, echo = FALSE} -->"
      ],
      "id": "a13eb92e-d3e4-49f4-a10a-0bf05a90864b"
    },
    {
      "cell_type": "raw",
      "metadata": {
        "raw_mimetype": "text/html"
      },
      "source": [
        "<!-- func <- c(\"`lm`\", \"`summary`\", \"`coef`\", \"`residuals`\", \"`fitted`\", \"`predict`\", \"`deviance`\", \"`sigma`\", \"`update`\") -->"
      ],
      "id": "11fd15c8-8db3-4ddd-818c-44b3319eaa82"
    },
    {
      "cell_type": "raw",
      "metadata": {
        "raw_mimetype": "text/html"
      },
      "source": [
        "<!-- purpose <- c(\"Fits a linear model based on a provided `formula`\", \"Provides summary information about the fitted model\", \"Extracts the vector of estimated regression coefficients from the fitted model\", \"Extracts the vector of residuals from the fitted model\", \"Extracts the vector of fitted values from the fitted model\", -->"
      ],
      "id": "57e4c822-9918-4939-90ff-f9eb60d45825"
    },
    {
      "cell_type": "raw",
      "metadata": {
        "raw_mimetype": "text/html"
      },
      "source": [
        "<!--              \"Computes the fitted values (or arbitrary predictions) based on a fitted model\", \"Extracts the RSS of a fitted model\", \"Extracts $\\\\hat{\\\\sigma}$ from the fitted model\", \"Updates a fitted model to remove or add regressors\") -->"
      ],
      "id": "59311435-d7d1-4e30-aca0-db04efa2cab2"
    },
    {
      "cell_type": "raw",
      "metadata": {
        "raw_mimetype": "text/html"
      },
      "source": [
        "<!-- kbl(data.frame(func, purpose), -->"
      ],
      "id": "9e7c5570-53b8-4064-b65b-1673b3204313"
    },
    {
      "cell_type": "raw",
      "metadata": {
        "raw_mimetype": "text/html"
      },
      "source": [
        "<!--     col.names = c(\"Function\", \"Purpose\"), -->"
      ],
      "id": "6c75dfc2-fb10-412e-9759-1d1d3e5a0b8d"
    },
    {
      "cell_type": "raw",
      "metadata": {
        "raw_mimetype": "text/html"
      },
      "source": [
        "<!--     caption = \"An overview of important functions discussed in this chapter.\", -->"
      ],
      "id": "1e94d2b0-16cf-49aa-853a-87c2ba26d1c8"
    },
    {
      "cell_type": "raw",
      "metadata": {
        "raw_mimetype": "text/html"
      },
      "source": [
        "<!--     booktabs = TRUE, -->"
      ],
      "id": "0e901370-0b44-4837-a1b8-eabb45c5caf9"
    },
    {
      "cell_type": "raw",
      "metadata": {
        "raw_mimetype": "text/html"
      },
      "source": [
        "<!--     escape = FALSE) |> -->"
      ],
      "id": "4e790452-ac6e-4a53-b4ba-b3f768b67bfe"
    },
    {
      "cell_type": "raw",
      "metadata": {
        "raw_mimetype": "text/html"
      },
      "source": [
        "<!--   column_spec(column = 2, width = \"3in\")  |> -->"
      ],
      "id": "7baab48f-c486-4b68-b62c-317e38c6cf73"
    },
    {
      "cell_type": "raw",
      "metadata": {
        "raw_mimetype": "text/html"
      },
      "source": [
        "<!--   kable_styling(full_width = FALSE) -->"
      ],
      "id": "09c4ef35-8203-4654-96b6-ac80f3ac936e"
    },
    {
      "cell_type": "raw",
      "metadata": {
        "raw_mimetype": "text/html"
      },
      "source": [
        "<!-- ``` -->"
      ],
      "id": "861b46fb-927b-4318-8abc-903322cb0ba2"
    },
    {
      "cell_type": "raw",
      "metadata": {
        "raw_mimetype": "text/html"
      },
      "source": [
        "<!-- # Going Deeper -->"
      ],
      "id": "aa1d9f9d-ccfa-4480-8174-784f5a0f0a9f"
    },
    {
      "cell_type": "raw",
      "metadata": {
        "raw_mimetype": "text/html"
      },
      "source": [
        "<!-- ## Degrees of freedom -->"
      ],
      "id": "d2cf77ab-3d85-4648-b801-e6c3898c40b7"
    },
    {
      "cell_type": "raw",
      "metadata": {
        "raw_mimetype": "text/html"
      },
      "source": [
        "<!-- The degrees of freedom of a statistics refers to the number of independent pieces of information that go into its calculation. -->"
      ],
      "id": "d9491fef-1c7d-40ca-82ec-75d9f95426fd"
    },
    {
      "cell_type": "raw",
      "metadata": {
        "raw_mimetype": "text/html"
      },
      "source": [
        "<!-- Consider the sample mean -->"
      ],
      "id": "78895bf5-dced-4ce2-b35d-8742f658653f"
    },
    {
      "cell_type": "raw",
      "metadata": {
        "raw_mimetype": "text/html"
      },
      "source": [
        "<!-- \\[\\bar{x}=\\sum_{i=1}^n x_i.\\] -->"
      ],
      "id": "4d478944-1fab-4d26-9161-f355215d1cbf"
    },
    {
      "cell_type": "raw",
      "metadata": {
        "raw_mimetype": "text/html"
      },
      "source": [
        "<!-- The calculation uses $n$ pieces of information to compute, but the statistic only has $n-1$ degrees of freedom. Once you know the sample mean, only $n-1$ values are  independent, while the last is constrained to be a certain value. -->"
      ],
      "id": "d3692b93-7e19-44d3-81ed-49ddc9150db0"
    },
    {
      "cell_type": "raw",
      "metadata": {
        "raw_mimetype": "text/html"
      },
      "source": [
        "<!-- Let's say $n=3$ and $\\bar{x} = 10$. Then $x_1$ and $x_2$ can be any numbers, but the last value MUST equal $30 - x_1 - x_2$ so that $x_1 + x_2 + x_3 = 30$ (otherwise the sample mean won't equal 10). To be more specific, if $x_1 = 5$ and $x_2 = 25$, then $x_3$ must be 0, otherwise the sample mean won't be 10. -->"
      ],
      "id": "177e67c8-6945-4855-b6f3-ccbe50b1915b"
    },
    {
      "cell_type": "raw",
      "metadata": {
        "raw_mimetype": "text/html"
      },
      "source": [
        "<!-- ## Derivation of the OLS estimators of the simple linear regression model coefficients {#slr-derivation} -->"
      ],
      "id": "5c0278a2-b184-4b6e-8eeb-a2c2d3d5f4fa"
    },
    {
      "cell_type": "raw",
      "metadata": {
        "raw_mimetype": "text/html"
      },
      "source": [
        "<!-- Assume a simple linear regression model with $n$ observations. The residual sum of squares for the simple linear  regression model is -->"
      ],
      "id": "a8ea8700-bf31-44a6-9d05-778ac6339fc3"
    },
    {
      "cell_type": "raw",
      "metadata": {
        "raw_mimetype": "text/html"
      },
      "source": [
        "<!-- \\[ -->"
      ],
      "id": "4caef433-6a0f-4592-896f-427d7aa18eff"
    },
    {
      "cell_type": "raw",
      "metadata": {
        "raw_mimetype": "text/html"
      },
      "source": [
        "<!-- RSS(\\hat\\beta_0, \\hat\\beta_1) = \\sum_{i=1}^n(Y_i - \\hat\\beta_0 - \\hat\\beta_1x_i)^2. -->"
      ],
      "id": "c34b1086-e630-4653-b6bf-5e844cfa5dd0"
    },
    {
      "cell_type": "raw",
      "metadata": {
        "raw_mimetype": "text/html"
      },
      "source": [
        "<!-- \\] -->"
      ],
      "id": "2f74f3f8-ab47-4529-b5c5-8a75e66eb5ad"
    },
    {
      "cell_type": "raw",
      "metadata": {
        "raw_mimetype": "text/html"
      },
      "source": [
        "<!-- **OLS estimator of $\\beta_0$** -->"
      ],
      "id": "e7c31d27-f7a1-4fc9-8397-3e0b08d6197c"
    },
    {
      "cell_type": "raw",
      "metadata": {
        "raw_mimetype": "text/html"
      },
      "source": [
        "<!-- First, we take the partial derivative of the RSS with respect to $\\hat\\beta_0$ and simplify: -->"
      ],
      "id": "a09b63e8-1ecd-48f9-a54a-30ce6c65ab00"
    },
    {
      "cell_type": "raw",
      "metadata": {
        "raw_mimetype": "text/html"
      },
      "source": [
        "<!-- \\[ -->"
      ],
      "id": "e73fd69e-de58-4f3f-8ff1-e687793d3e81"
    },
    {
      "cell_type": "raw",
      "metadata": {
        "raw_mimetype": "text/html"
      },
      "source": [
        "<!-- \\begin{aligned} -->"
      ],
      "id": "d6965f98-bfe5-4028-b512-86eb8b3331f8"
    },
    {
      "cell_type": "raw",
      "metadata": {
        "raw_mimetype": "text/html"
      },
      "source": [
        "<!-- \\frac{\\partial RSS(\\hat\\beta_0, \\hat\\beta_1)}{\\partial \\hat\\beta_0} &= \\frac{\\partial}{\\partial \\hat\\beta_0}\\sum_{i=1}^n(Y_i - \\hat\\beta_0 - \\hat\\beta_1x_i)^2 & \\tiny\\text{ (substituting the formula for the RSS)} \\\\ -->"
      ],
      "id": "94ca5283-5899-4de0-85ab-9c409fd6e9c0"
    },
    {
      "cell_type": "raw",
      "metadata": {
        "raw_mimetype": "text/html"
      },
      "source": [
        "<!-- &= \\sum_{i=1}^n \\frac{\\partial}{\\partial \\hat\\beta_0}(Y_i - \\hat\\beta_0 - \\hat\\beta_1x_i)^2  & \\tiny\\text{ (by the linearity property of derivatives)} \\\\ -->"
      ],
      "id": "8193fecf-844c-4bf8-9118-6c92432beac7"
    },
    {
      "cell_type": "raw",
      "metadata": {
        "raw_mimetype": "text/html"
      },
      "source": [
        "<!-- &= -2\\sum_{i=1}^n(Y_i - \\hat\\beta_0 - \\hat\\beta_1x_i). & \\tiny\\text{ (chain rule, factoring out -2)} -->"
      ],
      "id": "0b908477-efe0-433f-ba3c-5c001afb1bd9"
    },
    {
      "cell_type": "raw",
      "metadata": {
        "raw_mimetype": "text/html"
      },
      "source": [
        "<!-- \\end{aligned} -->"
      ],
      "id": "faae4f6b-261e-4b87-b240-69c6f274e875"
    },
    {
      "cell_type": "raw",
      "metadata": {
        "raw_mimetype": "text/html"
      },
      "source": [
        "<!-- \\] -->"
      ],
      "id": "dba2bfc9-3314-440f-aaaa-896c1da8a208"
    },
    {
      "cell_type": "raw",
      "metadata": {
        "raw_mimetype": "text/html"
      },
      "source": [
        "<!-- Next, we set the partial derivative equal to zero and rearrange the terms to solve for $\\hat{\\beta}_0$: -->"
      ],
      "id": "32d0deb8-624d-4897-9918-05344f4b1cc3"
    },
    {
      "cell_type": "raw",
      "metadata": {
        "raw_mimetype": "text/html"
      },
      "source": [
        "<!-- \\[ -->"
      ],
      "id": "1a8be337-f9ea-45cc-9963-2aeca9a826c5"
    },
    {
      "cell_type": "raw",
      "metadata": {
        "raw_mimetype": "text/html"
      },
      "source": [
        "<!-- \\begin{aligned} -->"
      ],
      "id": "86339d85-a281-4f69-a545-a0a8d0fb50ad"
    },
    {
      "cell_type": "raw",
      "metadata": {
        "raw_mimetype": "text/html"
      },
      "source": [
        "<!-- 0 &= \\frac{\\partial RSS(\\hat\\beta_0, \\hat\\beta_1)}{\\partial \\hat\\beta_0}  &  \\\\ -->"
      ],
      "id": "46f79fde-f1b7-492f-8210-6a99d68dd3ca"
    },
    {
      "cell_type": "raw",
      "metadata": {
        "raw_mimetype": "text/html"
      },
      "source": [
        "<!-- 0 &= -2\\sum_{i=1}^n(Y_i - \\hat\\beta_0 - \\hat\\beta_1x_i) & \\tiny\\text{ (substitute partial deriviative)}\\\\ -->"
      ],
      "id": "bed6ccea-77f8-4351-b194-9804ea74c860"
    },
    {
      "cell_type": "raw",
      "metadata": {
        "raw_mimetype": "text/html"
      },
      "source": [
        "<!-- 0 &= \\sum_{i=1}^n(Y_i - \\hat\\beta_0 - \\hat\\beta_1x_i) & \\tiny\\text{ (divide both sides by -2)} \\\\ -->"
      ],
      "id": "7d766b22-fd1a-4ac2-952b-1289f5335d20"
    },
    {
      "cell_type": "raw",
      "metadata": {
        "raw_mimetype": "text/html"
      },
      "source": [
        "<!-- 0 &= \\sum_{i=1}^n Y_i - \\sum_{i=1}^n\\hat\\beta_0 - \\sum_{i=1}^n\\hat\\beta_1x_i &\\tiny\\text{ (by linearity of sum)} \\\\ -->"
      ],
      "id": "42b856d3-26f0-4e1e-809e-77492b7ebb56"
    },
    {
      "cell_type": "raw",
      "metadata": {
        "raw_mimetype": "text/html"
      },
      "source": [
        "<!-- 0 &= \\sum_{i=1}^n Y_i - n\\hat\\beta_0 - \\sum_{i=1}^n\\hat\\beta_1x_i & \\tiny(\\text{summing }\\hat\\beta_0\\ n\\text{ times equals }n\\hat\\beta_0) \\\\ -->"
      ],
      "id": "83723d94-5e9a-4cdd-af27-a66140097847"
    },
    {
      "cell_type": "raw",
      "metadata": {
        "raw_mimetype": "text/html"
      },
      "source": [
        "<!-- n\\hat\\beta_0 &= \\sum_{i=1}^n Y_i-\\sum_{i=1}^n\\hat\\beta_1x_i. &\\tiny\\text{ (algebra rearrange)} -->"
      ],
      "id": "73064ff9-a79b-4392-939b-1d7bb6b2382b"
    },
    {
      "cell_type": "raw",
      "metadata": {
        "raw_mimetype": "text/html"
      },
      "source": [
        "<!-- \\end{aligned} -->"
      ],
      "id": "87b561d3-0fc4-4c4a-84ee-fed6602afcb1"
    },
    {
      "cell_type": "raw",
      "metadata": {
        "raw_mimetype": "text/html"
      },
      "source": [
        "<!-- \\] -->"
      ],
      "id": "6deffc65-d805-4f13-959d-62908c5d4038"
    },
    {
      "cell_type": "raw",
      "metadata": {
        "raw_mimetype": "text/html"
      },
      "source": [
        "<!-- Finally, we divide both sides by $n$ to get the OLS estimator for $\\hat\\beta_0$ in terms of $\\hat\\beta_1$: -->"
      ],
      "id": "966caedf-2daf-4e01-8a7d-79959d2468ae"
    },
    {
      "cell_type": "raw",
      "metadata": {
        "raw_mimetype": "text/html"
      },
      "source": [
        "<!-- \\[ -->"
      ],
      "id": "f04ea251-31bf-45be-b134-9d281af691d2"
    },
    {
      "cell_type": "raw",
      "metadata": {
        "raw_mimetype": "text/html"
      },
      "source": [
        "<!-- \\hat\\beta_0 = \\bar Y-\\hat\\beta_1\\bar x -->"
      ],
      "id": "b19c0b51-ba4b-4769-97aa-93167c00327e"
    },
    {
      "cell_type": "raw",
      "metadata": {
        "raw_mimetype": "text/html"
      },
      "source": [
        "<!-- \\] -->"
      ],
      "id": "91f95541-1fdf-4fe4-bab1-93fac633800c"
    },
    {
      "cell_type": "raw",
      "metadata": {
        "raw_mimetype": "text/html"
      },
      "source": [
        "<!-- **OLS Estimator of $\\beta_1$** -->"
      ],
      "id": "82a2e6dc-c84d-4f90-9610-6c818459c7e3"
    },
    {
      "cell_type": "raw",
      "metadata": {
        "raw_mimetype": "text/html"
      },
      "source": [
        "<!-- Similar to the previous derivation, we differentiate the RSS with respect to the parameter estimate of interest, set the derivative equal to zero, and solve for the parameter. -->"
      ],
      "id": "9bab0453-83de-4211-ad5c-e64030704def"
    },
    {
      "cell_type": "raw",
      "metadata": {
        "raw_mimetype": "text/html"
      },
      "source": [
        "<!-- We start by taking the partial derivative of the RSS with respect ot $\\hat{\\beta}_1$ and simplify. -->"
      ],
      "id": "f4a488ce-72ff-4ec4-88b6-991ae801bfec"
    },
    {
      "cell_type": "raw",
      "metadata": {
        "raw_mimetype": "text/html"
      },
      "source": [
        "<!-- \\[ -->"
      ],
      "id": "b3e66046-5de8-4db4-8160-9488571942f1"
    },
    {
      "cell_type": "raw",
      "metadata": {
        "raw_mimetype": "text/html"
      },
      "source": [
        "<!-- \\begin{aligned} -->"
      ],
      "id": "0880a520-6dd9-46fe-81d6-67ca9f12953e"
    },
    {
      "cell_type": "raw",
      "metadata": {
        "raw_mimetype": "text/html"
      },
      "source": [
        "<!-- \\frac{\\partial RSS(\\hat\\beta_0, \\hat\\beta_1)}{\\partial \\hat\\beta_1} &= \\frac{\\partial}{\\partial \\hat\\beta_1}\\sum_{i=1}^n (Y_i - \\hat\\beta_0 - \\hat\\beta_1x_i)^2 & \\tiny\\text{ (substitute formula for RSS)} \\\\ -->"
      ],
      "id": "8513d76c-3d20-4315-b3d9-241d995e8305"
    },
    {
      "cell_type": "raw",
      "metadata": {
        "raw_mimetype": "text/html"
      },
      "source": [
        "<!-- &= \\sum_{i=1}^n \\frac{\\partial}{\\partial \\hat\\beta_1}(Y_i - \\hat\\beta_0 - \\hat\\beta_1x_i)^2 & \\tiny\\text{ (linearity property of derivatives)} \\\\ -->"
      ],
      "id": "db6904f0-58df-45ba-bd8f-61a0baf6b1d9"
    },
    {
      "cell_type": "raw",
      "metadata": {
        "raw_mimetype": "text/html"
      },
      "source": [
        "<!-- &= -2\\sum_{i=1}^n(Y_i-\\hat\\beta_0-\\hat\\beta_1x_i)x_i & \\tiny\\text{ (chain rule, factor out -2)} -->"
      ],
      "id": "453137a1-e67b-48e0-9303-4da21a7af0a1"
    },
    {
      "cell_type": "raw",
      "metadata": {
        "raw_mimetype": "text/html"
      },
      "source": [
        "<!-- \\end{aligned} -->"
      ],
      "id": "f5426338-7565-45e1-8ca9-8d88f3350455"
    },
    {
      "cell_type": "raw",
      "metadata": {
        "raw_mimetype": "text/html"
      },
      "source": [
        "<!-- \\] -->"
      ],
      "id": "07b40c10-0ad9-41c5-9190-9fec5ee94f8f"
    },
    {
      "cell_type": "raw",
      "metadata": {
        "raw_mimetype": "text/html"
      },
      "source": [
        "<!-- We now set this derivative equal to 0 and rearrange the terms to solve for $\\hat{\\beta}_1$: -->"
      ],
      "id": "84c226a8-473a-4d42-8abf-bc78ce8fae91"
    },
    {
      "cell_type": "raw",
      "metadata": {
        "raw_mimetype": "text/html"
      },
      "source": [
        "<!-- \\[ -->"
      ],
      "id": "9e385413-ce41-465b-9e5c-5b737e2a83b3"
    },
    {
      "cell_type": "raw",
      "metadata": {
        "raw_mimetype": "text/html"
      },
      "source": [
        "<!-- \\begin{aligned} -->"
      ],
      "id": "823ef86d-13d4-43a1-802f-1408a6399e00"
    },
    {
      "cell_type": "raw",
      "metadata": {
        "raw_mimetype": "text/html"
      },
      "source": [
        "<!-- 0 &= \\frac{\\partial RSS(\\hat\\beta_0, \\hat\\beta_1)}{\\partial \\hat\\beta_1} & \\\\ -->"
      ],
      "id": "4ac6889c-e7a2-452e-b3a9-a87d747521f5"
    },
    {
      "cell_type": "raw",
      "metadata": {
        "raw_mimetype": "text/html"
      },
      "source": [
        "<!-- 0 &= -2\\sum_{i=1}^n(Y_i-\\hat\\beta_0-\\hat\\beta_1x_i)x_i &\\tiny\\text{(substitute partial derivative})\\\\ -->"
      ],
      "id": "59f8f0c2-5ea6-460f-ad4e-732a9452836e"
    },
    {
      "cell_type": "raw",
      "metadata": {
        "raw_mimetype": "text/html"
      },
      "source": [
        "<!-- 0 &= \\sum_{i=1}^n(Y_i-(\\bar Y -\\hat \\beta_1\\bar x)-\\hat\\beta_1x_i)x_i &\\tiny\\text{(substitute OLS estimator of }\\hat\\beta_0, \\text{ divide both sides by -2}) \\\\ -->"
      ],
      "id": "16dd89d2-4350-41bd-aa0c-a218e0be5606"
    },
    {
      "cell_type": "raw",
      "metadata": {
        "raw_mimetype": "text/html"
      },
      "source": [
        "<!-- 0 &= \\sum_{i=1}^n x_iY_i -\\sum_{i=1}^n x_i\\bar Y+\\hat\\beta_1\\bar x\\sum_{i=1}^n x_i-\\hat\\beta_1\\sum_{i=1}^n x_i^2. &\\tiny\\text{(expand sum, use linearity of sum)} \\\\ -->"
      ],
      "id": "096608d8-08ac-4cf3-a3ee-ee7d9c108e7f"
    },
    {
      "cell_type": "raw",
      "metadata": {
        "raw_mimetype": "text/html"
      },
      "source": [
        "<!-- \\end{aligned} -->"
      ],
      "id": "298ae977-8bbc-4001-a8d0-7835d55fc110"
    },
    {
      "cell_type": "raw",
      "metadata": {
        "raw_mimetype": "text/html"
      },
      "source": [
        "<!-- \\] -->"
      ],
      "id": "10f904fb-8b12-4633-8f91-385613515184"
    },
    {
      "cell_type": "raw",
      "metadata": {
        "raw_mimetype": "text/html"
      },
      "source": [
        "<!-- Continuing from the previous line, we move the terms involving $\\hat{\\beta}_1$ to the other side of the equality to get -->"
      ],
      "id": "1be4154e-17c7-461b-9862-312788944cea"
    },
    {
      "cell_type": "raw",
      "metadata": {
        "raw_mimetype": "text/html"
      },
      "source": [
        "<!-- \\[ -->"
      ],
      "id": "cea63025-6b85-40ce-88cb-b1fffe57224e"
    },
    {
      "cell_type": "raw",
      "metadata": {
        "raw_mimetype": "text/html"
      },
      "source": [
        "<!-- \\begin{aligned} -->"
      ],
      "id": "59c222ce-e3b7-4c72-830c-74bf8a110bbe"
    },
    {
      "cell_type": "raw",
      "metadata": {
        "raw_mimetype": "text/html"
      },
      "source": [
        "<!-- \\hat\\beta_1\\sum_{i=1}^n x_i^2-\\hat\\beta_1\\bar x\\sum_{i=1}^n x_i &=\\sum_{i=1}^n x_iY_i -\\sum_{i=1}^n x_i\\bar Y & \\tiny\\text{(move estimator to other side)}\\\\ -->"
      ],
      "id": "a5c6f3fc-8c85-4f35-b430-7d3de31932a5"
    },
    {
      "cell_type": "raw",
      "metadata": {
        "raw_mimetype": "text/html"
      },
      "source": [
        "<!-- \\hat\\beta_1\\sum_{i=1}^n x_i^2-\\hat\\beta_1\\frac{1}{n}\\sum_{i=1}^n  x_i\\sum_{i=1}^n x_i&=\\sum_{i=1}^n x_iY_i -\\sum_{i=1}^n x_i\\frac{1}{n}\\sum_{i=1}^n  Y_i  &\\tiny\\text{(rewrite using definition of sample means)} \\\\ -->"
      ],
      "id": "61c2d7bb-287c-4a62-b4d0-6b6bb9462d11"
    },
    {
      "cell_type": "raw",
      "metadata": {
        "raw_mimetype": "text/html"
      },
      "source": [
        "<!-- \\hat\\beta_1\\sum_{i=1}^n x_i^2-\\hat\\beta_1\\frac{1}{n}\\left(\\sum_{i=1}^n  x_i\\right)^2 &=\\sum_{i=1}^n x_iY_i -\\frac{1}{n}\\sum_{i=1}^n x_i\\sum_{i=1}^n  Y_i  & \\tiny\\text{(reorder and simplify)} \\\\ -->"
      ],
      "id": "dc564255-1d02-403d-867b-e3f7e483d711"
    },
    {
      "cell_type": "raw",
      "metadata": {
        "raw_mimetype": "text/html"
      },
      "source": [
        "<!-- \\hat\\beta_1\\left(\\sum_{i=1}^n x_i^2-\\frac{1}{n}\\left(\\sum_{i=1}^n  x_i\\right)^2\\right)&=\\sum_{i=1}^n x_iY_i -\\frac{1}{n}\\sum_{i=1}^n x_i\\sum_{i=1}^n  Y_i, & \\tiny\\text{(factoring)}\\\\ -->"
      ],
      "id": "b9e99947-86da-4427-8a3c-993c64ffe420"
    },
    {
      "cell_type": "raw",
      "metadata": {
        "raw_mimetype": "text/html"
      },
      "source": [
        "<!-- \\end{aligned} -->"
      ],
      "id": "b2539e40-d6d8-46f1-95ef-454a0d2d8283"
    },
    {
      "cell_type": "raw",
      "metadata": {
        "raw_mimetype": "text/html"
      },
      "source": [
        "<!-- \\] -->"
      ],
      "id": "3086b918-c2e5-4190-ad47-ecda84a7e90e"
    },
    {
      "cell_type": "raw",
      "metadata": {
        "raw_mimetype": "text/html"
      },
      "source": [
        "<!-- which allows us to obtain -->"
      ],
      "id": "00f5e087-d1dc-47d9-a845-a92b1e936929"
    },
    {
      "cell_type": "raw",
      "metadata": {
        "raw_mimetype": "text/html"
      },
      "source": [
        "<!-- \\[ -->"
      ],
      "id": "81b9ba5b-cf1d-416b-85d5-89e40a3eacb7"
    },
    {
      "cell_type": "raw",
      "metadata": {
        "raw_mimetype": "text/html"
      },
      "source": [
        "<!-- \\hat\\beta_1=\\frac{\\sum_{i=1}^n x_iY_i -\\frac{1}{n}\\sum_{i=1}^n x_i\\sum_{i=1}^n  Y_i}{\\sum_{i=1}^n x_i^2-\\frac{1}{n}\\left(\\sum_{i=1}^n  x_i\\right)^2}. -->"
      ],
      "id": "a1a60f5d-0032-4456-a129-45b62a0ff7ab"
    },
    {
      "cell_type": "raw",
      "metadata": {
        "raw_mimetype": "text/html"
      },
      "source": [
        "<!-- \\] -->"
      ],
      "id": "978832b4-9af2-4e98-8f06-5c77e609ecdd"
    },
    {
      "cell_type": "raw",
      "metadata": {
        "raw_mimetype": "text/html"
      },
      "source": [
        "<!-- Thus, we have the OLS estimators of the simple linear regression coefficients are -->"
      ],
      "id": "7cdb65d0-54e5-4588-8d58-41cc5d6f291f"
    },
    {
      "cell_type": "raw",
      "metadata": {
        "raw_mimetype": "text/html"
      },
      "source": [
        "<!-- \\[ -->"
      ],
      "id": "ccf1dd60-73a3-440a-bd0f-c68e27a8f2b7"
    },
    {
      "cell_type": "raw",
      "metadata": {
        "raw_mimetype": "text/html"
      },
      "source": [
        "<!-- \\begin{aligned} -->"
      ],
      "id": "37e82563-d024-49ed-9189-8eca6548f24b"
    },
    {
      "cell_type": "raw",
      "metadata": {
        "raw_mimetype": "text/html"
      },
      "source": [
        "<!-- \\hat\\beta_0 &= \\bar Y-\\hat\\beta_1\\bar x, \\\\ -->"
      ],
      "id": "6e691227-1b81-4e68-96c1-2e227989c8a1"
    },
    {
      "cell_type": "raw",
      "metadata": {
        "raw_mimetype": "text/html"
      },
      "source": [
        "<!-- \\hat\\beta_1 & =\\frac{\\sum_{i=1}^n x_iY_i -\\frac{1}{n}\\sum_{i=1}^n x_i\\sum_{i=1}^n Y_i}{\\sum_{i=1}^n x_i^2-\\frac{1}{n}\\left(\\sum_{i=1}^n x_i\\right)^2}. -->"
      ],
      "id": "31164018-5e21-4969-b057-40c8f2400647"
    },
    {
      "cell_type": "raw",
      "metadata": {
        "raw_mimetype": "text/html"
      },
      "source": [
        "<!-- \\end{aligned} -->"
      ],
      "id": "f1364c75-c762-43a2-a131-6825cb5f7dd6"
    },
    {
      "cell_type": "raw",
      "metadata": {
        "raw_mimetype": "text/html"
      },
      "source": [
        "<!-- \\] -->"
      ],
      "id": "e0d3c4fe-ba57-414b-8056-f61ad6f83851"
    },
    {
      "cell_type": "raw",
      "metadata": {
        "raw_mimetype": "text/html"
      },
      "source": [
        "<!-- ## Unbiasedness of OLS estimators -->"
      ],
      "id": "db883342-b386-4ace-acbf-95fab56ef9a5"
    },
    {
      "cell_type": "raw",
      "metadata": {
        "raw_mimetype": "text/html"
      },
      "source": [
        "<!-- We now show that the OLS estimators we derived in Section \\@ref(slr-derivation) are unbiased. An estimator is unbiased if the expected value is equal to the parameter it is estimating. -->"
      ],
      "id": "4db050e6-c99b-4bd1-aa23-2b8b8a6fd5dc"
    },
    {
      "cell_type": "raw",
      "metadata": {
        "raw_mimetype": "text/html"
      },
      "source": [
        "<!-- The OLS estimator assumes we know the value of the regressor variables for all observations. Thus, we must condition our expectation on knowing the regressor matrix $\\mathbf{X}$. Thus, we want to show that -->"
      ],
      "id": "051258ad-ca42-4dd0-a91c-427afb48cc23"
    },
    {
      "cell_type": "raw",
      "metadata": {
        "raw_mimetype": "text/html"
      },
      "source": [
        "<!-- \\[ -->"
      ],
      "id": "64f4b5a4-d271-4bda-bcdf-c82a72133040"
    },
    {
      "cell_type": "raw",
      "metadata": {
        "raw_mimetype": "text/html"
      },
      "source": [
        "<!-- E(\\hat{\\beta}_0\\mid \\mathbf{X})=\\beta_0, -->"
      ],
      "id": "e9149c94-429c-47ac-9261-dd5d9a4c4b98"
    },
    {
      "cell_type": "raw",
      "metadata": {
        "raw_mimetype": "text/html"
      },
      "source": [
        "<!-- \\] -->"
      ],
      "id": "e8995d80-7472-4bd0-a597-9e1015a3b5b7"
    },
    {
      "cell_type": "raw",
      "metadata": {
        "raw_mimetype": "text/html"
      },
      "source": [
        "<!-- where \"$\\mid \\mathbf{X}$\" is convenient notation to indicate that we are conditioning our expectation on knowing the regressor values for every observation. -->"
      ],
      "id": "9e1522e1-7b92-4d91-bec8-59ba45940311"
    },
    {
      "cell_type": "raw",
      "metadata": {
        "raw_mimetype": "text/html"
      },
      "source": [
        "<!-- In Section \\@ref(s-slr-estimation), we noted that we assume $E(\\epsilon \\mid X)=0$, which is true for every error in our model, i.e. $E(\\epsilon_i \\mid X = x_i) = 0$ for $i=1,2,\\ldots,n$. Thus, -->"
      ],
      "id": "b9ecaeb5-8f2e-45e2-b278-b329c8603287"
    },
    {
      "cell_type": "raw",
      "metadata": {
        "raw_mimetype": "text/html"
      },
      "source": [
        "<!-- \\[ -->"
      ],
      "id": "bd45a6c8-b8d5-4e0a-b21f-9054c6f82078"
    },
    {
      "cell_type": "raw",
      "metadata": {
        "raw_mimetype": "text/html"
      },
      "source": [
        "<!-- \\begin{aligned} -->"
      ],
      "id": "37a12587-b782-43da-b778-62771fc73266"
    },
    {
      "cell_type": "raw",
      "metadata": {
        "raw_mimetype": "text/html"
      },
      "source": [
        "<!-- E(Y_i\\mid X=x_i) &= E(\\beta_0 + \\beta_1 x_i +\\epsilon_i\\mid X = x_i) & \\tiny\\text{(substiute definition of $Y_i$)} \\\\ -->"
      ],
      "id": "db60f937-4981-45a3-8e97-0ce6b73d12c1"
    },
    {
      "cell_type": "raw",
      "metadata": {
        "raw_mimetype": "text/html"
      },
      "source": [
        "<!-- &= E(\\beta_0\\mid X=x_i) + E(\\beta_1 x_i \\mid X = X_i) +E(\\epsilon_i | X=x_i) & \\tiny\\text{(linearity property of expectation)} \\\\ -->"
      ],
      "id": "73d2dc7e-0868-4bfc-8e1a-7de26d5f52e8"
    },
    {
      "cell_type": "raw",
      "metadata": {
        "raw_mimetype": "text/html"
      },
      "source": [
        "<!-- &= \\beta_0+\\beta_1x_i +E(\\epsilon_i | X=x_i) & \\tiny\\text{(the $\\beta$s and $x_i$ are non-random values)} \\\\ -->"
      ],
      "id": "709340cf-82ba-42eb-a89c-1d50a7e7fd53"
    },
    {
      "cell_type": "raw",
      "metadata": {
        "raw_mimetype": "text/html"
      },
      "source": [
        "<!-- &= \\beta_0+\\beta_1x_i + 0 & \\tiny\\text{(assumption about errors)} \\\\ -->"
      ],
      "id": "c92e6598-fd44-4223-819f-7241ae7eab04"
    },
    {
      "cell_type": "raw",
      "metadata": {
        "raw_mimetype": "text/html"
      },
      "source": [
        "<!-- &= \\beta_0+\\beta_1x_i. & -->"
      ],
      "id": "3fe3aa2c-58c9-4d37-9896-8bf886ad906e"
    },
    {
      "cell_type": "raw",
      "metadata": {
        "raw_mimetype": "text/html"
      },
      "source": [
        "<!-- \\end{aligned} -->"
      ],
      "id": "c6b971f1-2e97-42ef-a27c-136dd21dafae"
    },
    {
      "cell_type": "raw",
      "metadata": {
        "raw_mimetype": "text/html"
      },
      "source": [
        "<!-- \\] -->"
      ],
      "id": "f0e2e1a4-8931-4eb3-92f5-c30364e2cfa4"
    },
    {
      "cell_type": "raw",
      "metadata": {
        "raw_mimetype": "text/html"
      },
      "source": [
        "<!-- In the derivations below, every sum is over all values of $i$, i.e., $\\sum \\equiv \\sum_{i=1}^n$. We drop the index for simplicity. -->"
      ],
      "id": "899d1a8a-eba1-4c11-a5ad-eb07a8a6518f"
    },
    {
      "cell_type": "raw",
      "metadata": {
        "raw_mimetype": "text/html"
      },
      "source": [
        "<!-- Next, we note: -->"
      ],
      "id": "68afe7a6-a7ac-4e6a-b00e-fcd5b3a287e0"
    },
    {
      "cell_type": "raw",
      "metadata": {
        "raw_mimetype": "text/html"
      },
      "source": [
        "<!-- \\[ -->"
      ],
      "id": "4dbddb73-f5ab-4409-9514-24b290df6812"
    },
    {
      "cell_type": "raw",
      "metadata": {
        "raw_mimetype": "text/html"
      },
      "source": [
        "<!-- \\begin{aligned} -->"
      ],
      "id": "a0f41d39-4bb3-4eaa-b1e5-5f2812d88b8b"
    },
    {
      "cell_type": "raw",
      "metadata": {
        "raw_mimetype": "text/html"
      },
      "source": [
        "<!-- E\\left(\\sum x_iY_i \\biggm| \\mathbf{X} \\right) &= \\sum E(x_iY_i \\mid \\mathbf{X}) &\\tiny\\text{ (by the linearity of the expectation operator)}\\\\ -->"
      ],
      "id": "d87e0140-db1c-401d-9960-978f5e2c597b"
    },
    {
      "cell_type": "raw",
      "metadata": {
        "raw_mimetype": "text/html"
      },
      "source": [
        "<!-- &=\\sum x_iE(Y_i\\mid \\mathbf{X})&\\tiny(x_i\\text{ is a fixed value, so it can be brought out})\\\\ -->"
      ],
      "id": "b901b681-dac2-45cc-a8c8-34a5935516e5"
    },
    {
      "cell_type": "raw",
      "metadata": {
        "raw_mimetype": "text/html"
      },
      "source": [
        "<!-- &=\\sum x_i(\\beta_0+\\beta_1 x_i)&\\tiny\\text{(substitute expected value of }Y_i)\\\\ -->"
      ],
      "id": "b54be232-64df-4dcf-b2e4-26e32d7cd307"
    },
    {
      "cell_type": "raw",
      "metadata": {
        "raw_mimetype": "text/html"
      },
      "source": [
        "<!-- &=\\sum x_i\\beta_0+\\sum x_i\\beta_1 x_i&\\tiny\\text{(distribute sum)}\\\\ -->"
      ],
      "id": "b5a4e9d8-ba48-4429-845f-c4e4dfc15258"
    },
    {
      "cell_type": "raw",
      "metadata": {
        "raw_mimetype": "text/html"
      },
      "source": [
        "<!-- &=\\beta_0\\sum x_i+\\beta_1\\sum x_i^2.&\\tiny\\text{(factor out constants)} -->"
      ],
      "id": "56760726-b853-4579-ab6c-05290603665c"
    },
    {
      "cell_type": "raw",
      "metadata": {
        "raw_mimetype": "text/html"
      },
      "source": [
        "<!-- \\end{aligned} -->"
      ],
      "id": "b7bcee88-1101-4a3a-b62f-c3b469a1a554"
    },
    {
      "cell_type": "raw",
      "metadata": {
        "raw_mimetype": "text/html"
      },
      "source": [
        "<!-- \\] -->"
      ],
      "id": "10116d7e-f7c1-47da-ad6e-f668d0d6400a"
    },
    {
      "cell_type": "raw",
      "metadata": {
        "raw_mimetype": "text/html"
      },
      "source": [
        "<!-- Also, -->"
      ],
      "id": "d90785e5-440f-4b11-93d2-b39f1a63c8b0"
    },
    {
      "cell_type": "raw",
      "metadata": {
        "raw_mimetype": "text/html"
      },
      "source": [
        "<!-- \\[ -->"
      ],
      "id": "4455dd1f-134a-4a7f-9db4-e74cf431e90d"
    },
    {
      "cell_type": "raw",
      "metadata": {
        "raw_mimetype": "text/html"
      },
      "source": [
        "<!-- \\begin{aligned} -->"
      ],
      "id": "14605eb0-3849-48ff-91b9-f07e180d34ad"
    },
    {
      "cell_type": "raw",
      "metadata": {
        "raw_mimetype": "text/html"
      },
      "source": [
        "<!-- E(\\bar Y\\mid \\mathbf{X}) -->"
      ],
      "id": "c648da20-d0d9-4c28-a54e-c6c88a084a2e"
    },
    {
      "cell_type": "raw",
      "metadata": {
        "raw_mimetype": "text/html"
      },
      "source": [
        "<!-- &= E\\left(\\frac{1}{n}\\sum Y_i\\Biggm|\\mathbf{X} \\right)&\\tiny\\text{(definition of sample mean)}\\\\ -->"
      ],
      "id": "f71354f2-8d80-4864-968b-082f30ff83d0"
    },
    {
      "cell_type": "raw",
      "metadata": {
        "raw_mimetype": "text/html"
      },
      "source": [
        "<!-- &= \\frac{1}{n}E\\left(\\sum Y_i \\Bigm| \\mathbf{X}\\right)&\\tiny\\text{(factor out constant)}\\\\ -->"
      ],
      "id": "cb026c8a-99b7-4da8-afe2-4aea5ca20f84"
    },
    {
      "cell_type": "raw",
      "metadata": {
        "raw_mimetype": "text/html"
      },
      "source": [
        "<!-- &= \\frac{1}{n}\\sum E\\left(Y_i \\mid \\mathbf{X}\\right)&\\tiny\\text{(linearity of expectation)}\\\\ -->"
      ],
      "id": "1eafa654-e337-47de-a5eb-cf6bfcea4d75"
    },
    {
      "cell_type": "raw",
      "metadata": {
        "raw_mimetype": "text/html"
      },
      "source": [
        "<!-- &= \\frac{1}{n}\\sum(\\beta_0+\\beta_1 x_i)&\\tiny\\text{(substitute expected value of }Y_i)\\\\ -->"
      ],
      "id": "77c9adbb-dd7d-49b9-bdc5-cd0f2d205c31"
    },
    {
      "cell_type": "raw",
      "metadata": {
        "raw_mimetype": "text/html"
      },
      "source": [
        "<!-- &= \\frac{1}{n}\\left(\\sum\\beta_0+\\sum\\beta_1 x_i\\right)&\\tiny\\text{(distribute sum)}\\\\ -->"
      ],
      "id": "610761a3-95a9-4927-852e-4d96397e487d"
    },
    {
      "cell_type": "raw",
      "metadata": {
        "raw_mimetype": "text/html"
      },
      "source": [
        "<!-- &= \\frac{1}{n}\\left(n\\beta_0+\\beta_1\\sum x_i\\right)&\\tiny\\text{(simplify, factor out constant)}\\\\ -->"
      ],
      "id": "7f0c472a-d5a6-431a-8711-400a3873d431"
    },
    {
      "cell_type": "raw",
      "metadata": {
        "raw_mimetype": "text/html"
      },
      "source": [
        "<!-- &= \\beta_0+\\beta_1\\bar x. &\\tiny\\text{(simplify)} -->"
      ],
      "id": "7aad6c96-1855-4421-acdb-646aed34c164"
    },
    {
      "cell_type": "raw",
      "metadata": {
        "raw_mimetype": "text/html"
      },
      "source": [
        "<!-- \\end{aligned} -->"
      ],
      "id": "6f776231-208a-49f2-985a-3195c0293b22"
    },
    {
      "cell_type": "raw",
      "metadata": {
        "raw_mimetype": "text/html"
      },
      "source": [
        "<!-- \\] -->"
      ],
      "id": "bc33e21b-8872-433f-afa4-6f6ab7f8325f"
    },
    {
      "cell_type": "raw",
      "metadata": {
        "raw_mimetype": "text/html"
      },
      "source": [
        "<!-- To simplify our derivation below, define -->"
      ],
      "id": "68e2282c-7467-45fb-b14f-b43888d9526e"
    },
    {
      "cell_type": "raw",
      "metadata": {
        "raw_mimetype": "text/html"
      },
      "source": [
        "<!-- \\[ -->"
      ],
      "id": "869d152d-d0a8-4da2-8580-75456bdec01d"
    },
    {
      "cell_type": "raw",
      "metadata": {
        "raw_mimetype": "text/html"
      },
      "source": [
        "<!-- SSX = \\sum x_i^2-\\frac{1}{n}\\left(\\sum  x_i\\right)^2. -->"
      ],
      "id": "88bce3dd-dc26-42b6-9396-a79824c26ca5"
    },
    {
      "cell_type": "raw",
      "metadata": {
        "raw_mimetype": "text/html"
      },
      "source": [
        "<!-- \\] -->"
      ],
      "id": "31d6a9fd-e843-4634-ba96-b5221ae563f0"
    },
    {
      "cell_type": "raw",
      "metadata": {
        "raw_mimetype": "text/html"
      },
      "source": [
        "<!-- Thus, -->"
      ],
      "id": "223cde46-954e-4fb9-817f-88ba6750c06a"
    },
    {
      "cell_type": "raw",
      "metadata": {
        "raw_mimetype": "text/html"
      },
      "source": [
        "<!-- \\[ -->"
      ],
      "id": "d3fae435-75d7-4627-ac09-57726431b87b"
    },
    {
      "cell_type": "raw",
      "metadata": {
        "raw_mimetype": "text/html"
      },
      "source": [
        "<!-- \\begin{aligned} -->"
      ],
      "id": "0ddf8125-97c7-4a64-a933-cf341ad5a69b"
    },
    {
      "cell_type": "raw",
      "metadata": {
        "raw_mimetype": "text/html"
      },
      "source": [
        "<!-- &E(\\hat\\beta_1 \\mid \\mathbf{X}) &\\\\ -->"
      ],
      "id": "e0ef5ea2-c445-4a50-851c-be419bd64d42"
    },
    {
      "cell_type": "raw",
      "metadata": {
        "raw_mimetype": "text/html"
      },
      "source": [
        "<!-- &= E\\left(\\frac{\\sum x_iY_i -\\frac{1}{n}\\sum x_i\\sum Y_i}{\\sum x_i^2-\\frac{1}{n}\\left(\\sum  x_i\\right)^2} \\Biggm| \\mathbf{X} \\right) &\\tiny\\text{(substitute OLS estimator)} \\\\ -->"
      ],
      "id": "49f2e42c-ca2d-4dbd-8fb6-27fae658aea8"
    },
    {
      "cell_type": "raw",
      "metadata": {
        "raw_mimetype": "text/html"
      },
      "source": [
        "<!-- &= \\frac{1}{SSX}E\\left(\\sum x_iY_i-\\frac{1}{n}\\sum x_i\\sum Y_i \\biggm| \\mathbf{X}\\right)&\\tiny\\text{(factor out constant denominator, substitute }SSX\\text{)} \\\\ -->"
      ],
      "id": "ea430412-d599-4302-b39c-99da8fb24b88"
    },
    {
      "cell_type": "raw",
      "metadata": {
        "raw_mimetype": "text/html"
      },
      "source": [
        "<!-- &= \\frac{1}{SSX}\\left[E\\left(\\sum x_iY_i\\Bigm|\\mathbf{X}\\right)-E\\left(\\frac{1}{n}\\sum x_i\\sum Y_i\\biggm|\\mathbf{X}\\right)\\right]&\\tiny\\text{(linearity of expectation)}\\\\ -->"
      ],
      "id": "c551f11d-8376-4c2d-9f74-2ee8e0d96c63"
    },
    {
      "cell_type": "raw",
      "metadata": {
        "raw_mimetype": "text/html"
      },
      "source": [
        "<!-- &= \\frac{1}{SSX}\\left[E\\left(\\sum x_iY_i\\Bigm|\\mathbf{X}\\right)-\\left(\\sum x_i\\right)E\\left(\\bar Y\\mid \\mathbf{X}\\right)\\right]&\\tiny\\text{(factor out constant }\\sum x_i\\text{, use definition of}\\bar{Y})\\\\ -->"
      ],
      "id": "6f99ad58-aeaf-45da-b00e-b5e70ce82605"
    },
    {
      "cell_type": "raw",
      "metadata": {
        "raw_mimetype": "text/html"
      },
      "source": [
        "<!-- &= \\frac{1}{SSX}\\left[\\left(\\beta_0\\sum x_i + \\beta_1\\sum x_i^2\\right)-\\left(\\sum x_i\\right)(\\beta_0+\\beta_1\\bar x)\\right]&\\tiny\\text{(substitute previous derivations -->"
      ],
      "id": "4aae66cb-17b6-4ac9-8d99-ab80e9c337b7"
    },
    {
      "cell_type": "raw",
      "metadata": {
        "raw_mimetype": "text/html"
      },
      "source": [
        "<!-- )}\\\\ -->"
      ],
      "id": "f4dc6ed4-674b-41de-9460-eb4f86ef68e9"
    },
    {
      "cell_type": "raw",
      "metadata": {
        "raw_mimetype": "text/html"
      },
      "source": [
        "<!-- &= \\frac{1}{SSX}\\left[\\beta_0\\sum x_i+\\beta_1\\sum x_i^2-\\beta_0\\sum x_i-\\beta_1\\bar x\\sum x_i\\right]&\\tiny\\text{(expand product and reorder)} \\\\ -->"
      ],
      "id": "d21964be-e8cb-40c4-946b-64caf02614f1"
    },
    {
      "cell_type": "raw",
      "metadata": {
        "raw_mimetype": "text/html"
      },
      "source": [
        "<!-- &= \\frac{1}{SSX}\\left[\\beta_1\\sum x_i^2-\\beta_1\\bar x\\sum x_i\\right]&\\tiny\\text{(cancel terms)}\\\\ -->"
      ],
      "id": "92f0b764-7934-4af9-8264-672c3f1d8bdb"
    },
    {
      "cell_type": "raw",
      "metadata": {
        "raw_mimetype": "text/html"
      },
      "source": [
        "<!-- &= \\frac{1}{SSX}\\left[\\beta_1\\sum x_i^2-\\beta_1\\frac{1}{n}\\sum x_i\\sum x_i\\right]&\\tiny\\text{(using definition of sample mean)}\\\\ -->"
      ],
      "id": "f7e66e6d-e83b-4ab9-9218-de086db81e79"
    },
    {
      "cell_type": "raw",
      "metadata": {
        "raw_mimetype": "text/html"
      },
      "source": [
        "<!-- &= \\frac{1}{SSX}\\beta_1\\left[\\sum x_i^2-\\frac{1}{n}\\left(\\sum x_i\\right)^2\\right]&\\tiny\\text{(factor out }\\beta_1\\text{, simplify})\\\\ -->"
      ],
      "id": "83fac567-1a78-4b0d-800b-f24846535102"
    },
    {
      "cell_type": "raw",
      "metadata": {
        "raw_mimetype": "text/html"
      },
      "source": [
        "<!-- &= \\frac{1}{SSX}\\beta_1[SSX]&\\tiny\\text{(substitute }SSX\\text{)} \\\\ -->"
      ],
      "id": "64635e34-9d67-418d-9ac9-b4d9629d1b22"
    },
    {
      "cell_type": "raw",
      "metadata": {
        "raw_mimetype": "text/html"
      },
      "source": [
        "<!-- &=\\beta_1. &\\tiny\\text{(simplify)} -->"
      ],
      "id": "1f7762dc-a84b-4858-8664-8d318b70a834"
    },
    {
      "cell_type": "raw",
      "metadata": {
        "raw_mimetype": "text/html"
      },
      "source": [
        "<!-- \\end{aligned} -->"
      ],
      "id": "75b45127-3f3e-4a77-b976-1d5ec027b621"
    },
    {
      "cell_type": "raw",
      "metadata": {
        "raw_mimetype": "text/html"
      },
      "source": [
        "<!-- \\] -->"
      ],
      "id": "4b0c1c36-bdca-4d8e-b4a9-6b5c1e190888"
    },
    {
      "cell_type": "raw",
      "metadata": {
        "raw_mimetype": "text/html"
      },
      "source": [
        "<!-- Therefore, $\\hat\\beta_1$ is an unbiased estimator of $\\beta_1$. -->"
      ],
      "id": "e5a08b67-d962-4457-9ab7-781ef3a159ae"
    },
    {
      "cell_type": "raw",
      "metadata": {
        "raw_mimetype": "text/html"
      },
      "source": [
        "<!-- Next, we show that $\\hat\\beta_0$ is unbiased: -->"
      ],
      "id": "b8417529-3a3c-46f7-9eaa-5f9cea46b277"
    },
    {
      "cell_type": "raw",
      "metadata": {
        "raw_mimetype": "text/html"
      },
      "source": [
        "<!-- \\[ -->"
      ],
      "id": "c8f19354-8324-4b25-a704-f630e10bc152"
    },
    {
      "cell_type": "raw",
      "metadata": {
        "raw_mimetype": "text/html"
      },
      "source": [
        "<!-- \\begin{aligned} -->"
      ],
      "id": "6e83c3bf-48de-42c0-815b-14d19c5d2639"
    },
    {
      "cell_type": "raw",
      "metadata": {
        "raw_mimetype": "text/html"
      },
      "source": [
        "<!-- E(\\hat\\beta_0\\mid \\mathbf{X}) &= E(\\bar Y - \\hat{\\beta}_1\\bar x\\mid \\mathbf{X}) &\\tiny\\text{(OLS estimator of }\\beta_0) \\\\ -->"
      ],
      "id": "1239154a-0895-43a1-9b62-41f609fe148b"
    },
    {
      "cell_type": "raw",
      "metadata": {
        "raw_mimetype": "text/html"
      },
      "source": [
        "<!-- &= E(\\bar{Y}\\mid \\mathbf{X}) - E(\\hat\\beta_1\\bar{x}\\mid \\mathbf{X}) &\\tiny\\text{(linearity of expectation})\\\\ -->"
      ],
      "id": "296815da-bff8-4baf-b72b-6afa8291ae66"
    },
    {
      "cell_type": "raw",
      "metadata": {
        "raw_mimetype": "text/html"
      },
      "source": [
        "<!-- &= E(\\bar{Y}\\mid \\mathbf{X}) - \\bar{x}E(\\hat\\beta_1\\mid \\mathbf{X}) &\\tiny\\text{(factor out constant})\\\\ -->"
      ],
      "id": "38789879-3b7d-4c44-a2f9-9bace8c4b029"
    },
    {
      "cell_type": "raw",
      "metadata": {
        "raw_mimetype": "text/html"
      },
      "source": [
        "<!-- &= \\beta_0 +\\beta_1\\bar x-\\bar x\\beta_1 &\\tiny\\text{(substitute previous derivations})\\\\ -->"
      ],
      "id": "f74c970c-eb61-48d7-98e9-4b92eddb13bd"
    },
    {
      "cell_type": "raw",
      "metadata": {
        "raw_mimetype": "text/html"
      },
      "source": [
        "<!-- &= \\beta_0. &\\tiny\\text{(cancel terms})\\\\ -->"
      ],
      "id": "9469b1dd-00ee-4e96-98f5-0d4087922b6b"
    },
    {
      "cell_type": "raw",
      "metadata": {
        "raw_mimetype": "text/html"
      },
      "source": [
        "<!-- \\end{aligned} -->"
      ],
      "id": "633bc714-1fa3-4779-93af-8ed21c931e03"
    },
    {
      "cell_type": "raw",
      "metadata": {
        "raw_mimetype": "text/html"
      },
      "source": [
        "<!-- \\] -->"
      ],
      "id": "7c5f59c0-fc39-45da-bef3-ff2900e3e341"
    },
    {
      "cell_type": "raw",
      "metadata": {
        "raw_mimetype": "text/html"
      },
      "source": [
        "<!-- Therefore, $\\hat\\beta_0$ is an unbiased estimator of $\\beta_0$. -->"
      ],
      "id": "f176c82d-dfae-4404-b55d-2f54100e1786"
    },
    {
      "cell_type": "raw",
      "metadata": {
        "raw_mimetype": "text/html"
      },
      "source": [
        "<!-- <!-- Next, we derive the variance of the OLS estimators conditional on the known regressor values, i.e., $\\mathrm{var}(\\hat\\beta_0 \\mid \\mathbf{X})$ and $\\mathrm{var}(\\hat\\beta_1 \\mid \\mathbf{X})$. -->"
      ],
      "id": "9ed714aa-85be-428d-a978-8c7841d83ba7"
    },
    {
      "cell_type": "markdown",
      "metadata": {},
      "source": [
        "–\\>"
      ],
      "id": "40b89ea4-1d7d-44b9-ac77-3c1e8fed852c"
    },
    {
      "cell_type": "raw",
      "metadata": {
        "raw_mimetype": "text/html"
      },
      "source": [
        "<!-- <!-- First, we derive that -->"
      ],
      "id": "7fd616aa-4cba-48c6-a20b-6c217f84dc4f"
    },
    {
      "cell_type": "markdown",
      "metadata": {},
      "source": [
        "–\\> <!-- <!-- \\[ --> –\\> <!-- <!-- \\begin{align} --> –\\>\n",
        "<!-- <!-- \\mathrm{var}(Y_i\\mid X = x_i) &= \\mathrm{var}(\\beta_0+\\beta_1x_i+\\epsilon_i\\mid X = x_i)&\\tiny\\text{(substitute model definition)} \\\\ -->\n",
        "–\\>\n",
        "<!-- <!-- &= \\mathrm{var}(\\epsilon_i\\mid X = x_i)&\\tiny(\\beta_0, \\beta_1, x_i\\text{ are fixed, so zero variance)} \\\\ -->\n",
        "–\\> <!-- <!-- &= \\sigma^2. &\\tiny\\text{(by assumption)} --> –\\>\n",
        "<!-- <!-- \\end{align} --> –\\> <!-- <!-- \\] --> –\\>"
      ],
      "id": "1aa422ca-ada5-4b25-8686-2472b7130e32"
    },
    {
      "cell_type": "raw",
      "metadata": {
        "raw_mimetype": "text/html"
      },
      "source": [
        "<!-- <!-- Second, we derive that -->"
      ],
      "id": "6f71d063-0573-4a4a-adb5-97e83e9cabbc"
    },
    {
      "cell_type": "markdown",
      "metadata": {},
      "source": [
        "–\\> <!-- <!-- \\[ --> –\\> <!-- <!-- \\begin{align} --> –\\>\n",
        "<!-- <!-- \\text{cov}(Y_i, Y_j\\mid \\mathbf{X}) &= \\text{cov}(\\beta_0+\\beta_1x_i+\\epsilon_i, \\beta_0+\\beta_1x_j+\\epsilon_j\\mid \\mathbf{X})&\\tiny\\text{(substitute model definition)} \\\\ -->\n",
        "–\\>\n",
        "<!-- <!-- &= \\text{cov}(\\epsilon_i,\\epsilon_j\\mid \\mathbf{X})&\\tiny\\text{(other values are fixed)} \\\\ -->\n",
        "–\\> <!-- <!-- &= 0.&\\tiny\\text{(errors are uncorrelated)} --> –\\>\n",
        "<!-- <!-- \\end{align} --> –\\> <!-- <!-- \\] --> –\\>"
      ],
      "id": "286319fc-2c1a-4749-9716-5a3d8c7b09ca"
    },
    {
      "cell_type": "raw",
      "metadata": {
        "raw_mimetype": "text/html"
      },
      "source": [
        "<!-- <!-- Next, to simplify the derivation, we use a different form of $\\hat\\beta_1$ from Equation \\@ref(eq:slr-beta1hat), namely, -->"
      ],
      "id": "aa787fd6-bbdd-47b2-97e6-8b4614afca2b"
    },
    {
      "cell_type": "markdown",
      "metadata": {},
      "source": [
        "–\\> <!-- <!-- \\[ --> –\\> <!-- <!-- \\begin{align} --> –\\>\n",
        "<!-- <!-- \\mathrm{var}(\\hat\\beta_1\\mid \\mathbf{X}) &=\\mathrm{var}\\left(\\frac{\\sum(x_i-\\bar x)Y_i}{\\sum(x_i-\\bar x)^2}\\mid \\mathbf{X}\\right)&\\tiny\\text{(expression for }\\hat\\beta_1)\\\\ -->\n",
        "–\\>\n",
        "<!-- <!-- &=\\frac{1}{\\left[\\sum(x_i-\\bar x)^2\\right]^2}\\mathrm{var}\\left(\\sum(x_i-\\bar x)Y_i\\Bigm| \\mathbf{X}\\right)&\\tiny\\text{(factor out constant denominator)}\\\\ -->\n",
        "–\\>\n",
        "<!-- <!-- &=\\frac{1}{\\left[\\sum(x_i-\\bar x)^2\\right]^2}\\biggl[\\sum\\mathrm{var}((x_i-\\bar x)Y_i\\mid \\mathbf{X})&\\\\ -->\n",
        "–\\>\n",
        "<!-- <!-- &\\qquad+\\sum_{i=1}^{n}\\sum_{i\\neq j}\\text{cov}((x_i-\\bar x)Y_i, (x_j-\\bar x)Y_j\\mid \\mathbf{X})\\biggr]&\\tiny\\text{(variance of a sum formula)}\\\\ -->\n",
        "–\\>\n",
        "<!-- <!-- &=\\frac{1}{\\left[\\sum(x_i-\\bar x)^2\\right]^2}\\biggl[\\sum(x_i-\\bar x)^2\\mathrm{var}(Y_i\\mid \\mathbf{X}) & \\\\ -->\n",
        "–\\>\n",
        "<!-- <!-- &\\qquad +\\sum_{i=1}^{n}\\sum_{i\\neq j}(x_i-\\bar x)(x_j-\\bar x)\\text{cov}(Y_i,Y_j\\mid \\mathbf{X})\\biggr]&\\tiny\\text{(factor out constants)}\\\\ -->\n",
        "–\\>\n",
        "<!-- <!-- &=\\frac{1}{\\left[\\sum(x_i-\\bar x)^2\\right]^2}\\left[\\sum(x_i-\\bar x)^2\\mathrm{var}(Y_i\\mid \\mathbf{X})\\right]&\\tiny\\text{(simplify using }\\text{cov}(Y_i, Y_j\\mid \\mathbf{X})=0 \\text{ for } i\\neq j)\\\\ -->\n",
        "–\\>\n",
        "<!-- <!-- &=\\frac{1}{\\left[\\sum(x_i-\\bar x)^2\\right]^2}\\left[\\sigma^2\\sum(x_i-\\bar x)^2\\right]&\\tiny\\text{(substitute known variance, factor out }\\sigma^2\\text{)}\\\\ -->\n",
        "–\\>\n",
        "<!-- <!-- &=\\frac{\\sigma^2}{\\sum(x_i-\\bar x)^2}.&\\tiny\\text{(cancel out numerator and denominator)}\\ -->\n",
        "–\\> <!-- <!-- \\end{align} --> –\\> <!-- <!-- \\] --> –\\>"
      ],
      "id": "193521ce-fd27-40dc-905c-71c949ff9b89"
    },
    {
      "cell_type": "raw",
      "metadata": {
        "raw_mimetype": "text/html"
      },
      "source": [
        "<!-- ## Manual calculation Penguins simple linear regression example -->"
      ],
      "id": "7d2f3d18-f2a6-4068-a924-8baffa0be687"
    },
    {
      "cell_type": "raw",
      "metadata": {
        "raw_mimetype": "text/html"
      },
      "source": [
        "<!-- In this section, we manually produce (i.e., without the `lm` function) the `penguins` simple linear regression example in Section \\@ref(s:penguins-slr). -->"
      ],
      "id": "693cbce7-3d69-40b4-8191-8e9acad423b4"
    },
    {
      "cell_type": "raw",
      "metadata": {
        "raw_mimetype": "text/html"
      },
      "source": [
        "<!-- First, we will manually fit a simple linear regression model that regresses `bill_length_mm` on `body_mass_g`. -->"
      ],
      "id": "02331606-91fb-4063-aebb-019c495f7264"
    },
    {
      "cell_type": "raw",
      "metadata": {
        "raw_mimetype": "text/html"
      },
      "source": [
        "<!-- Using the `summary` function on the `penguins` data frame, we see that both `bill_length_mm` and `body_mass_g` have `NA` values. -->"
      ],
      "id": "7fbac6c2-b17b-4134-ac97-1b3ab9e90d8b"
    },
    {
      "cell_type": "raw",
      "metadata": {
        "raw_mimetype": "text/html"
      },
      "source": [
        "<!-- ```{r} -->"
      ],
      "id": "83353c79-bad2-4847-977a-53abcc4bd8b3"
    },
    {
      "cell_type": "raw",
      "metadata": {
        "raw_mimetype": "text/html"
      },
      "source": [
        "<!-- summary(penguins) -->"
      ],
      "id": "223bd624-b81c-4425-8721-3500c58bb47f"
    },
    {
      "cell_type": "raw",
      "metadata": {
        "raw_mimetype": "text/html"
      },
      "source": [
        "<!-- ``` -->"
      ],
      "id": "3a382635-415e-494a-a8c9-945a122fa836"
    },
    {
      "cell_type": "raw",
      "metadata": {
        "raw_mimetype": "text/html"
      },
      "source": [
        "<!-- This is important to note because the `lm` function automatically removes any observation with `NA` values for any of the variables specified in the `formula` argument. In order to replicate our results, we must remove the same observations. -->"
      ],
      "id": "e23375c4-fa86-401b-bac7-4d3fa3459afd"
    },
    {
      "cell_type": "raw",
      "metadata": {
        "raw_mimetype": "text/html"
      },
      "source": [
        "<!-- We want to remove the rows of `penguins` where either `body_mass_g` or `bill_length_mm` have `NA` values. We do that below using the `na.omit` function (selecting only the relevant variables) and assign the cleaned -->"
      ],
      "id": "8e8ec461-54e7-4c85-8483-7c96f8c9e16e"
    },
    {
      "cell_type": "raw",
      "metadata": {
        "raw_mimetype": "text/html"
      },
      "source": [
        "<!-- object the name `penguins_clean`. -->"
      ],
      "id": "f9822b24-6955-4302-acce-d97baa3c16ca"
    },
    {
      "cell_type": "raw",
      "metadata": {
        "raw_mimetype": "text/html"
      },
      "source": [
        "<!-- ```{r} -->"
      ],
      "id": "f8d93869-2cfc-4854-b253-f9cc7cc56501"
    },
    {
      "cell_type": "raw",
      "metadata": {
        "raw_mimetype": "text/html"
      },
      "source": [
        "<!-- # remove rows of penguins where bill_length_mm or body_mass_g have NA values -->"
      ],
      "id": "908a1c85-7c6c-4110-a635-09fef940406a"
    },
    {
      "cell_type": "raw",
      "metadata": {
        "raw_mimetype": "text/html"
      },
      "source": [
        "<!-- penguins_clean <- -->"
      ],
      "id": "91d9935b-f0a3-491c-a06b-ef3667808f9b"
    },
    {
      "cell_type": "raw",
      "metadata": {
        "raw_mimetype": "text/html"
      },
      "source": [
        "<!--   penguins |> -->"
      ],
      "id": "74e68a0f-d3ab-4ef2-bd4e-af61e0109122"
    },
    {
      "cell_type": "raw",
      "metadata": {
        "raw_mimetype": "text/html"
      },
      "source": [
        "<!--   subset(select = c(\"bill_length_mm\", \"body_mass_g\")) |> -->"
      ],
      "id": "f5691c42-1367-4ce2-9d29-5fb185253cc8"
    },
    {
      "cell_type": "raw",
      "metadata": {
        "raw_mimetype": "text/html"
      },
      "source": [
        "<!--   na.omit() -->"
      ],
      "id": "a970bb33-9dbc-4704-9af5-50105738d5b0"
    },
    {
      "cell_type": "raw",
      "metadata": {
        "raw_mimetype": "text/html"
      },
      "source": [
        "<!-- ``` -->"
      ],
      "id": "a715fcd0-fe17-4aed-85f7-cdace435f463"
    },
    {
      "cell_type": "raw",
      "metadata": {
        "raw_mimetype": "text/html"
      },
      "source": [
        "<!-- We extract the `bill_length_mm` variable from the `penguins` data frame and assign it the name `y` since it will be the response variable. We extract the `body_mass_g` variable from the `penguins` data frame and -->"
      ],
      "id": "95c96748-7e2a-4b7c-ac85-9ee63a7e55a5"
    },
    {
      "cell_type": "raw",
      "metadata": {
        "raw_mimetype": "text/html"
      },
      "source": [
        "<!-- assign it the name `x` since it will be the regressor variable. We also determine the number of observations and assign that value the name `n`. -->"
      ],
      "id": "8c9f6703-6094-4437-a17a-ab1138f11d04"
    },
    {
      "cell_type": "raw",
      "metadata": {
        "raw_mimetype": "text/html"
      },
      "source": [
        "<!-- ```{r} -->"
      ],
      "id": "8dbcebbd-dc39-4e60-9621-3a5dde5e41de"
    },
    {
      "cell_type": "raw",
      "metadata": {
        "raw_mimetype": "text/html"
      },
      "source": [
        "<!-- # extract response and regressor from penguins_clean -->"
      ],
      "id": "2451872d-7a00-4d05-8095-5ea6b964dcc6"
    },
    {
      "cell_type": "raw",
      "metadata": {
        "raw_mimetype": "text/html"
      },
      "source": [
        "<!-- y <- penguins_clean$bill_length_mm -->"
      ],
      "id": "cf7c87ed-56c5-4eaf-9cfb-2dae836e9dee"
    },
    {
      "cell_type": "raw",
      "metadata": {
        "raw_mimetype": "text/html"
      },
      "source": [
        "<!-- x <- penguins_clean$body_mass_g -->"
      ],
      "id": "863e6e1d-e201-4807-bd94-a836874f77c3"
    },
    {
      "cell_type": "raw",
      "metadata": {
        "raw_mimetype": "text/html"
      },
      "source": [
        "<!-- # determine number of observations -->"
      ],
      "id": "174390b5-8243-4110-a640-1825417782e1"
    },
    {
      "cell_type": "raw",
      "metadata": {
        "raw_mimetype": "text/html"
      },
      "source": [
        "<!-- n <- length(y) -->"
      ],
      "id": "e95dba49-4c3b-4252-b693-938ef6332d3d"
    },
    {
      "cell_type": "raw",
      "metadata": {
        "raw_mimetype": "text/html"
      },
      "source": [
        "<!-- ``` -->"
      ],
      "id": "7882a597-c9d9-45f0-b79a-bd62647c4088"
    },
    {
      "cell_type": "raw",
      "metadata": {
        "raw_mimetype": "text/html"
      },
      "source": [
        "<!-- We now compute $\\hat{\\beta}_1$ and $\\hat{\\beta}_0$ using Equations \\@ref(eq:slr-beta1hat) and \\@ref(eq:slr-beta0hat). Note that placing `()` around the assignment operations will both perform the assignment and print the results. -->"
      ],
      "id": "da69cb39-db16-4b8b-9218-4582c39f0cde"
    },
    {
      "cell_type": "raw",
      "metadata": {
        "raw_mimetype": "text/html"
      },
      "source": [
        "<!-- ```{r} -->"
      ],
      "id": "b6d083fc-1040-44e1-afca-d8cecefd8831"
    },
    {
      "cell_type": "raw",
      "metadata": {
        "raw_mimetype": "text/html"
      },
      "source": [
        "<!-- # compute OLS estimate of beta1 -->"
      ],
      "id": "de02b85c-bf5b-4554-9380-e0d8085e1f80"
    },
    {
      "cell_type": "raw",
      "metadata": {
        "raw_mimetype": "text/html"
      },
      "source": [
        "<!-- (b1 <- (sum(x * y) - sum(x) * sum(y) / n)/(sum(x^2) - sum(x)^2/n)) -->"
      ],
      "id": "312c1b80-09aa-4120-b347-28986485bed7"
    },
    {
      "cell_type": "raw",
      "metadata": {
        "raw_mimetype": "text/html"
      },
      "source": [
        "<!-- # compute OLS estimate of beta0 -->"
      ],
      "id": "11ed4cef-6963-4b20-8b1b-0bdd86b8515a"
    },
    {
      "cell_type": "raw",
      "metadata": {
        "raw_mimetype": "text/html"
      },
      "source": [
        "<!-- (b0 <- mean(y) - b1 * mean(x)) -->"
      ],
      "id": "69de0513-e766-4dd1-ba48-3c6818473012"
    },
    {
      "cell_type": "raw",
      "metadata": {
        "raw_mimetype": "text/html"
      },
      "source": [
        "<!-- ``` -->"
      ],
      "id": "f3a43925-fcca-4f86-b23f-28ef8671c2e7"
    },
    {
      "cell_type": "raw",
      "metadata": {
        "raw_mimetype": "text/html"
      },
      "source": [
        "<!-- The estimated value of $\\beta_0$ is $\\hat{\\beta}_0=26.90$ and the estimated value of $\\beta_1$ is $\\hat{\\beta}_1=0.004$. -->"
      ],
      "id": "e3b0a9ad-cd8b-4e2c-a393-94b8908a9817"
    },
    {
      "cell_type": "raw",
      "metadata": {
        "raw_mimetype": "text/html"
      },
      "source": [
        "<!-- We can also compute the residuals, the fitted values, the RSS, and the estimated error variance. Using the code below, the RSS for our model is 6564.49 and the estimated error variance if $\\hat{\\sigma}^2=19.31$. -->"
      ],
      "id": "9410ad7b-aa2f-4b5c-b148-0019774c77d5"
    },
    {
      "cell_type": "raw",
      "metadata": {
        "raw_mimetype": "text/html"
      },
      "source": [
        "<!-- ```{r} -->"
      ],
      "id": "58ac5efd-65da-4d64-9759-ed3d3c6504be"
    },
    {
      "cell_type": "raw",
      "metadata": {
        "raw_mimetype": "text/html"
      },
      "source": [
        "<!-- yhat <- b0 + b1 * x # compute fitted values -->"
      ],
      "id": "49474606-abea-4edc-b242-df02f6e220ef"
    },
    {
      "cell_type": "raw",
      "metadata": {
        "raw_mimetype": "text/html"
      },
      "source": [
        "<!-- ehat <- y - yhat # compute residuals -->"
      ],
      "id": "6574fc25-0637-4b92-a51a-edd8050cac6f"
    },
    {
      "cell_type": "raw",
      "metadata": {
        "raw_mimetype": "text/html"
      },
      "source": [
        "<!-- (rss <- sum(ehat^2)) # sum of the squared residuals -->"
      ],
      "id": "9fbb46b0-dbdb-4df5-9d59-3dfed263bc40"
    },
    {
      "cell_type": "raw",
      "metadata": {
        "raw_mimetype": "text/html"
      },
      "source": [
        "<!-- (sigmasqhat <- rss/(n-2)) # estimated error variance -->"
      ],
      "id": "82242335-36d7-497b-a5a6-7809e511ef7b"
    },
    {
      "cell_type": "raw",
      "metadata": {
        "raw_mimetype": "text/html"
      },
      "source": [
        "<!-- ``` -->"
      ],
      "id": "1bf40db2-5be4-487d-94f7-d4e26b445f94"
    },
    {
      "cell_type": "raw",
      "metadata": {
        "raw_mimetype": "text/html"
      },
      "source": [
        "<!-- ## Derivation of the OLS estimator for the multiple linear regression model coefficients {#mlr-derivation} -->"
      ],
      "id": "56f80fa9-496f-4fc7-816f-3a5b1ad57188"
    },
    {
      "cell_type": "raw",
      "metadata": {
        "raw_mimetype": "text/html"
      },
      "source": [
        "<!-- We want to determine the value of $\\hat{\\boldsymbol{\\beta}}$ that will minimize -->"
      ],
      "id": "be51ff6d-bc15-4c86-ae8f-dfc3881d6fb9"
    },
    {
      "cell_type": "raw",
      "metadata": {
        "raw_mimetype": "text/html"
      },
      "source": [
        "<!-- \\[ -->"
      ],
      "id": "cc181cd2-89a7-4fda-80e3-446747466554"
    },
    {
      "cell_type": "raw",
      "metadata": {
        "raw_mimetype": "text/html"
      },
      "source": [
        "<!-- \\begin{aligned} -->"
      ],
      "id": "de0ee091-f90d-4cf1-a7ad-91225a4bf81d"
    },
    {
      "cell_type": "raw",
      "metadata": {
        "raw_mimetype": "text/html"
      },
      "source": [
        "<!-- RSS(\\hat{\\boldsymbol{\\beta}}) &=\\sum_{i=1}^n \\hat{\\epsilon_i}^2 \\\\ -->"
      ],
      "id": "e44a1244-7d13-47e2-bff6-aa94fa73e13e"
    },
    {
      "cell_type": "raw",
      "metadata": {
        "raw_mimetype": "text/html"
      },
      "source": [
        "<!-- &= \\hat{\\boldsymbol{\\epsilon}}^T\\hat{\\boldsymbol{\\epsilon}} \\\\ -->"
      ],
      "id": "3ad3494f-f698-46d7-bb90-4f99f17ffb94"
    },
    {
      "cell_type": "raw",
      "metadata": {
        "raw_mimetype": "text/html"
      },
      "source": [
        "<!-- &= (\\mathbf{y} - \\mathbf{X}\\hat{\\boldsymbol{\\beta}})^T(\\mathbf{y} - \\mathbf{X}\\hat{\\boldsymbol{\\beta}}) \\\\ -->"
      ],
      "id": "a3690933-fe72-4139-8a41-c064c96283df"
    },
    {
      "cell_type": "raw",
      "metadata": {
        "raw_mimetype": "text/html"
      },
      "source": [
        "<!-- &= \\mathbf{y}^T\\mathbf{y}-2\\hat{\\boldsymbol{\\beta}}^T\\mathbf{X}^T\\mathbf{y}+\\hat{\\boldsymbol{\\beta}}^T\\mathbf{X}^T\\mathbf{X}\\hat{\\boldsymbol{\\beta}}, -->"
      ],
      "id": "95ea5ca2-c432-45b0-82ed-bce148f45a74"
    },
    {
      "cell_type": "raw",
      "metadata": {
        "raw_mimetype": "text/html"
      },
      "source": [
        "<!-- \\end{aligned} -->"
      ],
      "id": "5d8b1a5f-e915-4112-91a3-b8fead1b10a9"
    },
    {
      "cell_type": "raw",
      "metadata": {
        "raw_mimetype": "text/html"
      },
      "source": [
        "<!-- \\] -->"
      ],
      "id": "6635fa42-e356-40d6-b376-1991608c3fc1"
    },
    {
      "cell_type": "raw",
      "metadata": {
        "raw_mimetype": "text/html"
      },
      "source": [
        "<!-- where the second term in the last line comes from the fact that $\\hat{\\boldsymbol{\\beta}}^T\\mathbf{X}^T\\mathbf{y}$ is a $1\\times 1$ matrix, and is thus symmetric. Consequently, $\\hat{\\boldsymbol{\\beta}}^T\\mathbf{X}^T\\mathbf{y}=(\\hat{\\boldsymbol{\\beta}}^T\\mathbf{X}^T\\mathbf{y})^T=\\mathbf{y}^T\\mathbf{X}\\hat{\\boldsymbol{\\beta}}$. -->"
      ],
      "id": "093ea694-f3df-4ce1-824a-c18c06f7b697"
    },
    {
      "cell_type": "raw",
      "metadata": {
        "raw_mimetype": "text/html"
      },
      "source": [
        "<!-- To find the local extrema of $RSS(\\hat{\\boldsymbol{\\beta}})$, we set its derivative with respect to $\\hat{\\boldsymbol{\\beta}}$ equal to 0, and solve for $\\hat{\\boldsymbol{\\beta}})$. -->"
      ],
      "id": "c5bd40b7-44b8-4e71-9658-fbeb29b1d42e"
    },
    {
      "cell_type": "raw",
      "metadata": {
        "raw_mimetype": "text/html"
      },
      "source": [
        "<!-- Using the results in Appendix \\@ref(matrix-derivatives), -->"
      ],
      "id": "30b085a2-1d36-46d4-9969-d3b2469f4eb2"
    },
    {
      "cell_type": "raw",
      "metadata": {
        "raw_mimetype": "text/html"
      },
      "source": [
        "<!-- we see that -->"
      ],
      "id": "2c0b94ee-9944-4a9f-89c2-48c2bca6b68f"
    },
    {
      "cell_type": "raw",
      "metadata": {
        "raw_mimetype": "text/html"
      },
      "source": [
        "<!-- \\[ -->"
      ],
      "id": "c4cef77f-5fba-40a5-bfe6-afc4052c8e69"
    },
    {
      "cell_type": "raw",
      "metadata": {
        "raw_mimetype": "text/html"
      },
      "source": [
        "<!-- \\frac{\\partial RSS(\\hat{\\boldsymbol{\\beta}})}{\\partial\\hat{\\boldsymbol{\\beta}}} = -2\\mathbf{X}^T\\mathbf{y} + 2\\mathbf{X}^T\\mathbf{X}\\hat{\\boldsymbol{\\beta}}. -->"
      ],
      "id": "6a905d42-2165-40e4-b976-5ac8bc4edc43"
    },
    {
      "cell_type": "raw",
      "metadata": {
        "raw_mimetype": "text/html"
      },
      "source": [
        "<!-- \\] -->"
      ],
      "id": "7914419e-7d44-4f7d-bd28-81879aee882a"
    },
    {
      "cell_type": "raw",
      "metadata": {
        "raw_mimetype": "text/html"
      },
      "source": [
        "<!-- Setting $\\partial RSS(\\hat{\\boldsymbol{\\beta}})/\\partial\\hat{\\boldsymbol{\\beta}}=0$ and using some simple algebra, we derive the **normal equations** -->"
      ],
      "id": "5f3fcf55-baa3-4e83-acae-4855b16cbf70"
    },
    {
      "cell_type": "raw",
      "metadata": {
        "raw_mimetype": "text/html"
      },
      "source": [
        "<!-- \\[\\mathbf{X}^T\\mathbf{X}\\hat{\\boldsymbol{\\beta}}=\\mathbf{X}^T\\mathbf{y}.\\] -->"
      ],
      "id": "d1a8fb76-1d66-4ca6-bc25-059acb40d9bd"
    },
    {
      "cell_type": "raw",
      "metadata": {
        "raw_mimetype": "text/html"
      },
      "source": [
        "<!-- Assuming the $\\mathbf{X}^T\\mathbf{X}$ is invertible, which it will be when $\\mathbf{X}$ is full-rank, our solution is -->"
      ],
      "id": "68f616d0-d68a-4b0a-9041-25829cdacff4"
    },
    {
      "cell_type": "raw",
      "metadata": {
        "raw_mimetype": "text/html"
      },
      "source": [
        "<!-- \\[\\hat{\\boldsymbol{\\beta}}=(\\mathbf{X}^T\\mathbf{X})^{-1}\\mathbf{X}^T\\mathbf{y}.\\] -->"
      ],
      "id": "118afc00-3f38-4446-8162-cf91dd54b668"
    },
    {
      "cell_type": "raw",
      "metadata": {
        "raw_mimetype": "text/html"
      },
      "source": [
        "<!-- To show that the OLS estimator of $\\boldsymbol{\\beta}$ minimizes $RSS(\\hat{\\boldsymbol{\\beta}})$, we technically need to show that the Hessian matrix of $RSS(\\hat{\\boldsymbol{\\beta}})$, the matrix of second-order partial derivatives, is positive definite. In our context, the Hessian matrix is -->"
      ],
      "id": "f525cf0c-67db-4613-843e-069e44caaa7a"
    },
    {
      "cell_type": "raw",
      "metadata": {
        "raw_mimetype": "text/html"
      },
      "source": [
        "<!-- \\[ -->"
      ],
      "id": "6f79a4d3-7785-4070-846d-0b33926ca074"
    },
    {
      "cell_type": "raw",
      "metadata": {
        "raw_mimetype": "text/html"
      },
      "source": [
        "<!-- \\begin{aligned} -->"
      ],
      "id": "27bb0fda-6b81-49bd-9d7e-989faed2dea9"
    },
    {
      "cell_type": "raw",
      "metadata": {
        "raw_mimetype": "text/html"
      },
      "source": [
        "<!-- \\frac{\\partial^2 RSS(\\hat{\\boldsymbol{\\beta}})}{\\partial \\hat{\\boldsymbol{\\beta}}^2} &= \\frac{\\partial}{\\partial \\hat{\\boldsymbol{\\beta}}}(-2\\mathbf{X}^T\\mathbf{y} + 2\\mathbf{X}^T\\mathbf{X}\\hat{\\boldsymbol{\\beta}}) \\\\ -->"
      ],
      "id": "abedf9af-5bc8-486b-a1ba-03d3954bfc5c"
    },
    {
      "cell_type": "raw",
      "metadata": {
        "raw_mimetype": "text/html"
      },
      "source": [
        "<!-- &= 2\\mathbf{X}^T\\mathbf{X}. -->"
      ],
      "id": "afbc0106-4187-4340-a6e6-f1e17002fa7b"
    },
    {
      "cell_type": "raw",
      "metadata": {
        "raw_mimetype": "text/html"
      },
      "source": [
        "<!-- \\end{aligned} -->"
      ],
      "id": "5eba5e1c-e443-4ae4-84a8-d7be9f5a2e25"
    },
    {
      "cell_type": "raw",
      "metadata": {
        "raw_mimetype": "text/html"
      },
      "source": [
        "<!-- \\] -->"
      ],
      "id": "19134966-b5f4-4ada-8593-4538a621f4e9"
    },
    {
      "cell_type": "raw",
      "metadata": {
        "raw_mimetype": "text/html"
      },
      "source": [
        "<!-- The $p\\times p$ matrix $2\\mathbf{X}^T\\mathbf{X}$ is positive definite, but it is beyond the scope of the course to prove this. -->"
      ],
      "id": "39d0998b-dcc2-47f3-8aa0-a33a8f0d17e5"
    },
    {
      "cell_type": "raw",
      "metadata": {
        "raw_mimetype": "text/html"
      },
      "source": [
        "<!-- Therefore, the OLS estimator of $\\boldsymbol{\\beta}$, -->"
      ],
      "id": "b575b701-67e5-45bd-9bfb-ca03c630f2d8"
    },
    {
      "cell_type": "raw",
      "metadata": {
        "raw_mimetype": "text/html"
      },
      "source": [
        "<!-- \\[\\hat{\\boldsymbol{\\beta}}=(\\mathbf{X}^T\\mathbf{X})^{-1}\\mathbf{X}^T\\mathbf{y}\\] -->"
      ],
      "id": "47c874e5-25ba-4d87-9c6a-2a241f9bd55f"
    },
    {
      "cell_type": "raw",
      "metadata": {
        "raw_mimetype": "text/html"
      },
      "source": [
        "<!-- minimizes the RSS. -->"
      ],
      "id": "f8af77e7-5d48-4602-8813-56b4c1d85996"
    },
    {
      "cell_type": "raw",
      "metadata": {
        "raw_mimetype": "text/html"
      },
      "source": [
        "<!-- ## Manual calculation of Penguins multiple linear regression example -->"
      ],
      "id": "138fb4d5-bdf8-404f-815d-fd3db5ac93a0"
    },
    {
      "cell_type": "raw",
      "metadata": {
        "raw_mimetype": "text/html"
      },
      "source": [
        "<!-- We manually verify the calculations for the `penguins` example given in Section \\@ref{s:penguins-mlr}, where we fit the multiple linear regression model regressing `bill_length_mm` on `body_mass_g` and `flipper_length_mm`. We refit the model below, specifying the argument `y = TRUE` so we can get the response vector used in the model. -->"
      ],
      "id": "52953d64-b64e-4cdf-96fd-ac622c1d51b8"
    },
    {
      "cell_type": "raw",
      "metadata": {
        "raw_mimetype": "text/html"
      },
      "source": [
        "<!-- ```{r} -->"
      ],
      "id": "6fe270c0-eb04-468e-a8e1-1e8a67abfd26"
    },
    {
      "cell_type": "raw",
      "metadata": {
        "raw_mimetype": "text/html"
      },
      "source": [
        "<!-- # fit regression model, retaining the y vector -->"
      ],
      "id": "1b765f13-17d5-4987-bdd0-c0171d102fd3"
    },
    {
      "cell_type": "raw",
      "metadata": {
        "raw_mimetype": "text/html"
      },
      "source": [
        "<!-- mlmod <- lm(bill_length_mm ~ body_mass_g + flipper_length_mm, -->"
      ],
      "id": "27e026de-c6f0-4cff-8531-9b3219300c00"
    },
    {
      "cell_type": "raw",
      "metadata": {
        "raw_mimetype": "text/html"
      },
      "source": [
        "<!--             data = penguins, y = TRUE) -->"
      ],
      "id": "caa6efcb-950d-4bf2-9abf-19289b38dd8f"
    },
    {
      "cell_type": "raw",
      "metadata": {
        "raw_mimetype": "text/html"
      },
      "source": [
        "<!-- ``` -->"
      ],
      "id": "86559422-f2df-4143-bdad-769d3386d87c"
    },
    {
      "cell_type": "raw",
      "metadata": {
        "raw_mimetype": "text/html"
      },
      "source": [
        "<!-- We can use `model.matrix` to extract the $\\mathbf{X}$ matrix from our fitted model. And because we specified `y = TRUE` in our call to `lm`, we can also extract `y` from the fitted model using the code below. -->"
      ],
      "id": "315e8eed-1416-4057-a6d7-d846a73a34c6"
    },
    {
      "cell_type": "raw",
      "metadata": {
        "raw_mimetype": "text/html"
      },
      "source": [
        "<!-- ```{r} -->"
      ],
      "id": "57cd5b60-78ec-4f28-935a-95f6791d86d9"
    },
    {
      "cell_type": "raw",
      "metadata": {
        "raw_mimetype": "text/html"
      },
      "source": [
        "<!-- # extract X matrix from fitted model -->"
      ],
      "id": "2479aea4-36e7-4ab1-973a-a9e2461a5a2f"
    },
    {
      "cell_type": "raw",
      "metadata": {
        "raw_mimetype": "text/html"
      },
      "source": [
        "<!-- X <- model.matrix(mlmod) -->"
      ],
      "id": "da9f33f0-23d2-4c47-8c83-bc122c030d6b"
    },
    {
      "cell_type": "raw",
      "metadata": {
        "raw_mimetype": "text/html"
      },
      "source": [
        "<!-- # extract y vector from fitted model -->"
      ],
      "id": "529f09d5-8a6a-4a95-9a09-6f7f90b0cbd7"
    },
    {
      "cell_type": "raw",
      "metadata": {
        "raw_mimetype": "text/html"
      },
      "source": [
        "<!-- y <- mlmod$y -->"
      ],
      "id": "6317f9b6-f658-487d-9809-3aaebfdef875"
    },
    {
      "cell_type": "raw",
      "metadata": {
        "raw_mimetype": "text/html"
      },
      "source": [
        "<!-- ``` -->"
      ],
      "id": "87938f09-8e96-460c-ad9c-347f979f2a14"
    },
    {
      "cell_type": "raw",
      "metadata": {
        "raw_mimetype": "text/html"
      },
      "source": [
        "<!-- We’ll need to learn a few new commands in R to do the calculations: -->"
      ],
      "id": "83a5234c-396f-4b1e-9edb-f652286591e3"
    },
    {
      "cell_type": "raw",
      "metadata": {
        "raw_mimetype": "text/html"
      },
      "source": [
        "<!-- - `t` is the transpose of a matrix. -->"
      ],
      "id": "3d46ca48-8c36-4e13-9bdc-faa72279c139"
    },
    {
      "cell_type": "raw",
      "metadata": {
        "raw_mimetype": "text/html"
      },
      "source": [
        "<!-- - `%*%` is the multiplication operator for two matrices. -->"
      ],
      "id": "da943ba8-8e04-4ab0-9041-3bb81aab1db6"
    },
    {
      "cell_type": "raw",
      "metadata": {
        "raw_mimetype": "text/html"
      },
      "source": [
        "<!-- - `solve(A, b)` computes $\\mathbf{A}^{-1}\\mathbf{b}$. -->"
      ],
      "id": "237cb79e-5701-4dd2-a152-773a3e4a5157"
    },
    {
      "cell_type": "raw",
      "metadata": {
        "raw_mimetype": "text/html"
      },
      "source": [
        "<!-- Thus, we compute $\\hat{\\boldsymbol{\\beta}}$ using the code below, which matches the estimate from the `lm` function. -->"
      ],
      "id": "67903ffe-4a5e-4ad7-aa66-e91786919302"
    },
    {
      "cell_type": "raw",
      "metadata": {
        "raw_mimetype": "text/html"
      },
      "source": [
        "<!-- ```{r} -->"
      ],
      "id": "e2636f61-1065-41f5-a41a-c2b10a61db16"
    },
    {
      "cell_type": "raw",
      "metadata": {
        "raw_mimetype": "text/html"
      },
      "source": [
        "<!-- # manually calculate betahat -->"
      ],
      "id": "6effe8f8-5075-4bb0-825a-2874a5b958ed"
    },
    {
      "cell_type": "raw",
      "metadata": {
        "raw_mimetype": "text/html"
      },
      "source": [
        "<!-- solve(t(X) %*% X, t(X) %*% y) -->"
      ],
      "id": "60239ab9-605a-4453-8ab6-5a9d97363bec"
    },
    {
      "cell_type": "raw",
      "metadata": {
        "raw_mimetype": "text/html"
      },
      "source": [
        "<!-- # betahat from lm function -->"
      ],
      "id": "333585be-a615-414e-a771-f36375c15df0"
    },
    {
      "cell_type": "raw",
      "metadata": {
        "raw_mimetype": "text/html"
      },
      "source": [
        "<!-- coef(mlmod) -->"
      ],
      "id": "8bc37a41-e2e7-41e9-b3f3-c75b178226ac"
    },
    {
      "cell_type": "raw",
      "metadata": {
        "raw_mimetype": "text/html"
      },
      "source": [
        "<!-- ``` -->"
      ],
      "id": "d67b241b-7fce-46dd-8c1e-1342e9d1f382"
    },
    {
      "cell_type": "markdown",
      "metadata": {},
      "source": [
        "# References\n",
        "\n",
        "Anscombe, Francis J. 1973. “Graphs in Statistical Analysis.” The\n",
        "American Statistician 27 (1): 17–21.\n",
        "\n",
        "Ezekiel, Mordecai. 1930. “Methods of Correlation Analysis.”\n",
        "\n",
        "Gorman, Kristen B., Tony D. Williams, and William R. Fraser. 2014.\n",
        "“Ecological Sexual Dimorphism and Environmental Variability Within a\n",
        "Community of Antarctic Penguins (Genus Pygoscelis).” PLOS ONE 9 (3):\n",
        "1–14. https://doi.org/10.1371/journal.pone.0090081.\n",
        "\n",
        "Weisberg, Sanford. 2014. Applied Linear Regression. Fourth. Hoboken NJ:\n",
        "Wiley. http://z.umn.edu/alr4ed.\n",
        "\n",
        "Wilkinson, GN, and CE Rogers. 1973. “Symbolic Description of Factorial\n",
        "Models for Analysis of Variance.” Journal of the Royal Statistical\n",
        "Society: Series C (Applied Statistics) 22 (3): 392–99."
      ],
      "id": "a067b0c7-709f-4628-8387-5139c9b40e27"
    }
  ],
  "nbformat": 4,
  "nbformat_minor": 5,
  "metadata": {
    "kernelspec": {
      "name": "ir",
      "display_name": "R",
      "language": "R"
    },
    "language_info": {
      "name": "R",
      "codemirror_mode": "r",
      "file_extension": ".r",
      "mimetype": "text/x-r-source",
      "pygments_lexer": "r",
      "version": "4.2.2"
    }
  }
}