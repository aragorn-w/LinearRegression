{
  "cells": [
    {
      "cell_type": "markdown",
      "metadata": {},
      "source": [
        "# Chapter 3 - Linear Model Estimation\n",
        "\n",
        "Joshua French"
      ],
      "id": "1a312f5e-a6a7-4541-b395-5863fa792184"
    },
    {
      "cell_type": "code",
      "execution_count": null,
      "metadata": {},
      "outputs": [],
      "source": [
        "if(!require(palmerpenguins, quietly = TRUE)) {\n",
        "  install.packages(\"palmerpenguins\", repos = \"https://cran.rstudio.com/\")\n",
        "  library(palmerpenguins)\n",
        "}\n",
        "if(!require(ggplot2, quietly = TRUE)) {\n",
        "  install.packages(\"ggplot2\", repos = \"https://cran.rstudio.com/\")\n",
        "  library(ggplot2)\n",
        "}"
      ],
      "id": "65a95e2a-b26c-44bf-ba69-9080e745e066"
    },
    {
      "cell_type": "markdown",
      "metadata": {},
      "source": [
        "# A simple motivating example\n",
        "\n",
        "Suppose you observe data related to the heights of 5 mothers and their\n",
        "adult daughters. The data are in the table below.\n",
        "\n",
        "| observation | mother | daughter |\n",
        "|------------:|-------:|---------:|\n",
        "|           1 |   57.5 |     61.5 |\n",
        "|           2 |   60.5 |     63.5 |\n",
        "|           3 |   63.5 |     63.5 |\n",
        "|           4 |   66.5 |     66.5 |\n",
        "|           5 |   69.5 |     66.5 |\n",
        "\n",
        "Would it be reasonable to use a mother’s height to predict the height of\n",
        "her adult daughter? Consider the plot below."
      ],
      "id": "711d3551-7037-40d5-8f9a-e08856803c0d"
    },
    {
      "cell_type": "code",
      "execution_count": null,
      "metadata": {},
      "outputs": [
        {
          "output_type": "display_data",
          "metadata": {},
          "data": {
            "image/png": "[encoded data removed]"
          }
        }
      ],
      "source": [
        "x <- c(57.5, 50.5, 63.5, 66.5, 69.5) # mothers' heights\n",
        "y <- c(61.5, 63.5, 63.5, 66.5, 66.5) # daughters' heights\n",
        "plot(y ~ x, pch = 19, xlab = \"mother's height (in)\", ylab = \"daughter's height (in)\")"
      ],
      "id": "e2882f82-21ba-4812-87cb-8d9c6f1b1f67"
    },
    {
      "cell_type": "markdown",
      "metadata": {},
      "source": [
        "A **regression analysis** is the process of building a model describing\n",
        "the typical relationship between a set of observed variables.\n",
        "\n",
        "In the present context, we want to model the height of adult daughters\n",
        "using their height of their mothers. The model we build is known as a\n",
        "**regression model**.\n",
        "\n",
        "The variables in a regression analysis may be divided into two types:\n",
        "\n",
        "-   The response variable.\n",
        "-   The predictor variables.\n",
        "\n",
        "The outcome variable we are trying to predict is known as the **response\n",
        "variable**.\n",
        "\n",
        "-   Response variables are also known as **outcome**, **output**, or\n",
        "    **dependent** variables.\n",
        "-   The response variable is denoted by $Y$.\n",
        "\n",
        "The variables available to model the response variable are known as\n",
        "**predictors variables**:\n",
        "\n",
        "-   They are also called **explanatory**, **regressor**, **input**,\n",
        "    **dependent** variables or simply as **features**.\n",
        "-   Following the convention of Weisberg (2014), we use the term\n",
        "    **regressor** to refer to the variables used in our regression\n",
        "    model, whether that is the original predictor variable, some\n",
        "    transformation of a predictor, some combination of predictors, etc.\n",
        "-   Every predictor can be a regressor but not all regressors are a\n",
        "    predictor.\n",
        "-   The regressor variables are denoted as $X_1, X_2, \\ldots, X_{p-1}$.\n",
        "\n",
        "A regression analysis assumes:\n",
        "\n",
        "-   We have observed variables $X_1, X_2, \\ldots, X_{p-1}$ and $Y$ for\n",
        "    each of $n$ subjects from some population.\n",
        "-   $x_{i,j}$ denotes the value of $X_j$ for observation $i$.\n",
        "-   $Y_i$ denotes the value of $Y$ for observation $i$.\n",
        "-   If there is only a single regressor, we can denote the single\n",
        "    regressor as $X$ and the observed values of $X$ as\n",
        "    $x_1, x_2, \\ldots, x_n$.\n",
        "\n",
        "For the height data, the 5 pairs of observed data are denoted \\[(x_1,\n",
        "Y_1), (x_2, Y_2), , (x_5, Y_5),\\] with $(x_i, Y_i)$ denoting the data\n",
        "for observation $i$.\n",
        "\n",
        "-   $x_i$ denotes the mother’s height for observation $i$.\n",
        "-   $Y_i$ denotes the daughter’s height for observation $i$.\n",
        "\n",
        "Suppose we want to find the straight line that best fits the plot of\n",
        "mother and daughter heights.\n",
        "\n",
        "How do we determine the “best fitting” model?\n",
        "\n",
        "Consider these potential “best fitting” lines which are drawn on the\n",
        "scatter plot of the height data. Which one is best?"
      ],
      "id": "c0bf3b61-daaa-4a5a-bb01-1cc907f95177"
    },
    {
      "cell_type": "code",
      "execution_count": null,
      "metadata": {},
      "outputs": [
        {
          "output_type": "display_data",
          "metadata": {},
          "data": {
            "image/png": "[encoded data removed]"
          }
        }
      ],
      "source": [],
      "id": "74adec9c-726b-4de7-a8b0-1311350dc0fd"
    },
    {
      "cell_type": "markdown",
      "metadata": {},
      "source": [
        "# Estimation of the simple linear regression model\n",
        "\n",
        "**Parameter estimation** is the process of using observed data to\n",
        "estimate values for the regression coefficients.\n",
        "\n",
        "There are many different methods of parameter estimation in statistics:\n",
        "\n",
        "-   Method-of-moments.\n",
        "-   Maximum likelihood.\n",
        "-   Bayesian.\n",
        "-   Etc.\n",
        "\n",
        "The most common parameter estimation method for linear models is the\n",
        "**least squares method**, which is commonly called **Ordinary Least\n",
        "Squares (OLS)** estimation.\n",
        "\n",
        "OLS estimation estimates the regression coefficients with the values\n",
        "that minimize the residual sum of squares (RSS), which we will define\n",
        "shortly.\n",
        "\n",
        "## Model definition, fitted values, residuals, and RSS\n",
        "\n",
        "The regression model for $Y$ as a function of $X$, denoted\n",
        "$E(Y \\mid X)$, is the expected value of $Y$ conditional on the regressor\n",
        "$X$.\n",
        "\n",
        "The **simple linear regression model** for a response variable assumes\n",
        "the mean of $Y$ conditional on a single regressor $X$ is $$\n",
        "E(Y\\mid X) = \\beta_0 + \\beta_1 X.\n",
        "$$\n",
        "\n",
        "The response variable $Y$ is modeled as $$\n",
        "\\begin{aligned}\n",
        "Y &= E(Y \\mid X) + \\epsilon \\\\\n",
        "&= \\beta_0 + \\beta_1 X + \\epsilon,\n",
        "\\end{aligned}\n",
        "(\\#eq:slr-model-Y)\n",
        "$$ where $\\epsilon$ is known as the model error.\n",
        "\n",
        "The error term $\\epsilon$ is literally the deviation of the response\n",
        "variable from its mean.\n",
        "\n",
        "-   We typically assume that conditional on the regressor variable, the\n",
        "    error term has mean 0 and variance $\\sigma^2$.\n",
        "-   This is written as \\[ E(X) = 0 (#eq:error-mean) \\] and \\[ (X) = ^2.\n",
        "    \\]\n",
        "\n",
        "The observed data are modeled as \\["
      ],
      "id": "f8d9a282-9030-4ec0-bbe6-26646d76acaf"
    },
    {
      "cell_type": "raw",
      "metadata": {
        "raw_mimetype": "tex"
      },
      "source": [
        "\\begin{aligned}\n",
        "Y_i &= \\beta_0 + \\beta_1 x_i + \\epsilon \\\\\n",
        "&= E(Y\\mid X = x_i) + \\epsilon_i,\n",
        "\\end{aligned}"
      ],
      "id": "0124cbfb-ab51-4566-a5bd-92287d90920b"
    },
    {
      "cell_type": "markdown",
      "metadata": {},
      "source": [
        "\\] for $i=1$, $2$,$\\ldots$,$n$, where $\\epsilon_i$ denotes the error for\n",
        "observation $i$.\n",
        "\n",
        "The **estimated regression model** is defined as $$\n",
        "\\hat{E}(Y|X) = \\hat{\\beta}_0 + \\hat{\\beta}_1 X,\n",
        "$$ where $\\hat{\\beta}_j$ denotes the estimated value of $\\beta_j$ for\n",
        "$j=0,1$.\n",
        "\n",
        "The $i$th **fitted value** is defined as $$\n",
        "\\hat{Y}_i = \\hat{E}(Y|X = x_i) = \\hat{\\beta}_0 + \\hat{\\beta}_1 x_i. $$\n",
        "\n",
        "-   The $i$th fitted value is the estimated mean of $Y$ when the\n",
        "    regressor $X=x_i$.\n",
        "\n",
        "The $i$th **residual** is defined as $$\n",
        "\\hat{\\epsilon}_i = Y_i - \\hat{Y}_i. (\\#eq:def-residual-slr)\n",
        "$$\n",
        "\n",
        "-   The $i$th residual is the difference between the response and\n",
        "    estimated mean response of observation $i$.\n",
        "\n",
        "The **residual sum of squares (RSS)** of a regression model is the sum\n",
        "of its squared residuals. The RSS for a simple linear regression model,\n",
        "as a function of the estimated regression coefficients $\\hat{\\beta}_0$\n",
        "and $\\hat{\\beta}_1$, is defined as \\[ RSS(\\_0, *1) = *{i=1}^n \\_i^2.\n",
        "(#eq:def-rss-slr) \\]\n",
        "\n",
        "------------------------------------------------------------------------\n",
        "\n",
        "Using the various objects defined above, there are many equivalent\n",
        "expressions for the RSS. Notably, Equation @ref(eq:def-rss-slr) can be\n",
        "rewritten using Equations @ref(eq:def-fitted-value-slr) and\n",
        "@ref(eq:def-residual-slr) as \\["
      ],
      "id": "0746fb1e-4fd3-4184-ba71-0dc4904d84e4"
    },
    {
      "cell_type": "raw",
      "metadata": {
        "raw_mimetype": "tex"
      },
      "source": [
        "\\begin{aligned}\n",
        "RSS(\\hat{\\beta}_0, \\hat{\\beta}_1) &= \\sum_{i=1}^n \\hat{\\epsilon}_i^2 \\\\\n",
        "&= \\sum_{i=1}^n (Y_i - \\hat{Y}_i)^2 & \\\\\n",
        "&= \\sum_{i=1}^n (Y_i - \\hat{E}(Y|X=x_i))^2 \\\\\n",
        "&= \\sum_{i=1}^n (Y_i - (\\hat{\\beta}_0 + \\hat{\\beta}_1 x_i))^2.\n",
        "\\end{aligned}"
      ],
      "id": "56cdee64-e4e2-4313-8874-03a27bf5998a"
    },
    {
      "cell_type": "markdown",
      "metadata": {},
      "source": [
        "(#eq:equiv-def-rss-slr) \\]\n",
        "\n",
        "The **fitted model** is the estimated model that minimizes the RSS, and\n",
        "is written as \\[ =(Y\\|X) = \\_0 + \\_1 X. (#eq:def-fitted-model-slr) \\]\n",
        "Both $\\hat{Y}$ and $\\hat{E}(Y|X)$ are used to denote a fitted model.\n",
        "$\\hat{Y}$ is used for brevity while $\\hat{E}(Y|X)$ is used for clarity.\n",
        "In a simple linear regression context, the fitted model is known as the\n",
        "**line of best fit**."
      ],
      "id": "6eb890c2-27de-459a-83a8-df588c9c3a1a"
    },
    {
      "cell_type": "code",
      "execution_count": null,
      "metadata": {},
      "outputs": [
        {
          "output_type": "display_data",
          "metadata": {},
          "data": {
            "image/png": "[encoded data removed]"
          }
        }
      ],
      "source": [],
      "id": "efe92494-9412-4177-8d97-b39e6d888404"
    },
    {
      "cell_type": "markdown",
      "metadata": {},
      "source": [
        "In Figure @ref(fig:rss-viz2), we visualize the response values, fitted\n",
        "values, residuals, and fitted model in a simple linear regression\n",
        "context. Note that:\n",
        "\n",
        "-   The fitted model is shown as the dashed grey line and minimizes the\n",
        "    RSS.\n",
        "-   The response values, shown as black dots, are the observed values of\n",
        "    $Y$.\n",
        "-   The fitted values, shown as blue x’s, are the values returned by\n",
        "    evaluating the fitted model at the observed regressor values.\n",
        "-   The residuals, shown as solid orange lines, indicate the distance\n",
        "    and direction between the observed responses and their corresponding\n",
        "    fitted value. If the response is larger than the fitted value then\n",
        "    the residual is positive, otherwise it is negative.\n",
        "-   The RSS is the sum of the squared vertical distances between the\n",
        "    response and fitted values.\n",
        "\n",
        "## OLS estimators of the simple linear regression parameters\n",
        "\n",
        "The estimators of $\\beta_0$ and $\\beta_1$ that minimize the RSS for a\n",
        "simple linear regression model can be obtained analytically using basic\n",
        "calculus (as long as $x_1,\\ldots,x_n$ are not all equal to the same\n",
        "number).\n",
        "\n",
        "Define:\n",
        "\n",
        "-   $\\bar{x}=\\frac{1}{n}\\sum_{i=1}^n x_i$.\n",
        "-   $\\bar{Y} = \\frac{1}{n}\\sum_{i=1}^n Y_i$.\n",
        "\n",
        "The OLS estimators of the simple linear regression coefficients that\n",
        "minimize the RSS are $$\n",
        "\\begin{aligned}\n",
        "\\hat{\\beta}_1 &= \\frac{\\sum_{i=1}^n x_i Y_i - \\frac{1}{n} \\biggl(\\sum_{i=1}^n x_i\\biggr)\\biggl(\\sum_{i=1}^n Y_i\\biggr)}{\\sum_{i=1}^n x_i^2 - \\frac{1}{n} \\biggl(\\sum_{i=1}^n x_i\\biggr)^2} \\notag \\\\\n",
        "&= \\frac{\\sum_{i=1}^n (x_i - \\bar{x})(Y_i - \\bar{Y})}{\\sum_{i=1}^n (x_i - \\bar{x})^2} \\notag \\\\\n",
        "&= \\frac{\\sum_{i=1}^n (x_i - \\bar{x})Y_i}{\\sum_{i=1}^n (x_i - \\bar{x})x_i}\n",
        "\\end{aligned}\n",
        "$$ and $$\n",
        "\\hat{\\beta}_0 = \\bar{Y} - \\hat{\\beta}_1 \\bar{x}.\n",
        "$$\n",
        "\n",
        "The most common estimator of the error variance is $$\n",
        "\\hat{\\sigma}^2 = \\frac{RSS}{\\mathrm{df}_{RSS}}.\n",
        "$$\n",
        "\n",
        "-   $\\mathrm{df}_{RSS}$ is the **degrees of freedom** of the RSS.\n",
        "-   For simply linear regression, $\\mathrm{df}_{RSS}=n-2$.\n",
        "\n",
        "# Penguins simple linear regression example\n",
        "\n",
        "The `penguins` data set provides data related to various penguin species\n",
        "measured in the Palmer Archipelago (Antarctica), originally provided by\n",
        "Gorman et al. (2014). We start by loading the data into memory."
      ],
      "id": "7b186f30-7eab-40e0-b28b-094298208262"
    },
    {
      "cell_type": "code",
      "execution_count": null,
      "metadata": {},
      "outputs": [
        {
          "output_type": "stream",
          "name": "stdout",
          "text": [
            "# A tibble: 6 × 8\n",
            "  species island    bill_length_mm bill_depth_mm flipper_l…¹ body_…² sex    year\n",
            "  <fct>   <fct>              <dbl>         <dbl>       <int>   <int> <fct> <int>\n",
            "1 Adelie  Torgersen           39.1          18.7         181    3750 male   2007\n",
            "2 Adelie  Torgersen           39.5          17.4         186    3800 fema…  2007\n",
            "3 Adelie  Torgersen           40.3          18           195    3250 fema…  2007\n",
            "4 Adelie  Torgersen           NA            NA            NA      NA <NA>   2007\n",
            "5 Adelie  Torgersen           36.7          19.3         193    3450 fema…  2007\n",
            "6 Adelie  Torgersen           39.3          20.6         190    3650 male   2007\n",
            "# … with abbreviated variable names ¹​flipper_length_mm, ²​body_mass_g"
          ]
        }
      ],
      "source": [
        "data(penguins, package = \"palmerpenguins\")\n",
        "head(penguins)"
      ],
      "id": "7d714522-c576-47b2-b4d9-94c86637025b"
    },
    {
      "cell_type": "markdown",
      "metadata": {},
      "source": [
        "The data set includes 344 observations of 8 variables. The variables\n",
        "are:\n",
        "\n",
        "-   `species`: a `factor` indicating the penguin species.\n",
        "-   `island`: a `factor` indicating the island the penguin was observed.\n",
        "-   `bill_length_mm`: a `numeric` variable indicating the bill length in\n",
        "    millimeters.\n",
        "-   `bill_depth_mm`: a `numeric` variable indicating the bill depth in\n",
        "    millimeters.\n",
        "-   `flipper_length_mm`: an `integer` variable indicating the flipper\n",
        "    length in millimeters\n",
        "-   `body_mass_g`: an `integer` variable indicating the body mass in\n",
        "    grams.\n",
        "-   `sex`: a `factor` indicating the penguin sex (`female`, `male`).\n",
        "-   `year`: an integer denoting the study year the penguin was observed\n",
        "    (`2007`, `2008`, or `2009`).\n",
        "\n",
        "We begin by creating a scatter plot of `bill_length_mm` versus\n",
        "`body_mass_g`."
      ],
      "id": "37656840-d4cf-4c14-a3b8-1e47ca82e38e"
    },
    {
      "cell_type": "code",
      "execution_count": null,
      "metadata": {},
      "outputs": [
        {
          "output_type": "display_data",
          "metadata": {},
          "data": {
            "image/png": "[encoded data removed]"
          }
        }
      ],
      "source": [
        "plot(bill_length_mm ~ body_mass_g, data = penguins,\n",
        "     ylab = \"bill length (mm)\", xlab = \"body mass (g)\",\n",
        "     main = \"Penguin size measurements\")"
      ],
      "id": "7bedf4d5-3906-41a6-9954-a6be122fce26"
    },
    {
      "cell_type": "markdown",
      "metadata": {},
      "source": [
        "**Questions:**\n",
        "\n",
        "-   Is there a positive/negative association between body mass and bill\n",
        "    length?\n",
        "-   Is the relationship approximately linear?\n",
        "\n",
        "We will build a simple linear regression model that regresses\n",
        "`bill_length_mm` on `body_mass_g`.\n",
        "\n",
        "We want to estimate the parameters of the model $$\n",
        "E(\\mathtt{bill\\_length\\_mm}\\mid \\mathtt{body\\_mass\\_g})=\\beta_0+\\beta_1\\,\\mathtt{body\\_mass\\_g}.\n",
        "$$\n",
        "\n",
        "The `lm` function uses OLS estimation to fit a linear model to data. The\n",
        "function has two main arguments:\n",
        "\n",
        "-   `data`: the data frame in which the model variables are stored. This\n",
        "    can be omitted if the variables are already stored in memory.\n",
        "-   `formula`: a Wilkinson and Rogers (1973) style formula describing\n",
        "    the linear regression model. For complete details, run\n",
        "    `?stats:formula` in the Console. If `y` is the response variable and\n",
        "    `x` is an available numeric predictor, then `formula = y ~ x` tells\n",
        "    `lm` to fit the simple linear regression model\n",
        "    $E(Y|X)=\\beta_0+\\beta_1 X$."
      ],
      "id": "f9e099f5-6905-4e2f-bed1-1255e2929528"
    },
    {
      "cell_type": "code",
      "execution_count": null,
      "metadata": {},
      "outputs": [
        {
          "output_type": "stream",
          "name": "stdout",
          "text": [
            "[1] \"lm\""
          ]
        }
      ],
      "source": [
        "lmod <- lm(bill_length_mm ~ body_mass_g, data = penguins) # fit model\n",
        "class(lmod) # class of lmod"
      ],
      "id": "9108c1cb-c2a0-46b2-92d3-fd9debaa6dc6"
    },
    {
      "cell_type": "markdown",
      "metadata": {},
      "source": [
        "The `summary` function is commonly used to summarize the results of our\n",
        "fitted model.\n",
        "\n",
        "When an `lm` object is supplied to the `summary` function, it returns:\n",
        "\n",
        "-   `Call`: the function call used to fit the model.\n",
        "-   `Residuals`: A 5-number summary of the\n",
        "    $\\hat{\\epsilon}_1, \\ldots, \\hat{\\epsilon}_n$.\n",
        "-   `Coefficients`: A table that lists:\n",
        "    -   The regressors in the fitted model.\n",
        "    -   `Estimate`: the estimated coefficient for each regressor.\n",
        "    -   `Std. Error`: the *estimated* standard error of the estimated\n",
        "        coefficients.\n",
        "    -   `t value`: the computed test statistic associated with testing\n",
        "        $H_0: \\beta_j = 0$ versus $H_a: \\beta_j \\neq 0$ for each\n",
        "        regression coefficient in the model.\n",
        "    -   `Pr(>|t|)`: the associated p-value of each test.\n",
        "-   Various summary statistics:\n",
        "    -   `Residual standard error` is the value of $\\hat{\\sigma}$, the\n",
        "        estimate of the error standard deviation. The degrees of freedom\n",
        "        is $\\mathrm{df}_{RSS}$, the number of observations minus the\n",
        "        number of estimated coefficients in the model.\n",
        "    -   `Multiple R-squared` is an estimate of model fit discussed in\n",
        "        Section @ref(evaluating-model-fit).\n",
        "    -   `Adjusted R-squared` is a modified version of\n",
        "        `Multiple R-squared`.\n",
        "    -   `F-statistic` is the test statistic for the test that compares\n",
        "        the model with an only an intercept to the fitted model. The\n",
        "        `DF` (degrees of freedom) values relate to the statistic under\n",
        "        the null hypothesis, and the `p-value` is the p-value for the\n",
        "        test.\n",
        "\n",
        "We use the `summary` function on `lmod` to produce the output below."
      ],
      "id": "fb0e38c8-e55d-4299-9958-941e684f49a4"
    },
    {
      "cell_type": "code",
      "execution_count": null,
      "metadata": {},
      "outputs": [
        {
          "output_type": "stream",
          "name": "stdout",
          "text": [
            "\n",
            "Call:\n",
            "lm(formula = bill_length_mm ~ body_mass_g, data = penguins)\n",
            "\n",
            "Residuals:\n",
            "     Min       1Q   Median       3Q      Max \n",
            "-10.1251  -3.0434  -0.8089   2.0711  16.1109 \n",
            "\n",
            "Coefficients:\n",
            "             Estimate Std. Error t value Pr(>|t|)    \n",
            "(Intercept) 2.690e+01  1.269e+00   21.19   <2e-16 ***\n",
            "body_mass_g 4.051e-03  2.967e-04   13.65   <2e-16 ***\n",
            "---\n",
            "Signif. codes:  0 '***' 0.001 '**' 0.01 '*' 0.05 '.' 0.1 ' ' 1\n",
            "\n",
            "Residual standard error: 4.394 on 340 degrees of freedom\n",
            "  (2 observations deleted due to missingness)\n",
            "Multiple R-squared:  0.3542,    Adjusted R-squared:  0.3523 \n",
            "F-statistic: 186.4 on 1 and 340 DF,  p-value: < 2.2e-16"
          ]
        }
      ],
      "source": [
        "# summarize results stored in lmod\n",
        "summary(lmod)"
      ],
      "id": "f680862e-8fe5-4b26-93f6-1d8574578fd5"
    },
    {
      "cell_type": "markdown",
      "metadata": {},
      "source": [
        "Using the output above, we see that the estimated parameters are\n",
        "$\\hat{\\beta}_0=26.9$ and $\\hat{\\beta}_1=0.004$.\n",
        "\n",
        "Our fitted model is $$\n",
        "\\widehat{\\mathtt{bill\\_length\\_mm}}=26.9+0.004 \\,\\mathtt{body\\_mass\\_g}.\n",
        "$$\n",
        "\n",
        "In the context of a simple linear regression model:\n",
        "\n",
        "-   The intercept term is the expected response when the value of the\n",
        "    regressor is zero.\n",
        "-   The slope is the expected change in the response when the regressor\n",
        "    increases by 1 unit.\n",
        "\n",
        "Thus, based on the model we fit to the `penguins` data, we can make the\n",
        "following interpretations:\n",
        "\n",
        "-   $\\hat{\\beta}_1$: If a penguin has a body mass 1 gram larger than\n",
        "    another penguin, we expect the larger penguin’s bill length to be\n",
        "    0.004 millimeters longer.\n",
        "\n",
        "-   $\\hat{\\beta}_0$: A penguin with a body mass of 0 grams is expected\n",
        "    to have a bill length of 26.9 millimeters.\n",
        "\n",
        "-   **Question:** Does the intercept term make sense physically?\n",
        "\n",
        "The `abline` function can be used to automatically overlay the fitted\n",
        "model on the observed data."
      ],
      "id": "e539c271-1b28-4ad7-86df-b3c47c202d9c"
    },
    {
      "cell_type": "code",
      "execution_count": null,
      "metadata": {},
      "outputs": [
        {
          "output_type": "display_data",
          "metadata": {},
          "data": {
            "image/png": "[encoded data removed]"
          }
        }
      ],
      "source": [
        "plot(bill_length_mm ~ body_mass_g,\n",
        "     data = penguins, main = \"Penguin size measurements\",\n",
        "     ylab = \"bill length (mm)\", xlab = \"body mass (g)\")\n",
        "# draw fitted line of plot\n",
        "abline(lmod)"
      ],
      "id": "8aec1963-88bb-46c9-9c78-86815656e8f4"
    },
    {
      "cell_type": "markdown",
      "metadata": {},
      "source": [
        "R provides many additional methods (generic functions that do something\n",
        "specific when applied to a certain type of object) for `lm` objects.\n",
        "Commonly used ones include:"
      ],
      "id": "5e660fd8-e3f2-416d-a5fa-f03255517962"
    },
    {
      "cell_type": "code",
      "execution_count": null,
      "metadata": {},
      "outputs": [
        {
          "output_type": "stream",
          "name": "stdout",
          "text": [
            " (Intercept)  body_mass_g \n",
            "26.898872424  0.004051417 "
          ]
        },
        {
          "output_type": "stream",
          "name": "stdout",
          "text": [
            "         1          2          3          5          6          7 \n",
            "-2.9916846 -2.7942554  0.2340237 -4.1762596 -2.3865430 -2.6852575 "
          ]
        },
        {
          "output_type": "stream",
          "name": "stdout",
          "text": [
            "       1        2        3        5        6        7 \n",
            "42.09168 42.29426 40.06598 40.87626 41.68654 41.58526 "
          ]
        },
        {
          "output_type": "stream",
          "name": "stdout",
          "text": [
            "       1        2        3        5        6        7 \n",
            "42.09168 42.29426 40.06598 40.87626 41.68654 41.58526 "
          ]
        },
        {
          "output_type": "stream",
          "name": "stdout",
          "text": [
            "[1] 6564.494"
          ]
        },
        {
          "output_type": "stream",
          "name": "stdout",
          "text": [
            "[1] 340"
          ]
        },
        {
          "output_type": "stream",
          "name": "stdout",
          "text": [
            "[1] 19.30734"
          ]
        }
      ],
      "source": [
        "(coeffs <- coef(lmod)) # extract, assign, and print coefficients"
      ],
      "id": "00f615d9-26fa-409a-996d-303631b3505e"
    },
    {
      "cell_type": "markdown",
      "metadata": {},
      "source": [
        "**Question:**\n",
        "\n",
        "-   What is the RSS of the fitted model?"
      ],
      "id": "fdd4b4d0-c918-409d-8d6f-b0fcb3eddaaf"
    },
    {
      "cell_type": "raw",
      "metadata": {
        "raw_mimetype": "text/html"
      },
      "source": [
        "<!-- # Defining a linear model -->"
      ],
      "id": "6f7e8653-c8e6-4d57-852e-68b8f6ddee94"
    },
    {
      "cell_type": "raw",
      "metadata": {
        "raw_mimetype": "text/html"
      },
      "source": [
        "<!-- - $Y$ denotes the response variable. -->"
      ],
      "id": "b63add88-81de-4cd9-bf75-e2d745a68b0e"
    },
    {
      "cell_type": "raw",
      "metadata": {
        "raw_mimetype": "text/html"
      },
      "source": [
        "<!--     - The response variable is treated as a random variable. -->"
      ],
      "id": "e4ccb734-7df6-4996-aa06-08d9ef7875cb"
    },
    {
      "cell_type": "raw",
      "metadata": {
        "raw_mimetype": "text/html"
      },
      "source": [
        "<!--     - We will observe realizations of this random variable for each observation in our data set. -->"
      ],
      "id": "5ca0ba41-010b-49ca-be50-3b802d2731e1"
    },
    {
      "cell_type": "raw",
      "metadata": {
        "raw_mimetype": "text/html"
      },
      "source": [
        "<!-- - $X$ denotes a single regressor variable. $X_1, X_2, \\ldots, X_{p-1}$ denote distinct regressor variables if we are performing regression with multiple regressor variables. -->"
      ],
      "id": "13cce90f-8488-4a65-bbc5-e294f58978e8"
    },
    {
      "cell_type": "raw",
      "metadata": {
        "raw_mimetype": "text/html"
      },
      "source": [
        "<!--     - The regressor variables are treated as non-random variables. -->"
      ],
      "id": "2c8aec3c-3fd8-4e8d-98aa-403fa35a2087"
    },
    {
      "cell_type": "raw",
      "metadata": {
        "raw_mimetype": "text/html"
      },
      "source": [
        "<!--     - The observed values of the regressor variables are treated as fixed, known values. -->"
      ],
      "id": "47873f6a-f585-4857-b0f2-e4734392ebfc"
    },
    {
      "cell_type": "raw",
      "metadata": {
        "raw_mimetype": "text/html"
      },
      "source": [
        "<!-- - $\\mathbb{X}=\\{X_0, X_1,\\ldots,X_{p-1}\\}$ denotes the collection of all regressors under consideration, though this notation is really only needed in the context of multiple regression. $X_0$ is usually the constant regressor 1, which is needed to include an intercept in the regression model. -->"
      ],
      "id": "45a619bd-a768-40a1-abbe-598f54c3aa11"
    },
    {
      "cell_type": "raw",
      "metadata": {
        "raw_mimetype": "text/html"
      },
      "source": [
        "<!-- - $\\beta_0$, $\\beta_1$, $\\ldots$, $\\beta_{p-1}$ denote **regression coefficients**. -->"
      ],
      "id": "6b04eb75-3a20-422a-b033-6a0ca9e6080a"
    },
    {
      "cell_type": "raw",
      "metadata": {
        "raw_mimetype": "text/html"
      },
      "source": [
        "<!--     - Regression coefficients are statistical parameters that we will estimate from our data. -->"
      ],
      "id": "743a4e46-8d08-4aec-b92e-c0bb251049f8"
    },
    {
      "cell_type": "raw",
      "metadata": {
        "raw_mimetype": "text/html"
      },
      "source": [
        "<!--     - The regression coefficients are treated as fixed, non-random but unknown values. -->"
      ],
      "id": "4c2687a7-9d53-4737-8d8f-0be844d3fac2"
    },
    {
      "cell_type": "raw",
      "metadata": {
        "raw_mimetype": "text/html"
      },
      "source": [
        "<!--     - Regression coefficients are not observable. -->"
      ],
      "id": "8d00face-a0dc-45a2-a1f8-8b8fe56eea1b"
    },
    {
      "cell_type": "raw",
      "metadata": {
        "raw_mimetype": "text/html"
      },
      "source": [
        "<!-- - $\\epsilon$ denotes model **error**. -->"
      ],
      "id": "776c1cd5-75e6-4e6d-8261-194199e02670"
    },
    {
      "cell_type": "raw",
      "metadata": {
        "raw_mimetype": "text/html"
      },
      "source": [
        "<!--     - The model error is more accurately described as random variation of each observation from the regression model. -->"
      ],
      "id": "3a640be1-ce31-4db9-ab55-71fcc9182076"
    },
    {
      "cell_type": "raw",
      "metadata": {
        "raw_mimetype": "text/html"
      },
      "source": [
        "<!--     - The error is treated as a random variable. -->"
      ],
      "id": "122ad663-9342-4230-9044-f487c026847d"
    },
    {
      "cell_type": "raw",
      "metadata": {
        "raw_mimetype": "text/html"
      },
      "source": [
        "<!--     - The error is assumed to have mean 0 for all values of the regressors. We write this as $E(\\epsilon \\mid \\mathbb{X}) = 0$, which is read as, \"The expected value of $\\epsilon$ conditional on knowing all the regressor values equals 0\". The notation \"$\\mid \\mathbb{X}$\" extends the notation used in Equation \\@ref(eq:slr-equation) to multiple regressors. -->"
      ],
      "id": "bb19bb90-54bb-4f91-aa76-a9b46173a760"
    },
    {
      "cell_type": "raw",
      "metadata": {
        "raw_mimetype": "text/html"
      },
      "source": [
        "<!--     - The variance of the errors is assumed to be a constant value for all values of the regressors. We write this assumption as $\\mathrm{var}(\\epsilon \\mid \\mathbb{X})=\\sigma^2$. -->"
      ],
      "id": "8931829a-c3e1-4428-99d3-c13a1052974e"
    },
    {
      "cell_type": "raw",
      "metadata": {
        "raw_mimetype": "text/html"
      },
      "source": [
        "<!--     - The error is never observable (except in the context of a simulation study where the experimenter literally defines the true model). -->"
      ],
      "id": "0a9ccfbf-5274-40fb-8ca9-1f419211fc43"
    },
    {
      "cell_type": "raw",
      "metadata": {
        "raw_mimetype": "text/html"
      },
      "source": [
        "<!-- ## Standard definition of linear model -->"
      ],
      "id": "b575d553-a58a-443d-8992-76a51ca2c6fe"
    },
    {
      "cell_type": "raw",
      "metadata": {
        "raw_mimetype": "text/html"
      },
      "source": [
        "<!-- In general, a linear regression model can have an arbitrary number of regressors. A **multiple linear regression** model has two or more regressors. -->"
      ],
      "id": "0225051f-0061-4496-9577-92a44e286989"
    },
    {
      "cell_type": "raw",
      "metadata": {
        "raw_mimetype": "text/html"
      },
      "source": [
        "<!-- A **linear model** for $Y$ is defined by the equation -->"
      ],
      "id": "82dd4022-8725-48de-9c74-611e2b5afcbd"
    },
    {
      "cell_type": "raw",
      "metadata": {
        "raw_mimetype": "text/html"
      },
      "source": [
        "<!-- \\[ -->"
      ],
      "id": "c43a7fcd-ba1d-4810-8a08-c99667dbbd19"
    },
    {
      "cell_type": "raw",
      "metadata": {
        "raw_mimetype": "text/html"
      },
      "source": [
        "<!-- \\begin{aligned} -->"
      ],
      "id": "dae7dead-8ea2-4079-a580-0325d7fec2ed"
    },
    {
      "cell_type": "raw",
      "metadata": {
        "raw_mimetype": "text/html"
      },
      "source": [
        "<!-- Y &= \\beta_0 + \\beta_1 X_1 + \\beta_2 X_2 + \\cdots + \\beta_{p-1} -->"
      ],
      "id": "764590a6-3b66-4504-81b9-353d70909c3c"
    },
    {
      "cell_type": "raw",
      "metadata": {
        "raw_mimetype": "text/html"
      },
      "source": [
        "<!-- X_{p-1} + \\epsilon \\\\ -->"
      ],
      "id": "65a0d7be-cd93-4126-898a-81ae03d6a7fb"
    },
    {
      "cell_type": "raw",
      "metadata": {
        "raw_mimetype": "text/html"
      },
      "source": [
        "<!-- &= E(Y \\mid \\mathbb{X}) + \\epsilon. -->"
      ],
      "id": "c123e8de-e99b-47d5-b9ca-fc0d9ec6aa79"
    },
    {
      "cell_type": "raw",
      "metadata": {
        "raw_mimetype": "text/html"
      },
      "source": [
        "<!-- \\end{aligned} -->"
      ],
      "id": "dcf3f287-eaa3-4594-9748-51e8cdced36f"
    },
    {
      "cell_type": "raw",
      "metadata": {
        "raw_mimetype": "text/html"
      },
      "source": [
        "<!-- (\\#eq:lmdef) -->"
      ],
      "id": "9b78d956-657e-40fc-a2e1-4d665ae747b4"
    },
    {
      "cell_type": "raw",
      "metadata": {
        "raw_mimetype": "text/html"
      },
      "source": [
        "<!-- \\] -->"
      ],
      "id": "26d8851c-2985-4f61-a15a-9d82859ab33b"
    },
    {
      "cell_type": "raw",
      "metadata": {
        "raw_mimetype": "text/html"
      },
      "source": [
        "<!-- We write the linear model in this way to emphasize the fact *the response value equals the expected response for that combination of regressor values plus some error*. It should be clear from comparing Equation \\@ref(eq:lmdef) with the previous line that -->"
      ],
      "id": "a605b863-3486-4eb3-8d33-cc28ef00570d"
    },
    {
      "cell_type": "raw",
      "metadata": {
        "raw_mimetype": "text/html"
      },
      "source": [
        "<!-- \\[ -->"
      ],
      "id": "7013d0c9-0d51-4d3e-af63-da3f5d50bea5"
    },
    {
      "cell_type": "raw",
      "metadata": {
        "raw_mimetype": "text/html"
      },
      "source": [
        "<!-- E(Y \\mid \\mathbb{X}) = \\beta_0 + \\beta_1 X_1 + \\beta_2 X_2 + \\cdots + \\beta_{p-1} X_{p-1}, -->"
      ],
      "id": "6729b7c7-46d5-4878-a935-e9842f17d839"
    },
    {
      "cell_type": "raw",
      "metadata": {
        "raw_mimetype": "text/html"
      },
      "source": [
        "<!-- \\] -->"
      ],
      "id": "6687c080-23ac-41e8-a35d-82a988ffc6e1"
    },
    {
      "cell_type": "raw",
      "metadata": {
        "raw_mimetype": "text/html"
      },
      "source": [
        "<!-- --- -->"
      ],
      "id": "b4ecd38a-0faf-4a03-aa50-79e957281d8e"
    },
    {
      "cell_type": "raw",
      "metadata": {
        "raw_mimetype": "text/html"
      },
      "source": [
        "<!-- More generally, one can say that a regression model is linear if the mean function can be written as a linear combination of the regression coefficients and known values created from our regressor variables, i.e., -->"
      ],
      "id": "dbb44294-3150-461e-a811-71103ef2bbe3"
    },
    {
      "cell_type": "raw",
      "metadata": {
        "raw_mimetype": "text/html"
      },
      "source": [
        "<!-- \\[ -->"
      ],
      "id": "32981167-6165-4e96-b5cb-0451fc6a5289"
    },
    {
      "cell_type": "raw",
      "metadata": {
        "raw_mimetype": "text/html"
      },
      "source": [
        "<!-- E(Y \\mid \\mathbb{X}) = \\sum_{j=0}^{p-1} c_j \\beta_j, (\\#eq:lmdef-cj) -->"
      ],
      "id": "15a57dd3-80aa-45a2-bb88-b879a4735e27"
    },
    {
      "cell_type": "raw",
      "metadata": {
        "raw_mimetype": "text/html"
      },
      "source": [
        "<!-- \\] -->"
      ],
      "id": "2a6b5ffd-bc2d-4a17-a65b-a57e9a982d54"
    },
    {
      "cell_type": "raw",
      "metadata": {
        "raw_mimetype": "text/html"
      },
      "source": [
        "<!-- where $c_0, c_1, \\ldots, c_{p-1}$ are known functions of -->"
      ],
      "id": "28a95f4d-fa96-4a06-871b-a2b24c68a8dc"
    },
    {
      "cell_type": "raw",
      "metadata": {
        "raw_mimetype": "text/html"
      },
      "source": [
        "<!-- the regressor variables, e.g., $c_1 = X_1 X_2 X_3$, $c_3 = X_2^2$, -->"
      ],
      "id": "de8621bb-857f-4f44-92b2-74a766dda7f3"
    },
    {
      "cell_type": "raw",
      "metadata": {
        "raw_mimetype": "text/html"
      },
      "source": [
        "<!-- $c_8 = \\ln(X_1)/X_2^2$, etc. Thus, if $g_0,\\ldots,g_{p-1}$ are functions of $\\mathbb{X}$, then we can say that the regression model is linear if -->"
      ],
      "id": "e76aa11c-2fcf-4f30-913a-dadde2662f90"
    },
    {
      "cell_type": "raw",
      "metadata": {
        "raw_mimetype": "text/html"
      },
      "source": [
        "<!-- it can be written as -->"
      ],
      "id": "d8fabaf6-1f7d-4f2c-b694-60c74270e896"
    },
    {
      "cell_type": "raw",
      "metadata": {
        "raw_mimetype": "text/html"
      },
      "source": [
        "<!-- \\[ -->"
      ],
      "id": "1b8d7390-7172-4de4-bdd8-ecb2cb499504"
    },
    {
      "cell_type": "raw",
      "metadata": {
        "raw_mimetype": "text/html"
      },
      "source": [
        "<!-- E(Y\\mid \\mathbb{X}) = \\sum_{j=0}^{p-1} g_j(\\mathbb{X})\\beta_j. -->"
      ],
      "id": "0cc346b1-047d-45a1-bb62-c4bb86e8731e"
    },
    {
      "cell_type": "raw",
      "metadata": {
        "raw_mimetype": "text/html"
      },
      "source": [
        "<!-- \\] -->"
      ],
      "id": "5cb58710-941e-4c4b-99eb-ee9c1b699513"
    },
    {
      "cell_type": "raw",
      "metadata": {
        "raw_mimetype": "text/html"
      },
      "source": [
        "<!-- --- -->"
      ],
      "id": "600643a1-4944-40c4-9408-2107e35ced8e"
    },
    {
      "cell_type": "raw",
      "metadata": {
        "raw_mimetype": "text/html"
      },
      "source": [
        "<!-- A model is linear because of its *form*, not the shape it produces. Many of the linear model examples given below do not result in a straight line or surface, but are curved. Some examples of linear regression models are: -->"
      ],
      "id": "89425c23-a92e-4ee9-94de-f7dfb62878e7"
    },
    {
      "cell_type": "raw",
      "metadata": {
        "raw_mimetype": "text/html"
      },
      "source": [
        "<!-- -   $E(Y|X) = \\beta_0$. -->"
      ],
      "id": "7ea6d84a-6411-4e4e-9091-e81968e79748"
    },
    {
      "cell_type": "raw",
      "metadata": {
        "raw_mimetype": "text/html"
      },
      "source": [
        "<!-- -   $E(Y|X) = \\beta_0 + +\\beta_1 X + \\beta_2 X^2$. -->"
      ],
      "id": "65cb42ca-1c50-4f5e-9b24-7f5e0065421e"
    },
    {
      "cell_type": "raw",
      "metadata": {
        "raw_mimetype": "text/html"
      },
      "source": [
        "<!-- -   $E(Y|X_1, X_2) = \\beta_0 + \\beta_1 X_1 + \\beta_2 X_2$. -->"
      ],
      "id": "391243b3-6e9f-4f6d-a85e-54f8d44f8391"
    },
    {
      "cell_type": "raw",
      "metadata": {
        "raw_mimetype": "text/html"
      },
      "source": [
        "<!-- -   $E(Y|X_1, X_2) = \\beta_0 + \\beta_1 X_1 + \\beta_2 X_2 + \\beta_3 X_1 X_2$. -->"
      ],
      "id": "80d0ccd3-9d8c-4f50-932a-20df8a766bf3"
    },
    {
      "cell_type": "raw",
      "metadata": {
        "raw_mimetype": "text/html"
      },
      "source": [
        "<!-- -   $E(Y|X_1, X_2) = \\beta_0 + \\beta_1 \\ln(X_1) + \\beta_2 X_2^{-1}$. -->"
      ],
      "id": "47f8f1e4-9248-49d5-968e-ef76cbcf7b91"
    },
    {
      "cell_type": "raw",
      "metadata": {
        "raw_mimetype": "text/html"
      },
      "source": [
        "<!-- -   $E(\\ln(Y)|X_1, X_2) = \\beta_0 + \\beta_1 X_1 + \\beta_2 X_2$. -->"
      ],
      "id": "3d162563-78f9-4f16-83fb-5f4c56edecbd"
    },
    {
      "cell_type": "raw",
      "metadata": {
        "raw_mimetype": "text/html"
      },
      "source": [
        "<!-- -   $E(Y^{-1}|X_1, X_2) = \\beta_0 + \\beta_1 X_1 + \\beta_2 X_2$. -->"
      ],
      "id": "f1763163-1ab9-4210-9cab-a5654b9f1b99"
    },
    {
      "cell_type": "raw",
      "metadata": {
        "raw_mimetype": "text/html"
      },
      "source": [
        "<!-- Some examples of non-linear regression models are: -->"
      ],
      "id": "4b4c9bed-46d3-4acb-befe-9ae4b46a05ee"
    },
    {
      "cell_type": "raw",
      "metadata": {
        "raw_mimetype": "text/html"
      },
      "source": [
        "<!-- -   $E(Y|X) = \\beta_0 + e^{\\beta_1 X}$. -->"
      ],
      "id": "1f30b9c1-bb6a-4af4-ae87-3730e347aeaa"
    },
    {
      "cell_type": "raw",
      "metadata": {
        "raw_mimetype": "text/html"
      },
      "source": [
        "<!-- -   $E(Y|X) = \\beta_0 + \\beta_1 X/(\\beta_2 + X)$. -->"
      ],
      "id": "db46af6c-2a3b-49bc-a106-ee98d3167b84"
    },
    {
      "cell_type": "raw",
      "metadata": {
        "raw_mimetype": "text/html"
      },
      "source": [
        "<!-- The latter regression models are non-linear models because there is no way to express them using the expression in Equation \\@ref(eq:lmdef-cj). -->"
      ],
      "id": "5be665f1-f396-4e2a-b7a5-8e960d6ee4f5"
    },
    {
      "cell_type": "raw",
      "metadata": {
        "raw_mimetype": "text/html"
      },
      "source": [
        "<!-- # Estimation of the multiple linear regression model -->"
      ],
      "id": "4f62e1c6-c367-4942-9068-4e77b4eefb06"
    },
    {
      "cell_type": "raw",
      "metadata": {
        "raw_mimetype": "text/html"
      },
      "source": [
        "<!-- Suppose we want to estimate the parameters of a linear model with 1 or more regressors, i.e., when we use the model -->"
      ],
      "id": "7012310e-e221-4257-a81b-939da4e65b8f"
    },
    {
      "cell_type": "raw",
      "metadata": {
        "raw_mimetype": "text/html"
      },
      "source": [
        "<!-- \\[ -->"
      ],
      "id": "44e31159-fa9c-4005-b1bb-25d92dde90b9"
    },
    {
      "cell_type": "raw",
      "metadata": {
        "raw_mimetype": "text/html"
      },
      "source": [
        "<!-- Y=\\beta_0 + \\beta_1 X_1 + \\cdots + \\beta_{p-1} X_{p-1} + \\epsilon. -->"
      ],
      "id": "4dc43071-98a2-4642-8b5f-030e3394be96"
    },
    {
      "cell_type": "raw",
      "metadata": {
        "raw_mimetype": "text/html"
      },
      "source": [
        "<!-- \\] -->"
      ],
      "id": "8e7cb612-262d-4b78-8347-4a819390eb48"
    },
    {
      "cell_type": "raw",
      "metadata": {
        "raw_mimetype": "text/html"
      },
      "source": [
        "<!-- The system of equations relating the responses, the regressors, and the errors for all $n$ observations can be written as -->"
      ],
      "id": "776472cb-12af-4e16-899e-8425c933c970"
    },
    {
      "cell_type": "raw",
      "metadata": {
        "raw_mimetype": "text/html"
      },
      "source": [
        "<!-- \\[ -->"
      ],
      "id": "d96cb432-ab5b-4a63-9a92-bc576f9c9921"
    },
    {
      "cell_type": "raw",
      "metadata": {
        "raw_mimetype": "text/html"
      },
      "source": [
        "<!-- Y_i = \\beta_0 + \\beta_1 x_{i,1} + \\beta_2 x_{i,2} + \\cdots + \\beta_{p-1} x_{i,p-1} + \\epsilon_i,\\quad i=1,2,\\ldots,n. -->"
      ],
      "id": "caba6d44-f6a4-49bc-aaf4-5e68e2f501bd"
    },
    {
      "cell_type": "raw",
      "metadata": {
        "raw_mimetype": "text/html"
      },
      "source": [
        "<!-- (\\#eq:lmSystem) -->"
      ],
      "id": "eb85c99c-af99-4e3b-b5d1-4e3e8e39fffe"
    },
    {
      "cell_type": "raw",
      "metadata": {
        "raw_mimetype": "text/html"
      },
      "source": [
        "<!-- \\] -->"
      ],
      "id": "9a74e485-f052-44b7-8d42-00ea3da9da0c"
    },
    {
      "cell_type": "raw",
      "metadata": {
        "raw_mimetype": "text/html"
      },
      "source": [
        "<!-- ## Using matrix notation to represent a linear model -->"
      ],
      "id": "4a68e481-f9c2-4919-841d-7bae9271bf44"
    },
    {
      "cell_type": "raw",
      "metadata": {
        "raw_mimetype": "text/html"
      },
      "source": [
        "<!-- We can simplify the linear model described in Equation \\@ref(eq:lmSystem) using matrix notation. It may be useful to refer to Appendix \\@ref(overview-of-matrix-facts) for a brief overview of matrix-related information. -->"
      ],
      "id": "c204c4de-b0fa-4f52-9115-44923a2375e5"
    },
    {
      "cell_type": "raw",
      "metadata": {
        "raw_mimetype": "text/html"
      },
      "source": [
        "<!-- We use the following notation: -->"
      ],
      "id": "8e18c9be-3341-44d3-8c36-34a3bb8fe195"
    },
    {
      "cell_type": "raw",
      "metadata": {
        "raw_mimetype": "text/html"
      },
      "source": [
        "<!-- -   $\\mathbf{y} = [Y_1, Y_2, \\ldots, Y_n]$ denotes the column vector containing the $n$ observed response values. -->"
      ],
      "id": "b89ba375-6925-4651-9e23-6277fc8fb3c6"
    },
    {
      "cell_type": "raw",
      "metadata": {
        "raw_mimetype": "text/html"
      },
      "source": [
        "<!-- -   $\\mathbf{X}$ denotes the matrix containing a column of 1s and the observed regressor values for $X_1, X_2, \\ldots, X_{p-1}$. This may be written as -->"
      ],
      "id": "d104a5f8-ed27-4422-8b10-e4f803428187"
    },
    {
      "cell_type": "raw",
      "metadata": {
        "raw_mimetype": "text/html"
      },
      "source": [
        "<!--     \\[\\mathbf{X} = \\begin{bmatrix} -->"
      ],
      "id": "4748fec8-e271-4bab-8815-596e2719c792"
    },
    {
      "cell_type": "raw",
      "metadata": {
        "raw_mimetype": "text/html"
      },
      "source": [
        "<!--     1 & x_{1,1} & x_{1,2} & \\cdots & x_{1,p-1} \\\\ -->"
      ],
      "id": "c144bc81-9279-42a8-a941-d60f27642cae"
    },
    {
      "cell_type": "raw",
      "metadata": {
        "raw_mimetype": "text/html"
      },
      "source": [
        "<!--     1 & x_{2,1} & x_{2,2} & \\cdots & x_{2,p-1} \\\\ -->"
      ],
      "id": "6e342cde-8126-4005-a10b-d73e746d5051"
    },
    {
      "cell_type": "raw",
      "metadata": {
        "raw_mimetype": "text/html"
      },
      "source": [
        "<!--     \\vdots & \\vdots & \\vdots & \\vdots & \\vdots \\\\ -->"
      ],
      "id": "ec1a2e38-9c45-4de6-a599-c3723aba6b45"
    },
    {
      "cell_type": "raw",
      "metadata": {
        "raw_mimetype": "text/html"
      },
      "source": [
        "<!--     1 & x_{n,1} & x_{n,2} & \\cdots & x_{n,p-1} -->"
      ],
      "id": "13c7c8ef-e242-4b9a-ba17-e70eef7e91a5"
    },
    {
      "cell_type": "raw",
      "metadata": {
        "raw_mimetype": "text/html"
      },
      "source": [
        "<!--     \\end{bmatrix}.\\] -->"
      ],
      "id": "4ee98b1a-ef20-4327-9740-67ad24b6af72"
    },
    {
      "cell_type": "raw",
      "metadata": {
        "raw_mimetype": "text/html"
      },
      "source": [
        "<!-- -   $\\boldsymbol{\\beta} = [\\beta_0, \\beta_1, \\ldots, \\beta_{p-1}]$ denotes the column vector containing the $p$ regression coefficients. -->"
      ],
      "id": "7401835c-46a4-4b58-a6ce-3dd368de7fb9"
    },
    {
      "cell_type": "raw",
      "metadata": {
        "raw_mimetype": "text/html"
      },
      "source": [
        "<!-- -   $\\boldsymbol{\\epsilon} = [\\epsilon_1, \\epsilon_2, \\ldots, \\epsilon_n]$ denotes the column vector contained the $n$ errors. -->"
      ],
      "id": "335a6801-4661-4c36-ab10-9d6e380b4806"
    },
    {
      "cell_type": "raw",
      "metadata": {
        "raw_mimetype": "text/html"
      },
      "source": [
        "<!-- --- -->"
      ],
      "id": "251be176-c1ab-4ced-9643-b101279b3e90"
    },
    {
      "cell_type": "raw",
      "metadata": {
        "raw_mimetype": "text/html"
      },
      "source": [
        "<!-- The system of equations defining the linear model in Equation \\@ref(eq:lmSystem) can be written as -->"
      ],
      "id": "393d0f96-2945-4fc7-a03d-b2de15ac507e"
    },
    {
      "cell_type": "raw",
      "metadata": {
        "raw_mimetype": "text/html"
      },
      "source": [
        "<!-- \\[ -->"
      ],
      "id": "55bdd97d-e8a0-4123-a707-d5eaacba843b"
    },
    {
      "cell_type": "raw",
      "metadata": {
        "raw_mimetype": "text/html"
      },
      "source": [
        "<!-- \\mathbf{y} = \\mathbf{X}\\boldsymbol{\\beta} + \\boldsymbol{\\epsilon}. -->"
      ],
      "id": "e4638619-6cd5-43ff-9493-49e9f1301f44"
    },
    {
      "cell_type": "raw",
      "metadata": {
        "raw_mimetype": "text/html"
      },
      "source": [
        "<!-- \\] -->"
      ],
      "id": "e3272aba-e43b-4204-b6bd-6065467f9e6c"
    },
    {
      "cell_type": "raw",
      "metadata": {
        "raw_mimetype": "text/html"
      },
      "source": [
        "<!-- Thus, matrix notation can be used to represent a system of linear equations. A model that cannot be represented as a system of linear equations using matrices is not a linear model. -->"
      ],
      "id": "26dbd43d-d4c6-4abf-9280-48250b338c09"
    },
    {
      "cell_type": "raw",
      "metadata": {
        "raw_mimetype": "text/html"
      },
      "source": [
        "<!-- ## Residuals, fitted values, and RSS for multiple linear regression  -->"
      ],
      "id": "463a0c8b-4721-4cf5-963e-706b54deff84"
    },
    {
      "cell_type": "raw",
      "metadata": {
        "raw_mimetype": "text/html"
      },
      "source": [
        "<!-- We now discuss of residuals, fitted values, and RSS for the multiple linear regression context using matrix notation. -->"
      ],
      "id": "f2bc07c5-7860-4610-bf2b-af57f5a01bbe"
    },
    {
      "cell_type": "raw",
      "metadata": {
        "raw_mimetype": "text/html"
      },
      "source": [
        "<!-- The vector of estimated values for the coefficients contained in $\\boldsymbol{\\beta}$ is denoted -->"
      ],
      "id": "c6f9bf70-3da9-4bea-a2ea-888488813f9a"
    },
    {
      "cell_type": "raw",
      "metadata": {
        "raw_mimetype": "text/html"
      },
      "source": [
        "<!-- \\[ -->"
      ],
      "id": "8c93dc78-c689-4854-a8b9-539003578385"
    },
    {
      "cell_type": "raw",
      "metadata": {
        "raw_mimetype": "text/html"
      },
      "source": [
        "<!-- \\hat{\\boldsymbol{\\beta}}=[\\hat{\\beta}_0,\\hat{\\beta}_1,\\ldots,\\hat{\\beta}_{p-1}]. (\\#eq:def-beta-matrix) -->"
      ],
      "id": "2a6392a0-c18d-4953-b0c0-5c0fd6df0a16"
    },
    {
      "cell_type": "raw",
      "metadata": {
        "raw_mimetype": "text/html"
      },
      "source": [
        "<!-- \\] -->"
      ],
      "id": "89cddb7a-c708-40e5-8b5a-800bfe14d07a"
    },
    {
      "cell_type": "raw",
      "metadata": {
        "raw_mimetype": "text/html"
      },
      "source": [
        "<!-- The vector of regressor values for the $i$th observation is denoted -->"
      ],
      "id": "435c6102-f3d5-4b10-b79c-3badcef91b07"
    },
    {
      "cell_type": "raw",
      "metadata": {
        "raw_mimetype": "text/html"
      },
      "source": [
        "<!-- \\[ -->"
      ],
      "id": "124b9332-fa17-4a17-bb70-9cabe8d11ceb"
    },
    {
      "cell_type": "raw",
      "metadata": {
        "raw_mimetype": "text/html"
      },
      "source": [
        "<!-- \\mathbf{x}_i=[1,x_{i,1},\\ldots,x_{i,p-1}], (\\#eq:def-ith-regressor-matrix) -->"
      ],
      "id": "565da1f5-7fa1-4166-b389-c84be07e2b75"
    },
    {
      "cell_type": "raw",
      "metadata": {
        "raw_mimetype": "text/html"
      },
      "source": [
        "<!-- \\] -->"
      ],
      "id": "3e54dc44-4b10-4903-9f99-7c3a84b59f90"
    },
    {
      "cell_type": "raw",
      "metadata": {
        "raw_mimetype": "text/html"
      },
      "source": [
        "<!-- * **Question:** Why do we include a vector of $1$'s? -->"
      ],
      "id": "d21795db-9adf-43d1-9637-a9ac6e5f8c11"
    },
    {
      "cell_type": "raw",
      "metadata": {
        "raw_mimetype": "text/html"
      },
      "source": [
        "<!-- --- -->"
      ],
      "id": "fc71caca-2001-4aaf-a4df-5fecd9851afa"
    },
    {
      "cell_type": "raw",
      "metadata": {
        "raw_mimetype": "text/html"
      },
      "source": [
        "<!-- Extending the original definition of a fitted value in Equation \\@ref(eq:def-fitted-value-slr), the $i$th **fitted value** in the context of multiple linear regression is defined as -->"
      ],
      "id": "d9c5a2bd-3490-4952-a335-173ff00d3414"
    },
    {
      "cell_type": "raw",
      "metadata": {
        "raw_mimetype": "text/html"
      },
      "source": [
        "<!-- \\[ -->"
      ],
      "id": "92aaff19-ec21-44cb-831a-f9d3d1f9824b"
    },
    {
      "cell_type": "raw",
      "metadata": {
        "raw_mimetype": "text/html"
      },
      "source": [
        "<!-- \\begin{aligned} -->"
      ],
      "id": "f6d6e7ed-496d-4ace-8e44-40f3d6e72718"
    },
    {
      "cell_type": "raw",
      "metadata": {
        "raw_mimetype": "text/html"
      },
      "source": [
        "<!-- \\hat{Y}_i &= \\hat{E}(Y \\mid \\mathbb{X} = \\mathbf{x}_i) \\\\ -->"
      ],
      "id": "d34fecf2-6403-4920-953a-7fc2048ce0fa"
    },
    {
      "cell_type": "raw",
      "metadata": {
        "raw_mimetype": "text/html"
      },
      "source": [
        "<!-- &= \\hat{\\beta}_0 + \\hat{\\beta}_1 x_{i,1} + \\cdots + \\hat{\\beta}_{p-1} x_{i,p-1} \\\\ -->"
      ],
      "id": "d998c12e-c13e-4f1a-8d77-864ed96c101a"
    },
    {
      "cell_type": "raw",
      "metadata": {
        "raw_mimetype": "text/html"
      },
      "source": [
        "<!-- &= \\mathbf{x}_i^T\\hat{\\boldsymbol{\\beta}}. -->"
      ],
      "id": "d6b0ac4b-a1ee-46a1-a46b-a2d011fbfcbe"
    },
    {
      "cell_type": "raw",
      "metadata": {
        "raw_mimetype": "text/html"
      },
      "source": [
        "<!-- \\end{aligned} -->"
      ],
      "id": "17828304-4176-4d83-b6f1-fb7da0942114"
    },
    {
      "cell_type": "raw",
      "metadata": {
        "raw_mimetype": "text/html"
      },
      "source": [
        "<!-- (\\#eq:def-fitted-value-matrix) -->"
      ],
      "id": "49238f12-8f5f-4106-9b23-16019dfa8787"
    },
    {
      "cell_type": "raw",
      "metadata": {
        "raw_mimetype": "text/html"
      },
      "source": [
        "<!-- \\] -->"
      ],
      "id": "f0e2507d-366c-44b7-b569-5f42b43feb8d"
    },
    {
      "cell_type": "raw",
      "metadata": {
        "raw_mimetype": "text/html"
      },
      "source": [
        "<!-- The notation \"$\\mathbb{X} = \\mathbf{x}_i$\" is a concise way of saying \"$X_0 = 1, X_1=x_{i,1}, \\ldots, X_{p-1}=x_{i,p-1}$\". -->"
      ],
      "id": "96114ce9-76ee-4e2c-9793-96604a96bdaf"
    },
    {
      "cell_type": "raw",
      "metadata": {
        "raw_mimetype": "text/html"
      },
      "source": [
        "<!-- The column vector of fitted values is defined as -->"
      ],
      "id": "22243b58-d8f7-4e54-bb90-2783240345fa"
    },
    {
      "cell_type": "raw",
      "metadata": {
        "raw_mimetype": "text/html"
      },
      "source": [
        "<!-- \\[ -->"
      ],
      "id": "86d229c1-c089-444e-83e7-f37cb8912521"
    },
    {
      "cell_type": "raw",
      "metadata": {
        "raw_mimetype": "text/html"
      },
      "source": [
        "<!-- \\hat{\\mathbf{y}} = [\\hat{Y}_1,\\ldots,\\hat{Y}_n], (\\#eq:def-fitted-values-matrix) -->"
      ],
      "id": "439f37b0-c01e-4658-a21c-aaf90f065bc0"
    },
    {
      "cell_type": "raw",
      "metadata": {
        "raw_mimetype": "text/html"
      },
      "source": [
        "<!-- \\] -->"
      ],
      "id": "cac66aef-ac8c-43cb-9f85-a7fa4c2c721e"
    },
    {
      "cell_type": "raw",
      "metadata": {
        "raw_mimetype": "text/html"
      },
      "source": [
        "<!-- and can be computed as -->"
      ],
      "id": "dc3418cc-8923-48cd-bf04-d45c3dfed2f0"
    },
    {
      "cell_type": "raw",
      "metadata": {
        "raw_mimetype": "text/html"
      },
      "source": [
        "<!-- \\[ -->"
      ],
      "id": "f4d5d536-336e-46f8-baf4-70dcdd21a308"
    },
    {
      "cell_type": "raw",
      "metadata": {
        "raw_mimetype": "text/html"
      },
      "source": [
        "<!-- \\hat{\\mathbf{y}} = \\mathbf{X}\\hat{\\boldsymbol{\\beta}}. (\\#eq:compute-yhat) -->"
      ],
      "id": "3d986825-0cec-4611-8f78-49f6a8c5012c"
    },
    {
      "cell_type": "raw",
      "metadata": {
        "raw_mimetype": "text/html"
      },
      "source": [
        "<!-- \\] -->"
      ],
      "id": "97308640-4f60-4158-bf78-c94f518694d3"
    },
    {
      "cell_type": "raw",
      "metadata": {
        "raw_mimetype": "text/html"
      },
      "source": [
        "<!-- --- -->"
      ],
      "id": "9c4fedd3-ecc7-4093-9f91-732f10ee2e48"
    },
    {
      "cell_type": "raw",
      "metadata": {
        "raw_mimetype": "text/html"
      },
      "source": [
        "<!-- Extending the original definition of a residual in Equation \\@ref(eq:def-residual-slr), -->"
      ],
      "id": "4e72b48c-f1db-492e-b1ed-94fc4706ed35"
    },
    {
      "cell_type": "raw",
      "metadata": {
        "raw_mimetype": "text/html"
      },
      "source": [
        "<!-- the $i$th **residual** in the context of multiple linear regression can be written as -->"
      ],
      "id": "c10acd96-cf8f-4dde-b135-30a7c3ff9649"
    },
    {
      "cell_type": "raw",
      "metadata": {
        "raw_mimetype": "text/html"
      },
      "source": [
        "<!-- \\[ -->"
      ],
      "id": "f20c7d56-e835-4a3d-b447-75eb323d864b"
    },
    {
      "cell_type": "raw",
      "metadata": {
        "raw_mimetype": "text/html"
      },
      "source": [
        "<!-- \\begin{aligned} -->"
      ],
      "id": "d2cc07a7-f675-469a-b0a9-560c1023a7c9"
    },
    {
      "cell_type": "raw",
      "metadata": {
        "raw_mimetype": "text/html"
      },
      "source": [
        "<!-- \\hat{\\epsilon}_i = Y_i - \\hat{Y}_i=Y_i-\\mathbf{x}_i^T\\hat{\\boldsymbol{\\beta}}, -->"
      ],
      "id": "d84a21a5-5fb5-4062-90e2-3a14d5d88215"
    },
    {
      "cell_type": "raw",
      "metadata": {
        "raw_mimetype": "text/html"
      },
      "source": [
        "<!-- \\end{aligned} -->"
      ],
      "id": "50a46f7a-fda1-4fb6-b044-37467dfdf5ab"
    },
    {
      "cell_type": "raw",
      "metadata": {
        "raw_mimetype": "text/html"
      },
      "source": [
        "<!-- \\] -->"
      ],
      "id": "e09d2f2c-6acc-45c9-96a2-d8494c4eff8a"
    },
    {
      "cell_type": "raw",
      "metadata": {
        "raw_mimetype": "text/html"
      },
      "source": [
        "<!-- using Equation \\@ref(eq:def-fitted-value-matrix). -->"
      ],
      "id": "dd877337-465b-4895-ac60-5b9d9f36b1b6"
    },
    {
      "cell_type": "raw",
      "metadata": {
        "raw_mimetype": "text/html"
      },
      "source": [
        "<!-- The column vector of residuals is defined as -->"
      ],
      "id": "cadd0d0c-a5f0-46fc-b657-600f3c9e9210"
    },
    {
      "cell_type": "raw",
      "metadata": {
        "raw_mimetype": "text/html"
      },
      "source": [
        "<!-- \\[ -->"
      ],
      "id": "8e62ac3d-2454-4b42-8503-45bb90e1f88e"
    },
    {
      "cell_type": "raw",
      "metadata": {
        "raw_mimetype": "text/html"
      },
      "source": [
        "<!-- \\hat{\\boldsymbol{\\epsilon}} = [\\hat{\\epsilon}_1,\\ldots,\\hat{\\epsilon}_n]. (\\#eq:def-residuals-matrix) -->"
      ],
      "id": "1b5cd10e-4d32-4b2f-b04e-753ef3665961"
    },
    {
      "cell_type": "raw",
      "metadata": {
        "raw_mimetype": "text/html"
      },
      "source": [
        "<!-- \\] -->"
      ],
      "id": "f409b2c7-0e75-490c-a6db-3e7db15063e9"
    },
    {
      "cell_type": "raw",
      "metadata": {
        "raw_mimetype": "text/html"
      },
      "source": [
        "<!-- Using Equations \\@ref(eq:def-fitted-values-matrix) and \\@ref(eq:compute-yhat), equivalent expressions for the residual vector are -->"
      ],
      "id": "97e06762-f3e4-4a9f-8b65-64b876cdc52e"
    },
    {
      "cell_type": "raw",
      "metadata": {
        "raw_mimetype": "text/html"
      },
      "source": [
        "<!-- \\[ -->"
      ],
      "id": "661819c0-4dd3-4ee0-af0b-f05607b23154"
    },
    {
      "cell_type": "raw",
      "metadata": {
        "raw_mimetype": "text/html"
      },
      "source": [
        "<!-- \\hat{\\boldsymbol{\\epsilon}}=\\mathbf{y}-\\hat{\\mathbf{y}}=\\mathbf{y}-\\mathbf{X}\\hat{\\boldsymbol{\\beta}}.(\\#eq:epsilonhat-expressions) -->"
      ],
      "id": "16e8d9d8-f81d-4b8a-8cba-c0577f99cb76"
    },
    {
      "cell_type": "raw",
      "metadata": {
        "raw_mimetype": "text/html"
      },
      "source": [
        "<!-- \\] -->"
      ],
      "id": "c87f88cc-1ac1-4b6f-96f0-a59fb9da59f3"
    },
    {
      "cell_type": "raw",
      "metadata": {
        "raw_mimetype": "text/html"
      },
      "source": [
        "<!-- --- -->"
      ],
      "id": "44d7467c-be85-4f1f-8585-5834c6965400"
    },
    {
      "cell_type": "raw",
      "metadata": {
        "raw_mimetype": "text/html"
      },
      "source": [
        "<!-- The RSS for a multiple linear regression model, as a function of the estimated regression coefficients, is -->"
      ],
      "id": "1a4d71d0-9b09-4fe6-a965-e0b41c2cc25a"
    },
    {
      "cell_type": "raw",
      "metadata": {
        "raw_mimetype": "text/html"
      },
      "source": [
        "<!-- \\[ -->"
      ],
      "id": "fe7c2e0c-0545-41b6-b1d6-814114c0b3c4"
    },
    {
      "cell_type": "raw",
      "metadata": {
        "raw_mimetype": "text/html"
      },
      "source": [
        "<!-- \\begin{aligned} -->"
      ],
      "id": "8824211e-4410-4cb0-b9e0-50b7487efd5f"
    },
    {
      "cell_type": "raw",
      "metadata": {
        "raw_mimetype": "text/html"
      },
      "source": [
        "<!-- RSS(\\hat{\\boldsymbol{\\beta}}) &= \\sum_{i=1}^n \\hat{\\epsilon}_i^2 \\\\ -->"
      ],
      "id": "572b61ef-2ebd-406a-a2d3-b4c0fc7ceea2"
    },
    {
      "cell_type": "raw",
      "metadata": {
        "raw_mimetype": "text/html"
      },
      "source": [
        "<!-- &= \\hat{\\boldsymbol{\\epsilon}}^T \\hat{\\boldsymbol{\\epsilon}} \\\\ -->"
      ],
      "id": "752911fc-a49c-4a37-91a6-082222b89880"
    },
    {
      "cell_type": "raw",
      "metadata": {
        "raw_mimetype": "text/html"
      },
      "source": [
        "<!-- &= (\\mathbf{y} - \\hat{\\mathbf{y}})^T (\\mathbf{y} - \\hat{\\mathbf{y}}) \\\\ -->"
      ],
      "id": "9fe8e13e-e8d2-47b0-a7dc-d98633e2b0d0"
    },
    {
      "cell_type": "raw",
      "metadata": {
        "raw_mimetype": "text/html"
      },
      "source": [
        "<!-- & = (\\mathbf{y} - \\mathbf{X}\\hat{\\boldsymbol{\\beta}})^T (\\mathbf{y} - \\hat{\\boldsymbol{\\beta}}). -->"
      ],
      "id": "561c4af0-47a2-4702-926c-a9c3d42517f5"
    },
    {
      "cell_type": "raw",
      "metadata": {
        "raw_mimetype": "text/html"
      },
      "source": [
        "<!-- \\end{aligned} (\\#eq:def-rss-matrix) -->"
      ],
      "id": "be5782d0-a284-44fb-a425-52ceaa911d8c"
    },
    {
      "cell_type": "raw",
      "metadata": {
        "raw_mimetype": "text/html"
      },
      "source": [
        "<!-- \\] -->"
      ],
      "id": "a590853c-e9bd-4c3a-8203-28dfde95feea"
    },
    {
      "cell_type": "raw",
      "metadata": {
        "raw_mimetype": "text/html"
      },
      "source": [
        "<!-- The various expressions in Equation \\@ref(eq:def-rss-matrix) are equivalent (cf. Equation \\@ref(eq:epsilonhat-expressions)). -->"
      ],
      "id": "3f654d34-a19c-4255-a6b9-d56d0a29f71e"
    },
    {
      "cell_type": "raw",
      "metadata": {
        "raw_mimetype": "text/html"
      },
      "source": [
        "<!-- ## OLS estimator of the regression coefficients -->"
      ],
      "id": "342703ef-fee0-416f-b25b-b0fd41dcfb30"
    },
    {
      "cell_type": "raw",
      "metadata": {
        "raw_mimetype": "text/html"
      },
      "source": [
        "<!-- The OLS estimator of the regression coefficient vector, $\\boldsymbol{\\beta}$, is -->"
      ],
      "id": "1c0f0f1c-4a5c-42cc-9336-953a3703fa51"
    },
    {
      "cell_type": "raw",
      "metadata": {
        "raw_mimetype": "text/html"
      },
      "source": [
        "<!-- \\[ -->"
      ],
      "id": "45d63a3c-98ec-45f9-9f3f-b0653bbf7f6c"
    },
    {
      "cell_type": "raw",
      "metadata": {
        "raw_mimetype": "text/html"
      },
      "source": [
        "<!-- \\hat{\\boldsymbol{\\beta}} = (\\mathbf{X}^T\\mathbf{X})^{-1}\\mathbf{X}^T\\mathbf{y}. (\\#eq:betahat) -->"
      ],
      "id": "f46f3f73-b2bc-4439-9f13-b583a3326abd"
    },
    {
      "cell_type": "raw",
      "metadata": {
        "raw_mimetype": "text/html"
      },
      "source": [
        "<!-- \\] -->"
      ],
      "id": "c70d13b9-df88-40b2-acf6-8ba8a8e454b6"
    },
    {
      "cell_type": "raw",
      "metadata": {
        "raw_mimetype": "text/html"
      },
      "source": [
        "<!-- Equation \\@ref(eq:betahat) assumes that $\\mathbf{X}$ has full-rank ($n>p$ and none of the columns of $\\mathbf{X}$ are linear combinations of other columns in $\\mathbf{X}$), which is a very mild assumption.  -->"
      ],
      "id": "a3669b25-e3bd-4e1a-b28b-fdde9157cfa8"
    },
    {
      "cell_type": "raw",
      "metadata": {
        "raw_mimetype": "text/html"
      },
      "source": [
        "<!-- --- -->"
      ],
      "id": "54a319c8-e72d-4427-b830-103ff247fedc"
    },
    {
      "cell_type": "raw",
      "metadata": {
        "raw_mimetype": "text/html"
      },
      "source": [
        "<!-- The general estimator of the $\\sigma^2$ in the context of multiple linear regression is -->"
      ],
      "id": "ad386fd1-3634-4383-a672-03077a9c54fd"
    },
    {
      "cell_type": "raw",
      "metadata": {
        "raw_mimetype": "text/html"
      },
      "source": [
        "<!-- \\[ -->"
      ],
      "id": "263f9644-f4bc-4195-92ca-4f1a3f35a5c3"
    },
    {
      "cell_type": "raw",
      "metadata": {
        "raw_mimetype": "text/html"
      },
      "source": [
        "<!-- \\hat{\\sigma}^2 = \\frac{RSS}{n-p}, -->"
      ],
      "id": "8697c29d-2653-43f7-9419-748c316f3a33"
    },
    {
      "cell_type": "raw",
      "metadata": {
        "raw_mimetype": "text/html"
      },
      "source": [
        "<!-- \\] -->"
      ],
      "id": "318675c1-9909-494d-b51e-890b9c2af771"
    },
    {
      "cell_type": "raw",
      "metadata": {
        "raw_mimetype": "text/html"
      },
      "source": [
        "<!-- which is consistent with the previous definition given in Equation \\@ref(eq:sigmasq-hat). -->"
      ],
      "id": "35d055a3-236a-4e17-bd61-1d7aa5598e03"
    },
    {
      "cell_type": "raw",
      "metadata": {
        "raw_mimetype": "text/html"
      },
      "source": [
        "<!-- # Penguins multiple linear regression example -->"
      ],
      "id": "b726eeca-30e0-478e-a996-7c5b3d2bf9b2"
    },
    {
      "cell_type": "raw",
      "metadata": {
        "raw_mimetype": "text/html"
      },
      "source": [
        "<!-- We will fit a multiple linear regression model regressing `bill_length_mm` on `body_mass_g` and `flipper_length_mm`, and will once again do so using the `lm` function. -->"
      ],
      "id": "389d0fa5-8813-4a61-b1c1-d3ca00eefa1d"
    },
    {
      "cell_type": "raw",
      "metadata": {
        "raw_mimetype": "text/html"
      },
      "source": [
        "<!-- Before we do that, we provide some additional discussion of the of the `formula` argument of the `lm` function. This will be very important as we discuss more complicated models. Assume `y` is the response variable and `x`, `x1`, `x2`, `x3` are available numeric predictors. Then: -->"
      ],
      "id": "6b836708-30e8-4ff3-aa54-74ad4372deea"
    },
    {
      "cell_type": "raw",
      "metadata": {
        "raw_mimetype": "text/html"
      },
      "source": [
        "<!--   -   `y ~ x` describes the simple linear regression model $E(Y|X)=\\beta_0+\\beta_1 X$. -->"
      ],
      "id": "425f6bfd-0561-4e65-8c59-2890410fc9cd"
    },
    {
      "cell_type": "raw",
      "metadata": {
        "raw_mimetype": "text/html"
      },
      "source": [
        "<!--   -   `y ~ x1 + x2` describes the multiple linear regression model $E(Y|X_1, X_2)=\\beta_0+\\beta_1 X_1 + \\beta_2 X_2$. -->"
      ],
      "id": "f35cbbe3-6d45-432c-9182-23c90d9a67b0"
    },
    {
      "cell_type": "raw",
      "metadata": {
        "raw_mimetype": "text/html"
      },
      "source": [
        "<!--   -   `y ~ x1 + x2 + x1:x2` and `y ~ x1 * x2` describe the multiple linear regression model -->"
      ],
      "id": "b0179f91-7288-4714-ae54-c74fce317ced"
    },
    {
      "cell_type": "raw",
      "metadata": {
        "raw_mimetype": "text/html"
      },
      "source": [
        "<!--   $E(Y|X_1, X_2)=\\beta_0+\\beta_1 X_1 + \\beta_2 X_2 + \\beta_3 X_1 X_2$. -->"
      ],
      "id": "8f09b384-8377-4f0d-b5af-380fbf3e94f1"
    },
    {
      "cell_type": "raw",
      "metadata": {
        "raw_mimetype": "text/html"
      },
      "source": [
        "<!--   -   `y ~ -1 + x1 + x2` describe a multiple linear regression model without an intercept, in this case, -->"
      ],
      "id": "9f384f71-63b9-4f0b-8a8c-f84a22146bf0"
    },
    {
      "cell_type": "raw",
      "metadata": {
        "raw_mimetype": "text/html"
      },
      "source": [
        "<!--   $E(Y|X_1, X_2)=\\beta_1 X_1 + \\beta_2 X_2$. The `-1` tells R not to include an intercept in the fitted model. -->"
      ],
      "id": "33540078-6176-4cef-b064-bfa3e006edbd"
    },
    {
      "cell_type": "raw",
      "metadata": {
        "raw_mimetype": "text/html"
      },
      "source": [
        "<!--   -   `y ~ x + I(x^2)` describe the multiple linear regression model $E(Y|X)=\\beta_0+\\beta_1 X + \\beta_2 X^2$. The `I()` function is a special function that tells R to create a regressor based on the syntax inside the `()` and include that regressor in the model. -->"
      ],
      "id": "df0519c0-7ce4-4bde-995b-d258b814e8d0"
    },
    {
      "cell_type": "raw",
      "metadata": {
        "raw_mimetype": "text/html"
      },
      "source": [
        "<!-- --- -->"
      ],
      "id": "24414da0-88e9-4223-963e-3263352b5802"
    },
    {
      "cell_type": "raw",
      "metadata": {
        "raw_mimetype": "text/html"
      },
      "source": [
        "<!-- In the code below, we fit the linear model regressing `bill_length_mm` on `body_mass_g` and `flipper_length_mm` and then use the `coef` and `deviance` functions to extract the estimated coefficients and RSS of the fitted model, respectively. -->"
      ],
      "id": "30de887b-5bfc-4b7d-b284-44cd8e88598b"
    },
    {
      "cell_type": "raw",
      "metadata": {
        "raw_mimetype": "text/html"
      },
      "source": [
        "<!-- ```{r} -->"
      ],
      "id": "4d9538cc-bb8c-44ef-a4ba-bd4d5654ea2a"
    },
    {
      "cell_type": "raw",
      "metadata": {
        "raw_mimetype": "text/html"
      },
      "source": [
        "<!-- # fit model -->"
      ],
      "id": "b7c259f2-22a7-4267-a5b6-52d81a85a1c5"
    },
    {
      "cell_type": "raw",
      "metadata": {
        "raw_mimetype": "text/html"
      },
      "source": [
        "<!-- mlmod <- lm(bill_length_mm ~ body_mass_g + flipper_length_mm, data = penguins) -->"
      ],
      "id": "ecbfa64e-8950-4bbb-9cee-0a279c2d85bd"
    },
    {
      "cell_type": "raw",
      "metadata": {
        "raw_mimetype": "text/html"
      },
      "source": [
        "<!-- # extract estimated coefficients -->"
      ],
      "id": "0221a32d-7aba-4b7d-8d5e-54e956841274"
    },
    {
      "cell_type": "raw",
      "metadata": {
        "raw_mimetype": "text/html"
      },
      "source": [
        "<!-- coef(mlmod) -->"
      ],
      "id": "b00a5805-a90a-427c-88da-a18ee528e47f"
    },
    {
      "cell_type": "raw",
      "metadata": {
        "raw_mimetype": "text/html"
      },
      "source": [
        "<!-- # extract RSS -->"
      ],
      "id": "c995ea50-d657-44f6-b1e6-542072177418"
    },
    {
      "cell_type": "raw",
      "metadata": {
        "raw_mimetype": "text/html"
      },
      "source": [
        "<!-- deviance(mlmod) -->"
      ],
      "id": "0f1e2478-6225-4db4-aa94-62e6562b4213"
    },
    {
      "cell_type": "raw",
      "metadata": {
        "raw_mimetype": "text/html"
      },
      "source": [
        "<!-- ``` -->"
      ],
      "id": "0d07421d-b408-4e81-bd9d-ef3ddba26f54"
    },
    {
      "cell_type": "raw",
      "metadata": {
        "raw_mimetype": "text/html"
      },
      "source": [
        "<!-- The fitted model is -->"
      ],
      "id": "fba9b7e6-35f1-46d6-bf1f-cc7e263dc2ad"
    },
    {
      "cell_type": "raw",
      "metadata": {
        "raw_mimetype": "text/html"
      },
      "source": [
        "<!-- \\[ -->"
      ],
      "id": "09d57ee4-77e7-4d6d-a25a-ff84f28a94cd"
    },
    {
      "cell_type": "raw",
      "metadata": {
        "raw_mimetype": "text/html"
      },
      "source": [
        "<!-- \\widehat{\\mathtt{bill\\_length\\_mm}}=-3.44+0.0007 \\,\\mathtt{body\\_mass\\_g}+0.22\\,\\mathtt{flipper\\_length\\_mm}. -->"
      ],
      "id": "84808428-97cd-47c2-b7a9-0fe15f80ac48"
    },
    {
      "cell_type": "raw",
      "metadata": {
        "raw_mimetype": "text/html"
      },
      "source": [
        "<!-- \\] -->"
      ],
      "id": "34109ec6-f38b-400a-a59c-64a21758cbbb"
    },
    {
      "cell_type": "raw",
      "metadata": {
        "raw_mimetype": "text/html"
      },
      "source": [
        "<!-- - **Question:** What is the RSS? How does it compare to the simple linear model we used before? -->"
      ],
      "id": "00046315-76f7-4e64-8913-9aecdf790275"
    },
    {
      "cell_type": "raw",
      "metadata": {
        "raw_mimetype": "text/html"
      },
      "source": [
        "<!-- # Types of linear models -->"
      ],
      "id": "bb49e98a-e901-43a1-aea8-b328f3413412"
    },
    {
      "cell_type": "raw",
      "metadata": {
        "raw_mimetype": "text/html"
      },
      "source": [
        "<!-- - **Simple**: a model with an intercept and a single regressor. -->"
      ],
      "id": "30e719da-1082-41f3-afac-c0f5cfdd7176"
    },
    {
      "cell_type": "raw",
      "metadata": {
        "raw_mimetype": "text/html"
      },
      "source": [
        "<!-- - **Multiple**: a model with 2 or more regressors. -->"
      ],
      "id": "40865ff9-2d49-4646-b805-a88785d4ed5a"
    },
    {
      "cell_type": "raw",
      "metadata": {
        "raw_mimetype": "text/html"
      },
      "source": [
        "<!-- - **Polynomial**: a model with squared, cubic, quartic predictors, etc. E.g, $E(Y\\mid X) = \\beta_0 + \\beta_1 X + \\beta_2 X^2 + \\beta_3 X^3$ is a 4th-degree polynomial. -->"
      ],
      "id": "40a4939b-221a-4ae6-89bc-508674e88ab9"
    },
    {
      "cell_type": "raw",
      "metadata": {
        "raw_mimetype": "text/html"
      },
      "source": [
        "<!-- - **First-order**: a model in which each predictor is used to create no more than one regressor. -->"
      ],
      "id": "57093f2c-b775-4063-8d53-7413b220bdfe"
    },
    {
      "cell_type": "raw",
      "metadata": {
        "raw_mimetype": "text/html"
      },
      "source": [
        "<!-- - **Main effect**: a model in which none of the regressors are functions of more than one predictor. A predictor can be used more than once, but each regressor is only a function of one predictor. E.g., if $X_1$ and $X_2$ are different predictors, then the regression model $E(Y\\mid X_1, X_2) = \\beta_0 + \\beta_1 X_1 + \\beta_2 X_1^2 + \\beta_3 X_2$ would be a main effect model, but not a first-order model since $X_1$ was used to create two regressors. -->"
      ],
      "id": "e6385b18-cfe6-4a7b-bdae-bfa69e8b77bb"
    },
    {
      "cell_type": "raw",
      "metadata": {
        "raw_mimetype": "text/html"
      },
      "source": [
        "<!-- - **Interaction**: a model in which some of the regressors are functions of more than 1 predictor. E.g., if $X_1$ and $X_2$ are different predictors, then the regression model $E(Y\\mid X_1, X_2) = \\beta_0 + \\beta_1 X_1 + \\beta_2 X_2 + \\beta_3 X_1X_2$ is a very simple interaction model since the third regressor is the product of $X_1$ and $X_2$. -->"
      ],
      "id": "eeb5b849-1a5f-4b40-9620-cca7fdf5d17f"
    },
    {
      "cell_type": "raw",
      "metadata": {
        "raw_mimetype": "text/html"
      },
      "source": [
        "<!-- - **Analysis of variance (ANOVA)**: a model for which all predictors used in the model are categorical. -->"
      ],
      "id": "144a8d04-e39b-4cc7-bc83-a43c9f8e75b6"
    },
    {
      "cell_type": "raw",
      "metadata": {
        "raw_mimetype": "text/html"
      },
      "source": [
        "<!-- - **Analysis of covariance (ANCOVA)**: a model that uses at least one numeric predictor and at least one categorical predictor. -->"
      ],
      "id": "1fc7ac83-26b2-423f-9560-b35ccc166ca9"
    },
    {
      "cell_type": "raw",
      "metadata": {
        "raw_mimetype": "text/html"
      },
      "source": [
        "<!-- - **Generalized (GLM)**: a \"generalized\" linear regression model in which the responses do not come from a normal distribution. -->"
      ],
      "id": "cdd64b7a-0000-4b20-9e0a-9d00b9ab992d"
    },
    {
      "cell_type": "raw",
      "metadata": {
        "raw_mimetype": "text/html"
      },
      "source": [
        "<!-- # Categorical predictors -->"
      ],
      "id": "e56105ba-d555-4f65-bd73-77bc8261d3cc"
    },
    {
      "cell_type": "raw",
      "metadata": {
        "raw_mimetype": "text/html"
      },
      "source": [
        "<!-- Categorical  predictors can greatly improve the explanatory power or predictive capability of a fitted model when different patterns exist for different levels of the variables. We discuss two basic uses of categorical predictors in linear regression models. We will briefly introduce the: -->"
      ],
      "id": "4c8033fa-cffd-4e5b-92d0-bbee581d496a"
    },
    {
      "cell_type": "raw",
      "metadata": {
        "raw_mimetype": "text/html"
      },
      "source": [
        "<!-- - **parallel lines regression model**, which is a main effect regression model that has a single numeric regressor and a single categorical predictor. The model produces parallel lines for each level of the categorical variable. -->"
      ],
      "id": "8c63dfa5-c54c-4c0b-95ab-395164222a7b"
    },
    {
      "cell_type": "raw",
      "metadata": {
        "raw_mimetype": "text/html"
      },
      "source": [
        "<!-- - **separate lines regression model**, which adds an interaction term between the numeric regressor and categorical predictor of the parallel lines regression model. The model produces separate lines for each level of the categorical variable. -->"
      ],
      "id": "7afd37dd-8c5c-4d19-9441-1751b2725811"
    },
    {
      "cell_type": "raw",
      "metadata": {
        "raw_mimetype": "text/html"
      },
      "source": [
        "<!-- ## Indicator variables -->"
      ],
      "id": "e5d5b3e0-5ed6-443d-aefb-e880ff7d996d"
    },
    {
      "cell_type": "raw",
      "metadata": {
        "raw_mimetype": "text/html"
      },
      "source": [
        "<!-- In order to compute $\\hat{\\boldsymbol{\\beta}}$ using Equation \\@ref(eq:betahat), both $\\mathbf{X}$ and $\\mathbf{y}$ must contain numeric values. How can we use a categorical predictor in our regression model when its values are not numeric? To do so, we must transform the categorical predictor into one or more **indicator** or **dummy variables**, which we explain in more detail below. -->"
      ],
      "id": "8756cef4-08b0-46a9-bf2f-0d0c404d770d"
    },
    {
      "cell_type": "raw",
      "metadata": {
        "raw_mimetype": "text/html"
      },
      "source": [
        "<!-- An **indicator function** is a function that takes the value 1 if a certain property is true and 0 otherwise. An **indicator variable** is the variable that results from applying an indicator function to each observation of a variable. Many notations exist for indicator functions. We use the notation, -->"
      ],
      "id": "3ef1a774-089b-4684-aa36-cbd4ede14f37"
    },
    {
      "cell_type": "raw",
      "metadata": {
        "raw_mimetype": "text/html"
      },
      "source": [
        "<!-- \\[ -->"
      ],
      "id": "dd15630c-bb0e-47e6-85bb-8ffa0e0c5269"
    },
    {
      "cell_type": "raw",
      "metadata": {
        "raw_mimetype": "text/html"
      },
      "source": [
        "<!-- I_S(x) = -->"
      ],
      "id": "64cd41f0-8386-4373-806d-25d3376a5312"
    },
    {
      "cell_type": "raw",
      "metadata": {
        "raw_mimetype": "text/html"
      },
      "source": [
        "<!-- \\begin{cases} -->"
      ],
      "id": "6a26fe19-9c9d-404e-a390-74ac0c45acce"
    },
    {
      "cell_type": "raw",
      "metadata": {
        "raw_mimetype": "text/html"
      },
      "source": [
        "<!-- 1 & \\textrm{if}\\;x \\in S\\\\ -->"
      ],
      "id": "646f6bf7-546f-45eb-bcf3-051d5c2a9050"
    },
    {
      "cell_type": "raw",
      "metadata": {
        "raw_mimetype": "text/html"
      },
      "source": [
        "<!-- 0 & \\textrm{if}\\;x \\notin S -->"
      ],
      "id": "ff0677d6-7c97-459b-b9d0-06a5e7cb6984"
    },
    {
      "cell_type": "raw",
      "metadata": {
        "raw_mimetype": "text/html"
      },
      "source": [
        "<!-- \\end{cases}, -->"
      ],
      "id": "d0c91501-529d-47f9-a136-fc26de6c2079"
    },
    {
      "cell_type": "raw",
      "metadata": {
        "raw_mimetype": "text/html"
      },
      "source": [
        "<!-- \\] -->"
      ],
      "id": "bc3aa1b1-9765-4d65-b6fb-274c09f93765"
    },
    {
      "cell_type": "raw",
      "metadata": {
        "raw_mimetype": "text/html"
      },
      "source": [
        "<!-- which is shorthand for a function that returns 1 if $x$ is in the set $S$ and 0 otherwise. -->"
      ],
      "id": "994ba9fa-3984-42b7-b275-173cc7b8dfbe"
    },
    {
      "cell_type": "raw",
      "metadata": {
        "raw_mimetype": "text/html"
      },
      "source": [
        "<!-- --- -->"
      ],
      "id": "e214cec4-23e7-4054-901c-1531c88261f2"
    },
    {
      "cell_type": "raw",
      "metadata": {
        "raw_mimetype": "text/html"
      },
      "source": [
        "<!-- Let $C$ denote a categorical predictor with levels $L_1$ and $L_2$. The $C$ stands for \"categorical\", while the $L$ stands for \"level\". Let $c_i$ denote the value of $C$ for observation $i$. -->"
      ],
      "id": "74573d1c-06ff-4e16-865d-2f3d25c125dd"
    },
    {
      "cell_type": "raw",
      "metadata": {
        "raw_mimetype": "text/html"
      },
      "source": [
        "<!-- Let $D_j$ denote the indicator (dummy) variable for factor level $L_j$ of $C$. The value of $D_j$ for observation $i$ is denoted $d_{i,j}$, with -->"
      ],
      "id": "2d7fcefd-1d72-4efc-b4de-2900282d031f"
    },
    {
      "cell_type": "raw",
      "metadata": {
        "raw_mimetype": "text/html"
      },
      "source": [
        "<!-- \\[ -->"
      ],
      "id": "fc8777fe-4574-4794-b2bd-754bbd96f393"
    },
    {
      "cell_type": "raw",
      "metadata": {
        "raw_mimetype": "text/html"
      },
      "source": [
        "<!-- d_{i,j} = I_{\\{L_j\\}}(c_i), -->"
      ],
      "id": "c6885f1a-ca79-4060-895b-8a71b61d0ad9"
    },
    {
      "cell_type": "raw",
      "metadata": {
        "raw_mimetype": "text/html"
      },
      "source": [
        "<!-- \\] -->"
      ],
      "id": "63dad3ad-5bf0-47ad-8895-31279a0dbd87"
    },
    {
      "cell_type": "raw",
      "metadata": {
        "raw_mimetype": "text/html"
      },
      "source": [
        "<!-- i.e., $d_{i,j}$ is 1 if $c_i$ has factor level $L_j$ and 0 otherwise. -->"
      ],
      "id": "b41596b4-380c-440b-a782-6128e96d1967"
    },
    {
      "cell_type": "raw",
      "metadata": {
        "raw_mimetype": "text/html"
      },
      "source": [
        "<!-- ## Parallel and separate lines models -->"
      ],
      "id": "93d69d4b-57e2-47dd-aeb9-73f82a913cd2"
    },
    {
      "cell_type": "raw",
      "metadata": {
        "raw_mimetype": "text/html"
      },
      "source": [
        "<!-- Assume we want to build a linear regression model using a single numeric regressor $X$ and a two-level categorical predictor $C$. -->"
      ],
      "id": "f3c1aa46-3997-400f-999c-eceee0996746"
    },
    {
      "cell_type": "raw",
      "metadata": {
        "raw_mimetype": "text/html"
      },
      "source": [
        "<!-- The standard simple linear regression model is -->"
      ],
      "id": "a5b852e8-2a09-4743-80ba-74bd2f7a67b5"
    },
    {
      "cell_type": "raw",
      "metadata": {
        "raw_mimetype": "text/html"
      },
      "source": [
        "<!-- \\[E(Y\\mid X)=\\beta_0 + \\beta_1 X.\\] -->"
      ],
      "id": "0f02e4a0-02dc-495b-be1d-03d2dd666417"
    },
    {
      "cell_type": "raw",
      "metadata": {
        "raw_mimetype": "text/html"
      },
      "source": [
        "<!-- To create a parallel lines regression model, we add regressor $D_2$ to the simple linear regression model. Thus, the parallel lines regression model is -->"
      ],
      "id": "7f88f4b1-536d-43db-8ca8-b1c975b15a29"
    },
    {
      "cell_type": "raw",
      "metadata": {
        "raw_mimetype": "text/html"
      },
      "source": [
        "<!-- \\[ -->"
      ],
      "id": "5597910d-ad3f-4006-9595-675c372e568f"
    },
    {
      "cell_type": "raw",
      "metadata": {
        "raw_mimetype": "text/html"
      },
      "source": [
        "<!-- E(Y\\mid X,C)=\\beta_{0}+\\beta_1 X+\\beta_2 D_2. (\\#eq:parallel-lines-model) -->"
      ],
      "id": "a1089f6d-a8f6-4b4f-9b26-3b6690686926"
    },
    {
      "cell_type": "raw",
      "metadata": {
        "raw_mimetype": "text/html"
      },
      "source": [
        "<!-- \\] -->"
      ],
      "id": "73df5654-3d97-4749-a325-34aa87386ca8"
    },
    {
      "cell_type": "raw",
      "metadata": {
        "raw_mimetype": "text/html"
      },
      "source": [
        "<!-- Since $D_2=0$ when $C=L_1$ and $D_2=1$ when $C=L_2$, we see that the model in Equation \\@ref(eq:parallel-lines-model) simplifies to -->"
      ],
      "id": "6ba92af1-0135-4f66-b073-089c85cb9758"
    },
    {
      "cell_type": "raw",
      "metadata": {
        "raw_mimetype": "text/html"
      },
      "source": [
        "<!-- \\[ -->"
      ],
      "id": "3e59a3ba-49c9-4ebf-901d-4b255fa28321"
    },
    {
      "cell_type": "raw",
      "metadata": {
        "raw_mimetype": "text/html"
      },
      "source": [
        "<!-- E(Y\\mid X, C) = -->"
      ],
      "id": "1203d51e-4257-4975-b632-d06155aa3ea3"
    },
    {
      "cell_type": "raw",
      "metadata": {
        "raw_mimetype": "text/html"
      },
      "source": [
        "<!-- \\begin{cases} -->"
      ],
      "id": "1ba333fa-30f6-4fdb-a7eb-8912a4206f2c"
    },
    {
      "cell_type": "raw",
      "metadata": {
        "raw_mimetype": "text/html"
      },
      "source": [
        "<!--   \\beta_0+\\beta_1 X & \\mathrm{if}\\;C = L_1 \\\\ -->"
      ],
      "id": "098b32ff-a46a-460b-ac77-077b27ac3e08"
    },
    {
      "cell_type": "raw",
      "metadata": {
        "raw_mimetype": "text/html"
      },
      "source": [
        "<!--   (\\beta_0 + \\beta_2) +\\beta_1 X & \\mathrm{if}\\;C = L_2 -->"
      ],
      "id": "d344273e-5943-4c62-a9ad-a66fea18ab20"
    },
    {
      "cell_type": "raw",
      "metadata": {
        "raw_mimetype": "text/html"
      },
      "source": [
        "<!-- \\end{cases}. -->"
      ],
      "id": "a20048bb-468e-4226-ada7-d65a6d8af4ca"
    },
    {
      "cell_type": "raw",
      "metadata": {
        "raw_mimetype": "text/html"
      },
      "source": [
        "<!-- \\] -->"
      ],
      "id": "b3a4c004-7f7d-4caa-adcd-683f8e54600f"
    },
    {
      "cell_type": "raw",
      "metadata": {
        "raw_mimetype": "text/html"
      },
      "source": [
        "<!-- - **Question:** What will the vertical distance between the lines be? -->"
      ],
      "id": "3b5ba3a8-4079-4ef2-941c-5b9b62084ba6"
    },
    {
      "cell_type": "raw",
      "metadata": {
        "raw_mimetype": "text/html"
      },
      "source": [
        "<!-- --- -->"
      ],
      "id": "9585ff8b-c41d-49d9-b4b7-46a1a53fb3b4"
    },
    {
      "cell_type": "raw",
      "metadata": {
        "raw_mimetype": "text/html"
      },
      "source": [
        "<!-- To create a separate lines regression model, we add regressor $D_2$ and the interaction regressor $X D_2$ to our simple linear regression model. Thus, the separate lines regression model is -->"
      ],
      "id": "f7a3c995-6944-43db-8dc5-d95e4fb9459b"
    },
    {
      "cell_type": "raw",
      "metadata": {
        "raw_mimetype": "text/html"
      },
      "source": [
        "<!-- \\[ -->"
      ],
      "id": "be18279e-ca34-41ca-8b45-a8ec3bcf130c"
    },
    {
      "cell_type": "raw",
      "metadata": {
        "raw_mimetype": "text/html"
      },
      "source": [
        "<!-- E(Y\\mid X,C)=\\beta_0+\\beta_1 X+\\beta_2 D_2 + \\beta_{3} XD_2, -->"
      ],
      "id": "e1e5b66a-d182-4dd5-a511-471ef63cdae9"
    },
    {
      "cell_type": "raw",
      "metadata": {
        "raw_mimetype": "text/html"
      },
      "source": [
        "<!-- \\] -->"
      ],
      "id": "b055b845-ae2f-4f8a-ace9-61aeaaaddc99"
    },
    {
      "cell_type": "raw",
      "metadata": {
        "raw_mimetype": "text/html"
      },
      "source": [
        "<!-- which, similar to the previous model, simplifies to -->"
      ],
      "id": "9e9656b5-757e-411f-aa1d-dcf0f4cab8fc"
    },
    {
      "cell_type": "raw",
      "metadata": {
        "raw_mimetype": "text/html"
      },
      "source": [
        "<!-- \\[ -->"
      ],
      "id": "45296186-1b4f-4b7d-94f3-da96bff5cfb2"
    },
    {
      "cell_type": "raw",
      "metadata": {
        "raw_mimetype": "text/html"
      },
      "source": [
        "<!-- E(Y\\mid X, C) = -->"
      ],
      "id": "3d498c32-96a5-4cd3-b3ba-2837115aea7b"
    },
    {
      "cell_type": "raw",
      "metadata": {
        "raw_mimetype": "text/html"
      },
      "source": [
        "<!-- \\begin{cases} -->"
      ],
      "id": "cf70978e-5cad-4ffd-9bb0-090e10d3aad6"
    },
    {
      "cell_type": "raw",
      "metadata": {
        "raw_mimetype": "text/html"
      },
      "source": [
        "<!--   \\beta_{0}+\\beta_1 X & \\mathrm{if}\\;C = L_1 \\\\ -->"
      ],
      "id": "be2abcd8-ccfe-433e-878d-f1db42104042"
    },
    {
      "cell_type": "raw",
      "metadata": {
        "raw_mimetype": "text/html"
      },
      "source": [
        "<!--   (\\beta_{0} + \\beta_{2}) +(\\beta_1 + \\beta_{3}) X & \\mathrm{if}\\;C = L_2 -->"
      ],
      "id": "6d9d8752-b588-4560-8b6f-785e5f2b32d9"
    },
    {
      "cell_type": "raw",
      "metadata": {
        "raw_mimetype": "text/html"
      },
      "source": [
        "<!-- \\end{cases}. -->"
      ],
      "id": "5164afe2-80a7-4db2-ba2d-3cfbdf863ef6"
    },
    {
      "cell_type": "raw",
      "metadata": {
        "raw_mimetype": "text/html"
      },
      "source": [
        "<!-- \\] -->"
      ],
      "id": "6d152fd2-44bc-4306-90eb-2b8c5840c4bb"
    },
    {
      "cell_type": "raw",
      "metadata": {
        "raw_mimetype": "text/html"
      },
      "source": [
        "<!-- ## Extensions -->"
      ],
      "id": "9411b97a-247b-4021-b8fc-a8ad3ce8d0e3"
    },
    {
      "cell_type": "raw",
      "metadata": {
        "raw_mimetype": "text/html"
      },
      "source": [
        "<!-- We have presented the most basic regression models that include a categorical predictor. If you had a categorical predictor $C$ with $K$ levels $L_1, L_2, \\ldots, L_K$, then you could add indicator variables $D_2, D_3, \\ldots, L_K$ to a simple linear regression model to create a parallel lines model for each level of $C$. Similarly, you could add regressors $D_2, D_3, \\ldots, D_K, X D_2, X D_3, \\ldots, X D_K$ to a simple linear regression model to create a separate lines model for each level of $C$. -->"
      ],
      "id": "0930641d-8d6f-4462-8169-a3b5d600ae44"
    },
    {
      "cell_type": "raw",
      "metadata": {
        "raw_mimetype": "text/html"
      },
      "source": [
        "<!-- It is easy to imagine using multiple categorical predictors in a model, interacting one or more categorical predictors with one or more numeric regressors in model, etc. These models can be fit easily using R (as we'll see below), though interpretation becomes more challenging. -->"
      ],
      "id": "e318977d-c2d3-474e-82ae-b6747453706f"
    },
    {
      "cell_type": "raw",
      "metadata": {
        "raw_mimetype": "text/html"
      },
      "source": [
        "<!-- ## Avoiding an easy mistake -->"
      ],
      "id": "27d89189-1ed5-4ee4-89ca-8884ac103805"
    },
    {
      "cell_type": "raw",
      "metadata": {
        "raw_mimetype": "text/html"
      },
      "source": [
        "<!-- Why didn't we add $D_1$ to the parallel lines model? Or $D_1$ and $D_1 X$ to the separate lines model? First, we notice that we don't *need* to add them. E.g., if an observation doesn't havel level $L_2$ ($D_2=0$), then it must have level $L_1$. More importantly, we didn't do this because it will create linear dependencies in the columns of the regressor matrix $\\mathbf{X}$. -->"
      ],
      "id": "b79d8b33-7ecb-4d2d-9ef0-e9ea3b9bea5e"
    },
    {
      "cell_type": "raw",
      "metadata": {
        "raw_mimetype": "text/html"
      },
      "source": [
        "<!-- Let $\\mathbf{d}_1=[d_{1,1}, d_{2,1}, \\ldots, d_{n,1}]$ be the column vector of observed values for indicator variable $D_1$ and $\\mathbf{d}_2$ be the column vector for $D_2$. Then for a two-level categorical variable, $\\mathbf{d}_1 + \\mathbf{d}_2$ is an $n\\times 1$ vector of 1s, meaning that $D_1$ and $D_2$ will be linearly dependent with the intercept column of our $\\mathbf{X}$ matrix. Thus, adding $D_1$ to the parallel lines model would result in $\\mathbf{X}$ having linearly dependent columns, which creates estimation problems. -->"
      ],
      "id": "43649521-6b86-4723-be03-dfab81562d71"
    },
    {
      "cell_type": "raw",
      "metadata": {
        "raw_mimetype": "text/html"
      },
      "source": [
        "<!-- For a categorical predictor with $K$ levels, we only need indicator variables for $K-1$ levels of the categorical predictor. The level without an indicator variable in the regression model is known as the **reference level**, which is explained in Chapter  \\@ref(interp-chapter). Technically, you can choose any level to be your reference level, but R automatically chooses the first level of a categorical (`factor`) variable to be the reference level, so we adopt that convention. -->"
      ],
      "id": "3a024235-4a4b-4b94-abc6-a75f1c566f6f"
    },
    {
      "cell_type": "raw",
      "metadata": {
        "raw_mimetype": "text/html"
      },
      "source": [
        "<!-- # Penguins example with categorical predictor -->"
      ],
      "id": "39176a37-7b5c-4f4a-b147-73be3d5150cc"
    },
    {
      "cell_type": "raw",
      "metadata": {
        "raw_mimetype": "text/html"
      },
      "source": [
        "<!-- We return once again to the `penguins` data previously introduced. We use the code below to produce Figure \\@ref(fig:penguins-grouped-scatter), which displays the grouped scatter plot of `bill_length_mm` versus `body_mass_g` that distinguishes the `species` of each observation. -->"
      ],
      "id": "f111cdce-1555-4cba-a0c9-309b274b6a2f"
    },
    {
      "cell_type": "raw",
      "metadata": {
        "raw_mimetype": "text/html"
      },
      "source": [
        "<!-- ```{r penguins-grouped-scatter, fig.cap=\"A grouped scatter plot of body mass versus bill length that distinguishes penguin species.\", warning = FALSE} -->"
      ],
      "id": "a5b4de97-d9db-45df-b937-a276ba607481"
    },
    {
      "cell_type": "raw",
      "metadata": {
        "raw_mimetype": "text/html"
      },
      "source": [
        "<!-- library(ggplot2) # load package -->"
      ],
      "id": "e064ef36-63ea-4797-98ce-dc1cbf2b2a45"
    },
    {
      "cell_type": "raw",
      "metadata": {
        "raw_mimetype": "text/html"
      },
      "source": [
        "<!-- # create grouped scatterplot -->"
      ],
      "id": "d8eb32da-a42f-40f1-ab07-d350c4518eeb"
    },
    {
      "cell_type": "raw",
      "metadata": {
        "raw_mimetype": "text/html"
      },
      "source": [
        "<!-- ggplot(data = penguins) + -->"
      ],
      "id": "4681b41f-d6e2-4f83-acd5-d35a103e41de"
    },
    {
      "cell_type": "raw",
      "metadata": {
        "raw_mimetype": "text/html"
      },
      "source": [
        "<!--   geom_point(aes(x = body_mass_g, y = bill_length_mm, shape = species, color = species)) + -->"
      ],
      "id": "5d464bc3-d983-4ba3-bc38-12c7374b8930"
    },
    {
      "cell_type": "raw",
      "metadata": {
        "raw_mimetype": "text/html"
      },
      "source": [
        "<!--   xlab(\"body mass (g)\") + ylab(\"bill length (mm)\") -->"
      ],
      "id": "dd3e7a3b-011e-4224-99d7-2c27855f3c34"
    },
    {
      "cell_type": "raw",
      "metadata": {
        "raw_mimetype": "text/html"
      },
      "source": [
        "<!-- ``` -->"
      ],
      "id": "515c19ab-718c-4abe-b11d-c69a566aed87"
    },
    {
      "cell_type": "raw",
      "metadata": {
        "raw_mimetype": "text/html"
      },
      "source": [
        "<!-- - **Question:** Does the relationship between bill length and body mass change depending on the species of penguin? -->"
      ],
      "id": "9c1438f2-5924-4e46-9874-2f0ff095d291"
    },
    {
      "cell_type": "raw",
      "metadata": {
        "raw_mimetype": "text/html"
      },
      "source": [
        "<!-- --- -->"
      ],
      "id": "03abbe1c-f23f-4114-80f2-3de1c24f951d"
    },
    {
      "cell_type": "raw",
      "metadata": {
        "raw_mimetype": "text/html"
      },
      "source": [
        "<!-- How do you use a categorical variable in R's `lm` function? Recall that we should represent our categorical variables as a `factor` in R. The `lm` function will automatically convert a `factor` variable to the correct number of indicator variables when you include the `factor` variable in your `formula` argument. R will automatically choose the reference level to be the first level of the `factor` variable. To add a main effect term for a categorical predictor, we simply add the term to our `lm` formula. To create an interaction term, we use `:` between the interacting variables. E.g., if `c` is a `factor` variable and `x` is a `numeric` variable, you can use the notation `c:x` in your `formula` to get all the interactions between `c` and `x`. -->"
      ],
      "id": "9ea6fa0e-666c-4ca9-8275-6240bb267212"
    },
    {
      "cell_type": "raw",
      "metadata": {
        "raw_mimetype": "text/html"
      },
      "source": [
        "<!-- In our present context, the categorical predictor of interest is `species`, which has the levels `Adelie`, `Chinstrap`, and `Gentoo`. The `species` variable is already a `factor`. Since the variable has 3 levels, it will be transformed into 2 indicator variables by R. The first level of species is `Adelie`, so R will treat that level as the reference level, and automatically create indicator variables for the levels `Chinstrap` and `Gentoo`. (Reminder: to determine the level order of a `factor` variable `c`, run the commend `levels(c)`, or in this case `levels(penguins$species)`.) -->"
      ],
      "id": "636f3882-f43d-458d-8bf1-0bd144c27d0b"
    },
    {
      "cell_type": "raw",
      "metadata": {
        "raw_mimetype": "text/html"
      },
      "source": [
        "<!-- Let $D_C$ denote the indicator variable for the `Chinstrap` level and $D_G$ denote the indicator variable for the `Gentoo` level. To fit the parallel lines regression model -->"
      ],
      "id": "ab922d94-4868-41bb-8cf5-27e176ac35bc"
    },
    {
      "cell_type": "raw",
      "metadata": {
        "raw_mimetype": "text/html"
      },
      "source": [
        "<!-- \\[E(\\mathtt{bill\\_length\\_mm} \\mid \\mathtt{body\\_mass\\_g}, \\mathtt{species}) = \\beta_{0} + \\beta_1 \\mathtt{body\\_mass\\_g} + \\beta_2 D_C + \\beta_3 D_G,\\] -->"
      ],
      "id": "2194b952-627d-48e1-858a-841270f05071"
    },
    {
      "cell_type": "raw",
      "metadata": {
        "raw_mimetype": "text/html"
      },
      "source": [
        "<!-- we run the code below. The `coef` function is used to extract the estimated coefficients from our fitted model in `lmodp`. -->"
      ],
      "id": "24546c1a-a3a6-496a-b5f7-ac3767db231c"
    },
    {
      "cell_type": "raw",
      "metadata": {
        "raw_mimetype": "text/html"
      },
      "source": [
        "<!-- --- -->"
      ],
      "id": "5710e235-5364-4762-a64d-001d567f53cf"
    },
    {
      "cell_type": "raw",
      "metadata": {
        "raw_mimetype": "text/html"
      },
      "source": [
        "<!-- ```{r} -->"
      ],
      "id": "affeef7f-6a58-4962-aeec-9a940ea2a06f"
    },
    {
      "cell_type": "raw",
      "metadata": {
        "raw_mimetype": "text/html"
      },
      "source": [
        "<!-- # fit parallel lines model -->"
      ],
      "id": "65b2e61d-d82d-4d69-b51b-7adeb5f74239"
    },
    {
      "cell_type": "raw",
      "metadata": {
        "raw_mimetype": "text/html"
      },
      "source": [
        "<!-- lmodp <- lm(bill_length_mm ~ body_mass_g + species, data = penguins) -->"
      ],
      "id": "87d5e006-0d1b-410f-aee3-a6d819a30a6a"
    },
    {
      "cell_type": "raw",
      "metadata": {
        "raw_mimetype": "text/html"
      },
      "source": [
        "<!-- # extract coefficients -->"
      ],
      "id": "73ca4c69-9bdc-4cba-873a-401287ac9df7"
    },
    {
      "cell_type": "raw",
      "metadata": {
        "raw_mimetype": "text/html"
      },
      "source": [
        "<!-- coef(lmodp) -->"
      ],
      "id": "00bd764f-7d44-4a33-b303-2f14360b666b"
    },
    {
      "cell_type": "raw",
      "metadata": {
        "raw_mimetype": "text/html"
      },
      "source": [
        "<!-- ``` -->"
      ],
      "id": "618404af-71bf-4a1d-8f28-8c974b910989"
    },
    {
      "cell_type": "raw",
      "metadata": {
        "raw_mimetype": "text/html"
      },
      "source": [
        "<!-- Thus, the fitted parallel lines model is -->"
      ],
      "id": "3018abb8-edc4-463a-aeaf-44a586c971a4"
    },
    {
      "cell_type": "raw",
      "metadata": {
        "raw_mimetype": "text/html"
      },
      "source": [
        "<!-- \\[ -->"
      ],
      "id": "3b3164f7-e9bf-4b1b-9d72-34fc2287e06a"
    },
    {
      "cell_type": "raw",
      "metadata": {
        "raw_mimetype": "text/html"
      },
      "source": [
        "<!-- \\begin{aligned} -->"
      ],
      "id": "dd6bd5ec-ac29-4576-8839-96a01b5c24f4"
    },
    {
      "cell_type": "raw",
      "metadata": {
        "raw_mimetype": "text/html"
      },
      "source": [
        "<!-- &\\hat{E}(\\mathtt{bill\\_length\\_mm} \\mid \\mathtt{body\\_mass\\_g}, \\mathtt{species}) \\\\ -->"
      ],
      "id": "566f1e89-89cf-48d1-b394-c220cec1555e"
    },
    {
      "cell_type": "raw",
      "metadata": {
        "raw_mimetype": "text/html"
      },
      "source": [
        "<!-- &= 24.92 + 0.004 \\mathtt{body\\_mass\\_g} + 9.92 D_C + 3.56 D_G. -->"
      ],
      "id": "8f64ebad-d6da-4230-91a3-f4c720698695"
    },
    {
      "cell_type": "raw",
      "metadata": {
        "raw_mimetype": "text/html"
      },
      "source": [
        "<!-- \\end{aligned} -->"
      ],
      "id": "95dae4a9-a934-4e24-bd5d-bbd16ae07bf8"
    },
    {
      "cell_type": "raw",
      "metadata": {
        "raw_mimetype": "text/html"
      },
      "source": [
        "<!-- (\\#eq:pl-model-penguins) -->"
      ],
      "id": "2baa3505-d85d-4621-9f82-ac1125edee75"
    },
    {
      "cell_type": "raw",
      "metadata": {
        "raw_mimetype": "text/html"
      },
      "source": [
        "<!-- \\] -->"
      ],
      "id": "e1b7c05d-8c26-4220-b130-d381775ca683"
    },
    {
      "cell_type": "raw",
      "metadata": {
        "raw_mimetype": "text/html"
      },
      "source": [
        "<!-- Note that `speciesChinstrap` and `speciesGentoo` are the indicator variables related to the `Chinstrap` and `Gentoo` levels of `species`, respectively, i.e., they represent $D_C$ and $D_G$. When an observation has `species` level `Adelie`, then Equation \\@ref(eq:pl-model-penguins) simplifies to -->"
      ],
      "id": "a4b7bcc8-d579-4279-a843-63e72cf97d6d"
    },
    {
      "cell_type": "raw",
      "metadata": {
        "raw_mimetype": "text/html"
      },
      "source": [
        "<!-- \\[ -->"
      ],
      "id": "72babc2e-69af-4718-9acb-5a782358cfd3"
    },
    {
      "cell_type": "raw",
      "metadata": {
        "raw_mimetype": "text/html"
      },
      "source": [
        "<!-- \\begin{aligned} -->"
      ],
      "id": "d3f0011f-804d-4a30-ae7f-8c6393f48c98"
    },
    {
      "cell_type": "raw",
      "metadata": {
        "raw_mimetype": "text/html"
      },
      "source": [
        "<!-- &\\hat{E}(\\mathtt{bill\\_length\\_mm} \\mid \\mathtt{body\\_mass\\_g}, \\mathtt{species}=\\mathtt{Adelie}) \\\\ -->"
      ],
      "id": "22854daa-c80d-48bc-8bfa-32ba2ba82979"
    },
    {
      "cell_type": "raw",
      "metadata": {
        "raw_mimetype": "text/html"
      },
      "source": [
        "<!-- &=24.92 + 0.004 \\mathtt{body\\_mass\\_g} + 9.92 \\cdot 0 + 3.56 \\cdot 0 \\\\ -->"
      ],
      "id": "8ecca1cc-fa1d-49ad-98fc-77307262747e"
    },
    {
      "cell_type": "raw",
      "metadata": {
        "raw_mimetype": "text/html"
      },
      "source": [
        "<!-- &= 24.92 + 0.004 \\mathtt{body\\_mass\\_g}. -->"
      ],
      "id": "b920ef5c-6750-4cd9-833a-5bda866fed8b"
    },
    {
      "cell_type": "raw",
      "metadata": {
        "raw_mimetype": "text/html"
      },
      "source": [
        "<!-- \\end{aligned} -->"
      ],
      "id": "9a947100-fbe1-4937-b84f-2122369bc257"
    },
    {
      "cell_type": "raw",
      "metadata": {
        "raw_mimetype": "text/html"
      },
      "source": [
        "<!-- \\] -->"
      ],
      "id": "3afb1cbe-06c1-45c8-9835-186f446f197a"
    },
    {
      "cell_type": "raw",
      "metadata": {
        "raw_mimetype": "text/html"
      },
      "source": [
        "<!-- --- -->"
      ],
      "id": "306c5ea0-65fd-4ccb-83cc-8e8d3eda00ae"
    },
    {
      "cell_type": "raw",
      "metadata": {
        "raw_mimetype": "text/html"
      },
      "source": [
        "<!-- When an observation has `species` level `Chinstrap`, then Equation \\@ref(eq:pl-model-penguins) simplifies to -->"
      ],
      "id": "1fda21cc-203b-4007-a685-f005c57d3a6d"
    },
    {
      "cell_type": "raw",
      "metadata": {
        "raw_mimetype": "text/html"
      },
      "source": [
        "<!-- \\[ -->"
      ],
      "id": "d5b9fef8-2b23-47b8-9538-9bb19d37a0e0"
    },
    {
      "cell_type": "raw",
      "metadata": {
        "raw_mimetype": "text/html"
      },
      "source": [
        "<!-- \\begin{aligned} -->"
      ],
      "id": "3661402f-a28c-4984-be1b-30e90cffbfca"
    },
    {
      "cell_type": "raw",
      "metadata": {
        "raw_mimetype": "text/html"
      },
      "source": [
        "<!-- &\\hat{E}(\\mathtt{bill\\_length\\_mm} \\mid \\mathtt{body\\_mass\\_g}, \\mathtt{species}=\\mathtt{Chinstrap}) \\\\ -->"
      ],
      "id": "fe235681-47d0-49c8-9e13-f1d6eedf71df"
    },
    {
      "cell_type": "raw",
      "metadata": {
        "raw_mimetype": "text/html"
      },
      "source": [
        "<!-- &=24.92 + 0.004 \\mathtt{body\\_mass\\_g} + 9.92 \\cdot 1 + 3.56 \\cdot 0 \\\\ -->"
      ],
      "id": "3b23d3fe-5e4e-40dc-a879-8451cde9ba61"
    },
    {
      "cell_type": "raw",
      "metadata": {
        "raw_mimetype": "text/html"
      },
      "source": [
        "<!-- &= 34.84 + 0.004 \\mathtt{body\\_mass\\_g}. -->"
      ],
      "id": "24b09c59-394d-4cf1-8d03-538fd89f8d9d"
    },
    {
      "cell_type": "raw",
      "metadata": {
        "raw_mimetype": "text/html"
      },
      "source": [
        "<!-- \\end{aligned} -->"
      ],
      "id": "bd8baf22-707e-4ef3-99f2-c87fb4ea0f7b"
    },
    {
      "cell_type": "raw",
      "metadata": {
        "raw_mimetype": "text/html"
      },
      "source": [
        "<!-- \\] -->"
      ],
      "id": "cc7f841d-7484-4a92-aaed-2e8524a83027"
    },
    {
      "cell_type": "raw",
      "metadata": {
        "raw_mimetype": "text/html"
      },
      "source": [
        "<!-- Lastly, when an observation has `species` level `Gentoo`, then Equation \\@ref(eq:pl-model-penguins) simplifies to -->"
      ],
      "id": "cebfd402-4b75-4e3a-8570-3e8805309640"
    },
    {
      "cell_type": "raw",
      "metadata": {
        "raw_mimetype": "text/html"
      },
      "source": [
        "<!-- \\[ -->"
      ],
      "id": "595f49ce-26c7-4f3b-bb43-1c2ff7767b08"
    },
    {
      "cell_type": "raw",
      "metadata": {
        "raw_mimetype": "text/html"
      },
      "source": [
        "<!-- \\begin{aligned} -->"
      ],
      "id": "51a183c2-fee4-47d2-baf2-347751793c00"
    },
    {
      "cell_type": "raw",
      "metadata": {
        "raw_mimetype": "text/html"
      },
      "source": [
        "<!-- &\\hat{E}(\\mathtt{bill\\_length\\_mm} \\mid \\mathtt{body\\_mass\\_g}, \\mathtt{species}=\\mathtt{Gentoo}) \\\\ -->"
      ],
      "id": "33e5f0fe-84f4-40b1-aae0-5dc871d37b25"
    },
    {
      "cell_type": "raw",
      "metadata": {
        "raw_mimetype": "text/html"
      },
      "source": [
        "<!-- &=24.92 + 0.004 \\mathtt{body\\_mass\\_g} + 9.92 \\cdot 0 + 3.56 \\cdot 1 \\\\ -->"
      ],
      "id": "f0ab2f4e-6928-4c94-a5c9-2f8a6ad60301"
    },
    {
      "cell_type": "raw",
      "metadata": {
        "raw_mimetype": "text/html"
      },
      "source": [
        "<!-- &= 28.48 + 0.004 \\mathtt{body\\_mass\\_g}. -->"
      ],
      "id": "6660f6b3-66e3-4bbb-92b1-4c9fb27ade21"
    },
    {
      "cell_type": "raw",
      "metadata": {
        "raw_mimetype": "text/html"
      },
      "source": [
        "<!-- \\end{aligned} -->"
      ],
      "id": "0c3e8c59-9514-480f-afa5-506cebe1d0a2"
    },
    {
      "cell_type": "raw",
      "metadata": {
        "raw_mimetype": "text/html"
      },
      "source": [
        "<!-- \\] -->"
      ],
      "id": "ca19e16d-0d41-45eb-bb56-0b6be9dfe3dd"
    },
    {
      "cell_type": "raw",
      "metadata": {
        "raw_mimetype": "text/html"
      },
      "source": [
        "<!-- --- -->"
      ],
      "id": "26c8b661-00aa-4660-9db8-7164b799311e"
    },
    {
      "cell_type": "raw",
      "metadata": {
        "raw_mimetype": "text/html"
      },
      "source": [
        "<!-- Adding fitted lines for each `species` level to the scatter plot in Figure \\@ref(fig:penguins-grouped-scatter) is a bit more difficult than before. One technique is to use `predict` to get the fitted values of each observation, use the `transform` function to add those values as a column to the original the data frame, then use `geom_line` to connect the fitted values from each group. -->"
      ],
      "id": "fdb11949-ce6d-4e6c-bb0a-d8b721ce0702"
    },
    {
      "cell_type": "raw",
      "metadata": {
        "raw_mimetype": "text/html"
      },
      "source": [
        "<!-- We start by adding our fitted values to the `penguins` data frame. We use the `predict` function to obtained the fitted values of our fitted model and then use the `transform` function to add those values as the `pl_fitted` variable in the `penguins` data frame. -->"
      ],
      "id": "132cefdf-9391-4655-b8fb-54b431ca0929"
    },
    {
      "cell_type": "raw",
      "metadata": {
        "raw_mimetype": "text/html"
      },
      "source": [
        "<!-- ```{r, error=TRUE} -->"
      ],
      "id": "d3471557-9c0b-441e-828b-dca3a630f4dd"
    },
    {
      "cell_type": "raw",
      "metadata": {
        "raw_mimetype": "text/html"
      },
      "source": [
        "<!-- penguins <- -->"
      ],
      "id": "5df17229-49f6-405a-bbf3-98e13e677f38"
    },
    {
      "cell_type": "raw",
      "metadata": {
        "raw_mimetype": "text/html"
      },
      "source": [
        "<!--   penguins |> -->"
      ],
      "id": "caeee07f-6a5d-4dda-bbbb-3fbc44f61380"
    },
    {
      "cell_type": "raw",
      "metadata": {
        "raw_mimetype": "text/html"
      },
      "source": [
        "<!--   transform(pl_fitted = predict(lmodp)) -->"
      ],
      "id": "0da2e7f1-b53e-48e5-8340-e30929535c05"
    },
    {
      "cell_type": "raw",
      "metadata": {
        "raw_mimetype": "text/html"
      },
      "source": [
        "<!-- ``` -->"
      ],
      "id": "bb7c7a3d-7f22-4ae0-b03d-cfcb101a57b0"
    },
    {
      "cell_type": "raw",
      "metadata": {
        "raw_mimetype": "text/html"
      },
      "source": [
        "<!-- - **Question:** Why are we getting this error? -->"
      ],
      "id": "f4c995bc-c7f5-4636-b4d9-1d34d4eb7053"
    },
    {
      "cell_type": "raw",
      "metadata": {
        "raw_mimetype": "text/html"
      },
      "source": [
        "<!-- --- -->"
      ],
      "id": "0cb61f29-768a-4e5b-8aaa-03d764ece857"
    },
    {
      "cell_type": "raw",
      "metadata": {
        "raw_mimetype": "text/html"
      },
      "source": [
        "<!-- To handle this error, we refit our model while setting the `na.action` argument to `na.exclude`. As stated Details section of the documentation for the `lm` function (run `?lm` in the Console): -->"
      ],
      "id": "1f46055b-ff68-4099-8c65-f8dd5048d0e4"
    },
    {
      "cell_type": "raw",
      "metadata": {
        "raw_mimetype": "text/html"
      },
      "source": [
        "<!-- > $\\ldots$ when `na.exclude` is used the residuals and predictions are padded to the correct length by inserting `NA`s for cases omitted by `na.exclude`. -->"
      ],
      "id": "45214466-f0e0-498a-835d-5319d0798e8d"
    },
    {
      "cell_type": "raw",
      "metadata": {
        "raw_mimetype": "text/html"
      },
      "source": [
        "<!-- We refit the parallel lines model below with `na.action = na.exclude`, then use the `predict` function to add the fitted values to the `penguins` data frame via the `transform` function. -->"
      ],
      "id": "76ee5d27-ee6b-4e89-8f34-80688a6806b5"
    },
    {
      "cell_type": "raw",
      "metadata": {
        "raw_mimetype": "text/html"
      },
      "source": [
        "<!-- ```{r} -->"
      ],
      "id": "68ca233e-fdaa-4f73-8001-065ce6455d17"
    },
    {
      "cell_type": "raw",
      "metadata": {
        "raw_mimetype": "text/html"
      },
      "source": [
        "<!-- # refit parallel lines model with new na.action behavior -->"
      ],
      "id": "65c454a4-7df2-47e3-8d7b-78d3a640790f"
    },
    {
      "cell_type": "raw",
      "metadata": {
        "raw_mimetype": "text/html"
      },
      "source": [
        "<!-- lmodp <- lm(bill_length_mm ~ body_mass_g + species, data = penguins, na.action = na.exclude) -->"
      ],
      "id": "83acd9a6-d858-45bf-a9de-f962971fd2d5"
    },
    {
      "cell_type": "raw",
      "metadata": {
        "raw_mimetype": "text/html"
      },
      "source": [
        "<!-- # add fitted values to penguins data frame -->"
      ],
      "id": "93cc280c-072e-43c1-b1b5-8a647df8218d"
    },
    {
      "cell_type": "raw",
      "metadata": {
        "raw_mimetype": "text/html"
      },
      "source": [
        "<!-- penguins <- -->"
      ],
      "id": "26d26b1d-f950-4575-ab42-3671aecca4cd"
    },
    {
      "cell_type": "raw",
      "metadata": {
        "raw_mimetype": "text/html"
      },
      "source": [
        "<!--   penguins |> -->"
      ],
      "id": "3ee77656-383b-4dbe-9012-379c9932c3b1"
    },
    {
      "cell_type": "raw",
      "metadata": {
        "raw_mimetype": "text/html"
      },
      "source": [
        "<!--   transform(pl_fitted = predict(lmodp)) -->"
      ],
      "id": "3a382fde-f2d8-4382-8d73-413a8bd8425b"
    },
    {
      "cell_type": "raw",
      "metadata": {
        "raw_mimetype": "text/html"
      },
      "source": [
        "<!-- ``` -->"
      ],
      "id": "26d4601e-09ec-4d25-b39b-c8fa68be731a"
    },
    {
      "cell_type": "raw",
      "metadata": {
        "raw_mimetype": "text/html"
      },
      "source": [
        "<!-- --- -->"
      ],
      "id": "f0e581f5-2f58-42a1-ba61-20ecc877a4b3"
    },
    {
      "cell_type": "raw",
      "metadata": {
        "raw_mimetype": "text/html"
      },
      "source": [
        "<!-- We now use the `geom_line` function to add the fitted lines for each `species` level to our scatter plot. Figure \\@ref(fig:pl-penguin-fit) displays the results from running the code below. The parallel lines model shown in Figure \\@ref(fig:pl-penguin-fit) fits the `penguins` data better than the simple linear regression model shown in Figure \\@ref(fig:slr-penguin-fit). -->"
      ],
      "id": "57b1aa0e-b6d5-48c4-8b16-ad00ca4d95e6"
    },
    {
      "cell_type": "raw",
      "metadata": {
        "raw_mimetype": "text/html"
      },
      "source": [
        "<!-- ```{r pl-penguin-fit, fig.cap=\"The fitted lines from the separate lines model for each level of `species` is added to the grouped scatter plot of `bill_length_mm` versus `body_mass_g`.\", warning = FALSE} -->"
      ],
      "id": "6b9869a8-2b23-43c1-8648-7137100ff9e8"
    },
    {
      "cell_type": "raw",
      "metadata": {
        "raw_mimetype": "text/html"
      },
      "source": [
        "<!-- # create plot -->"
      ],
      "id": "42fb08b1-61cd-43ee-9f69-daea690f4a43"
    },
    {
      "cell_type": "raw",
      "metadata": {
        "raw_mimetype": "text/html"
      },
      "source": [
        "<!-- # create scatterplot -->"
      ],
      "id": "b2f30391-495f-44aa-89d1-31375ba44002"
    },
    {
      "cell_type": "raw",
      "metadata": {
        "raw_mimetype": "text/html"
      },
      "source": [
        "<!-- # customize labels -->"
      ],
      "id": "e0643fa3-f0b6-464d-8766-8e46d3847c9f"
    },
    {
      "cell_type": "raw",
      "metadata": {
        "raw_mimetype": "text/html"
      },
      "source": [
        "<!-- # add lines for each level of species -->"
      ],
      "id": "12de490d-296b-404f-82be-1d3a11afdcaa"
    },
    {
      "cell_type": "raw",
      "metadata": {
        "raw_mimetype": "text/html"
      },
      "source": [
        "<!-- ggplot(data = penguins) + -->"
      ],
      "id": "af3f6371-7fdd-433f-b45b-7176c44d2204"
    },
    {
      "cell_type": "raw",
      "metadata": {
        "raw_mimetype": "text/html"
      },
      "source": [
        "<!--   geom_point(aes(x = body_mass_g, y = bill_length_mm, -->"
      ],
      "id": "4a5c23e8-a481-40ec-8c6b-9c46c168eee2"
    },
    {
      "cell_type": "raw",
      "metadata": {
        "raw_mimetype": "text/html"
      },
      "source": [
        "<!--                  shape = species, color = species)) + -->"
      ],
      "id": "1fea2efb-28cd-4560-8fe8-54570d0c1f53"
    },
    {
      "cell_type": "raw",
      "metadata": {
        "raw_mimetype": "text/html"
      },
      "source": [
        "<!--   xlab(\"body mass (g)\") + ylab(\"bill length (mm)\") + -->"
      ],
      "id": "d568620b-8084-499b-8dda-444b3dd4e36b"
    },
    {
      "cell_type": "raw",
      "metadata": {
        "raw_mimetype": "text/html"
      },
      "source": [
        "<!--   geom_line(aes(x = body_mass_g, y = pl_fitted, color = species)) -->"
      ],
      "id": "8f902729-622f-464a-87ab-4295ef7ba5f8"
    },
    {
      "cell_type": "raw",
      "metadata": {
        "raw_mimetype": "text/html"
      },
      "source": [
        "<!-- ``` -->"
      ],
      "id": "3a04ab06-2e3c-4df0-888b-d44fae9697e0"
    },
    {
      "cell_type": "raw",
      "metadata": {
        "raw_mimetype": "text/html"
      },
      "source": [
        "<!-- --- -->"
      ],
      "id": "26b971a2-557c-4554-925f-339105c27a47"
    },
    {
      "cell_type": "raw",
      "metadata": {
        "raw_mimetype": "text/html"
      },
      "source": [
        "<!-- We now fit a separate lines regression model to the `penguins` data. Specifically, we fit the model -->"
      ],
      "id": "1354fd18-6a82-4a89-83b8-aedecce37bac"
    },
    {
      "cell_type": "raw",
      "metadata": {
        "raw_mimetype": "text/html"
      },
      "source": [
        "<!-- \\[ -->"
      ],
      "id": "4e094662-8cb0-4a2e-b220-31880c2524b6"
    },
    {
      "cell_type": "raw",
      "metadata": {
        "raw_mimetype": "text/html"
      },
      "source": [
        "<!-- \\begin{aligned} -->"
      ],
      "id": "fdda33cd-253e-4659-a106-dcb9535bfb7e"
    },
    {
      "cell_type": "raw",
      "metadata": {
        "raw_mimetype": "text/html"
      },
      "source": [
        "<!-- &E(\\mathtt{bill\\_length\\_mm} \\mid \\mathtt{body\\_mass\\_g}, \\mathtt{species}) \\\\ -->"
      ],
      "id": "945a78ee-85b8-414a-9202-b4e474b0181f"
    },
    {
      "cell_type": "raw",
      "metadata": {
        "raw_mimetype": "text/html"
      },
      "source": [
        "<!-- &= \\beta_{0} + \\beta_1 \\mathtt{body\\_mass\\_g} + \\beta_2 D_C + \\beta_3 D_G + \\beta_4 \\mathtt{body\\_mass\\_g} D_C + \\beta_5 \\mathtt{body\\_mass\\_g} D_G , -->"
      ],
      "id": "e644673d-4765-465e-8774-ab3118290f2f"
    },
    {
      "cell_type": "raw",
      "metadata": {
        "raw_mimetype": "text/html"
      },
      "source": [
        "<!-- \\end{aligned} -->"
      ],
      "id": "295a205e-aab3-4146-8091-94cc2a0d4306"
    },
    {
      "cell_type": "raw",
      "metadata": {
        "raw_mimetype": "text/html"
      },
      "source": [
        "<!-- \\] -->"
      ],
      "id": "13eae0a8-25ae-45be-b105-eaee11dee458"
    },
    {
      "cell_type": "raw",
      "metadata": {
        "raw_mimetype": "text/html"
      },
      "source": [
        "<!-- using the code below, using the `coef` function to extract the estimated coefficients. The terms with `:` are interaction variables, e.g., `body_mass_g:speciesChinstrap` is $\\hat{\\beta}_4$, the coefficient for the interaction between regressor $\\mathtt{body\\_mass\\_g} D_C$. -->"
      ],
      "id": "13aa95af-32ec-4528-92f3-0112d3f8b728"
    },
    {
      "cell_type": "raw",
      "metadata": {
        "raw_mimetype": "text/html"
      },
      "source": [
        "<!-- ```{r} -->"
      ],
      "id": "2b751e64-cb62-4fe2-b67f-4625f642b99b"
    },
    {
      "cell_type": "raw",
      "metadata": {
        "raw_mimetype": "text/html"
      },
      "source": [
        "<!-- # fit separate lines model -->"
      ],
      "id": "64e35998-d073-4cec-8ea0-061179c1ca46"
    },
    {
      "cell_type": "raw",
      "metadata": {
        "raw_mimetype": "text/html"
      },
      "source": [
        "<!-- # na.omit = na.exclude used to change predict behavior -->"
      ],
      "id": "567d7840-3886-46bf-b183-9c340b61918e"
    },
    {
      "cell_type": "raw",
      "metadata": {
        "raw_mimetype": "text/html"
      },
      "source": [
        "<!-- lmods <- lm(bill_length_mm ~ body_mass_g + species + body_mass_g:species, -->"
      ],
      "id": "b514539d-ab81-4103-996a-f6ef07692a39"
    },
    {
      "cell_type": "raw",
      "metadata": {
        "raw_mimetype": "text/html"
      },
      "source": [
        "<!--             data = penguins, na.action = na.exclude) -->"
      ],
      "id": "ebe3a89c-71a9-4845-8fa7-622e9b821c29"
    },
    {
      "cell_type": "raw",
      "metadata": {
        "raw_mimetype": "text/html"
      },
      "source": [
        "<!-- # extract estimated coefficients -->"
      ],
      "id": "0ff0a6cc-27ca-4f97-8878-d63d405364df"
    },
    {
      "cell_type": "raw",
      "metadata": {
        "raw_mimetype": "text/html"
      },
      "source": [
        "<!-- coef(lmods) -->"
      ],
      "id": "0f5bddac-ea4a-40dd-8894-992bbebaf62b"
    },
    {
      "cell_type": "raw",
      "metadata": {
        "raw_mimetype": "text/html"
      },
      "source": [
        "<!-- ``` -->"
      ],
      "id": "ae62670f-1c4c-4e87-b1fe-d8a3bbd538d6"
    },
    {
      "cell_type": "raw",
      "metadata": {
        "raw_mimetype": "text/html"
      },
      "source": [
        "<!-- Thus, the fitted separate lines model is -->"
      ],
      "id": "b2cf5fa3-cdcd-4ec8-bd26-e47dc40cb114"
    },
    {
      "cell_type": "raw",
      "metadata": {
        "raw_mimetype": "text/html"
      },
      "source": [
        "<!-- \\[ -->"
      ],
      "id": "1bcb6453-ed40-4b68-a615-636ceda14088"
    },
    {
      "cell_type": "raw",
      "metadata": {
        "raw_mimetype": "text/html"
      },
      "source": [
        "<!-- \\begin{aligned} -->"
      ],
      "id": "a041b0cd-0a71-4598-97aa-b481302ac7d1"
    },
    {
      "cell_type": "raw",
      "metadata": {
        "raw_mimetype": "text/html"
      },
      "source": [
        "<!-- &\\hat{E}(\\mathtt{bill\\_length\\_mm} \\mid \\mathtt{body\\_mass\\_g}, \\mathtt{species}) \\\\ -->"
      ],
      "id": "f9bb4bc0-8669-41bf-8121-03dd702eb3d3"
    },
    {
      "cell_type": "raw",
      "metadata": {
        "raw_mimetype": "text/html"
      },
      "source": [
        "<!-- &= 26.99 + 0.003 \\mathtt{body\\_mass\\_g} + 5.18 D_C - 0.25 D_G \\\\ -->"
      ],
      "id": "d5114eb2-faa4-4739-8920-6d03f38d68cf"
    },
    {
      "cell_type": "raw",
      "metadata": {
        "raw_mimetype": "text/html"
      },
      "source": [
        "<!-- &\\quad + 0.001 \\mathtt{body\\_mass\\_g} D_C + 0.0009 \\mathtt{body\\_mass\\_g} D_G, (\\#eq:sl-model-penguins) -->"
      ],
      "id": "170bcf18-b3dc-4776-8349-1cf1f0e45ac0"
    },
    {
      "cell_type": "raw",
      "metadata": {
        "raw_mimetype": "text/html"
      },
      "source": [
        "<!-- \\end{aligned} -->"
      ],
      "id": "ad619b45-b5e7-49a8-84e9-95fccb76a323"
    },
    {
      "cell_type": "raw",
      "metadata": {
        "raw_mimetype": "text/html"
      },
      "source": [
        "<!-- \\] -->"
      ],
      "id": "33ff3303-530f-443a-a6e1-db744f254ec2"
    },
    {
      "cell_type": "raw",
      "metadata": {
        "raw_mimetype": "text/html"
      },
      "source": [
        "<!-- --- -->"
      ],
      "id": "ead641fa-c3df-4103-a685-658bdb72efb7"
    },
    {
      "cell_type": "raw",
      "metadata": {
        "raw_mimetype": "text/html"
      },
      "source": [
        "<!-- When an observation has `species` level `Adelie`, then Equation \\@ref(eq:sl-model-penguins) simplifies to -->"
      ],
      "id": "15331950-f8d1-455d-8034-b71b283c135b"
    },
    {
      "cell_type": "raw",
      "metadata": {
        "raw_mimetype": "text/html"
      },
      "source": [
        "<!-- \\[ -->"
      ],
      "id": "4f901480-220d-49f0-82c5-ec659fd7397f"
    },
    {
      "cell_type": "raw",
      "metadata": {
        "raw_mimetype": "text/html"
      },
      "source": [
        "<!-- \\begin{aligned} -->"
      ],
      "id": "e4d0d9fb-a824-483d-b8da-968baa349544"
    },
    {
      "cell_type": "raw",
      "metadata": {
        "raw_mimetype": "text/html"
      },
      "source": [
        "<!-- &\\hat{E}(\\mathtt{bill\\_length\\_mm} \\mid \\mathtt{body\\_mass\\_g}, \\mathtt{species}=\\mathtt{Adelie}) \\\\ -->"
      ],
      "id": "3f623d5c-4c0f-4064-8fe6-8f18ff2b1e87"
    },
    {
      "cell_type": "raw",
      "metadata": {
        "raw_mimetype": "text/html"
      },
      "source": [
        "<!-- &=26.99 + 0.003 \\mathtt{body\\_mass\\_g} + 5.18 \\cdot 0 - 0.25 \\cdot 0\\\\ -->"
      ],
      "id": "2d3dc60a-0f8d-4189-afb2-285d57c2fe39"
    },
    {
      "cell_type": "raw",
      "metadata": {
        "raw_mimetype": "text/html"
      },
      "source": [
        "<!-- &\\quad + 0.001 \\cdot \\mathtt{body\\_mass\\_g} \\cdot 0 + 0.0009 \\cdot \\mathtt{body\\_mass\\_g} \\cdot 0\\\\ -->"
      ],
      "id": "85f135de-60fc-463b-a697-bbdd3c70ce73"
    },
    {
      "cell_type": "raw",
      "metadata": {
        "raw_mimetype": "text/html"
      },
      "source": [
        "<!-- &= 26.99 + 0.003 \\mathtt{body\\_mass\\_g}. -->"
      ],
      "id": "9cc7573c-a782-4398-8ac0-6d1de4f8f768"
    },
    {
      "cell_type": "raw",
      "metadata": {
        "raw_mimetype": "text/html"
      },
      "source": [
        "<!-- \\end{aligned} -->"
      ],
      "id": "96caa535-0022-43d7-a909-6b1cce7792fe"
    },
    {
      "cell_type": "raw",
      "metadata": {
        "raw_mimetype": "text/html"
      },
      "source": [
        "<!-- \\] -->"
      ],
      "id": "bfa11666-c34b-41d4-9dee-90e91ff196ab"
    },
    {
      "cell_type": "raw",
      "metadata": {
        "raw_mimetype": "text/html"
      },
      "source": [
        "<!-- When an observation has `species` level `Chinstrap`, then Equation \\@ref(eq:sl-model-penguins) simplifies to -->"
      ],
      "id": "8dfcf46a-17a6-4447-b8a6-24027df124d1"
    },
    {
      "cell_type": "raw",
      "metadata": {
        "raw_mimetype": "text/html"
      },
      "source": [
        "<!-- \\[ -->"
      ],
      "id": "203e02db-ffa9-4af3-a795-8f5381c9b232"
    },
    {
      "cell_type": "raw",
      "metadata": {
        "raw_mimetype": "text/html"
      },
      "source": [
        "<!-- \\begin{aligned} -->"
      ],
      "id": "3df4078d-3902-4d03-9274-22aef3416b2c"
    },
    {
      "cell_type": "raw",
      "metadata": {
        "raw_mimetype": "text/html"
      },
      "source": [
        "<!-- &\\hat{E}(\\mathtt{bill\\_length\\_mm} \\mid \\mathtt{body\\_mass\\_g}, \\mathtt{species}=\\mathtt{Chinstrap}) \\\\ -->"
      ],
      "id": "eebd2c2d-6e71-480d-8325-f77cf8e61626"
    },
    {
      "cell_type": "raw",
      "metadata": {
        "raw_mimetype": "text/html"
      },
      "source": [
        "<!-- &=26.99 + 0.003 \\mathtt{body\\_mass\\_g} + 5.18 \\cdot 1 - 0.25 \\cdot 0 \\\\ -->"
      ],
      "id": "d138efbc-3296-434e-9917-50cb835e226a"
    },
    {
      "cell_type": "raw",
      "metadata": {
        "raw_mimetype": "text/html"
      },
      "source": [
        "<!-- &\\quad + 0.001 \\cdot \\mathtt{body\\_mass\\_g} \\cdot 1 + 0.0009 \\cdot \\mathtt{body\\_mass\\_g} \\cdot 0 \\\\ -->"
      ],
      "id": "2b950d18-688c-494b-88c4-dfbe6f3972bb"
    },
    {
      "cell_type": "raw",
      "metadata": {
        "raw_mimetype": "text/html"
      },
      "source": [
        "<!-- &= 31.17 + 0.004 \\mathtt{body\\_mass\\_g}. -->"
      ],
      "id": "406077fd-f903-477d-a0cc-c14471ce100d"
    },
    {
      "cell_type": "raw",
      "metadata": {
        "raw_mimetype": "text/html"
      },
      "source": [
        "<!-- \\end{aligned} -->"
      ],
      "id": "6e979742-a258-4f86-a181-42316dc8a10b"
    },
    {
      "cell_type": "raw",
      "metadata": {
        "raw_mimetype": "text/html"
      },
      "source": [
        "<!-- \\] -->"
      ],
      "id": "140d60b2-d00c-40a8-824d-9308a7313b75"
    },
    {
      "cell_type": "raw",
      "metadata": {
        "raw_mimetype": "text/html"
      },
      "source": [
        "<!-- When an observation has `species` level `Gentoo`, then Equation \\@ref(eq:sl-model-penguins) simplifies to -->"
      ],
      "id": "5c853cca-1b72-4b37-842a-4de2d8470893"
    },
    {
      "cell_type": "raw",
      "metadata": {
        "raw_mimetype": "text/html"
      },
      "source": [
        "<!-- \\[ -->"
      ],
      "id": "08cdfd3d-9cca-40fc-9503-412fe24f25c3"
    },
    {
      "cell_type": "raw",
      "metadata": {
        "raw_mimetype": "text/html"
      },
      "source": [
        "<!-- \\begin{aligned} -->"
      ],
      "id": "a012c17d-df91-4e35-b592-12c7cd0d39c6"
    },
    {
      "cell_type": "raw",
      "metadata": {
        "raw_mimetype": "text/html"
      },
      "source": [
        "<!-- &\\hat{E}(\\mathtt{bill\\_length\\_mm} \\mid \\mathtt{body\\_mass\\_g}, \\mathtt{species}=\\mathtt{Chinstrap}) \\\\ -->"
      ],
      "id": "702d7703-2b4f-4c75-a49e-e8ee03b8f180"
    },
    {
      "cell_type": "raw",
      "metadata": {
        "raw_mimetype": "text/html"
      },
      "source": [
        "<!-- &=26.99 + 0.003 \\mathtt{body\\_mass\\_g} + 5.18 \\cdot 0 - 0.25 \\cdot 1 \\\\ -->"
      ],
      "id": "b5cbeb3c-5bb3-4ed8-9a7a-267d7d8518b5"
    },
    {
      "cell_type": "raw",
      "metadata": {
        "raw_mimetype": "text/html"
      },
      "source": [
        "<!-- &\\quad + 0.001 \\cdot \\mathtt{body\\_mass\\_g} \\cdot 0 + 0.0009 \\cdot \\mathtt{body\\_mass\\_g} \\cdot 1 \\\\ -->"
      ],
      "id": "b4a625ae-8f6c-4bad-b702-57d042b742fd"
    },
    {
      "cell_type": "raw",
      "metadata": {
        "raw_mimetype": "text/html"
      },
      "source": [
        "<!-- &= 26.74 + 0.004 \\mathtt{body\\_mass\\_g}. -->"
      ],
      "id": "ecf654f0-9012-4e01-8412-a9b5e80b7875"
    },
    {
      "cell_type": "raw",
      "metadata": {
        "raw_mimetype": "text/html"
      },
      "source": [
        "<!-- \\end{aligned} -->"
      ],
      "id": "68a0a664-3a4e-4f16-909a-986f7df2756c"
    },
    {
      "cell_type": "raw",
      "metadata": {
        "raw_mimetype": "text/html"
      },
      "source": [
        "<!-- \\] -->"
      ],
      "id": "5cdb1793-b4bc-4196-a1ac-0a6f9afb66e5"
    },
    {
      "cell_type": "raw",
      "metadata": {
        "raw_mimetype": "text/html"
      },
      "source": [
        "<!-- --- -->"
      ],
      "id": "d43dd3e1-459c-4ebb-ba48-5d1907c1c5fb"
    },
    {
      "cell_type": "raw",
      "metadata": {
        "raw_mimetype": "text/html"
      },
      "source": [
        "<!-- We use the code below to display the fitted lines for the separate lines model on the `penguins` data.  -->"
      ],
      "id": "2e3c9f8c-7027-4cd1-9fc8-21a9c6ccabc1"
    },
    {
      "cell_type": "raw",
      "metadata": {
        "raw_mimetype": "text/html"
      },
      "source": [
        "<!-- ```{r sl-penguin-fit, fig.cap=\"The fitted model for each level of `species` is added to the grouped scatter plot of `bill_length_mm` versus `body_mass_g`.\", warning = FALSE} -->"
      ],
      "id": "caeb641f-c5eb-458c-8666-761b0cd0e258"
    },
    {
      "cell_type": "raw",
      "metadata": {
        "raw_mimetype": "text/html"
      },
      "source": [
        "<!-- # add separate lines fitted values to penguins data frame -->"
      ],
      "id": "33da098e-d5a7-4e38-ba61-ceb71043381c"
    },
    {
      "cell_type": "raw",
      "metadata": {
        "raw_mimetype": "text/html"
      },
      "source": [
        "<!-- penguins <- -->"
      ],
      "id": "3a5ab5a1-dee2-4055-8396-a8f697abd47c"
    },
    {
      "cell_type": "raw",
      "metadata": {
        "raw_mimetype": "text/html"
      },
      "source": [
        "<!--   penguins |> -->"
      ],
      "id": "ff1ceb19-783b-4c45-aa4f-eade417256d0"
    },
    {
      "cell_type": "raw",
      "metadata": {
        "raw_mimetype": "text/html"
      },
      "source": [
        "<!--   transform(sl_fitted = predict(lmods)) -->"
      ],
      "id": "1fe2b72c-544b-48e3-b3c8-e858d2f73966"
    },
    {
      "cell_type": "raw",
      "metadata": {
        "raw_mimetype": "text/html"
      },
      "source": [
        "<!-- # use geom_line to add fitted lines to plot -->"
      ],
      "id": "8a13c8c4-dc31-4975-aa8d-405efa470f66"
    },
    {
      "cell_type": "raw",
      "metadata": {
        "raw_mimetype": "text/html"
      },
      "source": [
        "<!-- ggplot(data = penguins) + -->"
      ],
      "id": "693bdcfb-f8bd-4c08-81d8-79b0544b6cbc"
    },
    {
      "cell_type": "raw",
      "metadata": {
        "raw_mimetype": "text/html"
      },
      "source": [
        "<!--   geom_point(aes(x = body_mass_g, y = bill_length_mm, shape = species, color = species)) + -->"
      ],
      "id": "7a737902-70ad-4e03-9e18-bdcb30c9eddf"
    },
    {
      "cell_type": "raw",
      "metadata": {
        "raw_mimetype": "text/html"
      },
      "source": [
        "<!--   xlab(\"body mass (g)\") + ylab(\"bill length (mm)\") + -->"
      ],
      "id": "41fa7792-a82b-4025-8d2f-25e7d902e371"
    },
    {
      "cell_type": "raw",
      "metadata": {
        "raw_mimetype": "text/html"
      },
      "source": [
        "<!--   geom_line(aes(x = body_mass_g, y = sl_fitted, col = species)) -->"
      ],
      "id": "220caefb-c421-484f-aad8-815616330a32"
    },
    {
      "cell_type": "raw",
      "metadata": {
        "raw_mimetype": "text/html"
      },
      "source": [
        "<!-- ``` -->"
      ],
      "id": "b769344b-c3da-4aa8-9419-51bc40669270"
    },
    {
      "cell_type": "raw",
      "metadata": {
        "raw_mimetype": "text/html"
      },
      "source": [
        "<!-- - **Question:** Do the fitted lines match the observed data behavior reasonably well? -->"
      ],
      "id": "69b51c71-e122-4fa7-9b7e-d7bfb35714cf"
    },
    {
      "cell_type": "raw",
      "metadata": {
        "raw_mimetype": "text/html"
      },
      "source": [
        "<!-- # Evaluating model fit -->"
      ],
      "id": "67f7d2cd-4997-4273-be34-81a348afc979"
    },
    {
      "cell_type": "raw",
      "metadata": {
        "raw_mimetype": "text/html"
      },
      "source": [
        "<!-- The most basic statistic measuring the fit of a regression model is the **coefficient of determination**, which is defined as -->"
      ],
      "id": "20431c5e-9105-4cc0-b5a4-1ae87dfdce85"
    },
    {
      "cell_type": "raw",
      "metadata": {
        "raw_mimetype": "text/html"
      },
      "source": [
        "<!-- \\[ -->"
      ],
      "id": "4fd6179f-978f-4d63-b279-2c9c14b20373"
    },
    {
      "cell_type": "raw",
      "metadata": {
        "raw_mimetype": "text/html"
      },
      "source": [
        "<!-- R^2 = 1 - \\frac{\\sum_{i=1}^n (Y_i-\\hat{Y}_i)^2}{\\sum_{i=1}^n (Y_i-\\bar{Y})^2},(\\#eq:rsquared) -->"
      ],
      "id": "ec5b0530-5273-4d29-903b-fdafdbb7ed1a"
    },
    {
      "cell_type": "raw",
      "metadata": {
        "raw_mimetype": "text/html"
      },
      "source": [
        "<!-- \\] -->"
      ],
      "id": "89bdf1a2-8fdd-49fa-8cd0-3f13e3d73ad6"
    },
    {
      "cell_type": "raw",
      "metadata": {
        "raw_mimetype": "text/html"
      },
      "source": [
        "<!-- where $\\bar{Y}$ is the sample mean of the observed response values. -->"
      ],
      "id": "fdcbe472-ff50-4f56-8da8-4f9030ac342d"
    },
    {
      "cell_type": "raw",
      "metadata": {
        "raw_mimetype": "text/html"
      },
      "source": [
        "<!-- --- -->"
      ],
      "id": "e604039d-d31f-43e2-b0ff-aa54260c63e3"
    },
    {
      "cell_type": "raw",
      "metadata": {
        "raw_mimetype": "text/html"
      },
      "source": [
        "<!-- To interpret this statistic, we need to introduce some new \"sum-of-squares\" statistics similar to the RSS. -->"
      ],
      "id": "6ce10413-2ede-4d54-860d-0d7b880f7c86"
    },
    {
      "cell_type": "raw",
      "metadata": {
        "raw_mimetype": "text/html"
      },
      "source": [
        "<!-- The **total sum of squares** (corrected for the mean) is computed as -->"
      ],
      "id": "8be6f745-99c0-4d9b-bb8c-4e7502931e75"
    },
    {
      "cell_type": "raw",
      "metadata": {
        "raw_mimetype": "text/html"
      },
      "source": [
        "<!-- \\[ -->"
      ],
      "id": "c7bdddb6-8ba8-4b1b-a515-3490c9157eb5"
    },
    {
      "cell_type": "raw",
      "metadata": {
        "raw_mimetype": "text/html"
      },
      "source": [
        "<!-- TSS = \\sum_{i=1}^n(Y_i-\\bar{Y})^2. (\\#eq:tss) -->"
      ],
      "id": "0f735c3c-06c9-4106-b614-250ad631d471"
    },
    {
      "cell_type": "raw",
      "metadata": {
        "raw_mimetype": "text/html"
      },
      "source": [
        "<!-- \\] -->"
      ],
      "id": "c77cc34a-a6a9-426f-bdaa-2e9ca9fc9f94"
    },
    {
      "cell_type": "raw",
      "metadata": {
        "raw_mimetype": "text/html"
      },
      "source": [
        "<!-- The TSS is the sum of the squared deviations of the response values from the sample mean. However, it has a more insightful interpretation. Consider the **constant mean model**, which is the model -->"
      ],
      "id": "16234178-eb1a-4cc8-b792-2d9479c3f64b"
    },
    {
      "cell_type": "raw",
      "metadata": {
        "raw_mimetype": "text/html"
      },
      "source": [
        "<!-- \\[ -->"
      ],
      "id": "dd2679d9-d2b1-4f57-ad66-09f503a9ee8c"
    },
    {
      "cell_type": "raw",
      "metadata": {
        "raw_mimetype": "text/html"
      },
      "source": [
        "<!-- E(Y)=\\beta_0. (\\#eq:constant-mean-model) -->"
      ],
      "id": "c6a61642-2789-4598-99b9-33aa17507aa4"
    },
    {
      "cell_type": "raw",
      "metadata": {
        "raw_mimetype": "text/html"
      },
      "source": [
        "<!-- \\] -->"
      ],
      "id": "34e83e01-0e48-439c-9376-4d1a1f9baa69"
    },
    {
      "cell_type": "raw",
      "metadata": {
        "raw_mimetype": "text/html"
      },
      "source": [
        "<!-- --- -->"
      ],
      "id": "6e333c3b-ec54-46ea-95da-95bb9dad9d42"
    },
    {
      "cell_type": "raw",
      "metadata": {
        "raw_mimetype": "text/html"
      },
      "source": [
        "<!-- Using basic calculus, you can show that the OLS estimator of $\\beta_0$ for the model in Equation \\@ref(eq:constant-mean-model) is $\\hat{\\beta}_0=\\bar{Y}$. For the constant mean model, the fitted value of every observation is $\\hat{\\beta}_0$, i.e., $\\hat{Y}_i=\\hat{\\beta}_0$ for $i=1,2,\\ldots,n$. Thus, the RSS of the constant mean model is $\\sum_{i=1}^n(Y_i-\\hat{Y}_i)^2=\\sum_{i=1}^n(Y_i-\\bar{Y})^2$. Thus, *the TSS is the RSS for the constant mean model*. -->"
      ],
      "id": "491d3d9b-6a91-4fce-8264-dc59ac4fc103"
    },
    {
      "cell_type": "raw",
      "metadata": {
        "raw_mimetype": "text/html"
      },
      "source": [
        "<!-- The **regression sum-of-squares** or **model sum-of-squares** is defined as -->"
      ],
      "id": "d1eab264-3c43-401c-b6b8-3f0b144076e5"
    },
    {
      "cell_type": "raw",
      "metadata": {
        "raw_mimetype": "text/html"
      },
      "source": [
        "<!-- \\[ -->"
      ],
      "id": "9d0ce65c-9d36-48f7-80b1-d3bd413c5924"
    },
    {
      "cell_type": "raw",
      "metadata": {
        "raw_mimetype": "text/html"
      },
      "source": [
        "<!-- SS_{reg} = \\sum_{i=1}^n(\\hat{Y}_i-\\bar{Y})^2. (\\#eq:ssreg) -->"
      ],
      "id": "70a6636c-eae3-424b-a2b3-956d4558b7dc"
    },
    {
      "cell_type": "raw",
      "metadata": {
        "raw_mimetype": "text/html"
      },
      "source": [
        "<!-- \\] -->"
      ],
      "id": "f443e0bb-d1a5-48c9-a44a-a3700f6cd4d3"
    },
    {
      "cell_type": "raw",
      "metadata": {
        "raw_mimetype": "text/html"
      },
      "source": [
        "<!-- Thus, SS~reg~ is the sum of the squared deviations between the fitted values of a model and the fitted values of the constant mean model. More helpfully, we have the following equation relating TSS, RSS, and SS~reg~: -->"
      ],
      "id": "7001e904-163b-4c94-acfd-42affc7cd1a2"
    },
    {
      "cell_type": "raw",
      "metadata": {
        "raw_mimetype": "text/html"
      },
      "source": [
        "<!-- \\[ -->"
      ],
      "id": "876b991c-4671-49ba-9802-550e5864699b"
    },
    {
      "cell_type": "raw",
      "metadata": {
        "raw_mimetype": "text/html"
      },
      "source": [
        "<!-- TSS = RSS + SS_{reg}.(\\#eq:ss-equality) -->"
      ],
      "id": "f4fd33a3-187c-4383-9678-7dda0bb4d2d6"
    },
    {
      "cell_type": "raw",
      "metadata": {
        "raw_mimetype": "text/html"
      },
      "source": [
        "<!-- \\] -->"
      ],
      "id": "9f2d5d59-ca06-459e-82fb-3508172f303e"
    },
    {
      "cell_type": "raw",
      "metadata": {
        "raw_mimetype": "text/html"
      },
      "source": [
        "<!-- Thus, $SS_{reg}=TSS-RSS$. This means that *SS~reg~ measures the reduction in RSS when comparing the fitted model to the constant mean model*. -->"
      ],
      "id": "c6f8667f-3ef7-4623-b96b-6cb5276784ce"
    },
    {
      "cell_type": "raw",
      "metadata": {
        "raw_mimetype": "text/html"
      },
      "source": [
        "<!-- --- -->"
      ],
      "id": "e46cf0a3-dc7b-4dc2-aed4-c278aecc509b"
    },
    {
      "cell_type": "raw",
      "metadata": {
        "raw_mimetype": "text/html"
      },
      "source": [
        "<!-- Comparing Equations \\@ref(eq:def-rss-slr), \\@ref(eq:rsquared), \\@ref(eq:tss), and \\@ref(eq:ssreg), we can express $R^2$ as: -->"
      ],
      "id": "19af8975-d83a-42fb-b958-bf209a79e2e0"
    },
    {
      "cell_type": "raw",
      "metadata": {
        "raw_mimetype": "text/html"
      },
      "source": [
        "<!-- \\[ -->"
      ],
      "id": "ca15bc05-9f08-4007-9292-42b2b58debf9"
    },
    {
      "cell_type": "raw",
      "metadata": {
        "raw_mimetype": "text/html"
      },
      "source": [
        "<!-- \\begin{aligned} -->"
      ],
      "id": "2d41a5cb-8db5-43e8-99bb-6a9bec6d398d"
    },
    {
      "cell_type": "raw",
      "metadata": {
        "raw_mimetype": "text/html"
      },
      "source": [
        "<!-- R^2 &= 1-\\frac{\\sum_{i=1}^n (Y_i-\\hat{Y}_i)^2}{\\sum_{i=1}^n (Y_i-\\bar{Y})^2} \\\\ -->"
      ],
      "id": "15cb8421-fc57-452e-a84c-8ac2fe087abf"
    },
    {
      "cell_type": "raw",
      "metadata": {
        "raw_mimetype": "text/html"
      },
      "source": [
        "<!-- &= 1 - \\frac{RSS}{TSS} \\\\ -->"
      ],
      "id": "37eb79db-2ee9-4359-ae72-4a44558c6aec"
    },
    {
      "cell_type": "raw",
      "metadata": {
        "raw_mimetype": "text/html"
      },
      "source": [
        "<!-- &= \\frac{TSS - RSS}{TSS} \\\\ -->"
      ],
      "id": "7c31a13d-11ac-421e-8df9-542241e3cce1"
    },
    {
      "cell_type": "raw",
      "metadata": {
        "raw_mimetype": "text/html"
      },
      "source": [
        "<!-- &= \\frac{SS_{reg}}{TSS} \\\\ -->"
      ],
      "id": "3ffba16f-dfab-4276-9e09-758b92fe8e09"
    },
    {
      "cell_type": "raw",
      "metadata": {
        "raw_mimetype": "text/html"
      },
      "source": [
        "<!-- &= [\\mathrm{cor}(\\mathbf{y}, \\hat{\\mathbf{y}})]^2. -->"
      ],
      "id": "4fb4686b-63e3-4573-8f69-d6fe24671222"
    },
    {
      "cell_type": "raw",
      "metadata": {
        "raw_mimetype": "text/html"
      },
      "source": [
        "<!-- \\end{aligned} -->"
      ],
      "id": "2ba20e48-4f0d-417d-90fa-afef9fc04ba0"
    },
    {
      "cell_type": "raw",
      "metadata": {
        "raw_mimetype": "text/html"
      },
      "source": [
        "<!-- (\\#eq:rsquared2) -->"
      ],
      "id": "8a62b596-993f-486f-a7c2-92964b21b5d9"
    },
    {
      "cell_type": "raw",
      "metadata": {
        "raw_mimetype": "text/html"
      },
      "source": [
        "<!-- \\] -->"
      ],
      "id": "90d7c8bd-32b8-4104-aea7-34c558439149"
    },
    {
      "cell_type": "raw",
      "metadata": {
        "raw_mimetype": "text/html"
      },
      "source": [
        "<!-- The last expression is the squared sample correlation between the observed and fitted values, and is a helpful way to express the coefficient of determination because it extends to regression models that are not linear. -->"
      ],
      "id": "fc17d579-a8d3-4dfc-92f5-adf4c8998bc2"
    },
    {
      "cell_type": "raw",
      "metadata": {
        "raw_mimetype": "text/html"
      },
      "source": [
        "<!-- --- -->"
      ],
      "id": "84d68d28-f140-4393-9eaa-4f5b2d0ef70f"
    },
    {
      "cell_type": "raw",
      "metadata": {
        "raw_mimetype": "text/html"
      },
      "source": [
        "<!-- Looking at Equation \\@ref(eq:rsquared2) in particular, we can say that *the coefficient of determination is the proportional reduction in RSS when comparing the fitted model to the constant mean model*. -->"
      ],
      "id": "614ab067-9fa6-4b2b-8fad-69c3fcbf004d"
    },
    {
      "cell_type": "raw",
      "metadata": {
        "raw_mimetype": "text/html"
      },
      "source": [
        "<!-- Some comments about the coefficient of determination: -->"
      ],
      "id": "106437a5-7e7a-453a-8f9a-0c947004dc52"
    },
    {
      "cell_type": "raw",
      "metadata": {
        "raw_mimetype": "text/html"
      },
      "source": [
        "<!-- - $0\\leq R^2 \\leq 1$. -->"
      ],
      "id": "b2a44a2c-9d54-4324-92bd-b707b9b34691"
    },
    {
      "cell_type": "raw",
      "metadata": {
        "raw_mimetype": "text/html"
      },
      "source": [
        "<!-- - $R^2=0$ for the constant mean model. -->"
      ],
      "id": "7902eb3b-4e07-4292-8a1e-8b1ddd3d217c"
    },
    {
      "cell_type": "raw",
      "metadata": {
        "raw_mimetype": "text/html"
      },
      "source": [
        "<!-- - $R^2=1$ for a fitted model that perfectly fits the data (the fitted values match the observed response values). -->"
      ],
      "id": "4ad45331-914d-484c-8ebc-f3351c8ec7ec"
    },
    {
      "cell_type": "raw",
      "metadata": {
        "raw_mimetype": "text/html"
      },
      "source": [
        "<!-- - Generally, larger values of $R^2$ suggest that the model explains a lot of the variation in the response variable. Smaller $R^2$ values suggest the fitted model does not explain a lot of the response variation. -->"
      ],
      "id": "e842287c-b9e9-4a4a-9fe5-22ed7be6a91e"
    },
    {
      "cell_type": "raw",
      "metadata": {
        "raw_mimetype": "text/html"
      },
      "source": [
        "<!-- - The `Multiple R-squared` value printed by the `summary` of an `lm` object is $R^2$. -->"
      ],
      "id": "01948c62-2c26-4365-bcf3-6687534754b4"
    },
    {
      "cell_type": "raw",
      "metadata": {
        "raw_mimetype": "text/html"
      },
      "source": [
        "<!-- - To extract $R^2$ from a fitted model, you can use the syntax `summary(lmod)$r.squared`, where `lmod` is your fitted model. -->"
      ],
      "id": "049f90eb-a9e2-4133-ad00-9f00b336239a"
    },
    {
      "cell_type": "raw",
      "metadata": {
        "raw_mimetype": "text/html"
      },
      "source": [
        "<!-- --- -->"
      ],
      "id": "1ffeb651-e1b6-408c-a304-2255df716df8"
    },
    {
      "cell_type": "raw",
      "metadata": {
        "raw_mimetype": "text/html"
      },
      "source": [
        "<!-- Figure \\@ref(fig:rsquared-examples) provides examples of the $R^2$ value for various fitted simple linear regression models. The closer the points fall to a straight line, the larger $R^2$ tends to be. However, as shown in the bottom right panel of Figure \\@ref(fig:rsquared-examples), a poorly fit model can result in a lower $R^2$ model even if there is a clear relationship between the points (the points have a perfect quadratic relationship). -->"
      ],
      "id": "8330849c-0ecb-4e5a-9b2a-c6223764252f"
    },
    {
      "cell_type": "raw",
      "metadata": {
        "raw_mimetype": "text/html"
      },
      "source": [
        "<!-- ```{r rsquared-examples, fig.cap=\"The coefficient of determination values for 4 different data sets.\", echo = FALSE} -->"
      ],
      "id": "00698227-573f-44ba-ac62-2d8c2529af8a"
    },
    {
      "cell_type": "raw",
      "metadata": {
        "raw_mimetype": "text/html"
      },
      "source": [
        "<!-- par(mfrow = c(2, 2)) -->"
      ],
      "id": "dbfb0133-8fe6-412e-a68d-8a1bbabbd12a"
    },
    {
      "cell_type": "raw",
      "metadata": {
        "raw_mimetype": "text/html"
      },
      "source": [
        "<!-- set.seed(27) -->"
      ],
      "id": "38f90cb2-91b4-4a1b-a39c-c95d221416e0"
    },
    {
      "cell_type": "raw",
      "metadata": {
        "raw_mimetype": "text/html"
      },
      "source": [
        "<!-- x1 <- runif(25, 0, 10) -->"
      ],
      "id": "c971dd0b-905a-4d2c-8eb2-d5f67c7d03ea"
    },
    {
      "cell_type": "raw",
      "metadata": {
        "raw_mimetype": "text/html"
      },
      "source": [
        "<!-- y1 <- 2 + 3 * x1 -->"
      ],
      "id": "011bd0c1-80d5-4eb5-8b5c-0fea14fbd9c1"
    },
    {
      "cell_type": "raw",
      "metadata": {
        "raw_mimetype": "text/html"
      },
      "source": [
        "<!-- fit1 <- lm(y1 ~ x1) -->"
      ],
      "id": "d00da743-77cd-4fb7-89f3-f19e68d6fd18"
    },
    {
      "cell_type": "raw",
      "metadata": {
        "raw_mimetype": "text/html"
      },
      "source": [
        "<!-- plot(x1, 2 + 3 * x1, xlab = \"X\", ylab = \"Y\") -->"
      ],
      "id": "1c99e7fc-2690-4799-9ea7-e1fd9782aead"
    },
    {
      "cell_type": "raw",
      "metadata": {
        "raw_mimetype": "text/html"
      },
      "source": [
        "<!-- abline(fit1) -->"
      ],
      "id": "62702ea7-763e-40f6-85cd-404902600ea5"
    },
    {
      "cell_type": "raw",
      "metadata": {
        "raw_mimetype": "text/html"
      },
      "source": [
        "<!-- title(expression(R^2==1)) -->"
      ],
      "id": "8a91cfe7-70e4-42e8-97a0-61447a36a6de"
    },
    {
      "cell_type": "raw",
      "metadata": {
        "raw_mimetype": "text/html"
      },
      "source": [
        "<!-- x2 <- runif(25, 0, 10) -->"
      ],
      "id": "a4e32990-a781-4933-9cb5-b169e76b0ed4"
    },
    {
      "cell_type": "raw",
      "metadata": {
        "raw_mimetype": "text/html"
      },
      "source": [
        "<!-- y2 <- rnorm(length(x2)) -->"
      ],
      "id": "53511faf-514b-46c8-890d-d4f48bd98f2d"
    },
    {
      "cell_type": "raw",
      "metadata": {
        "raw_mimetype": "text/html"
      },
      "source": [
        "<!-- fit2 <- lm(y2 ~ x2) -->"
      ],
      "id": "a31568df-216e-4b97-8ff9-1e81a1d2f1a1"
    },
    {
      "cell_type": "raw",
      "metadata": {
        "raw_mimetype": "text/html"
      },
      "source": [
        "<!-- r2b <- round(summary(fit2)$r.squared, 2) -->"
      ],
      "id": "c079a629-eb78-412a-bc0b-381f9b12ef95"
    },
    {
      "cell_type": "raw",
      "metadata": {
        "raw_mimetype": "text/html"
      },
      "source": [
        "<!-- q2 <- bquote(R^2==.(format(r2b, digits = 2))) -->"
      ],
      "id": "0f53bf14-8037-4d22-b975-8d2d9b2ca03b"
    },
    {
      "cell_type": "raw",
      "metadata": {
        "raw_mimetype": "text/html"
      },
      "source": [
        "<!-- plot(x2, y2, xlab = \"X\", ylab = \"Y\") -->"
      ],
      "id": "60cf9570-ea44-4808-b53e-570adf2ae90e"
    },
    {
      "cell_type": "raw",
      "metadata": {
        "raw_mimetype": "text/html"
      },
      "source": [
        "<!-- abline(fit2) -->"
      ],
      "id": "bda204f1-ad68-4db3-814d-208b081cd801"
    },
    {
      "cell_type": "raw",
      "metadata": {
        "raw_mimetype": "text/html"
      },
      "source": [
        "<!-- title(q2) -->"
      ],
      "id": "d63fd5fd-aac7-424f-9711-30b4e91be35b"
    },
    {
      "cell_type": "raw",
      "metadata": {
        "raw_mimetype": "text/html"
      },
      "source": [
        "<!-- x3 <- runif(25, 0, 10) -->"
      ],
      "id": "d62ca20d-9373-4d40-ba13-e034a17e05c3"
    },
    {
      "cell_type": "raw",
      "metadata": {
        "raw_mimetype": "text/html"
      },
      "source": [
        "<!-- y3 <- 3 - 2 * x3 + rnorm(length(x3), sd = 5) -->"
      ],
      "id": "87641424-3692-4f3d-bcc4-2d58d290b888"
    },
    {
      "cell_type": "raw",
      "metadata": {
        "raw_mimetype": "text/html"
      },
      "source": [
        "<!-- fit3 <- lm(y3 ~ x3) -->"
      ],
      "id": "7f55d280-3619-4096-89f6-69aca3c6482c"
    },
    {
      "cell_type": "raw",
      "metadata": {
        "raw_mimetype": "text/html"
      },
      "source": [
        "<!-- r2c <- round(summary(fit3)$r.squared, 2) -->"
      ],
      "id": "218470ea-9481-428e-8782-782b0e40462f"
    },
    {
      "cell_type": "raw",
      "metadata": {
        "raw_mimetype": "text/html"
      },
      "source": [
        "<!-- q3 <- bquote(R^2==.(format(r2c, digits = 2))) -->"
      ],
      "id": "97e09139-9092-4bbd-b125-349295f9d7a2"
    },
    {
      "cell_type": "raw",
      "metadata": {
        "raw_mimetype": "text/html"
      },
      "source": [
        "<!-- plot(x3, y3, xlab = \"X\", ylab = \"Y\") -->"
      ],
      "id": "cad25b3b-cc7f-475e-a46b-c23b88ffcf5f"
    },
    {
      "cell_type": "raw",
      "metadata": {
        "raw_mimetype": "text/html"
      },
      "source": [
        "<!-- abline(fit3) -->"
      ],
      "id": "570d7096-7bd3-4bf8-943c-71d9107dda44"
    },
    {
      "cell_type": "raw",
      "metadata": {
        "raw_mimetype": "text/html"
      },
      "source": [
        "<!-- title(q3) -->"
      ],
      "id": "7af2d6b2-2183-41c9-af75-b20fd2a46e3a"
    },
    {
      "cell_type": "raw",
      "metadata": {
        "raw_mimetype": "text/html"
      },
      "source": [
        "<!-- x4 <- runif(25, -10, 10) -->"
      ],
      "id": "53002cbd-d46f-42fc-9fcf-6c8943b3fa71"
    },
    {
      "cell_type": "raw",
      "metadata": {
        "raw_mimetype": "text/html"
      },
      "source": [
        "<!-- y4 <- 2 - 2 * x4 + 3 - x4^2 -->"
      ],
      "id": "f3bf0921-c3da-40b4-a489-f0f4bbe52429"
    },
    {
      "cell_type": "raw",
      "metadata": {
        "raw_mimetype": "text/html"
      },
      "source": [
        "<!-- fit4 <- lm(y4 ~ x4) -->"
      ],
      "id": "6fa8e234-8554-4301-832a-b8d61cb19249"
    },
    {
      "cell_type": "raw",
      "metadata": {
        "raw_mimetype": "text/html"
      },
      "source": [
        "<!-- r2c <- round(summary(fit4)$r.squared, 2) -->"
      ],
      "id": "20a682ad-56ae-4bb6-9aab-7354931faf96"
    },
    {
      "cell_type": "raw",
      "metadata": {
        "raw_mimetype": "text/html"
      },
      "source": [
        "<!-- q4 <- bquote(R^2==.(format(r2c, digits = 2))) -->"
      ],
      "id": "88306003-5450-4a7e-89b1-732b11957a1b"
    },
    {
      "cell_type": "raw",
      "metadata": {
        "raw_mimetype": "text/html"
      },
      "source": [
        "<!-- plot(x4, y4, xlab = \"X\", ylab = \"Y\") -->"
      ],
      "id": "c1b5b563-a54b-440b-b0de-bf7f25d36403"
    },
    {
      "cell_type": "raw",
      "metadata": {
        "raw_mimetype": "text/html"
      },
      "source": [
        "<!-- abline(fit4) -->"
      ],
      "id": "19ba94d0-f3c0-46ee-b4f9-99037f45d491"
    },
    {
      "cell_type": "raw",
      "metadata": {
        "raw_mimetype": "text/html"
      },
      "source": [
        "<!-- title(q4) -->"
      ],
      "id": "089bf096-b470-472c-bba0-e981a3c4429a"
    },
    {
      "cell_type": "raw",
      "metadata": {
        "raw_mimetype": "text/html"
      },
      "source": [
        "<!-- par(mfrow = c(1, 1)) -->"
      ],
      "id": "0383a206-fc99-4d48-aa5e-1713ffce3f3c"
    },
    {
      "cell_type": "raw",
      "metadata": {
        "raw_mimetype": "text/html"
      },
      "source": [
        "<!-- ``` -->"
      ],
      "id": "5451fa01-4aa6-4be7-84ac-cbc2bac7618a"
    },
    {
      "cell_type": "raw",
      "metadata": {
        "raw_mimetype": "text/html"
      },
      "source": [
        "<!-- --- -->"
      ],
      "id": "268452ff-5ef4-4c80-a85d-f229eedbb12e"
    },
    {
      "cell_type": "raw",
      "metadata": {
        "raw_mimetype": "text/html"
      },
      "source": [
        "<!-- The coefficient of determination for the parallel lines model fit to the `penguins` data in Section \\@ref(s:penguins-mlr2) is 0.81, as shown in the R output below. By adding the `body_mass_g` regressor and `species` predictor to the constant mean model of `bill_length_mm`, we reduced the RSS by 81%. -->"
      ],
      "id": "04bda695-8beb-437d-be63-95e0ef1dbc7f"
    },
    {
      "cell_type": "raw",
      "metadata": {
        "raw_mimetype": "text/html"
      },
      "source": [
        "<!-- ```{r} -->"
      ],
      "id": "f38f35fe-e8dd-4031-a8ca-034640f8a075"
    },
    {
      "cell_type": "raw",
      "metadata": {
        "raw_mimetype": "text/html"
      },
      "source": [
        "<!-- summary(lmodp)$r.squared -->"
      ],
      "id": "1c843fb2-5eee-45cf-a5c1-a34b58725fb8"
    },
    {
      "cell_type": "raw",
      "metadata": {
        "raw_mimetype": "text/html"
      },
      "source": [
        "<!-- ``` -->"
      ],
      "id": "95594952-198a-44fa-9c61-7d28cf07c538"
    },
    {
      "cell_type": "raw",
      "metadata": {
        "raw_mimetype": "text/html"
      },
      "source": [
        "<!-- It may seem sensible to choose between models based on the value of $R^2$. This is unwise for two reasons: -->"
      ],
      "id": "4ae96cb2-878a-4ee8-a257-3ef627c42923"
    },
    {
      "cell_type": "raw",
      "metadata": {
        "raw_mimetype": "text/html"
      },
      "source": [
        "<!-- 1. $R^2$ never decreases as regressors are added to an existing model. Basically, you can increase $R^2$ by simply adding regressors to your existing model, even if they are non-sensical. -->"
      ],
      "id": "5dcb4370-db73-4139-a95b-b1b787b2f048"
    },
    {
      "cell_type": "raw",
      "metadata": {
        "raw_mimetype": "text/html"
      },
      "source": [
        "<!-- 2. $R^2$ doesn't tell you whether a model adequately describes the pattern of the observed data. $R^2$ is a useful statistic for measuring model fit when there is approximately a linear relationship between the response values and fitted values. -->"
      ],
      "id": "fd53e527-8a05-4bda-a246-8d6c0e704923"
    },
    {
      "cell_type": "raw",
      "metadata": {
        "raw_mimetype": "text/html"
      },
      "source": [
        "<!-- --- -->"
      ],
      "id": "4c5ea5c6-b172-4719-87a3-db4bd5b0ff3b"
    },
    {
      "cell_type": "raw",
      "metadata": {
        "raw_mimetype": "text/html"
      },
      "source": [
        "<!-- Regarding point 1, consider what happens when we add a regressor of random values to the parallel lines model fit to the `penguins` data. The code below sets a random number seed so that we can get the same results each time we run the code, creates the regressor `noisyx` by sampling 344 values randomly drawn from a $\\mathsf{N}(0,1)$ distribution, adds `noisyx` as a regressor to the parallel lines regression model stored in `lmodp`, and then extracts the $R^2$ value. We use the `update` method to update our existing model. The `update` function takes an existing model as its first argument and then the `formula` for the updated model. The syntax `. ~ .` means \"keep the same response (on the left) and the same regressors (on the right)\". We can then add or subtract regressors using the typical `formula` syntax. We use this approach to add the `noisyx` regressor to the regressors already in `lmodp`. -->"
      ],
      "id": "d76603c9-f792-4775-a4a3-b66935317195"
    },
    {
      "cell_type": "raw",
      "metadata": {
        "raw_mimetype": "text/html"
      },
      "source": [
        "<!-- ```{r} -->"
      ],
      "id": "aedbad93-46f6-424c-885e-1abd478d4e74"
    },
    {
      "cell_type": "raw",
      "metadata": {
        "raw_mimetype": "text/html"
      },
      "source": [
        "<!-- set.seed(28) # for reproducibility -->"
      ],
      "id": "b1fc8bee-561b-4243-ab06-6a833a0585ea"
    },
    {
      "cell_type": "raw",
      "metadata": {
        "raw_mimetype": "text/html"
      },
      "source": [
        "<!-- # create regressor of random noise -->"
      ],
      "id": "16aef6ba-2f40-403c-ade9-77fe343535ed"
    },
    {
      "cell_type": "raw",
      "metadata": {
        "raw_mimetype": "text/html"
      },
      "source": [
        "<!-- noisyx <- rnorm(344) -->"
      ],
      "id": "e88df95c-ca12-4f19-81c1-b9f3d3c53d63"
    },
    {
      "cell_type": "raw",
      "metadata": {
        "raw_mimetype": "text/html"
      },
      "source": [
        "<!-- # add noisyx as regressor to lmodp -->"
      ],
      "id": "3d4553f7-f62c-4413-8f75-29e7c07bb654"
    },
    {
      "cell_type": "raw",
      "metadata": {
        "raw_mimetype": "text/html"
      },
      "source": [
        "<!-- lmod_silly <- update(lmodp, . ~ . + noisyx) -->"
      ],
      "id": "e5c7f34f-d423-4456-b127-822efdac1365"
    },
    {
      "cell_type": "raw",
      "metadata": {
        "raw_mimetype": "text/html"
      },
      "source": [
        "<!-- # extract R^2 from fitted model -->"
      ],
      "id": "0f885400-c1cb-4baf-abe9-edfe6e9bbc7a"
    },
    {
      "cell_type": "raw",
      "metadata": {
        "raw_mimetype": "text/html"
      },
      "source": [
        "<!-- summary(lmod_silly)$r.squared -->"
      ],
      "id": "238c7560-be2b-414d-a7cc-ac5141cb1090"
    },
    {
      "cell_type": "raw",
      "metadata": {
        "raw_mimetype": "text/html"
      },
      "source": [
        "<!-- ``` -->"
      ],
      "id": "a5f6d113-d46d-4585-8c95-5840c6e7d382"
    },
    {
      "cell_type": "raw",
      "metadata": {
        "raw_mimetype": "text/html"
      },
      "source": [
        "<!-- The $R^2$ value increased from 0.8080 to 0.8088! So clearly, choosing the model with the largest $R^2$ can be a mistake, as it will tend to favor models with more regressors. -->"
      ],
      "id": "e09b0c3b-8571-42ca-8119-bd9dfe5e0d6d"
    },
    {
      "cell_type": "raw",
      "metadata": {
        "raw_mimetype": "text/html"
      },
      "source": [
        "<!-- --- -->"
      ],
      "id": "d977f56d-800a-4bde-8c28-1b4a94a843e4"
    },
    {
      "cell_type": "raw",
      "metadata": {
        "raw_mimetype": "text/html"
      },
      "source": [
        "<!-- Regarding point 2, $R^2$ can mislead you into thinking an inappropriate model fits better than it actually does. @anscombe1973graphs provided a canonical data set known as \"Anscombe's quartet\" that illustrates this point. The data set is comprised of 4 different data sets. When a simple linear regression model is fit to each data set, we find that $\\hat{\\beta}_0=3$, $\\hat{\\beta}_1=0.5$, and that $R^2=0.67$. However, as we will see, not all models describe the data particularly well! -->"
      ],
      "id": "15e2c315-241a-4aff-8d63-b007bef8e4cc"
    },
    {
      "cell_type": "raw",
      "metadata": {
        "raw_mimetype": "text/html"
      },
      "source": [
        "<!-- Anscombe's quartet is available as the `anscombe` data set in the **datasets** package. The data set includes 11 observations of -->"
      ],
      "id": "a2a0cf25-b071-44b6-b93c-dffd0513c3e5"
    },
    {
      "cell_type": "raw",
      "metadata": {
        "raw_mimetype": "text/html"
      },
      "source": [
        "<!-- 8 variables. The variables are: -->"
      ],
      "id": "50b228e4-aa17-4b39-b65b-dd087b25f00f"
    },
    {
      "cell_type": "raw",
      "metadata": {
        "raw_mimetype": "text/html"
      },
      "source": [
        "<!-- -   `x1`, `x2`, `x3` `x4`: the regressor variable for each individual data set. -->"
      ],
      "id": "0c22e707-4156-4444-95a3-c05f6672e985"
    },
    {
      "cell_type": "raw",
      "metadata": {
        "raw_mimetype": "text/html"
      },
      "source": [
        "<!-- -   `y1`, `y2`, `y3` `y4`: the response variable for each individual data set. -->"
      ],
      "id": "e8431156-619d-48ba-b66a-0c74de89475c"
    },
    {
      "cell_type": "raw",
      "metadata": {
        "raw_mimetype": "text/html"
      },
      "source": [
        "<!-- We fit the simple linear regression model to the four data sets in the code below, then extract the coefficients and $R^2$ to verify the information provided above. -->"
      ],
      "id": "b7a5fdb1-86d1-4dd5-975f-80df2dabe3c0"
    },
    {
      "cell_type": "raw",
      "metadata": {
        "raw_mimetype": "text/html"
      },
      "source": [
        "<!-- ```{r} -->"
      ],
      "id": "d3585b3a-7de1-4752-9e24-5c10b48b1257"
    },
    {
      "cell_type": "raw",
      "metadata": {
        "raw_mimetype": "text/html"
      },
      "source": [
        "<!-- # fit model to first data set -->"
      ],
      "id": "7f55a3f1-27e8-4cad-8f16-1c1cd9a2c887"
    },
    {
      "cell_type": "raw",
      "metadata": {
        "raw_mimetype": "text/html"
      },
      "source": [
        "<!-- lmod_a1 <- lm(y1 ~ x1, data = anscombe) -->"
      ],
      "id": "3710d556-31db-4d0d-b2a5-ae0b36226445"
    },
    {
      "cell_type": "raw",
      "metadata": {
        "raw_mimetype": "text/html"
      },
      "source": [
        "<!-- # extract coefficients from fitted model -->"
      ],
      "id": "bf0267ac-57c3-4f75-9373-94a35ed0556d"
    },
    {
      "cell_type": "raw",
      "metadata": {
        "raw_mimetype": "text/html"
      },
      "source": [
        "<!-- coef(lmod_a1) -->"
      ],
      "id": "37b5f6d6-b06e-4a05-9743-0df8f7746795"
    },
    {
      "cell_type": "raw",
      "metadata": {
        "raw_mimetype": "text/html"
      },
      "source": [
        "<!-- # extract R^2 from fitted model -->"
      ],
      "id": "8f9a8c30-c079-41ed-88cf-7da6c00fbd68"
    },
    {
      "cell_type": "raw",
      "metadata": {
        "raw_mimetype": "text/html"
      },
      "source": [
        "<!-- summary(lmod_a1)$r.squared -->"
      ],
      "id": "e9584cde-e40c-41bc-a1e1-146c63002a35"
    },
    {
      "cell_type": "raw",
      "metadata": {
        "raw_mimetype": "text/html"
      },
      "source": [
        "<!-- # fit model to second data set -->"
      ],
      "id": "d88d1a10-d9e3-4e2e-b32a-f39c06c3bba8"
    },
    {
      "cell_type": "raw",
      "metadata": {
        "raw_mimetype": "text/html"
      },
      "source": [
        "<!-- lmod_a2 <- lm(y2 ~ x2, data = anscombe) -->"
      ],
      "id": "37092d70-2c53-41be-9657-43b3fb0b1f5a"
    },
    {
      "cell_type": "raw",
      "metadata": {
        "raw_mimetype": "text/html"
      },
      "source": [
        "<!-- coef(lmod_a2) -->"
      ],
      "id": "46972425-5215-4225-968f-b228d00c71d0"
    },
    {
      "cell_type": "raw",
      "metadata": {
        "raw_mimetype": "text/html"
      },
      "source": [
        "<!-- summary(lmod_a2)$r.squared -->"
      ],
      "id": "2fc11c62-afd3-48f0-bb72-8f1090c3b010"
    },
    {
      "cell_type": "raw",
      "metadata": {
        "raw_mimetype": "text/html"
      },
      "source": [
        "<!-- # fit model to third data set -->"
      ],
      "id": "c23fda3b-f547-47d2-9079-ed26cb5f4f1e"
    },
    {
      "cell_type": "raw",
      "metadata": {
        "raw_mimetype": "text/html"
      },
      "source": [
        "<!-- lmod_a3 <- lm(y3 ~ x3, data = anscombe) -->"
      ],
      "id": "ec88ffc5-e000-41d3-bc22-d4f6e62b152b"
    },
    {
      "cell_type": "raw",
      "metadata": {
        "raw_mimetype": "text/html"
      },
      "source": [
        "<!-- coef(lmod_a3) -->"
      ],
      "id": "c63ab17c-b5d6-4369-8667-5bb1daa2361c"
    },
    {
      "cell_type": "raw",
      "metadata": {
        "raw_mimetype": "text/html"
      },
      "source": [
        "<!-- summary(lmod_a3)$r.squared -->"
      ],
      "id": "58d6bd76-1376-4b28-ab6d-ab0dadd59325"
    },
    {
      "cell_type": "raw",
      "metadata": {
        "raw_mimetype": "text/html"
      },
      "source": [
        "<!-- # fit model to fourth data set -->"
      ],
      "id": "faa93a7f-5823-475e-900d-a7a2cd2e9a77"
    },
    {
      "cell_type": "raw",
      "metadata": {
        "raw_mimetype": "text/html"
      },
      "source": [
        "<!-- lmod_a4 <- lm(y4 ~ x4, data = anscombe) -->"
      ],
      "id": "27a49732-1990-4eee-bc60-0d145faab1ba"
    },
    {
      "cell_type": "raw",
      "metadata": {
        "raw_mimetype": "text/html"
      },
      "source": [
        "<!-- coef(lmod_a4) -->"
      ],
      "id": "4c98ff19-c757-4005-92b7-fe998ece34c5"
    },
    {
      "cell_type": "raw",
      "metadata": {
        "raw_mimetype": "text/html"
      },
      "source": [
        "<!-- summary(lmod_a4)$r.squared -->"
      ],
      "id": "e5be1682-62e6-43eb-91aa-aed0c2a25073"
    },
    {
      "cell_type": "raw",
      "metadata": {
        "raw_mimetype": "text/html"
      },
      "source": [
        "<!-- ``` -->"
      ],
      "id": "ad0b03e9-d159-49d6-9a29-9bd9c826dede"
    },
    {
      "cell_type": "raw",
      "metadata": {
        "raw_mimetype": "text/html"
      },
      "source": [
        "<!-- Figure \\@ref(fig:anscombe-plots) provides a scatter plot each data set and overlays their fitted models. -->"
      ],
      "id": "6055dcda-9e13-472a-ad30-07111a75042f"
    },
    {
      "cell_type": "raw",
      "metadata": {
        "raw_mimetype": "text/html"
      },
      "source": [
        "<!-- ```{r anscombe-plots, fig.cap=\"Scatter plots of the four Anscombe data sets along with their line of best fit.\", fig.asp = .5, echo = FALSE, message = FALSE} -->"
      ],
      "id": "eab95ac5-0462-49c7-8f57-9ef3c801e837"
    },
    {
      "cell_type": "raw",
      "metadata": {
        "raw_mimetype": "text/html"
      },
      "source": [
        "<!-- # par(mfrow = c(1, 4)) -->"
      ],
      "id": "84961afe-240b-4c07-9624-483f5f450ccc"
    },
    {
      "cell_type": "raw",
      "metadata": {
        "raw_mimetype": "text/html"
      },
      "source": [
        "<!-- # plot(y1 ~ x1, data = anscombe) -->"
      ],
      "id": "029ffc37-86fe-498f-be6c-ee931a860886"
    },
    {
      "cell_type": "raw",
      "metadata": {
        "raw_mimetype": "text/html"
      },
      "source": [
        "<!-- # title(\"data set 1\") -->"
      ],
      "id": "b8e3c9a9-ea4b-4486-b0ab-8eb7f68b5d0e"
    },
    {
      "cell_type": "raw",
      "metadata": {
        "raw_mimetype": "text/html"
      },
      "source": [
        "<!-- # abline(lmod_a1) -->"
      ],
      "id": "64af3da3-305d-4cba-a37a-97eb6662f00c"
    },
    {
      "cell_type": "raw",
      "metadata": {
        "raw_mimetype": "text/html"
      },
      "source": [
        "<!-- # plot(y2 ~ x2, data = anscombe) -->"
      ],
      "id": "8e71fd1a-6988-4cc9-9b4b-5e35beacb3b4"
    },
    {
      "cell_type": "raw",
      "metadata": {
        "raw_mimetype": "text/html"
      },
      "source": [
        "<!-- # title(\"data set 2\") -->"
      ],
      "id": "81e4dc96-f030-42ff-ace8-e8312b358c1e"
    },
    {
      "cell_type": "raw",
      "metadata": {
        "raw_mimetype": "text/html"
      },
      "source": [
        "<!-- # abline(lmod_a2) -->"
      ],
      "id": "b9ba0229-f07d-4675-a9d1-4680f44d6846"
    },
    {
      "cell_type": "raw",
      "metadata": {
        "raw_mimetype": "text/html"
      },
      "source": [
        "<!-- # plot(y3 ~ x3, data = anscombe) -->"
      ],
      "id": "b9ce17eb-4869-4096-8465-c1d56ae2c5bd"
    },
    {
      "cell_type": "raw",
      "metadata": {
        "raw_mimetype": "text/html"
      },
      "source": [
        "<!-- # title(\"data set 3\") -->"
      ],
      "id": "0d348640-5d05-4311-9fbb-818e9430f3cc"
    },
    {
      "cell_type": "raw",
      "metadata": {
        "raw_mimetype": "text/html"
      },
      "source": [
        "<!-- # abline(lmod_a3) -->"
      ],
      "id": "59650ef5-e813-4647-9a17-40d8433c6936"
    },
    {
      "cell_type": "raw",
      "metadata": {
        "raw_mimetype": "text/html"
      },
      "source": [
        "<!-- # plot(y4 ~ x4, data = anscombe) -->"
      ],
      "id": "4a769cf9-13dc-41e3-9bf3-ed61fbf3937e"
    },
    {
      "cell_type": "raw",
      "metadata": {
        "raw_mimetype": "text/html"
      },
      "source": [
        "<!-- # title(\"data set 4\") -->"
      ],
      "id": "703fa2b8-13dd-4483-a00d-7b5ad79104df"
    },
    {
      "cell_type": "raw",
      "metadata": {
        "raw_mimetype": "text/html"
      },
      "source": [
        "<!-- # abline(lmod_a4) -->"
      ],
      "id": "ad5130f0-74a9-4698-8a44-ba02783108a8"
    },
    {
      "cell_type": "raw",
      "metadata": {
        "raw_mimetype": "text/html"
      },
      "source": [
        "<!-- # par(mfrow = c(1, 1)) -->"
      ],
      "id": "6e3dc795-5ac4-4a2a-b728-9fe0e69060c4"
    },
    {
      "cell_type": "raw",
      "metadata": {
        "raw_mimetype": "text/html"
      },
      "source": [
        "<!-- adf = data.frame(x = unlist(anscombe[,1:4]), -->"
      ],
      "id": "2264493d-1304-4752-8571-25b8521ac2c0"
    },
    {
      "cell_type": "raw",
      "metadata": {
        "raw_mimetype": "text/html"
      },
      "source": [
        "<!--                  y = unlist(anscombe[,5:8]), -->"
      ],
      "id": "ccf90f54-630d-46ee-ac30-4fb1702e39c6"
    },
    {
      "cell_type": "raw",
      "metadata": {
        "raw_mimetype": "text/html"
      },
      "source": [
        "<!--                  set = factor(rep(1:4, each = 11))) -->"
      ],
      "id": "20101f70-8d12-4b92-8d58-6d4fb794a503"
    },
    {
      "cell_type": "raw",
      "metadata": {
        "raw_mimetype": "text/html"
      },
      "source": [
        "<!-- ggplot(adf, aes(x = x, y = y, group = set, col = set)) + -->"
      ],
      "id": "414ee11e-69a2-4dea-8647-4b064cad585e"
    },
    {
      "cell_type": "raw",
      "metadata": {
        "raw_mimetype": "text/html"
      },
      "source": [
        "<!--   geom_point(col = \"black\") + -->"
      ],
      "id": "9dd4b3aa-5a36-4b2b-8ae4-bc04fa15c88e"
    },
    {
      "cell_type": "raw",
      "metadata": {
        "raw_mimetype": "text/html"
      },
      "source": [
        "<!--   geom_smooth(aes(group = set), method = \"lm\", se = FALSE) + -->"
      ],
      "id": "2f99b095-d030-4913-9c62-d17460e1222b"
    },
    {
      "cell_type": "raw",
      "metadata": {
        "raw_mimetype": "text/html"
      },
      "source": [
        "<!--   facet_grid(. ~ set) + -->"
      ],
      "id": "e26aaef3-288d-4cc3-84c3-4264f110dd6c"
    },
    {
      "cell_type": "raw",
      "metadata": {
        "raw_mimetype": "text/html"
      },
      "source": [
        "<!--   theme_bw() -->"
      ],
      "id": "ac706a93-6ae8-474e-9a24-503893b0f236"
    },
    {
      "cell_type": "raw",
      "metadata": {
        "raw_mimetype": "text/html"
      },
      "source": [
        "<!-- ``` -->"
      ],
      "id": "209d8090-5fb3-49f5-b4f2-22f559e494fe"
    },
    {
      "cell_type": "raw",
      "metadata": {
        "raw_mimetype": "text/html"
      },
      "source": [
        "<!-- While the fitted model and $R^2$ value is essentially the same for each model, the fitted model is only appropriate for data set 1. The fitted model for the second data set fails to model the curve of the data. The third fitted model doesn't handle the outlier in the data. Lastly, the fourth data set has a single point on the far right side driving the model fit, so the fitted model is highly questionable. -->"
      ],
      "id": "6ed7d669-7c3e-40be-b580-4ff52799e7c2"
    },
    {
      "cell_type": "raw",
      "metadata": {
        "raw_mimetype": "text/html"
      },
      "source": [
        "<!-- To address the problem with $R^2$ that it cannot decrease as regressors are added to a model, @ezekiel1930methods proposed the adjusted R-squared statistic for measuring model fit. The adjusted $R^2$ statistic is defined as -->"
      ],
      "id": "493c7961-b40f-4b06-a0dc-f4be30d74f77"
    },
    {
      "cell_type": "raw",
      "metadata": {
        "raw_mimetype": "text/html"
      },
      "source": [
        "<!-- \\[ -->"
      ],
      "id": "f1d2f91b-e54a-426e-bb1c-f15b6e92db56"
    },
    {
      "cell_type": "raw",
      "metadata": {
        "raw_mimetype": "text/html"
      },
      "source": [
        "<!-- R^2_a=1-(1-R^2)\\frac{n-1}{n-p}=1-\\frac{RSS/(n-p)}{TSS/(n-1)}. -->"
      ],
      "id": "1af71f23-e80f-4930-abff-53433e2ab9e8"
    },
    {
      "cell_type": "raw",
      "metadata": {
        "raw_mimetype": "text/html"
      },
      "source": [
        "<!-- \\] -->"
      ],
      "id": "71b985b5-fb4e-467d-96f2-746464ebb6fe"
    },
    {
      "cell_type": "raw",
      "metadata": {
        "raw_mimetype": "text/html"
      },
      "source": [
        "<!-- Practically speaking, $R^2_a$ will only increase when a regressors substantively improves the fit of the model to the observed data. We favor models with larger values of $R^2_a$. To extract the adjusted R-squared from a fitted model, we can use the syntax `summary(lmod)$adj.R.squared`, where `lmod` is the fitted model. -->"
      ],
      "id": "bf87fbb5-1e75-44fe-be58-d995528d2325"
    },
    {
      "cell_type": "raw",
      "metadata": {
        "raw_mimetype": "text/html"
      },
      "source": [
        "<!-- Using the code below, we extract the $R^2_a$ for the 4 models we previously fit to the `penguins` data. Specifically, we extract $R_a^2$ for the simple linear regression model fit in Section \\@ref(s:penguins-slr), the multiple linear regression model in Section \\@ref(s:penguins-mlr), and the parallel and separate lines models fit in Section \\@ref(s:penguins-mlr2). -->"
      ],
      "id": "cf92c25a-a640-474d-9324-0e5cf98df627"
    },
    {
      "cell_type": "raw",
      "metadata": {
        "raw_mimetype": "text/html"
      },
      "source": [
        "<!-- ```{r} -->"
      ],
      "id": "ed933ef1-ffa5-44fe-aa42-5b28c5e068d2"
    },
    {
      "cell_type": "raw",
      "metadata": {
        "raw_mimetype": "text/html"
      },
      "source": [
        "<!-- # simple linear regression model -->"
      ],
      "id": "8796aff7-1c14-481d-b7e4-a483194606f8"
    },
    {
      "cell_type": "raw",
      "metadata": {
        "raw_mimetype": "text/html"
      },
      "source": [
        "<!-- summary(lmod)$adj.r.squared -->"
      ],
      "id": "4b83cd33-53bf-495a-b6cf-b2389df889f0"
    },
    {
      "cell_type": "raw",
      "metadata": {
        "raw_mimetype": "text/html"
      },
      "source": [
        "<!-- # multiple linear regression model -->"
      ],
      "id": "1af24983-f33f-4e2c-a524-9908fdfaffeb"
    },
    {
      "cell_type": "raw",
      "metadata": {
        "raw_mimetype": "text/html"
      },
      "source": [
        "<!-- summary(mlmod)$adj.r.squared -->"
      ],
      "id": "a7d8bbe0-3027-47eb-afdf-581c0e9068be"
    },
    {
      "cell_type": "raw",
      "metadata": {
        "raw_mimetype": "text/html"
      },
      "source": [
        "<!-- # parallel lines model -->"
      ],
      "id": "d4af7fb8-cb6d-49dd-90f0-c2183e9ff84a"
    },
    {
      "cell_type": "raw",
      "metadata": {
        "raw_mimetype": "text/html"
      },
      "source": [
        "<!-- summary(lmodp)$adj.r.squared -->"
      ],
      "id": "c6d664f5-d7b8-4d76-b2f4-483d5578e488"
    },
    {
      "cell_type": "raw",
      "metadata": {
        "raw_mimetype": "text/html"
      },
      "source": [
        "<!-- # separate lines model -->"
      ],
      "id": "664d791c-aa22-4f63-887e-8c19e76a7f13"
    },
    {
      "cell_type": "raw",
      "metadata": {
        "raw_mimetype": "text/html"
      },
      "source": [
        "<!-- summary(lmods)$adj.r.squared -->"
      ],
      "id": "f5d7e599-6569-44b1-b00b-6b531640dff8"
    },
    {
      "cell_type": "raw",
      "metadata": {
        "raw_mimetype": "text/html"
      },
      "source": [
        "<!-- ``` -->"
      ],
      "id": "2aa2c800-0dfc-448b-8bc3-51552de36ad7"
    },
    {
      "cell_type": "raw",
      "metadata": {
        "raw_mimetype": "text/html"
      },
      "source": [
        "<!-- With an $R_a^2$ of 0.8070, the separate lines regression model appears to be slightly favored over the other 3 models fit to the `penguins` data. To confirm that this statistic is meaningful (i.e., that the model provides a reasonable fit to the data), we use the code below to create a scatter plot of the response versus fitted values shown in Figure \\@ref(fig:y-vs-yhat-penguins). The points in Figure \\@ref(fig:y-vs-yhat-penguins) follow a linear pattern, so the separate lines model seems to be a reasonable model for the `penguins` data. -->"
      ],
      "id": "1a0a184a-436d-4b7c-aaf1-8304ff4ee1df"
    },
    {
      "cell_type": "raw",
      "metadata": {
        "raw_mimetype": "text/html"
      },
      "source": [
        "<!-- ```{r y-vs-yhat-penguins, fig.cap=\"A scatter plot of the observed bill length versus the fitted values of the separate lines model for the `penguins` data.\"} -->"
      ],
      "id": "6a6093b9-d7df-4bd0-b519-67b4220d239d"
    },
    {
      "cell_type": "raw",
      "metadata": {
        "raw_mimetype": "text/html"
      },
      "source": [
        "<!-- plot(penguins$bill_length_mm ~ fitted(lmods), -->"
      ],
      "id": "6e9c4c64-96a6-4272-8e7d-7e9ea567cd28"
    },
    {
      "cell_type": "raw",
      "metadata": {
        "raw_mimetype": "text/html"
      },
      "source": [
        "<!--      xlab = \"fitted values\", ylab = \"bill length (mm)\") -->"
      ],
      "id": "c662488a-a1e7-4cd0-8773-8fe656857093"
    },
    {
      "cell_type": "raw",
      "metadata": {
        "raw_mimetype": "text/html"
      },
      "source": [
        "<!-- ``` -->"
      ],
      "id": "e6029b3e-8153-4436-913c-8b6d6b478885"
    },
    {
      "cell_type": "raw",
      "metadata": {
        "raw_mimetype": "text/html"
      },
      "source": [
        "<!-- # Summary -->"
      ],
      "id": "fc22c27a-a0a3-4160-8e8e-f67674ae4e7e"
    },
    {
      "cell_type": "raw",
      "metadata": {
        "raw_mimetype": "text/html"
      },
      "source": [
        "<!-- In this chapter, we learned: -->"
      ],
      "id": "f0b8c0e7-ad92-4781-bf13-46f115d0a51f"
    },
    {
      "cell_type": "raw",
      "metadata": {
        "raw_mimetype": "text/html"
      },
      "source": [
        "<!-- - What a linear model is. -->"
      ],
      "id": "b5cc8aa4-9708-4a1e-a046-55c332078dce"
    },
    {
      "cell_type": "raw",
      "metadata": {
        "raw_mimetype": "text/html"
      },
      "source": [
        "<!-- - What various objects are, such as coefficients, residuals, fitted values, etc. -->"
      ],
      "id": "f80cc81c-d5b1-4f8c-96eb-3dc3d663c3d2"
    },
    {
      "cell_type": "raw",
      "metadata": {
        "raw_mimetype": "text/html"
      },
      "source": [
        "<!-- - How to estimate the coefficients of a linear model using ordinary least squares estimation. -->"
      ],
      "id": "5c87645e-beed-4dbc-a32d-982758fb8f4b"
    },
    {
      "cell_type": "raw",
      "metadata": {
        "raw_mimetype": "text/html"
      },
      "source": [
        "<!-- - How to fit a linear model using R. -->"
      ],
      "id": "7eb37c5d-881a-485b-9fb5-1c63757c59d4"
    },
    {
      "cell_type": "raw",
      "metadata": {
        "raw_mimetype": "text/html"
      },
      "source": [
        "<!-- - How to include a categorical predictor in a linear model. -->"
      ],
      "id": "9aa5ad67-818f-4f18-beae-15cf76562eb2"
    },
    {
      "cell_type": "raw",
      "metadata": {
        "raw_mimetype": "text/html"
      },
      "source": [
        "<!-- - How to evaluate the fit of a model. -->"
      ],
      "id": "e89dbda8-fc30-4233-9fd9-5dea130d4bb7"
    },
    {
      "cell_type": "raw",
      "metadata": {
        "raw_mimetype": "text/html"
      },
      "source": [
        "<!-- ## Summary of terms -->"
      ],
      "id": "53194ea1-3e54-445a-8566-50cb0bbe438a"
    },
    {
      "cell_type": "raw",
      "metadata": {
        "raw_mimetype": "text/html"
      },
      "source": [
        "<!-- We have introduced many terms to define a linear model. It can be difficult to keep track of their notation, their purpose, whether they are observable, and whether they are treated as random variables or vectors. We discuss various terms below, and then summarize the discussion in Table \\@ref(tab:term-df). -->"
      ],
      "id": "83638da4-8464-4806-99ff-267e1458fe2f"
    },
    {
      "cell_type": "raw",
      "metadata": {
        "raw_mimetype": "text/html"
      },
      "source": [
        "<!-- We've already talked about observing the response variable and the predictor/regressor variables. So these objects are observable. However, we have no way to measure the regression coefficients or the error. These are not observable. One way to distinguish observable versus non-observable variables is that observable variables are denoted using Phoenician letters (e.g., $X$ and $Y$) while non-observable variables are denoted using Greek letters (e.g., $\\beta_j$, $\\epsilon$, $\\sigma^2$). -->"
      ],
      "id": "2280fdb5-2c9d-420d-b925-0007609b4112"
    },
    {
      "cell_type": "raw",
      "metadata": {
        "raw_mimetype": "text/html"
      },
      "source": [
        "<!-- We treat the response variable as a random variable. Perhaps surprisingly, we treat the predictor and regressor variables as fixed, non-random variables. The regression coefficients are treated as fixed, non-random but unknown values. This is standard for parameters in a statistical model. The errors are also treated as random variables. In fact, since both the regressor variables and the regression coefficients are non-random, the only way for the responses in Equation \\@ref(eq:lmSystem) to be random variables is for the errors to be random. -->"
      ],
      "id": "72c889d7-4607-439b-a46e-8fc009c98876"
    },
    {
      "cell_type": "raw",
      "metadata": {
        "raw_mimetype": "text/html"
      },
      "source": [
        "<!-- ```{r term-df, echo = FALSE} -->"
      ],
      "id": "d34292a5-116a-4bec-a77f-9029b3cd12f1"
    },
    {
      "cell_type": "raw",
      "metadata": {
        "raw_mimetype": "text/html"
      },
      "source": [
        "<!-- term <- c(\"$Y$\", \"$Y_i$\", \"$\\\\mathbf{y}$\", \"$X$\", -->"
      ],
      "id": "92ae0d6e-391d-4ee2-bc55-2d6f5cc564b6"
    },
    {
      "cell_type": "raw",
      "metadata": {
        "raw_mimetype": "text/html"
      },
      "source": [
        "<!--              \"$X_j$\", \"$x_{i,j}$\", \"$\\\\mathbf{X}$\", \"$\\\\mathbf{x}_i$\", \"$\\\\beta_j$\", \"$\\\\boldsymbol{\\\\beta}$\", \"$\\\\epsilon$\", \"$\\\\epsilon_i$\") -->"
      ],
      "id": "ded2db06-2f0a-4aba-ad85-b3f9e9b9b5ae"
    },
    {
      "cell_type": "raw",
      "metadata": {
        "raw_mimetype": "text/html"
      },
      "source": [
        "<!-- description <- c(\"response variable\", \"response value for the $i$th observation\", \"the $n\\\\times 1$ column vector of response values\", \"regressor variable\", \"the $j$th regressor variable\", \"the value of the $j$th regressor variable for the $i$th observation\", \"the $n\\\\times p$ matrix of regressor values\", \"the $p\\\\times 1$ vector of regressor values for the $i$th observation\", \"the coefficient associated with the $j$th regressor variable\", \"the $p\\\\times 1$ column vector of regression coefficients\", \"the model error\", \"the error for the $i$th observation\") -->"
      ],
      "id": "a1007d65-ec62-416f-a57f-e56b2f7782ab"
    },
    {
      "cell_type": "raw",
      "metadata": {
        "raw_mimetype": "text/html"
      },
      "source": [
        "<!-- observable <- c(\"Yes\", \"Yes\", \"Yes\", \"Yes\", \"Yes\", \"Yes\", \"Yes\", \"Yes\", \"No\", \"No\", \"No\", \"No\") -->"
      ],
      "id": "188c1e02-679b-4a77-b329-44dc2486e127"
    },
    {
      "cell_type": "raw",
      "metadata": {
        "raw_mimetype": "text/html"
      },
      "source": [
        "<!-- random <- c(\"Yes\", \"Yes\", \"Yes\", \"No\", \"No\", \"No\", \"No\", \"No\", \"No\", \"No\", \"Yes\", \"Yes\") -->"
      ],
      "id": "0d996b96-4123-4612-9566-91a821a4123f"
    },
    {
      "cell_type": "raw",
      "metadata": {
        "raw_mimetype": "text/html"
      },
      "source": [
        "<!-- term_df <- data.frame(term, description, observable, random) -->"
      ],
      "id": "009523fd-9898-4b98-ab7b-c4ea50a48540"
    },
    {
      "cell_type": "raw",
      "metadata": {
        "raw_mimetype": "text/html"
      },
      "source": [
        "<!-- kbl(term_df, -->"
      ],
      "id": "1b3d63ef-a999-4cbe-85a5-23dddf2cf88d"
    },
    {
      "cell_type": "raw",
      "metadata": {
        "raw_mimetype": "text/html"
      },
      "source": [
        "<!--     col.names = c(\"Term\", \"Description\", \"Observable?\", \"Random?\"), -->"
      ],
      "id": "b559aabf-42fb-4c65-a523-d202f75025e9"
    },
    {
      "cell_type": "raw",
      "metadata": {
        "raw_mimetype": "text/html"
      },
      "source": [
        "<!--     caption = \"An overview of terms used to define a linear model.\", -->"
      ],
      "id": "36983f26-0fa0-44ce-8629-067695b9137d"
    },
    {
      "cell_type": "raw",
      "metadata": {
        "raw_mimetype": "text/html"
      },
      "source": [
        "<!--     booktabs = TRUE, -->"
      ],
      "id": "b737c24b-f266-4ee4-9dad-31d3818c7930"
    },
    {
      "cell_type": "raw",
      "metadata": {
        "raw_mimetype": "text/html"
      },
      "source": [
        "<!--     escape = FALSE) |> -->"
      ],
      "id": "f244504f-082b-4af1-b2c7-6becc802656c"
    },
    {
      "cell_type": "raw",
      "metadata": {
        "raw_mimetype": "text/html"
      },
      "source": [
        "<!--   column_spec(2, width = \"2in\") |> -->"
      ],
      "id": "650c73b3-7df3-49fa-900a-814bd74958ca"
    },
    {
      "cell_type": "raw",
      "metadata": {
        "raw_mimetype": "text/html"
      },
      "source": [
        "<!--   kable_styling(full_width = FALSE) -->"
      ],
      "id": "9d42c09d-3835-4ab9-b565-b0c3477c696e"
    },
    {
      "cell_type": "raw",
      "metadata": {
        "raw_mimetype": "text/html"
      },
      "source": [
        "<!-- ``` -->"
      ],
      "id": "0ba90abb-b39c-4e83-8182-cd97a0e4700b"
    },
    {
      "cell_type": "raw",
      "metadata": {
        "raw_mimetype": "text/html"
      },
      "source": [
        "<!-- ## Summary of functions -->"
      ],
      "id": "2a138026-52d3-45e9-95b6-1847d402cee3"
    },
    {
      "cell_type": "raw",
      "metadata": {
        "raw_mimetype": "text/html"
      },
      "source": [
        "<!-- We have used many functions in this Chapter. We summarize some of the most important ones in Table \\@ref(tab:function-df). -->"
      ],
      "id": "5446876c-3f09-4e96-a4a2-06a2ed807df0"
    },
    {
      "cell_type": "raw",
      "metadata": {
        "raw_mimetype": "text/html"
      },
      "source": [
        "<!-- ```{r function-df, echo = FALSE} -->"
      ],
      "id": "ea5fb7bf-7421-4d25-a9a1-bfc32e56148d"
    },
    {
      "cell_type": "raw",
      "metadata": {
        "raw_mimetype": "text/html"
      },
      "source": [
        "<!-- func <- c(\"`lm`\", \"`summary`\", \"`coef`\", \"`residuals`\", \"`fitted`\", \"`predict`\", \"`deviance`\", \"`sigma`\", \"`update`\") -->"
      ],
      "id": "f611ef35-01e0-4cac-b96b-29440499f7f0"
    },
    {
      "cell_type": "raw",
      "metadata": {
        "raw_mimetype": "text/html"
      },
      "source": [
        "<!-- purpose <- c(\"Fits a linear model based on a provided `formula`\", \"Provides summary information about the fitted model\", \"Extracts the vector of estimated regression coefficients from the fitted model\", \"Extracts the vector of residuals from the fitted model\", \"Extracts the vector of fitted values from the fitted model\", -->"
      ],
      "id": "a50f0bf5-2304-48ef-828e-c642055b8e08"
    },
    {
      "cell_type": "raw",
      "metadata": {
        "raw_mimetype": "text/html"
      },
      "source": [
        "<!--              \"Computes the fitted values (or arbitrary predictions) based on a fitted model\", \"Extracts the RSS of a fitted model\", \"Extracts $\\\\hat{\\\\sigma}$ from the fitted model\", \"Updates a fitted model to remove or add regressors\") -->"
      ],
      "id": "28f0da98-5d25-49e5-9564-f26e4626f44e"
    },
    {
      "cell_type": "raw",
      "metadata": {
        "raw_mimetype": "text/html"
      },
      "source": [
        "<!-- kbl(data.frame(func, purpose), -->"
      ],
      "id": "4228dec7-3d2f-488c-b70c-66415fb66de5"
    },
    {
      "cell_type": "raw",
      "metadata": {
        "raw_mimetype": "text/html"
      },
      "source": [
        "<!--     col.names = c(\"Function\", \"Purpose\"), -->"
      ],
      "id": "fad96760-186d-41e6-91ae-1dffd2d3ea13"
    },
    {
      "cell_type": "raw",
      "metadata": {
        "raw_mimetype": "text/html"
      },
      "source": [
        "<!--     caption = \"An overview of important functions discussed in this chapter.\", -->"
      ],
      "id": "b0d94ecb-3a10-4e1f-bbe7-75b85708f2be"
    },
    {
      "cell_type": "raw",
      "metadata": {
        "raw_mimetype": "text/html"
      },
      "source": [
        "<!--     booktabs = TRUE, -->"
      ],
      "id": "3b9f644d-348a-434e-b0ae-bba2ba5e6951"
    },
    {
      "cell_type": "raw",
      "metadata": {
        "raw_mimetype": "text/html"
      },
      "source": [
        "<!--     escape = FALSE) |> -->"
      ],
      "id": "b47cdad2-2d81-4ec4-a6e3-89dc5852697d"
    },
    {
      "cell_type": "raw",
      "metadata": {
        "raw_mimetype": "text/html"
      },
      "source": [
        "<!--   column_spec(column = 2, width = \"3in\")  |> -->"
      ],
      "id": "626bbaf7-ed66-4665-b6a4-8a371bf2910a"
    },
    {
      "cell_type": "raw",
      "metadata": {
        "raw_mimetype": "text/html"
      },
      "source": [
        "<!--   kable_styling(full_width = FALSE) -->"
      ],
      "id": "f7a61182-bb49-433a-818d-328a7d311cf7"
    },
    {
      "cell_type": "raw",
      "metadata": {
        "raw_mimetype": "text/html"
      },
      "source": [
        "<!-- ``` -->"
      ],
      "id": "e2576b95-c58f-4886-ba09-21c41c720ab1"
    },
    {
      "cell_type": "raw",
      "metadata": {
        "raw_mimetype": "text/html"
      },
      "source": [
        "<!-- # Going Deeper -->"
      ],
      "id": "f77cc6e9-ea66-4bcf-b11d-432f1bef1152"
    },
    {
      "cell_type": "raw",
      "metadata": {
        "raw_mimetype": "text/html"
      },
      "source": [
        "<!-- ## Degrees of freedom -->"
      ],
      "id": "46d0fb0a-b1d6-40ff-ba5f-780ef080c4fc"
    },
    {
      "cell_type": "raw",
      "metadata": {
        "raw_mimetype": "text/html"
      },
      "source": [
        "<!-- The degrees of freedom of a statistics refers to the number of independent pieces of information that go into its calculation. -->"
      ],
      "id": "23d838fd-eb0f-4d13-a71d-8d87996cbd46"
    },
    {
      "cell_type": "raw",
      "metadata": {
        "raw_mimetype": "text/html"
      },
      "source": [
        "<!-- Consider the sample mean -->"
      ],
      "id": "c7398160-3d2f-4aa8-9174-fcf94faf1aee"
    },
    {
      "cell_type": "raw",
      "metadata": {
        "raw_mimetype": "text/html"
      },
      "source": [
        "<!-- \\[\\bar{x}=\\sum_{i=1}^n x_i.\\] -->"
      ],
      "id": "f49eadc7-6f91-4c8f-bcc8-4ef4aa4667d9"
    },
    {
      "cell_type": "raw",
      "metadata": {
        "raw_mimetype": "text/html"
      },
      "source": [
        "<!-- The calculation uses $n$ pieces of information to compute, but the statistic only has $n-1$ degrees of freedom. Once you know the sample mean, only $n-1$ values are  independent, while the last is constrained to be a certain value. -->"
      ],
      "id": "9c7b8457-ac29-4966-8cc3-c207c333db40"
    },
    {
      "cell_type": "raw",
      "metadata": {
        "raw_mimetype": "text/html"
      },
      "source": [
        "<!-- Let's say $n=3$ and $\\bar{x} = 10$. Then $x_1$ and $x_2$ can be any numbers, but the last value MUST equal $30 - x_1 - x_2$ so that $x_1 + x_2 + x_3 = 30$ (otherwise the sample mean won't equal 10). To be more specific, if $x_1 = 5$ and $x_2 = 25$, then $x_3$ must be 0, otherwise the sample mean won't be 10. -->"
      ],
      "id": "313b7663-4595-47e2-ade1-d8fd67ad881e"
    },
    {
      "cell_type": "raw",
      "metadata": {
        "raw_mimetype": "text/html"
      },
      "source": [
        "<!-- ## Derivation of the OLS estimators of the simple linear regression model coefficients {#slr-derivation} -->"
      ],
      "id": "5e0064ee-d378-455c-8d76-de7c93cb7df7"
    },
    {
      "cell_type": "raw",
      "metadata": {
        "raw_mimetype": "text/html"
      },
      "source": [
        "<!-- Assume a simple linear regression model with $n$ observations. The residual sum of squares for the simple linear  regression model is -->"
      ],
      "id": "cc8cac13-74d4-4ee7-bfc4-e61fcabd798d"
    },
    {
      "cell_type": "raw",
      "metadata": {
        "raw_mimetype": "text/html"
      },
      "source": [
        "<!-- \\[ -->"
      ],
      "id": "2bc1c7f6-38e5-4793-8d46-638f3fe9274b"
    },
    {
      "cell_type": "raw",
      "metadata": {
        "raw_mimetype": "text/html"
      },
      "source": [
        "<!-- RSS(\\hat\\beta_0, \\hat\\beta_1) = \\sum_{i=1}^n(Y_i - \\hat\\beta_0 - \\hat\\beta_1x_i)^2. -->"
      ],
      "id": "c4d41534-88bf-4d4a-a658-1491fc95b96d"
    },
    {
      "cell_type": "raw",
      "metadata": {
        "raw_mimetype": "text/html"
      },
      "source": [
        "<!-- \\] -->"
      ],
      "id": "fb9b01ab-088c-4708-830a-ae95ce64f0fe"
    },
    {
      "cell_type": "raw",
      "metadata": {
        "raw_mimetype": "text/html"
      },
      "source": [
        "<!-- **OLS estimator of $\\beta_0$** -->"
      ],
      "id": "8f237a42-7d17-490c-adfc-94583867e234"
    },
    {
      "cell_type": "raw",
      "metadata": {
        "raw_mimetype": "text/html"
      },
      "source": [
        "<!-- First, we take the partial derivative of the RSS with respect to $\\hat\\beta_0$ and simplify: -->"
      ],
      "id": "c52dfb1c-6c98-4a88-a39b-fba78d20e1a9"
    },
    {
      "cell_type": "raw",
      "metadata": {
        "raw_mimetype": "text/html"
      },
      "source": [
        "<!-- \\[ -->"
      ],
      "id": "02e8f4d2-c6f6-44a3-8acc-8253fa669736"
    },
    {
      "cell_type": "raw",
      "metadata": {
        "raw_mimetype": "text/html"
      },
      "source": [
        "<!-- \\begin{aligned} -->"
      ],
      "id": "c5381579-3a9e-435d-a114-61ac141f1fad"
    },
    {
      "cell_type": "raw",
      "metadata": {
        "raw_mimetype": "text/html"
      },
      "source": [
        "<!-- \\frac{\\partial RSS(\\hat\\beta_0, \\hat\\beta_1)}{\\partial \\hat\\beta_0} &= \\frac{\\partial}{\\partial \\hat\\beta_0}\\sum_{i=1}^n(Y_i - \\hat\\beta_0 - \\hat\\beta_1x_i)^2 & \\tiny\\text{ (substituting the formula for the RSS)} \\\\ -->"
      ],
      "id": "8b94a167-5c6e-4885-94dc-73689235d80e"
    },
    {
      "cell_type": "raw",
      "metadata": {
        "raw_mimetype": "text/html"
      },
      "source": [
        "<!-- &= \\sum_{i=1}^n \\frac{\\partial}{\\partial \\hat\\beta_0}(Y_i - \\hat\\beta_0 - \\hat\\beta_1x_i)^2  & \\tiny\\text{ (by the linearity property of derivatives)} \\\\ -->"
      ],
      "id": "ca7ba2d2-826e-4941-93de-96a68be62132"
    },
    {
      "cell_type": "raw",
      "metadata": {
        "raw_mimetype": "text/html"
      },
      "source": [
        "<!-- &= -2\\sum_{i=1}^n(Y_i - \\hat\\beta_0 - \\hat\\beta_1x_i). & \\tiny\\text{ (chain rule, factoring out -2)} -->"
      ],
      "id": "bc62602f-8e53-4756-987e-9be147e15d03"
    },
    {
      "cell_type": "raw",
      "metadata": {
        "raw_mimetype": "text/html"
      },
      "source": [
        "<!-- \\end{aligned} -->"
      ],
      "id": "4a19b4ca-f577-44b8-8d5a-d50014d8e6c1"
    },
    {
      "cell_type": "raw",
      "metadata": {
        "raw_mimetype": "text/html"
      },
      "source": [
        "<!-- \\] -->"
      ],
      "id": "1cfab49c-0af6-47ba-86e1-e3f9f2181d24"
    },
    {
      "cell_type": "raw",
      "metadata": {
        "raw_mimetype": "text/html"
      },
      "source": [
        "<!-- Next, we set the partial derivative equal to zero and rearrange the terms to solve for $\\hat{\\beta}_0$: -->"
      ],
      "id": "37138d2e-85ab-42bd-bece-435644e9a21e"
    },
    {
      "cell_type": "raw",
      "metadata": {
        "raw_mimetype": "text/html"
      },
      "source": [
        "<!-- \\[ -->"
      ],
      "id": "1b5457b0-6525-437a-bec5-e767e7900de9"
    },
    {
      "cell_type": "raw",
      "metadata": {
        "raw_mimetype": "text/html"
      },
      "source": [
        "<!-- \\begin{aligned} -->"
      ],
      "id": "b65b53a3-be3d-462f-8ac1-695252ca14ee"
    },
    {
      "cell_type": "raw",
      "metadata": {
        "raw_mimetype": "text/html"
      },
      "source": [
        "<!-- 0 &= \\frac{\\partial RSS(\\hat\\beta_0, \\hat\\beta_1)}{\\partial \\hat\\beta_0}  &  \\\\ -->"
      ],
      "id": "33072637-e6c6-474d-add1-2d072e3a6b70"
    },
    {
      "cell_type": "raw",
      "metadata": {
        "raw_mimetype": "text/html"
      },
      "source": [
        "<!-- 0 &= -2\\sum_{i=1}^n(Y_i - \\hat\\beta_0 - \\hat\\beta_1x_i) & \\tiny\\text{ (substitute partial deriviative)}\\\\ -->"
      ],
      "id": "ccca57dc-cddb-4a08-a950-a4f8eede967d"
    },
    {
      "cell_type": "raw",
      "metadata": {
        "raw_mimetype": "text/html"
      },
      "source": [
        "<!-- 0 &= \\sum_{i=1}^n(Y_i - \\hat\\beta_0 - \\hat\\beta_1x_i) & \\tiny\\text{ (divide both sides by -2)} \\\\ -->"
      ],
      "id": "abe0defb-4ffd-409e-bf4c-db0393708846"
    },
    {
      "cell_type": "raw",
      "metadata": {
        "raw_mimetype": "text/html"
      },
      "source": [
        "<!-- 0 &= \\sum_{i=1}^n Y_i - \\sum_{i=1}^n\\hat\\beta_0 - \\sum_{i=1}^n\\hat\\beta_1x_i &\\tiny\\text{ (by linearity of sum)} \\\\ -->"
      ],
      "id": "f59ab42b-f2de-4c52-a394-b8d2c8085d12"
    },
    {
      "cell_type": "raw",
      "metadata": {
        "raw_mimetype": "text/html"
      },
      "source": [
        "<!-- 0 &= \\sum_{i=1}^n Y_i - n\\hat\\beta_0 - \\sum_{i=1}^n\\hat\\beta_1x_i & \\tiny(\\text{summing }\\hat\\beta_0\\ n\\text{ times equals }n\\hat\\beta_0) \\\\ -->"
      ],
      "id": "6c81fbf3-9fc5-4a79-b7c7-d024da192ca9"
    },
    {
      "cell_type": "raw",
      "metadata": {
        "raw_mimetype": "text/html"
      },
      "source": [
        "<!-- n\\hat\\beta_0 &= \\sum_{i=1}^n Y_i-\\sum_{i=1}^n\\hat\\beta_1x_i. &\\tiny\\text{ (algebra rearrange)} -->"
      ],
      "id": "c01b11d2-74a2-4149-8c74-511f01d902a0"
    },
    {
      "cell_type": "raw",
      "metadata": {
        "raw_mimetype": "text/html"
      },
      "source": [
        "<!-- \\end{aligned} -->"
      ],
      "id": "5517766f-5749-4de4-b8d7-0a9e55163133"
    },
    {
      "cell_type": "raw",
      "metadata": {
        "raw_mimetype": "text/html"
      },
      "source": [
        "<!-- \\] -->"
      ],
      "id": "4356c135-b9f2-41ab-91a3-81f4e1688fc5"
    },
    {
      "cell_type": "raw",
      "metadata": {
        "raw_mimetype": "text/html"
      },
      "source": [
        "<!-- Finally, we divide both sides by $n$ to get the OLS estimator for $\\hat\\beta_0$ in terms of $\\hat\\beta_1$: -->"
      ],
      "id": "52402a9e-3579-4b25-b146-971809fd28b9"
    },
    {
      "cell_type": "raw",
      "metadata": {
        "raw_mimetype": "text/html"
      },
      "source": [
        "<!-- \\[ -->"
      ],
      "id": "a6aef3ed-8016-4c83-b0a2-1efc58d42391"
    },
    {
      "cell_type": "raw",
      "metadata": {
        "raw_mimetype": "text/html"
      },
      "source": [
        "<!-- \\hat\\beta_0 = \\bar Y-\\hat\\beta_1\\bar x -->"
      ],
      "id": "c8b72b82-865c-411c-b8b6-bab391fc00bf"
    },
    {
      "cell_type": "raw",
      "metadata": {
        "raw_mimetype": "text/html"
      },
      "source": [
        "<!-- \\] -->"
      ],
      "id": "a88258e1-fdc8-4881-ba11-9c716d46ec3e"
    },
    {
      "cell_type": "raw",
      "metadata": {
        "raw_mimetype": "text/html"
      },
      "source": [
        "<!-- **OLS Estimator of $\\beta_1$** -->"
      ],
      "id": "8499e520-de42-4e61-a500-fec66ad63cfb"
    },
    {
      "cell_type": "raw",
      "metadata": {
        "raw_mimetype": "text/html"
      },
      "source": [
        "<!-- Similar to the previous derivation, we differentiate the RSS with respect to the parameter estimate of interest, set the derivative equal to zero, and solve for the parameter. -->"
      ],
      "id": "5e18b430-330e-4a0a-8d4d-d615a7be1fac"
    },
    {
      "cell_type": "raw",
      "metadata": {
        "raw_mimetype": "text/html"
      },
      "source": [
        "<!-- We start by taking the partial derivative of the RSS with respect ot $\\hat{\\beta}_1$ and simplify. -->"
      ],
      "id": "1b27e353-d11b-48b6-834a-c389f4118a6e"
    },
    {
      "cell_type": "raw",
      "metadata": {
        "raw_mimetype": "text/html"
      },
      "source": [
        "<!-- \\[ -->"
      ],
      "id": "67a81cc2-33ef-40a1-a654-b811d6b9e969"
    },
    {
      "cell_type": "raw",
      "metadata": {
        "raw_mimetype": "text/html"
      },
      "source": [
        "<!-- \\begin{aligned} -->"
      ],
      "id": "c5bc79e7-07fe-4e3c-90ee-23a4abfd65b2"
    },
    {
      "cell_type": "raw",
      "metadata": {
        "raw_mimetype": "text/html"
      },
      "source": [
        "<!-- \\frac{\\partial RSS(\\hat\\beta_0, \\hat\\beta_1)}{\\partial \\hat\\beta_1} &= \\frac{\\partial}{\\partial \\hat\\beta_1}\\sum_{i=1}^n (Y_i - \\hat\\beta_0 - \\hat\\beta_1x_i)^2 & \\tiny\\text{ (substitute formula for RSS)} \\\\ -->"
      ],
      "id": "36550fb6-c5b8-4578-83ec-14f857bddbbb"
    },
    {
      "cell_type": "raw",
      "metadata": {
        "raw_mimetype": "text/html"
      },
      "source": [
        "<!-- &= \\sum_{i=1}^n \\frac{\\partial}{\\partial \\hat\\beta_1}(Y_i - \\hat\\beta_0 - \\hat\\beta_1x_i)^2 & \\tiny\\text{ (linearity property of derivatives)} \\\\ -->"
      ],
      "id": "d9894d95-e0c2-4293-a121-796c62db9362"
    },
    {
      "cell_type": "raw",
      "metadata": {
        "raw_mimetype": "text/html"
      },
      "source": [
        "<!-- &= -2\\sum_{i=1}^n(Y_i-\\hat\\beta_0-\\hat\\beta_1x_i)x_i & \\tiny\\text{ (chain rule, factor out -2)} -->"
      ],
      "id": "7d5a938f-7b30-4419-baac-13b2f9dac6c3"
    },
    {
      "cell_type": "raw",
      "metadata": {
        "raw_mimetype": "text/html"
      },
      "source": [
        "<!-- \\end{aligned} -->"
      ],
      "id": "6f35b68c-7f71-4795-bd0c-93c17d0bac9f"
    },
    {
      "cell_type": "raw",
      "metadata": {
        "raw_mimetype": "text/html"
      },
      "source": [
        "<!-- \\] -->"
      ],
      "id": "a098672d-3e4e-4b63-a3d4-6d51d563d0b8"
    },
    {
      "cell_type": "raw",
      "metadata": {
        "raw_mimetype": "text/html"
      },
      "source": [
        "<!-- We now set this derivative equal to 0 and rearrange the terms to solve for $\\hat{\\beta}_1$: -->"
      ],
      "id": "16a180dc-ed73-49f6-87a9-70ba6232a2d7"
    },
    {
      "cell_type": "raw",
      "metadata": {
        "raw_mimetype": "text/html"
      },
      "source": [
        "<!-- \\[ -->"
      ],
      "id": "e9c36314-99cf-4c2b-a0e2-d2af193c276d"
    },
    {
      "cell_type": "raw",
      "metadata": {
        "raw_mimetype": "text/html"
      },
      "source": [
        "<!-- \\begin{aligned} -->"
      ],
      "id": "67cb83a3-494f-4901-ae51-4bb2e2539653"
    },
    {
      "cell_type": "raw",
      "metadata": {
        "raw_mimetype": "text/html"
      },
      "source": [
        "<!-- 0 &= \\frac{\\partial RSS(\\hat\\beta_0, \\hat\\beta_1)}{\\partial \\hat\\beta_1} & \\\\ -->"
      ],
      "id": "53c37b28-bc4a-488f-b44e-b459bb8296c1"
    },
    {
      "cell_type": "raw",
      "metadata": {
        "raw_mimetype": "text/html"
      },
      "source": [
        "<!-- 0 &= -2\\sum_{i=1}^n(Y_i-\\hat\\beta_0-\\hat\\beta_1x_i)x_i &\\tiny\\text{(substitute partial derivative})\\\\ -->"
      ],
      "id": "d4b07f59-2c10-43ab-9cba-523df63f405d"
    },
    {
      "cell_type": "raw",
      "metadata": {
        "raw_mimetype": "text/html"
      },
      "source": [
        "<!-- 0 &= \\sum_{i=1}^n(Y_i-(\\bar Y -\\hat \\beta_1\\bar x)-\\hat\\beta_1x_i)x_i &\\tiny\\text{(substitute OLS estimator of }\\hat\\beta_0, \\text{ divide both sides by -2}) \\\\ -->"
      ],
      "id": "e990a8a3-e5c8-42ed-bb6e-5f5880ce0521"
    },
    {
      "cell_type": "raw",
      "metadata": {
        "raw_mimetype": "text/html"
      },
      "source": [
        "<!-- 0 &= \\sum_{i=1}^n x_iY_i -\\sum_{i=1}^n x_i\\bar Y+\\hat\\beta_1\\bar x\\sum_{i=1}^n x_i-\\hat\\beta_1\\sum_{i=1}^n x_i^2. &\\tiny\\text{(expand sum, use linearity of sum)} \\\\ -->"
      ],
      "id": "234b9422-8d4a-4f54-9dd6-2225f2f7d0ec"
    },
    {
      "cell_type": "raw",
      "metadata": {
        "raw_mimetype": "text/html"
      },
      "source": [
        "<!-- \\end{aligned} -->"
      ],
      "id": "ea980e9d-36e5-4052-9abf-ba13d7d8dd3a"
    },
    {
      "cell_type": "raw",
      "metadata": {
        "raw_mimetype": "text/html"
      },
      "source": [
        "<!-- \\] -->"
      ],
      "id": "31de2f2b-297a-4463-b9c1-e4d02cca9dc5"
    },
    {
      "cell_type": "raw",
      "metadata": {
        "raw_mimetype": "text/html"
      },
      "source": [
        "<!-- Continuing from the previous line, we move the terms involving $\\hat{\\beta}_1$ to the other side of the equality to get -->"
      ],
      "id": "d2bb3886-3bcd-4f51-9f66-e8779281816e"
    },
    {
      "cell_type": "raw",
      "metadata": {
        "raw_mimetype": "text/html"
      },
      "source": [
        "<!-- \\[ -->"
      ],
      "id": "cced2b10-2943-4ce4-8789-8887a177861b"
    },
    {
      "cell_type": "raw",
      "metadata": {
        "raw_mimetype": "text/html"
      },
      "source": [
        "<!-- \\begin{aligned} -->"
      ],
      "id": "6cba12c1-ea83-4d33-9096-0852c7d94c29"
    },
    {
      "cell_type": "raw",
      "metadata": {
        "raw_mimetype": "text/html"
      },
      "source": [
        "<!-- \\hat\\beta_1\\sum_{i=1}^n x_i^2-\\hat\\beta_1\\bar x\\sum_{i=1}^n x_i &=\\sum_{i=1}^n x_iY_i -\\sum_{i=1}^n x_i\\bar Y & \\tiny\\text{(move estimator to other side)}\\\\ -->"
      ],
      "id": "3f1c5247-2c0b-4184-9225-d4d18f769ae9"
    },
    {
      "cell_type": "raw",
      "metadata": {
        "raw_mimetype": "text/html"
      },
      "source": [
        "<!-- \\hat\\beta_1\\sum_{i=1}^n x_i^2-\\hat\\beta_1\\frac{1}{n}\\sum_{i=1}^n  x_i\\sum_{i=1}^n x_i&=\\sum_{i=1}^n x_iY_i -\\sum_{i=1}^n x_i\\frac{1}{n}\\sum_{i=1}^n  Y_i  &\\tiny\\text{(rewrite using definition of sample means)} \\\\ -->"
      ],
      "id": "4c59ae26-be1e-41bf-b4fe-d6d3a02fce38"
    },
    {
      "cell_type": "raw",
      "metadata": {
        "raw_mimetype": "text/html"
      },
      "source": [
        "<!-- \\hat\\beta_1\\sum_{i=1}^n x_i^2-\\hat\\beta_1\\frac{1}{n}\\left(\\sum_{i=1}^n  x_i\\right)^2 &=\\sum_{i=1}^n x_iY_i -\\frac{1}{n}\\sum_{i=1}^n x_i\\sum_{i=1}^n  Y_i  & \\tiny\\text{(reorder and simplify)} \\\\ -->"
      ],
      "id": "8a558f50-d152-4c73-a551-e6007ae7c6db"
    },
    {
      "cell_type": "raw",
      "metadata": {
        "raw_mimetype": "text/html"
      },
      "source": [
        "<!-- \\hat\\beta_1\\left(\\sum_{i=1}^n x_i^2-\\frac{1}{n}\\left(\\sum_{i=1}^n  x_i\\right)^2\\right)&=\\sum_{i=1}^n x_iY_i -\\frac{1}{n}\\sum_{i=1}^n x_i\\sum_{i=1}^n  Y_i, & \\tiny\\text{(factoring)}\\\\ -->"
      ],
      "id": "7751dde3-59a3-4752-8f43-2fce3ba57439"
    },
    {
      "cell_type": "raw",
      "metadata": {
        "raw_mimetype": "text/html"
      },
      "source": [
        "<!-- \\end{aligned} -->"
      ],
      "id": "7082cb58-cacf-4586-826d-0f9ea6b575ab"
    },
    {
      "cell_type": "raw",
      "metadata": {
        "raw_mimetype": "text/html"
      },
      "source": [
        "<!-- \\] -->"
      ],
      "id": "f387a51a-f64c-414e-9026-540cf3ba3e94"
    },
    {
      "cell_type": "raw",
      "metadata": {
        "raw_mimetype": "text/html"
      },
      "source": [
        "<!-- which allows us to obtain -->"
      ],
      "id": "14a0ab65-b494-4ad8-ac16-85522c1a4251"
    },
    {
      "cell_type": "raw",
      "metadata": {
        "raw_mimetype": "text/html"
      },
      "source": [
        "<!-- \\[ -->"
      ],
      "id": "6e34f5b6-c47d-4171-991a-8e2590524881"
    },
    {
      "cell_type": "raw",
      "metadata": {
        "raw_mimetype": "text/html"
      },
      "source": [
        "<!-- \\hat\\beta_1=\\frac{\\sum_{i=1}^n x_iY_i -\\frac{1}{n}\\sum_{i=1}^n x_i\\sum_{i=1}^n  Y_i}{\\sum_{i=1}^n x_i^2-\\frac{1}{n}\\left(\\sum_{i=1}^n  x_i\\right)^2}. -->"
      ],
      "id": "356adccf-8ee4-4c11-87ae-cfe8bf6fd4e9"
    },
    {
      "cell_type": "raw",
      "metadata": {
        "raw_mimetype": "text/html"
      },
      "source": [
        "<!-- \\] -->"
      ],
      "id": "b5aa4d8d-d5e4-42e5-94c3-42f699a39467"
    },
    {
      "cell_type": "raw",
      "metadata": {
        "raw_mimetype": "text/html"
      },
      "source": [
        "<!-- Thus, we have the OLS estimators of the simple linear regression coefficients are -->"
      ],
      "id": "61106eb2-f893-432a-9813-f702782d47a5"
    },
    {
      "cell_type": "raw",
      "metadata": {
        "raw_mimetype": "text/html"
      },
      "source": [
        "<!-- \\[ -->"
      ],
      "id": "5333c017-4a59-4334-846f-dcc129df9619"
    },
    {
      "cell_type": "raw",
      "metadata": {
        "raw_mimetype": "text/html"
      },
      "source": [
        "<!-- \\begin{aligned} -->"
      ],
      "id": "6169f96b-ee74-4a9e-bc84-e63244001fac"
    },
    {
      "cell_type": "raw",
      "metadata": {
        "raw_mimetype": "text/html"
      },
      "source": [
        "<!-- \\hat\\beta_0 &= \\bar Y-\\hat\\beta_1\\bar x, \\\\ -->"
      ],
      "id": "10a6d088-d1d2-45ba-b68a-9600e4b6d39d"
    },
    {
      "cell_type": "raw",
      "metadata": {
        "raw_mimetype": "text/html"
      },
      "source": [
        "<!-- \\hat\\beta_1 & =\\frac{\\sum_{i=1}^n x_iY_i -\\frac{1}{n}\\sum_{i=1}^n x_i\\sum_{i=1}^n Y_i}{\\sum_{i=1}^n x_i^2-\\frac{1}{n}\\left(\\sum_{i=1}^n x_i\\right)^2}. -->"
      ],
      "id": "1cc60f6b-1aea-42c8-8662-7e53ff36c723"
    },
    {
      "cell_type": "raw",
      "metadata": {
        "raw_mimetype": "text/html"
      },
      "source": [
        "<!-- \\end{aligned} -->"
      ],
      "id": "e3d075fe-5079-46f6-bde6-c1358f0960d7"
    },
    {
      "cell_type": "raw",
      "metadata": {
        "raw_mimetype": "text/html"
      },
      "source": [
        "<!-- \\] -->"
      ],
      "id": "2247682c-9bf8-4540-aff3-1aeb4a4db6d6"
    },
    {
      "cell_type": "raw",
      "metadata": {
        "raw_mimetype": "text/html"
      },
      "source": [
        "<!-- ## Unbiasedness of OLS estimators -->"
      ],
      "id": "e55e79fb-41ac-486c-932b-c1c9ee0cf129"
    },
    {
      "cell_type": "raw",
      "metadata": {
        "raw_mimetype": "text/html"
      },
      "source": [
        "<!-- We now show that the OLS estimators we derived in Section \\@ref(slr-derivation) are unbiased. An estimator is unbiased if the expected value is equal to the parameter it is estimating. -->"
      ],
      "id": "c9e0bac9-5a56-4f22-ad66-937886f3bd7e"
    },
    {
      "cell_type": "raw",
      "metadata": {
        "raw_mimetype": "text/html"
      },
      "source": [
        "<!-- The OLS estimator assumes we know the value of the regressor variables for all observations. Thus, we must condition our expectation on knowing the regressor matrix $\\mathbf{X}$. Thus, we want to show that -->"
      ],
      "id": "67f321f2-3a4a-462c-8b6c-ab0509dbb574"
    },
    {
      "cell_type": "raw",
      "metadata": {
        "raw_mimetype": "text/html"
      },
      "source": [
        "<!-- \\[ -->"
      ],
      "id": "f93d67ba-24b2-4914-a159-9edf3147c137"
    },
    {
      "cell_type": "raw",
      "metadata": {
        "raw_mimetype": "text/html"
      },
      "source": [
        "<!-- E(\\hat{\\beta}_0\\mid \\mathbf{X})=\\beta_0, -->"
      ],
      "id": "72539740-61ce-49d8-9d63-3069a68cfb22"
    },
    {
      "cell_type": "raw",
      "metadata": {
        "raw_mimetype": "text/html"
      },
      "source": [
        "<!-- \\] -->"
      ],
      "id": "416926c7-92f4-4948-9b15-ba52a46c91ca"
    },
    {
      "cell_type": "raw",
      "metadata": {
        "raw_mimetype": "text/html"
      },
      "source": [
        "<!-- where \"$\\mid \\mathbf{X}$\" is convenient notation to indicate that we are conditioning our expectation on knowing the regressor values for every observation. -->"
      ],
      "id": "ba4f362e-05c0-453f-8a60-396383a0e1fd"
    },
    {
      "cell_type": "raw",
      "metadata": {
        "raw_mimetype": "text/html"
      },
      "source": [
        "<!-- In Section \\@ref(s-slr-estimation), we noted that we assume $E(\\epsilon \\mid X)=0$, which is true for every error in our model, i.e. $E(\\epsilon_i \\mid X = x_i) = 0$ for $i=1,2,\\ldots,n$. Thus, -->"
      ],
      "id": "92f459a8-7be8-4b36-8ee7-e654b5b64c48"
    },
    {
      "cell_type": "raw",
      "metadata": {
        "raw_mimetype": "text/html"
      },
      "source": [
        "<!-- \\[ -->"
      ],
      "id": "44a1e357-a6c5-4c2b-a702-d9362e34f3c7"
    },
    {
      "cell_type": "raw",
      "metadata": {
        "raw_mimetype": "text/html"
      },
      "source": [
        "<!-- \\begin{aligned} -->"
      ],
      "id": "e8453f33-076e-4fd0-84f7-b7141e88e67c"
    },
    {
      "cell_type": "raw",
      "metadata": {
        "raw_mimetype": "text/html"
      },
      "source": [
        "<!-- E(Y_i\\mid X=x_i) &= E(\\beta_0 + \\beta_1 x_i +\\epsilon_i\\mid X = x_i) & \\tiny\\text{(substiute definition of $Y_i$)} \\\\ -->"
      ],
      "id": "943f9a98-1d2d-4084-840b-ebd7cb09a91c"
    },
    {
      "cell_type": "raw",
      "metadata": {
        "raw_mimetype": "text/html"
      },
      "source": [
        "<!-- &= E(\\beta_0\\mid X=x_i) + E(\\beta_1 x_i \\mid X = X_i) +E(\\epsilon_i | X=x_i) & \\tiny\\text{(linearity property of expectation)} \\\\ -->"
      ],
      "id": "97926c76-bf3d-4d72-ade2-bb68d571a6ab"
    },
    {
      "cell_type": "raw",
      "metadata": {
        "raw_mimetype": "text/html"
      },
      "source": [
        "<!-- &= \\beta_0+\\beta_1x_i +E(\\epsilon_i | X=x_i) & \\tiny\\text{(the $\\beta$s and $x_i$ are non-random values)} \\\\ -->"
      ],
      "id": "1a0c1a3f-b78a-4553-a61c-48ec9e02760a"
    },
    {
      "cell_type": "raw",
      "metadata": {
        "raw_mimetype": "text/html"
      },
      "source": [
        "<!-- &= \\beta_0+\\beta_1x_i + 0 & \\tiny\\text{(assumption about errors)} \\\\ -->"
      ],
      "id": "69eaa097-ba0a-4467-b0cf-6755a11199e0"
    },
    {
      "cell_type": "raw",
      "metadata": {
        "raw_mimetype": "text/html"
      },
      "source": [
        "<!-- &= \\beta_0+\\beta_1x_i. & -->"
      ],
      "id": "f1a6683b-bb45-4cd0-8849-d143bf119d15"
    },
    {
      "cell_type": "raw",
      "metadata": {
        "raw_mimetype": "text/html"
      },
      "source": [
        "<!-- \\end{aligned} -->"
      ],
      "id": "c7423a67-71c0-448a-9126-fff6b3cd8a78"
    },
    {
      "cell_type": "raw",
      "metadata": {
        "raw_mimetype": "text/html"
      },
      "source": [
        "<!-- \\] -->"
      ],
      "id": "34c61605-9e8f-4222-a289-02a6dbca7a1a"
    },
    {
      "cell_type": "raw",
      "metadata": {
        "raw_mimetype": "text/html"
      },
      "source": [
        "<!-- In the derivations below, every sum is over all values of $i$, i.e., $\\sum \\equiv \\sum_{i=1}^n$. We drop the index for simplicity. -->"
      ],
      "id": "052c15e0-eaae-44b3-bab8-669780df8ca3"
    },
    {
      "cell_type": "raw",
      "metadata": {
        "raw_mimetype": "text/html"
      },
      "source": [
        "<!-- Next, we note: -->"
      ],
      "id": "8736c1c6-6979-4381-9b5c-5f85b841a148"
    },
    {
      "cell_type": "raw",
      "metadata": {
        "raw_mimetype": "text/html"
      },
      "source": [
        "<!-- \\[ -->"
      ],
      "id": "84aa41dd-b6ae-4415-afbe-be3ffbccf276"
    },
    {
      "cell_type": "raw",
      "metadata": {
        "raw_mimetype": "text/html"
      },
      "source": [
        "<!-- \\begin{aligned} -->"
      ],
      "id": "827275ab-316b-4183-a529-3e5dfc72ba45"
    },
    {
      "cell_type": "raw",
      "metadata": {
        "raw_mimetype": "text/html"
      },
      "source": [
        "<!-- E\\left(\\sum x_iY_i \\biggm| \\mathbf{X} \\right) &= \\sum E(x_iY_i \\mid \\mathbf{X}) &\\tiny\\text{ (by the linearity of the expectation operator)}\\\\ -->"
      ],
      "id": "5441dab4-62f6-44c0-9f14-d291b4083a2f"
    },
    {
      "cell_type": "raw",
      "metadata": {
        "raw_mimetype": "text/html"
      },
      "source": [
        "<!-- &=\\sum x_iE(Y_i\\mid \\mathbf{X})&\\tiny(x_i\\text{ is a fixed value, so it can be brought out})\\\\ -->"
      ],
      "id": "226ec32b-6c55-48ed-83ff-64c62b944a48"
    },
    {
      "cell_type": "raw",
      "metadata": {
        "raw_mimetype": "text/html"
      },
      "source": [
        "<!-- &=\\sum x_i(\\beta_0+\\beta_1 x_i)&\\tiny\\text{(substitute expected value of }Y_i)\\\\ -->"
      ],
      "id": "ac91a484-c944-420e-a3a3-d72f02ecdf63"
    },
    {
      "cell_type": "raw",
      "metadata": {
        "raw_mimetype": "text/html"
      },
      "source": [
        "<!-- &=\\sum x_i\\beta_0+\\sum x_i\\beta_1 x_i&\\tiny\\text{(distribute sum)}\\\\ -->"
      ],
      "id": "58ef433c-437f-4e9f-a232-3a7edb465dc1"
    },
    {
      "cell_type": "raw",
      "metadata": {
        "raw_mimetype": "text/html"
      },
      "source": [
        "<!-- &=\\beta_0\\sum x_i+\\beta_1\\sum x_i^2.&\\tiny\\text{(factor out constants)} -->"
      ],
      "id": "d3b38ea4-420d-436c-a797-46ca185ad472"
    },
    {
      "cell_type": "raw",
      "metadata": {
        "raw_mimetype": "text/html"
      },
      "source": [
        "<!-- \\end{aligned} -->"
      ],
      "id": "27bd4fa1-2885-48f6-b655-dd85b778f18c"
    },
    {
      "cell_type": "raw",
      "metadata": {
        "raw_mimetype": "text/html"
      },
      "source": [
        "<!-- \\] -->"
      ],
      "id": "844b7c1b-e566-418a-9b85-1375b2e93c5d"
    },
    {
      "cell_type": "raw",
      "metadata": {
        "raw_mimetype": "text/html"
      },
      "source": [
        "<!-- Also, -->"
      ],
      "id": "64b04e0f-11b3-444f-a52c-50dbef8a3504"
    },
    {
      "cell_type": "raw",
      "metadata": {
        "raw_mimetype": "text/html"
      },
      "source": [
        "<!-- \\[ -->"
      ],
      "id": "fd1287d7-ce0f-42b0-9b18-a5ab8646bed9"
    },
    {
      "cell_type": "raw",
      "metadata": {
        "raw_mimetype": "text/html"
      },
      "source": [
        "<!-- \\begin{aligned} -->"
      ],
      "id": "249c6499-854b-4846-93a3-5f610095e6be"
    },
    {
      "cell_type": "raw",
      "metadata": {
        "raw_mimetype": "text/html"
      },
      "source": [
        "<!-- E(\\bar Y\\mid \\mathbf{X}) -->"
      ],
      "id": "2ad59676-215b-4276-aaa5-348223788618"
    },
    {
      "cell_type": "raw",
      "metadata": {
        "raw_mimetype": "text/html"
      },
      "source": [
        "<!-- &= E\\left(\\frac{1}{n}\\sum Y_i\\Biggm|\\mathbf{X} \\right)&\\tiny\\text{(definition of sample mean)}\\\\ -->"
      ],
      "id": "3130b59f-0c61-47ee-9548-ba2eafeea291"
    },
    {
      "cell_type": "raw",
      "metadata": {
        "raw_mimetype": "text/html"
      },
      "source": [
        "<!-- &= \\frac{1}{n}E\\left(\\sum Y_i \\Bigm| \\mathbf{X}\\right)&\\tiny\\text{(factor out constant)}\\\\ -->"
      ],
      "id": "9471260e-4e52-476c-8646-add98f0bff18"
    },
    {
      "cell_type": "raw",
      "metadata": {
        "raw_mimetype": "text/html"
      },
      "source": [
        "<!-- &= \\frac{1}{n}\\sum E\\left(Y_i \\mid \\mathbf{X}\\right)&\\tiny\\text{(linearity of expectation)}\\\\ -->"
      ],
      "id": "b641aae9-b5a3-44bc-9bec-06b3a7bfd940"
    },
    {
      "cell_type": "raw",
      "metadata": {
        "raw_mimetype": "text/html"
      },
      "source": [
        "<!-- &= \\frac{1}{n}\\sum(\\beta_0+\\beta_1 x_i)&\\tiny\\text{(substitute expected value of }Y_i)\\\\ -->"
      ],
      "id": "1f19eb84-dacb-4c04-8598-1e118cf56edd"
    },
    {
      "cell_type": "raw",
      "metadata": {
        "raw_mimetype": "text/html"
      },
      "source": [
        "<!-- &= \\frac{1}{n}\\left(\\sum\\beta_0+\\sum\\beta_1 x_i\\right)&\\tiny\\text{(distribute sum)}\\\\ -->"
      ],
      "id": "b1a2efaf-b755-4cd9-b02a-2d2a707a312f"
    },
    {
      "cell_type": "raw",
      "metadata": {
        "raw_mimetype": "text/html"
      },
      "source": [
        "<!-- &= \\frac{1}{n}\\left(n\\beta_0+\\beta_1\\sum x_i\\right)&\\tiny\\text{(simplify, factor out constant)}\\\\ -->"
      ],
      "id": "522d689f-4e05-486b-8d76-8057912151e9"
    },
    {
      "cell_type": "raw",
      "metadata": {
        "raw_mimetype": "text/html"
      },
      "source": [
        "<!-- &= \\beta_0+\\beta_1\\bar x. &\\tiny\\text{(simplify)} -->"
      ],
      "id": "2b21288d-5936-43d3-b294-a964fef08003"
    },
    {
      "cell_type": "raw",
      "metadata": {
        "raw_mimetype": "text/html"
      },
      "source": [
        "<!-- \\end{aligned} -->"
      ],
      "id": "9b13833d-8270-4148-a0e6-c7a3cfceba8e"
    },
    {
      "cell_type": "raw",
      "metadata": {
        "raw_mimetype": "text/html"
      },
      "source": [
        "<!-- \\] -->"
      ],
      "id": "052a47fe-875f-405c-a125-264eae5b1f38"
    },
    {
      "cell_type": "raw",
      "metadata": {
        "raw_mimetype": "text/html"
      },
      "source": [
        "<!-- To simplify our derivation below, define -->"
      ],
      "id": "4b23d6e0-5b40-4205-84b6-c41e2eff66c6"
    },
    {
      "cell_type": "raw",
      "metadata": {
        "raw_mimetype": "text/html"
      },
      "source": [
        "<!-- \\[ -->"
      ],
      "id": "34a9493a-f214-4a9f-abf1-8161a20be439"
    },
    {
      "cell_type": "raw",
      "metadata": {
        "raw_mimetype": "text/html"
      },
      "source": [
        "<!-- SSX = \\sum x_i^2-\\frac{1}{n}\\left(\\sum  x_i\\right)^2. -->"
      ],
      "id": "d1e03853-7473-4206-a237-e3d7ca06ee79"
    },
    {
      "cell_type": "raw",
      "metadata": {
        "raw_mimetype": "text/html"
      },
      "source": [
        "<!-- \\] -->"
      ],
      "id": "409db6ff-4dd9-4e82-95fd-bef9568067c2"
    },
    {
      "cell_type": "raw",
      "metadata": {
        "raw_mimetype": "text/html"
      },
      "source": [
        "<!-- Thus, -->"
      ],
      "id": "578eb4ee-84f5-4a7d-84cc-91fda130ede9"
    },
    {
      "cell_type": "raw",
      "metadata": {
        "raw_mimetype": "text/html"
      },
      "source": [
        "<!-- \\[ -->"
      ],
      "id": "478b48d4-4e80-44ff-bc8e-8bf84d790011"
    },
    {
      "cell_type": "raw",
      "metadata": {
        "raw_mimetype": "text/html"
      },
      "source": [
        "<!-- \\begin{aligned} -->"
      ],
      "id": "557606c8-ccfc-415c-89cc-eb5089465c90"
    },
    {
      "cell_type": "raw",
      "metadata": {
        "raw_mimetype": "text/html"
      },
      "source": [
        "<!-- &E(\\hat\\beta_1 \\mid \\mathbf{X}) &\\\\ -->"
      ],
      "id": "37f607a2-345c-4f2b-82fa-5171b1f78b2a"
    },
    {
      "cell_type": "raw",
      "metadata": {
        "raw_mimetype": "text/html"
      },
      "source": [
        "<!-- &= E\\left(\\frac{\\sum x_iY_i -\\frac{1}{n}\\sum x_i\\sum Y_i}{\\sum x_i^2-\\frac{1}{n}\\left(\\sum  x_i\\right)^2} \\Biggm| \\mathbf{X} \\right) &\\tiny\\text{(substitute OLS estimator)} \\\\ -->"
      ],
      "id": "7f03ff73-9bbc-426c-b767-99a41e936faa"
    },
    {
      "cell_type": "raw",
      "metadata": {
        "raw_mimetype": "text/html"
      },
      "source": [
        "<!-- &= \\frac{1}{SSX}E\\left(\\sum x_iY_i-\\frac{1}{n}\\sum x_i\\sum Y_i \\biggm| \\mathbf{X}\\right)&\\tiny\\text{(factor out constant denominator, substitute }SSX\\text{)} \\\\ -->"
      ],
      "id": "028ede2f-408f-47e7-8389-55c4bb3be2c5"
    },
    {
      "cell_type": "raw",
      "metadata": {
        "raw_mimetype": "text/html"
      },
      "source": [
        "<!-- &= \\frac{1}{SSX}\\left[E\\left(\\sum x_iY_i\\Bigm|\\mathbf{X}\\right)-E\\left(\\frac{1}{n}\\sum x_i\\sum Y_i\\biggm|\\mathbf{X}\\right)\\right]&\\tiny\\text{(linearity of expectation)}\\\\ -->"
      ],
      "id": "a99442b3-07c1-4674-ad11-dfb529b620dc"
    },
    {
      "cell_type": "raw",
      "metadata": {
        "raw_mimetype": "text/html"
      },
      "source": [
        "<!-- &= \\frac{1}{SSX}\\left[E\\left(\\sum x_iY_i\\Bigm|\\mathbf{X}\\right)-\\left(\\sum x_i\\right)E\\left(\\bar Y\\mid \\mathbf{X}\\right)\\right]&\\tiny\\text{(factor out constant }\\sum x_i\\text{, use definition of}\\bar{Y})\\\\ -->"
      ],
      "id": "7d9bc740-47df-41e7-857b-4ff6cd415d81"
    },
    {
      "cell_type": "raw",
      "metadata": {
        "raw_mimetype": "text/html"
      },
      "source": [
        "<!-- &= \\frac{1}{SSX}\\left[\\left(\\beta_0\\sum x_i + \\beta_1\\sum x_i^2\\right)-\\left(\\sum x_i\\right)(\\beta_0+\\beta_1\\bar x)\\right]&\\tiny\\text{(substitute previous derivations -->"
      ],
      "id": "e486766a-c226-46f0-8440-1fcd5190e9a8"
    },
    {
      "cell_type": "raw",
      "metadata": {
        "raw_mimetype": "text/html"
      },
      "source": [
        "<!-- )}\\\\ -->"
      ],
      "id": "6deb85ed-4cdc-42b7-ab33-b5153573f861"
    },
    {
      "cell_type": "raw",
      "metadata": {
        "raw_mimetype": "text/html"
      },
      "source": [
        "<!-- &= \\frac{1}{SSX}\\left[\\beta_0\\sum x_i+\\beta_1\\sum x_i^2-\\beta_0\\sum x_i-\\beta_1\\bar x\\sum x_i\\right]&\\tiny\\text{(expand product and reorder)} \\\\ -->"
      ],
      "id": "52ddb82e-7f96-4d40-9069-9393625b909b"
    },
    {
      "cell_type": "raw",
      "metadata": {
        "raw_mimetype": "text/html"
      },
      "source": [
        "<!-- &= \\frac{1}{SSX}\\left[\\beta_1\\sum x_i^2-\\beta_1\\bar x\\sum x_i\\right]&\\tiny\\text{(cancel terms)}\\\\ -->"
      ],
      "id": "235f3672-6564-45c7-85da-441e841b429c"
    },
    {
      "cell_type": "raw",
      "metadata": {
        "raw_mimetype": "text/html"
      },
      "source": [
        "<!-- &= \\frac{1}{SSX}\\left[\\beta_1\\sum x_i^2-\\beta_1\\frac{1}{n}\\sum x_i\\sum x_i\\right]&\\tiny\\text{(using definition of sample mean)}\\\\ -->"
      ],
      "id": "7faf0fe7-443d-4af7-8c7c-77a7e9264225"
    },
    {
      "cell_type": "raw",
      "metadata": {
        "raw_mimetype": "text/html"
      },
      "source": [
        "<!-- &= \\frac{1}{SSX}\\beta_1\\left[\\sum x_i^2-\\frac{1}{n}\\left(\\sum x_i\\right)^2\\right]&\\tiny\\text{(factor out }\\beta_1\\text{, simplify})\\\\ -->"
      ],
      "id": "3bef39bb-bf3d-4905-8d09-24f039f453be"
    },
    {
      "cell_type": "raw",
      "metadata": {
        "raw_mimetype": "text/html"
      },
      "source": [
        "<!-- &= \\frac{1}{SSX}\\beta_1[SSX]&\\tiny\\text{(substitute }SSX\\text{)} \\\\ -->"
      ],
      "id": "828816d5-4214-4a44-87e7-d62f1e712810"
    },
    {
      "cell_type": "raw",
      "metadata": {
        "raw_mimetype": "text/html"
      },
      "source": [
        "<!-- &=\\beta_1. &\\tiny\\text{(simplify)} -->"
      ],
      "id": "bdcfafd4-3f7f-438e-99fb-6755bc41747e"
    },
    {
      "cell_type": "raw",
      "metadata": {
        "raw_mimetype": "text/html"
      },
      "source": [
        "<!-- \\end{aligned} -->"
      ],
      "id": "54097860-6bbe-4846-89e2-ec123e889754"
    },
    {
      "cell_type": "raw",
      "metadata": {
        "raw_mimetype": "text/html"
      },
      "source": [
        "<!-- \\] -->"
      ],
      "id": "0aba1d01-b07b-4318-b1af-5d86515bc4f7"
    },
    {
      "cell_type": "raw",
      "metadata": {
        "raw_mimetype": "text/html"
      },
      "source": [
        "<!-- Therefore, $\\hat\\beta_1$ is an unbiased estimator of $\\beta_1$. -->"
      ],
      "id": "cb6ac540-bbb4-41ee-8748-224d6c1600bc"
    },
    {
      "cell_type": "raw",
      "metadata": {
        "raw_mimetype": "text/html"
      },
      "source": [
        "<!-- Next, we show that $\\hat\\beta_0$ is unbiased: -->"
      ],
      "id": "f21e0003-c342-43a8-92c2-0907ba3d74c2"
    },
    {
      "cell_type": "raw",
      "metadata": {
        "raw_mimetype": "text/html"
      },
      "source": [
        "<!-- \\[ -->"
      ],
      "id": "0eaff879-3db8-454c-99b8-e56debd738d6"
    },
    {
      "cell_type": "raw",
      "metadata": {
        "raw_mimetype": "text/html"
      },
      "source": [
        "<!-- \\begin{aligned} -->"
      ],
      "id": "429f1681-be81-40db-8300-7cf4fe38b7a9"
    },
    {
      "cell_type": "raw",
      "metadata": {
        "raw_mimetype": "text/html"
      },
      "source": [
        "<!-- E(\\hat\\beta_0\\mid \\mathbf{X}) &= E(\\bar Y - \\hat{\\beta}_1\\bar x\\mid \\mathbf{X}) &\\tiny\\text{(OLS estimator of }\\beta_0) \\\\ -->"
      ],
      "id": "ee83faed-ab4d-4635-bb56-0fd011890e0f"
    },
    {
      "cell_type": "raw",
      "metadata": {
        "raw_mimetype": "text/html"
      },
      "source": [
        "<!-- &= E(\\bar{Y}\\mid \\mathbf{X}) - E(\\hat\\beta_1\\bar{x}\\mid \\mathbf{X}) &\\tiny\\text{(linearity of expectation})\\\\ -->"
      ],
      "id": "91c0d01d-54a0-4c00-9c8e-ffa1b6f16d21"
    },
    {
      "cell_type": "raw",
      "metadata": {
        "raw_mimetype": "text/html"
      },
      "source": [
        "<!-- &= E(\\bar{Y}\\mid \\mathbf{X}) - \\bar{x}E(\\hat\\beta_1\\mid \\mathbf{X}) &\\tiny\\text{(factor out constant})\\\\ -->"
      ],
      "id": "1bde50ed-20c8-4c0c-a276-34ece9b977fe"
    },
    {
      "cell_type": "raw",
      "metadata": {
        "raw_mimetype": "text/html"
      },
      "source": [
        "<!-- &= \\beta_0 +\\beta_1\\bar x-\\bar x\\beta_1 &\\tiny\\text{(substitute previous derivations})\\\\ -->"
      ],
      "id": "62bcc2dc-6273-42e1-8978-e6fbc69961a9"
    },
    {
      "cell_type": "raw",
      "metadata": {
        "raw_mimetype": "text/html"
      },
      "source": [
        "<!-- &= \\beta_0. &\\tiny\\text{(cancel terms})\\\\ -->"
      ],
      "id": "2beed5b8-9b9b-476c-b9a6-d70e2942d582"
    },
    {
      "cell_type": "raw",
      "metadata": {
        "raw_mimetype": "text/html"
      },
      "source": [
        "<!-- \\end{aligned} -->"
      ],
      "id": "e34c3609-afa2-4cd9-b0fd-7b42b2bff779"
    },
    {
      "cell_type": "raw",
      "metadata": {
        "raw_mimetype": "text/html"
      },
      "source": [
        "<!-- \\] -->"
      ],
      "id": "91fa0823-c4f7-408b-a052-ae652bf0587f"
    },
    {
      "cell_type": "raw",
      "metadata": {
        "raw_mimetype": "text/html"
      },
      "source": [
        "<!-- Therefore, $\\hat\\beta_0$ is an unbiased estimator of $\\beta_0$. -->"
      ],
      "id": "c0ea79ce-f39b-4128-a923-e6b8a8793ddc"
    },
    {
      "cell_type": "raw",
      "metadata": {
        "raw_mimetype": "text/html"
      },
      "source": [
        "<!-- <!-- Next, we derive the variance of the OLS estimators conditional on the known regressor values, i.e., $\\mathrm{var}(\\hat\\beta_0 \\mid \\mathbf{X})$ and $\\mathrm{var}(\\hat\\beta_1 \\mid \\mathbf{X})$. -->"
      ],
      "id": "56c6d222-221e-405a-a226-a128deb732a3"
    },
    {
      "cell_type": "markdown",
      "metadata": {},
      "source": [
        "–\\>"
      ],
      "id": "fd4dac4a-fded-4664-a72d-4fc397a0306d"
    },
    {
      "cell_type": "raw",
      "metadata": {
        "raw_mimetype": "text/html"
      },
      "source": [
        "<!-- <!-- First, we derive that -->"
      ],
      "id": "12267c9e-30b3-4ce0-9ee1-221c39c834d0"
    },
    {
      "cell_type": "markdown",
      "metadata": {},
      "source": [
        "–\\> <!-- <!-- \\[ --> –\\> <!-- <!-- \\begin{align} --> –\\>\n",
        "<!-- <!-- \\mathrm{var}(Y_i\\mid X = x_i) &= \\mathrm{var}(\\beta_0+\\beta_1x_i+\\epsilon_i\\mid X = x_i)&\\tiny\\text{(substitute model definition)} \\\\ -->\n",
        "–\\>\n",
        "<!-- <!-- &= \\mathrm{var}(\\epsilon_i\\mid X = x_i)&\\tiny(\\beta_0, \\beta_1, x_i\\text{ are fixed, so zero variance)} \\\\ -->\n",
        "–\\> <!-- <!-- &= \\sigma^2. &\\tiny\\text{(by assumption)} --> –\\>\n",
        "<!-- <!-- \\end{align} --> –\\> <!-- <!-- \\] --> –\\>"
      ],
      "id": "8618e3f3-26f9-42b9-a71f-e5bfe1e80cb1"
    },
    {
      "cell_type": "raw",
      "metadata": {
        "raw_mimetype": "text/html"
      },
      "source": [
        "<!-- <!-- Second, we derive that -->"
      ],
      "id": "d87950d1-e01a-411d-8956-ec55766a3aca"
    },
    {
      "cell_type": "markdown",
      "metadata": {},
      "source": [
        "–\\> <!-- <!-- \\[ --> –\\> <!-- <!-- \\begin{align} --> –\\>\n",
        "<!-- <!-- \\text{cov}(Y_i, Y_j\\mid \\mathbf{X}) &= \\text{cov}(\\beta_0+\\beta_1x_i+\\epsilon_i, \\beta_0+\\beta_1x_j+\\epsilon_j\\mid \\mathbf{X})&\\tiny\\text{(substitute model definition)} \\\\ -->\n",
        "–\\>\n",
        "<!-- <!-- &= \\text{cov}(\\epsilon_i,\\epsilon_j\\mid \\mathbf{X})&\\tiny\\text{(other values are fixed)} \\\\ -->\n",
        "–\\> <!-- <!-- &= 0.&\\tiny\\text{(errors are uncorrelated)} --> –\\>\n",
        "<!-- <!-- \\end{align} --> –\\> <!-- <!-- \\] --> –\\>"
      ],
      "id": "1f78a1e3-0e7c-4b1c-86ec-a7c7bcf101a1"
    },
    {
      "cell_type": "raw",
      "metadata": {
        "raw_mimetype": "text/html"
      },
      "source": [
        "<!-- <!-- Next, to simplify the derivation, we use a different form of $\\hat\\beta_1$ from Equation \\@ref(eq:slr-beta1hat), namely, -->"
      ],
      "id": "1aa3aeee-f92f-4552-9539-89fb7b025d6c"
    },
    {
      "cell_type": "markdown",
      "metadata": {},
      "source": [
        "–\\> <!-- <!-- \\[ --> –\\> <!-- <!-- \\begin{align} --> –\\>\n",
        "<!-- <!-- \\mathrm{var}(\\hat\\beta_1\\mid \\mathbf{X}) &=\\mathrm{var}\\left(\\frac{\\sum(x_i-\\bar x)Y_i}{\\sum(x_i-\\bar x)^2}\\mid \\mathbf{X}\\right)&\\tiny\\text{(expression for }\\hat\\beta_1)\\\\ -->\n",
        "–\\>\n",
        "<!-- <!-- &=\\frac{1}{\\left[\\sum(x_i-\\bar x)^2\\right]^2}\\mathrm{var}\\left(\\sum(x_i-\\bar x)Y_i\\Bigm| \\mathbf{X}\\right)&\\tiny\\text{(factor out constant denominator)}\\\\ -->\n",
        "–\\>\n",
        "<!-- <!-- &=\\frac{1}{\\left[\\sum(x_i-\\bar x)^2\\right]^2}\\biggl[\\sum\\mathrm{var}((x_i-\\bar x)Y_i\\mid \\mathbf{X})&\\\\ -->\n",
        "–\\>\n",
        "<!-- <!-- &\\qquad+\\sum_{i=1}^{n}\\sum_{i\\neq j}\\text{cov}((x_i-\\bar x)Y_i, (x_j-\\bar x)Y_j\\mid \\mathbf{X})\\biggr]&\\tiny\\text{(variance of a sum formula)}\\\\ -->\n",
        "–\\>\n",
        "<!-- <!-- &=\\frac{1}{\\left[\\sum(x_i-\\bar x)^2\\right]^2}\\biggl[\\sum(x_i-\\bar x)^2\\mathrm{var}(Y_i\\mid \\mathbf{X}) & \\\\ -->\n",
        "–\\>\n",
        "<!-- <!-- &\\qquad +\\sum_{i=1}^{n}\\sum_{i\\neq j}(x_i-\\bar x)(x_j-\\bar x)\\text{cov}(Y_i,Y_j\\mid \\mathbf{X})\\biggr]&\\tiny\\text{(factor out constants)}\\\\ -->\n",
        "–\\>\n",
        "<!-- <!-- &=\\frac{1}{\\left[\\sum(x_i-\\bar x)^2\\right]^2}\\left[\\sum(x_i-\\bar x)^2\\mathrm{var}(Y_i\\mid \\mathbf{X})\\right]&\\tiny\\text{(simplify using }\\text{cov}(Y_i, Y_j\\mid \\mathbf{X})=0 \\text{ for } i\\neq j)\\\\ -->\n",
        "–\\>\n",
        "<!-- <!-- &=\\frac{1}{\\left[\\sum(x_i-\\bar x)^2\\right]^2}\\left[\\sigma^2\\sum(x_i-\\bar x)^2\\right]&\\tiny\\text{(substitute known variance, factor out }\\sigma^2\\text{)}\\\\ -->\n",
        "–\\>\n",
        "<!-- <!-- &=\\frac{\\sigma^2}{\\sum(x_i-\\bar x)^2}.&\\tiny\\text{(cancel out numerator and denominator)}\\ -->\n",
        "–\\> <!-- <!-- \\end{align} --> –\\> <!-- <!-- \\] --> –\\>"
      ],
      "id": "0d53c565-0776-4ac6-b345-af62cb9c352a"
    },
    {
      "cell_type": "raw",
      "metadata": {
        "raw_mimetype": "text/html"
      },
      "source": [
        "<!-- ## Manual calculation Penguins simple linear regression example -->"
      ],
      "id": "c3b29e54-5b4f-4bf9-b174-ab61fe1630d0"
    },
    {
      "cell_type": "raw",
      "metadata": {
        "raw_mimetype": "text/html"
      },
      "source": [
        "<!-- In this section, we manually produce (i.e., without the `lm` function) the `penguins` simple linear regression example in Section \\@ref(s:penguins-slr). -->"
      ],
      "id": "ed00034a-b666-4cb5-bd45-586de2a78240"
    },
    {
      "cell_type": "raw",
      "metadata": {
        "raw_mimetype": "text/html"
      },
      "source": [
        "<!-- First, we will manually fit a simple linear regression model that regresses `bill_length_mm` on `body_mass_g`. -->"
      ],
      "id": "5263f300-ae09-4931-8cd3-671591cc3340"
    },
    {
      "cell_type": "raw",
      "metadata": {
        "raw_mimetype": "text/html"
      },
      "source": [
        "<!-- Using the `summary` function on the `penguins` data frame, we see that both `bill_length_mm` and `body_mass_g` have `NA` values. -->"
      ],
      "id": "b501420f-a039-402d-9b2e-42a8ece2f0bf"
    },
    {
      "cell_type": "raw",
      "metadata": {
        "raw_mimetype": "text/html"
      },
      "source": [
        "<!-- ```{r} -->"
      ],
      "id": "af16798a-4232-4df1-bb67-e4521694eb9c"
    },
    {
      "cell_type": "raw",
      "metadata": {
        "raw_mimetype": "text/html"
      },
      "source": [
        "<!-- summary(penguins) -->"
      ],
      "id": "458fba77-1bc9-4807-8cb3-c68ec791dd62"
    },
    {
      "cell_type": "raw",
      "metadata": {
        "raw_mimetype": "text/html"
      },
      "source": [
        "<!-- ``` -->"
      ],
      "id": "d31c4ef2-9fa8-420c-8e0e-ea6d9cf5a652"
    },
    {
      "cell_type": "raw",
      "metadata": {
        "raw_mimetype": "text/html"
      },
      "source": [
        "<!-- This is important to note because the `lm` function automatically removes any observation with `NA` values for any of the variables specified in the `formula` argument. In order to replicate our results, we must remove the same observations. -->"
      ],
      "id": "9f76e8c0-befb-417f-8d94-7ef429094c20"
    },
    {
      "cell_type": "raw",
      "metadata": {
        "raw_mimetype": "text/html"
      },
      "source": [
        "<!-- We want to remove the rows of `penguins` where either `body_mass_g` or `bill_length_mm` have `NA` values. We do that below using the `na.omit` function (selecting only the relevant variables) and assign the cleaned -->"
      ],
      "id": "8c19ceaa-80b2-4e7c-920c-fb71a56bf031"
    },
    {
      "cell_type": "raw",
      "metadata": {
        "raw_mimetype": "text/html"
      },
      "source": [
        "<!-- object the name `penguins_clean`. -->"
      ],
      "id": "7441b0a6-b24a-454c-b69d-648863365fee"
    },
    {
      "cell_type": "raw",
      "metadata": {
        "raw_mimetype": "text/html"
      },
      "source": [
        "<!-- ```{r} -->"
      ],
      "id": "f00797e9-b44f-460d-8830-aa04f6449db3"
    },
    {
      "cell_type": "raw",
      "metadata": {
        "raw_mimetype": "text/html"
      },
      "source": [
        "<!-- # remove rows of penguins where bill_length_mm or body_mass_g have NA values -->"
      ],
      "id": "b266d043-e3c2-479e-8993-c681d3542304"
    },
    {
      "cell_type": "raw",
      "metadata": {
        "raw_mimetype": "text/html"
      },
      "source": [
        "<!-- penguins_clean <- -->"
      ],
      "id": "95762b7b-bee4-48d8-bd1d-042aa11eb136"
    },
    {
      "cell_type": "raw",
      "metadata": {
        "raw_mimetype": "text/html"
      },
      "source": [
        "<!--   penguins |> -->"
      ],
      "id": "bb5a2090-d740-4488-b708-41f901bece3c"
    },
    {
      "cell_type": "raw",
      "metadata": {
        "raw_mimetype": "text/html"
      },
      "source": [
        "<!--   subset(select = c(\"bill_length_mm\", \"body_mass_g\")) |> -->"
      ],
      "id": "55dbda0b-2ae6-4f09-9351-cb5118b4121a"
    },
    {
      "cell_type": "raw",
      "metadata": {
        "raw_mimetype": "text/html"
      },
      "source": [
        "<!--   na.omit() -->"
      ],
      "id": "75a1397b-f997-42be-9bfd-3d67bd2ae622"
    },
    {
      "cell_type": "raw",
      "metadata": {
        "raw_mimetype": "text/html"
      },
      "source": [
        "<!-- ``` -->"
      ],
      "id": "da38d399-ab78-40c2-9112-665679be4cf5"
    },
    {
      "cell_type": "raw",
      "metadata": {
        "raw_mimetype": "text/html"
      },
      "source": [
        "<!-- We extract the `bill_length_mm` variable from the `penguins` data frame and assign it the name `y` since it will be the response variable. We extract the `body_mass_g` variable from the `penguins` data frame and -->"
      ],
      "id": "b12d88f4-fa4f-4189-a15b-22b6ba016801"
    },
    {
      "cell_type": "raw",
      "metadata": {
        "raw_mimetype": "text/html"
      },
      "source": [
        "<!-- assign it the name `x` since it will be the regressor variable. We also determine the number of observations and assign that value the name `n`. -->"
      ],
      "id": "65bc68e6-371f-44d9-a913-1c919f1301d6"
    },
    {
      "cell_type": "raw",
      "metadata": {
        "raw_mimetype": "text/html"
      },
      "source": [
        "<!-- ```{r} -->"
      ],
      "id": "95e377d3-4e94-4af7-8d21-99408b3e50ce"
    },
    {
      "cell_type": "raw",
      "metadata": {
        "raw_mimetype": "text/html"
      },
      "source": [
        "<!-- # extract response and regressor from penguins_clean -->"
      ],
      "id": "0a654396-f51e-4d6f-b408-e0a4ca746361"
    },
    {
      "cell_type": "raw",
      "metadata": {
        "raw_mimetype": "text/html"
      },
      "source": [
        "<!-- y <- penguins_clean$bill_length_mm -->"
      ],
      "id": "f55c1f52-7787-4603-8093-14d552f559be"
    },
    {
      "cell_type": "raw",
      "metadata": {
        "raw_mimetype": "text/html"
      },
      "source": [
        "<!-- x <- penguins_clean$body_mass_g -->"
      ],
      "id": "75bcd3e9-949d-4eb4-aa35-fcfc57f9fd98"
    },
    {
      "cell_type": "raw",
      "metadata": {
        "raw_mimetype": "text/html"
      },
      "source": [
        "<!-- # determine number of observations -->"
      ],
      "id": "4a24ecb9-7dc2-4a79-8ffa-95b4061032c4"
    },
    {
      "cell_type": "raw",
      "metadata": {
        "raw_mimetype": "text/html"
      },
      "source": [
        "<!-- n <- length(y) -->"
      ],
      "id": "02cea3cc-f74f-4461-b8a0-5854f535865e"
    },
    {
      "cell_type": "raw",
      "metadata": {
        "raw_mimetype": "text/html"
      },
      "source": [
        "<!-- ``` -->"
      ],
      "id": "6d3625a5-e795-495d-8be8-ad8658670be7"
    },
    {
      "cell_type": "raw",
      "metadata": {
        "raw_mimetype": "text/html"
      },
      "source": [
        "<!-- We now compute $\\hat{\\beta}_1$ and $\\hat{\\beta}_0$ using Equations \\@ref(eq:slr-beta1hat) and \\@ref(eq:slr-beta0hat). Note that placing `()` around the assignment operations will both perform the assignment and print the results. -->"
      ],
      "id": "a3743a76-3a10-4371-b155-29270ef52b82"
    },
    {
      "cell_type": "raw",
      "metadata": {
        "raw_mimetype": "text/html"
      },
      "source": [
        "<!-- ```{r} -->"
      ],
      "id": "bca63160-c956-4b34-839a-23d06eacf843"
    },
    {
      "cell_type": "raw",
      "metadata": {
        "raw_mimetype": "text/html"
      },
      "source": [
        "<!-- # compute OLS estimate of beta1 -->"
      ],
      "id": "e2903f58-af0f-4e57-becd-e9f87a9776be"
    },
    {
      "cell_type": "raw",
      "metadata": {
        "raw_mimetype": "text/html"
      },
      "source": [
        "<!-- (b1 <- (sum(x * y) - sum(x) * sum(y) / n)/(sum(x^2) - sum(x)^2/n)) -->"
      ],
      "id": "fba67562-36eb-4740-917f-361c71011f03"
    },
    {
      "cell_type": "raw",
      "metadata": {
        "raw_mimetype": "text/html"
      },
      "source": [
        "<!-- # compute OLS estimate of beta0 -->"
      ],
      "id": "89506fd2-0ebb-4fac-805c-5a5833634433"
    },
    {
      "cell_type": "raw",
      "metadata": {
        "raw_mimetype": "text/html"
      },
      "source": [
        "<!-- (b0 <- mean(y) - b1 * mean(x)) -->"
      ],
      "id": "d6c1121a-8413-4305-bc09-e2e02299520e"
    },
    {
      "cell_type": "raw",
      "metadata": {
        "raw_mimetype": "text/html"
      },
      "source": [
        "<!-- ``` -->"
      ],
      "id": "41e268fe-711a-4586-bf34-18361a181989"
    },
    {
      "cell_type": "raw",
      "metadata": {
        "raw_mimetype": "text/html"
      },
      "source": [
        "<!-- The estimated value of $\\beta_0$ is $\\hat{\\beta}_0=26.90$ and the estimated value of $\\beta_1$ is $\\hat{\\beta}_1=0.004$. -->"
      ],
      "id": "70b7f1b8-6c07-430f-9c91-ffa97c2b69f1"
    },
    {
      "cell_type": "raw",
      "metadata": {
        "raw_mimetype": "text/html"
      },
      "source": [
        "<!-- We can also compute the residuals, the fitted values, the RSS, and the estimated error variance. Using the code below, the RSS for our model is 6564.49 and the estimated error variance if $\\hat{\\sigma}^2=19.31$. -->"
      ],
      "id": "c64cd4e3-bc17-429c-b39f-d75fc06c48cd"
    },
    {
      "cell_type": "raw",
      "metadata": {
        "raw_mimetype": "text/html"
      },
      "source": [
        "<!-- ```{r} -->"
      ],
      "id": "d74fa992-e7d4-42b7-8085-565db9528237"
    },
    {
      "cell_type": "raw",
      "metadata": {
        "raw_mimetype": "text/html"
      },
      "source": [
        "<!-- yhat <- b0 + b1 * x # compute fitted values -->"
      ],
      "id": "a03e0fbe-807c-49fd-9930-736c9c166b6b"
    },
    {
      "cell_type": "raw",
      "metadata": {
        "raw_mimetype": "text/html"
      },
      "source": [
        "<!-- ehat <- y - yhat # compute residuals -->"
      ],
      "id": "0dac47ed-fd69-4b95-ac18-0a67c3f1cc9b"
    },
    {
      "cell_type": "raw",
      "metadata": {
        "raw_mimetype": "text/html"
      },
      "source": [
        "<!-- (rss <- sum(ehat^2)) # sum of the squared residuals -->"
      ],
      "id": "4c96d465-95e3-4dca-abb3-58fc1a79887a"
    },
    {
      "cell_type": "raw",
      "metadata": {
        "raw_mimetype": "text/html"
      },
      "source": [
        "<!-- (sigmasqhat <- rss/(n-2)) # estimated error variance -->"
      ],
      "id": "e6a1d882-852a-4cbd-991e-c18c4a6f1055"
    },
    {
      "cell_type": "raw",
      "metadata": {
        "raw_mimetype": "text/html"
      },
      "source": [
        "<!-- ``` -->"
      ],
      "id": "fbcf484d-3852-4091-bc36-d5930b40b385"
    },
    {
      "cell_type": "raw",
      "metadata": {
        "raw_mimetype": "text/html"
      },
      "source": [
        "<!-- ## Derivation of the OLS estimator for the multiple linear regression model coefficients {#mlr-derivation} -->"
      ],
      "id": "bba575e8-f7cf-4977-afe6-b44015f747d1"
    },
    {
      "cell_type": "raw",
      "metadata": {
        "raw_mimetype": "text/html"
      },
      "source": [
        "<!-- We want to determine the value of $\\hat{\\boldsymbol{\\beta}}$ that will minimize -->"
      ],
      "id": "e0078d5f-c94b-4eaf-8788-251784f73c92"
    },
    {
      "cell_type": "raw",
      "metadata": {
        "raw_mimetype": "text/html"
      },
      "source": [
        "<!-- \\[ -->"
      ],
      "id": "462806fc-ceba-4ba0-845a-47e95b75a54b"
    },
    {
      "cell_type": "raw",
      "metadata": {
        "raw_mimetype": "text/html"
      },
      "source": [
        "<!-- \\begin{aligned} -->"
      ],
      "id": "40b676e0-9946-41bf-8699-c83c4612ed32"
    },
    {
      "cell_type": "raw",
      "metadata": {
        "raw_mimetype": "text/html"
      },
      "source": [
        "<!-- RSS(\\hat{\\boldsymbol{\\beta}}) &=\\sum_{i=1}^n \\hat{\\epsilon_i}^2 \\\\ -->"
      ],
      "id": "fd414915-502a-49ef-b092-1db95a7ed6af"
    },
    {
      "cell_type": "raw",
      "metadata": {
        "raw_mimetype": "text/html"
      },
      "source": [
        "<!-- &= \\hat{\\boldsymbol{\\epsilon}}^T\\hat{\\boldsymbol{\\epsilon}} \\\\ -->"
      ],
      "id": "95b48662-ac4e-4210-8bab-1814a661c385"
    },
    {
      "cell_type": "raw",
      "metadata": {
        "raw_mimetype": "text/html"
      },
      "source": [
        "<!-- &= (\\mathbf{y} - \\mathbf{X}\\hat{\\boldsymbol{\\beta}})^T(\\mathbf{y} - \\mathbf{X}\\hat{\\boldsymbol{\\beta}}) \\\\ -->"
      ],
      "id": "2a5cc2c2-cc1f-4917-ba10-230c2516e3e3"
    },
    {
      "cell_type": "raw",
      "metadata": {
        "raw_mimetype": "text/html"
      },
      "source": [
        "<!-- &= \\mathbf{y}^T\\mathbf{y}-2\\hat{\\boldsymbol{\\beta}}^T\\mathbf{X}^T\\mathbf{y}+\\hat{\\boldsymbol{\\beta}}^T\\mathbf{X}^T\\mathbf{X}\\hat{\\boldsymbol{\\beta}}, -->"
      ],
      "id": "6e2665ea-c0ec-4926-adc1-4a804d7d1e0a"
    },
    {
      "cell_type": "raw",
      "metadata": {
        "raw_mimetype": "text/html"
      },
      "source": [
        "<!-- \\end{aligned} -->"
      ],
      "id": "6346c24a-7f4a-483b-86d3-f6b6b7bda672"
    },
    {
      "cell_type": "raw",
      "metadata": {
        "raw_mimetype": "text/html"
      },
      "source": [
        "<!-- \\] -->"
      ],
      "id": "1dc3fe3b-221e-4b9e-bd42-f2ca2534f75a"
    },
    {
      "cell_type": "raw",
      "metadata": {
        "raw_mimetype": "text/html"
      },
      "source": [
        "<!-- where the second term in the last line comes from the fact that $\\hat{\\boldsymbol{\\beta}}^T\\mathbf{X}^T\\mathbf{y}$ is a $1\\times 1$ matrix, and is thus symmetric. Consequently, $\\hat{\\boldsymbol{\\beta}}^T\\mathbf{X}^T\\mathbf{y}=(\\hat{\\boldsymbol{\\beta}}^T\\mathbf{X}^T\\mathbf{y})^T=\\mathbf{y}^T\\mathbf{X}\\hat{\\boldsymbol{\\beta}}$. -->"
      ],
      "id": "4348e41a-1a53-4e17-9440-b778c193024b"
    },
    {
      "cell_type": "raw",
      "metadata": {
        "raw_mimetype": "text/html"
      },
      "source": [
        "<!-- To find the local extrema of $RSS(\\hat{\\boldsymbol{\\beta}})$, we set its derivative with respect to $\\hat{\\boldsymbol{\\beta}}$ equal to 0, and solve for $\\hat{\\boldsymbol{\\beta}})$. -->"
      ],
      "id": "6cfcfe57-62a3-4307-9f19-0d0ab59d4a44"
    },
    {
      "cell_type": "raw",
      "metadata": {
        "raw_mimetype": "text/html"
      },
      "source": [
        "<!-- Using the results in Appendix \\@ref(matrix-derivatives), -->"
      ],
      "id": "fc441c3b-b408-4483-a933-c6277937fcfe"
    },
    {
      "cell_type": "raw",
      "metadata": {
        "raw_mimetype": "text/html"
      },
      "source": [
        "<!-- we see that -->"
      ],
      "id": "4800f08b-0591-4863-ad1e-c6ff58a3b469"
    },
    {
      "cell_type": "raw",
      "metadata": {
        "raw_mimetype": "text/html"
      },
      "source": [
        "<!-- \\[ -->"
      ],
      "id": "2f07104a-a309-49a9-b7e2-4b5b75bbb799"
    },
    {
      "cell_type": "raw",
      "metadata": {
        "raw_mimetype": "text/html"
      },
      "source": [
        "<!-- \\frac{\\partial RSS(\\hat{\\boldsymbol{\\beta}})}{\\partial\\hat{\\boldsymbol{\\beta}}} = -2\\mathbf{X}^T\\mathbf{y} + 2\\mathbf{X}^T\\mathbf{X}\\hat{\\boldsymbol{\\beta}}. -->"
      ],
      "id": "5022d9ab-0789-4e5f-ba90-ab4ca117e8a5"
    },
    {
      "cell_type": "raw",
      "metadata": {
        "raw_mimetype": "text/html"
      },
      "source": [
        "<!-- \\] -->"
      ],
      "id": "eba3d585-b9bd-4eef-98ff-e38557c74637"
    },
    {
      "cell_type": "raw",
      "metadata": {
        "raw_mimetype": "text/html"
      },
      "source": [
        "<!-- Setting $\\partial RSS(\\hat{\\boldsymbol{\\beta}})/\\partial\\hat{\\boldsymbol{\\beta}}=0$ and using some simple algebra, we derive the **normal equations** -->"
      ],
      "id": "33fa9123-5ddb-48d9-a143-42288bb7cff9"
    },
    {
      "cell_type": "raw",
      "metadata": {
        "raw_mimetype": "text/html"
      },
      "source": [
        "<!-- \\[\\mathbf{X}^T\\mathbf{X}\\hat{\\boldsymbol{\\beta}}=\\mathbf{X}^T\\mathbf{y}.\\] -->"
      ],
      "id": "54516ef6-cabe-4f4b-9c50-27cf1beb6fde"
    },
    {
      "cell_type": "raw",
      "metadata": {
        "raw_mimetype": "text/html"
      },
      "source": [
        "<!-- Assuming the $\\mathbf{X}^T\\mathbf{X}$ is invertible, which it will be when $\\mathbf{X}$ is full-rank, our solution is -->"
      ],
      "id": "f177d961-48a9-4635-ac6f-024938811122"
    },
    {
      "cell_type": "raw",
      "metadata": {
        "raw_mimetype": "text/html"
      },
      "source": [
        "<!-- \\[\\hat{\\boldsymbol{\\beta}}=(\\mathbf{X}^T\\mathbf{X})^{-1}\\mathbf{X}^T\\mathbf{y}.\\] -->"
      ],
      "id": "805ff524-f24b-4cac-923c-444ddd0a37bb"
    },
    {
      "cell_type": "raw",
      "metadata": {
        "raw_mimetype": "text/html"
      },
      "source": [
        "<!-- To show that the OLS estimator of $\\boldsymbol{\\beta}$ minimizes $RSS(\\hat{\\boldsymbol{\\beta}})$, we technically need to show that the Hessian matrix of $RSS(\\hat{\\boldsymbol{\\beta}})$, the matrix of second-order partial derivatives, is positive definite. In our context, the Hessian matrix is -->"
      ],
      "id": "3b8fdb54-21f1-4b3a-ab43-91a1afc2049e"
    },
    {
      "cell_type": "raw",
      "metadata": {
        "raw_mimetype": "text/html"
      },
      "source": [
        "<!-- \\[ -->"
      ],
      "id": "eaa71c5d-ab03-475f-beeb-a90c0c7a8e45"
    },
    {
      "cell_type": "raw",
      "metadata": {
        "raw_mimetype": "text/html"
      },
      "source": [
        "<!-- \\begin{aligned} -->"
      ],
      "id": "95df3068-3d66-4190-a80f-4e4a00db9392"
    },
    {
      "cell_type": "raw",
      "metadata": {
        "raw_mimetype": "text/html"
      },
      "source": [
        "<!-- \\frac{\\partial^2 RSS(\\hat{\\boldsymbol{\\beta}})}{\\partial \\hat{\\boldsymbol{\\beta}}^2} &= \\frac{\\partial}{\\partial \\hat{\\boldsymbol{\\beta}}}(-2\\mathbf{X}^T\\mathbf{y} + 2\\mathbf{X}^T\\mathbf{X}\\hat{\\boldsymbol{\\beta}}) \\\\ -->"
      ],
      "id": "ed5a5d3f-1d16-4959-a667-f1b173a4aedc"
    },
    {
      "cell_type": "raw",
      "metadata": {
        "raw_mimetype": "text/html"
      },
      "source": [
        "<!-- &= 2\\mathbf{X}^T\\mathbf{X}. -->"
      ],
      "id": "e0442b90-4bf0-4161-bc64-eb25216cb171"
    },
    {
      "cell_type": "raw",
      "metadata": {
        "raw_mimetype": "text/html"
      },
      "source": [
        "<!-- \\end{aligned} -->"
      ],
      "id": "2f91a432-92b0-4355-9d26-88345f14faca"
    },
    {
      "cell_type": "raw",
      "metadata": {
        "raw_mimetype": "text/html"
      },
      "source": [
        "<!-- \\] -->"
      ],
      "id": "941bf4ab-0384-4714-ad87-5f6f132767ef"
    },
    {
      "cell_type": "raw",
      "metadata": {
        "raw_mimetype": "text/html"
      },
      "source": [
        "<!-- The $p\\times p$ matrix $2\\mathbf{X}^T\\mathbf{X}$ is positive definite, but it is beyond the scope of the course to prove this. -->"
      ],
      "id": "9fc82099-02b0-4827-96d1-75ec007f0f27"
    },
    {
      "cell_type": "raw",
      "metadata": {
        "raw_mimetype": "text/html"
      },
      "source": [
        "<!-- Therefore, the OLS estimator of $\\boldsymbol{\\beta}$, -->"
      ],
      "id": "4c93d61e-5a8a-4be7-b4c5-7f3f7fcf46d8"
    },
    {
      "cell_type": "raw",
      "metadata": {
        "raw_mimetype": "text/html"
      },
      "source": [
        "<!-- \\[\\hat{\\boldsymbol{\\beta}}=(\\mathbf{X}^T\\mathbf{X})^{-1}\\mathbf{X}^T\\mathbf{y}\\] -->"
      ],
      "id": "190b2788-59fc-4941-a452-ab9336b9437a"
    },
    {
      "cell_type": "raw",
      "metadata": {
        "raw_mimetype": "text/html"
      },
      "source": [
        "<!-- minimizes the RSS. -->"
      ],
      "id": "d63c2429-e3cc-4bc6-8992-e09fcbbdf39d"
    },
    {
      "cell_type": "raw",
      "metadata": {
        "raw_mimetype": "text/html"
      },
      "source": [
        "<!-- ## Manual calculation of Penguins multiple linear regression example -->"
      ],
      "id": "6223fd65-9ea6-4028-a36b-06ebd95fd68a"
    },
    {
      "cell_type": "raw",
      "metadata": {
        "raw_mimetype": "text/html"
      },
      "source": [
        "<!-- We manually verify the calculations for the `penguins` example given in Section \\@ref{s:penguins-mlr}, where we fit the multiple linear regression model regressing `bill_length_mm` on `body_mass_g` and `flipper_length_mm`. We refit the model below, specifying the argument `y = TRUE` so we can get the response vector used in the model. -->"
      ],
      "id": "d4a7a395-add0-471f-932e-a3af2c5ecab6"
    },
    {
      "cell_type": "raw",
      "metadata": {
        "raw_mimetype": "text/html"
      },
      "source": [
        "<!-- ```{r} -->"
      ],
      "id": "c9ebcb97-1e98-42cb-ae3a-03a1a0862568"
    },
    {
      "cell_type": "raw",
      "metadata": {
        "raw_mimetype": "text/html"
      },
      "source": [
        "<!-- # fit regression model, retaining the y vector -->"
      ],
      "id": "3ddf6886-7633-4ad0-af54-0b3bef6a2a18"
    },
    {
      "cell_type": "raw",
      "metadata": {
        "raw_mimetype": "text/html"
      },
      "source": [
        "<!-- mlmod <- lm(bill_length_mm ~ body_mass_g + flipper_length_mm, -->"
      ],
      "id": "a0250afa-d869-4412-a72c-f9842cdaf728"
    },
    {
      "cell_type": "raw",
      "metadata": {
        "raw_mimetype": "text/html"
      },
      "source": [
        "<!--             data = penguins, y = TRUE) -->"
      ],
      "id": "5fae0964-9cf3-4d90-9de8-aa4ea684fc91"
    },
    {
      "cell_type": "raw",
      "metadata": {
        "raw_mimetype": "text/html"
      },
      "source": [
        "<!-- ``` -->"
      ],
      "id": "0fa3c3ce-5c2a-48ef-b551-5a0643950132"
    },
    {
      "cell_type": "raw",
      "metadata": {
        "raw_mimetype": "text/html"
      },
      "source": [
        "<!-- We can use `model.matrix` to extract the $\\mathbf{X}$ matrix from our fitted model. And because we specified `y = TRUE` in our call to `lm`, we can also extract `y` from the fitted model using the code below. -->"
      ],
      "id": "137326ed-ee0b-454a-b5a4-b91e9fd3be3e"
    },
    {
      "cell_type": "raw",
      "metadata": {
        "raw_mimetype": "text/html"
      },
      "source": [
        "<!-- ```{r} -->"
      ],
      "id": "1f5e93f1-7904-4d02-aa00-f206fd197b21"
    },
    {
      "cell_type": "raw",
      "metadata": {
        "raw_mimetype": "text/html"
      },
      "source": [
        "<!-- # extract X matrix from fitted model -->"
      ],
      "id": "d7200db2-6e4f-45d7-995f-2f9d516a9295"
    },
    {
      "cell_type": "raw",
      "metadata": {
        "raw_mimetype": "text/html"
      },
      "source": [
        "<!-- X <- model.matrix(mlmod) -->"
      ],
      "id": "d9797ee6-0d2e-44b8-a7e3-38c6cbec44be"
    },
    {
      "cell_type": "raw",
      "metadata": {
        "raw_mimetype": "text/html"
      },
      "source": [
        "<!-- # extract y vector from fitted model -->"
      ],
      "id": "bfda30e9-d7bd-4697-8349-6111dddc0b80"
    },
    {
      "cell_type": "raw",
      "metadata": {
        "raw_mimetype": "text/html"
      },
      "source": [
        "<!-- y <- mlmod$y -->"
      ],
      "id": "5fecb94e-6cad-4375-89a7-cd9bf412804b"
    },
    {
      "cell_type": "raw",
      "metadata": {
        "raw_mimetype": "text/html"
      },
      "source": [
        "<!-- ``` -->"
      ],
      "id": "25cf94ec-0321-413e-be16-cef46b893d49"
    },
    {
      "cell_type": "raw",
      "metadata": {
        "raw_mimetype": "text/html"
      },
      "source": [
        "<!-- We’ll need to learn a few new commands in R to do the calculations: -->"
      ],
      "id": "38a0512e-e3c5-463c-98ed-38fb0a131b37"
    },
    {
      "cell_type": "raw",
      "metadata": {
        "raw_mimetype": "text/html"
      },
      "source": [
        "<!-- - `t` is the transpose of a matrix. -->"
      ],
      "id": "fcec7280-8b1a-4247-937a-434450fe0e9c"
    },
    {
      "cell_type": "raw",
      "metadata": {
        "raw_mimetype": "text/html"
      },
      "source": [
        "<!-- - `%*%` is the multiplication operator for two matrices. -->"
      ],
      "id": "a06bf7e7-bd07-4dc2-b5ff-ea3af324193c"
    },
    {
      "cell_type": "raw",
      "metadata": {
        "raw_mimetype": "text/html"
      },
      "source": [
        "<!-- - `solve(A, b)` computes $\\mathbf{A}^{-1}\\mathbf{b}$. -->"
      ],
      "id": "aef85f48-bb87-49e8-9de5-bf1223fa66de"
    },
    {
      "cell_type": "raw",
      "metadata": {
        "raw_mimetype": "text/html"
      },
      "source": [
        "<!-- Thus, we compute $\\hat{\\boldsymbol{\\beta}}$ using the code below, which matches the estimate from the `lm` function. -->"
      ],
      "id": "f97786ff-00ec-4d71-834d-360ffb57e3d6"
    },
    {
      "cell_type": "raw",
      "metadata": {
        "raw_mimetype": "text/html"
      },
      "source": [
        "<!-- ```{r} -->"
      ],
      "id": "ffb8aec7-4a69-4642-bc3b-e4eba0a14693"
    },
    {
      "cell_type": "raw",
      "metadata": {
        "raw_mimetype": "text/html"
      },
      "source": [
        "<!-- # manually calculate betahat -->"
      ],
      "id": "3fd0e499-3645-4cc2-b576-c9d7aff25467"
    },
    {
      "cell_type": "raw",
      "metadata": {
        "raw_mimetype": "text/html"
      },
      "source": [
        "<!-- solve(t(X) %*% X, t(X) %*% y) -->"
      ],
      "id": "71387c8a-0b06-4b64-bba7-d5d25a728625"
    },
    {
      "cell_type": "raw",
      "metadata": {
        "raw_mimetype": "text/html"
      },
      "source": [
        "<!-- # betahat from lm function -->"
      ],
      "id": "3c87a12e-9cae-4a86-aefd-b0fdea3e6e31"
    },
    {
      "cell_type": "raw",
      "metadata": {
        "raw_mimetype": "text/html"
      },
      "source": [
        "<!-- coef(mlmod) -->"
      ],
      "id": "b356486c-5344-4934-b3e9-da93a0029a35"
    },
    {
      "cell_type": "raw",
      "metadata": {
        "raw_mimetype": "text/html"
      },
      "source": [
        "<!-- ``` -->"
      ],
      "id": "a00ef07e-2a0c-4331-bdf5-d40d8c5dbd37"
    },
    {
      "cell_type": "markdown",
      "metadata": {},
      "source": [
        "# References\n",
        "\n",
        "Anscombe, Francis J. 1973. “Graphs in Statistical Analysis.” The\n",
        "American Statistician 27 (1): 17–21.\n",
        "\n",
        "Ezekiel, Mordecai. 1930. “Methods of Correlation Analysis.”\n",
        "\n",
        "Gorman, Kristen B., Tony D. Williams, and William R. Fraser. 2014.\n",
        "“Ecological Sexual Dimorphism and Environmental Variability Within a\n",
        "Community of Antarctic Penguins (Genus Pygoscelis).” PLOS ONE 9 (3):\n",
        "1–14. https://doi.org/10.1371/journal.pone.0090081.\n",
        "\n",
        "Weisberg, Sanford. 2014. Applied Linear Regression. Fourth. Hoboken NJ:\n",
        "Wiley. http://z.umn.edu/alr4ed.\n",
        "\n",
        "Wilkinson, GN, and CE Rogers. 1973. “Symbolic Description of Factorial\n",
        "Models for Analysis of Variance.” Journal of the Royal Statistical\n",
        "Society: Series C (Applied Statistics) 22 (3): 392–99."
      ],
      "id": "1b141383-60c2-4733-9f75-7a05052119b6"
    }
  ],
  "nbformat": 4,
  "nbformat_minor": 5,
  "metadata": {
    "kernelspec": {
      "display_name": "Python 3",
      "language": "python",
      "name": "python3"
    }
  }
}