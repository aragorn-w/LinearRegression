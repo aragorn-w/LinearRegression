{
  "cells": [
    {
      "cell_type": "markdown",
      "metadata": {},
      "source": [
        "# Chapter 10 - Influential observations diagnostics\n",
        "\n",
        "Joshua French\n",
        "\n",
        "To open this information in an interactive Colab notebook, click the Open in Colab graphic below.\n",
        "\n",
        "<a href=\"https://colab.research.google.com/github/jfrench/LinearRegression/blob/master/notebooks/10-influential-observations-diagnostics-notebook.ipynb\"> <img src=\"https://colab.research.google.com/assets/colab-badge.svg\"> </a>\n",
        "\n",
        "------------------------------------------------------------------------"
      ],
      "id": "01a752a3-da22-4b68-ad95-99cd9d2856c9"
    },
    {
      "cell_type": "code",
      "execution_count": 1,
      "metadata": {},
      "outputs": [],
      "source": [
        "if(!require(KingCountyHouses, quietly = TRUE)) {\n",
        "  install.packages(\"KingCountyHouses\",\n",
        "                   repos = \"https://cran.rstudio.com/\")\n",
        "}\n",
        "if(!require(car, quietly = TRUE)) {\n",
        "  install.packages(\"car\",\n",
        "                   repos = \"https://cran.rstudio.com/\")\n",
        "  library(car)\n",
        "}\n",
        "if(!require(plotly, quietly = TRUE)) {\n",
        "  install.packages(\"plotly\",\n",
        "                   repos = \"https://cran.rstudio.com/\")\n",
        "  library(plotly)\n",
        "}"
      ],
      "id": "7e8aa67c-2955-4c23-b359-91be86921df4"
    },
    {
      "cell_type": "markdown",
      "metadata": {},
      "source": [
        "We adjust some printing options for clarity."
      ],
      "id": "9d63df5b-2ab4-4c8b-8583-bf367726af87"
    },
    {
      "cell_type": "code",
      "execution_count": 2,
      "metadata": {},
      "outputs": [],
      "source": [
        "options(digits = 7, scipen = 2)"
      ],
      "id": "adb10e10-2c35-4ec4-8c95-779ef6011058"
    },
    {
      "cell_type": "markdown",
      "metadata": {},
      "source": [
        "# Influential observations\n",
        "\n",
        "One of the key assumptions we implicitly make when we fit a regression model to data is that the fit of the model isn’t dramatically influenced by a few observations.\n",
        "\n",
        "-   Each observation should have a similar impact on the fitted model.\n",
        "\n",
        "We want our model fit to behave like a democracy (each observation has an equal say in the fit) instead of a dictatorship or oligarchy (only a few observations, at most have real power in determining the fit of the model to the data).\n",
        "\n",
        "An **influential observation** dramatically changes the fitted model based on whether it is included in or excluded from the analysis.\n",
        "\n",
        "-   An observation may not be influential on its own but can be influential when combined with a few other observations.\n",
        "\n",
        "Influential observations are often extreme with respect to their response values or their associated predictors.\n",
        "\n",
        "-   An **outlier** is an observation that is unusual with respect to the fitted model.\n",
        "-   A **leverage point** is an observation that has the potential to greatly impact the fitted model because the predictor values associated with the observation are extreme relative to most of the data.\n",
        "\n",
        "Outliers, leverage points, and influential observations are all model specific.\n",
        "\n",
        "-   An outlier (etc.) may be an outlier for one fitted model but not for a different one.\n",
        "\n",
        "In what follows, we assume that our fitted model has $p$ regression coefficients to estimate.\n",
        "\n",
        "# `home_prices` data\n",
        "\n",
        "To facilitate our discussion we will again use the `home_prices` data set in the **KingCountyHouses** package that was introduced in Chapter 9. The `home_prices` data set contains the sales prices of homes sold in King County, WA between 2014-05-02 and 2015-05-27. The original data set is a data frame (tibble) with 21,613 rows and 19 columns, but we restrict our analysis to the following variables:\n",
        "\n",
        "-   `price`: sale price (log10 units).\n",
        "-   `bedrooms`: number of bedrooms.\n",
        "-   `bathrooms`: number of bathrooms.\n",
        "-   `sqft_living`: size of living space.\n",
        "-   `sqft_lot`: size of property.\n",
        "-   `floors`: number of floors.\n",
        "-   `waterfront`: indicator variable for a waterfront view..\n",
        "\n",
        "We load and simplify the data below."
      ],
      "id": "7f1a2e84-81d4-48f5-ba79-d5c1feec185d"
    },
    {
      "cell_type": "code",
      "execution_count": 3,
      "metadata": {},
      "outputs": [],
      "source": [
        "data(home_prices, package = \"KingCountyHouses\")\n",
        "home_prices <- home_prices[, 2:8]"
      ],
      "id": "4d4f35af-9965-4702-970d-5c6b5f75fba6"
    },
    {
      "cell_type": "markdown",
      "metadata": {},
      "source": [
        "The validity of the assumptions we want to check depends on the model fit to the data.\n",
        "\n",
        "We will regress the `price` variable on all of the remaining variables in `home_prices`."
      ],
      "id": "aa260039-7038-4e00-a664-fb2ac12b11db"
    },
    {
      "cell_type": "code",
      "execution_count": 4,
      "metadata": {},
      "outputs": [],
      "source": [
        "lmod <- lm(price ~ ., data = home_prices)\n",
        "coef(lmod)"
      ],
      "id": "cc2e2eef-2b5c-4e70-9d2c-b04a26bfb873"
    },
    {
      "cell_type": "markdown",
      "metadata": {},
      "source": [
        "# LOO and studentized residuals\n",
        "\n",
        "Leave-one-out (LOO) and studentized residuals are specific types of residuals that are useful for identifying outliers and influential observations.\n",
        "\n",
        "LOO residuals are directly connected with LOO cross-validation.\n",
        "\n",
        "-   LOO residuals are also known as deleted residuals.\n",
        "\n",
        "Let $\\hat{Y}_i(i)$ denote the prediction of observation $i$ for the model that was fit using all $n$ observations except the $i$th one.\n",
        "\n",
        "-   This is predicted response for observation $i$ using LOO cross-validation.\n",
        "\n",
        "The **leave-one-out residual for observation $i$** is defined as\n",
        "\n",
        "$$l_i = Y_i - \\hat{Y}_{i(i)}.$$\n",
        "\n",
        "If an observation is influential, then the LOO residual may be substantially larger in magnitude than the ordinary residual.\n",
        "\n",
        "-   An influential observation is like a black hole that pulls the fitted model toward itself, so its associated residual might be small.\n",
        "\n",
        "Interestingly, the $i$th LOO residual can be computed via the equation\n",
        "\n",
        "$$\n",
        "l_i = \\frac{\\hat{\\epsilon}_i}{1-h_i},\n",
        "$$ where the $h_i=\\mathbf{H}_{i,i}$ is the $i$th diagonal element of the hat matrix given by $\\mathbf{H} = \\mathbf{X}(\\mathbf{X}^T\\mathbf{X})^{-1}\\mathbf{X}^T$.\n",
        "\n",
        "-   We do not need to fit multiple models to compute the the LOO residuals.\n",
        "\n",
        "Let $\\hat{\\sigma}_{(i)}^2$ denote the estimated error variance for the model model that uses all $n$ observations except observation $i$.\n",
        "\n",
        "-   We will call this the **LOO estimated error variance**.\n",
        "\n",
        "A **studentized residual** is a LOO residual that has been scaled to have a $t$ distribution with $n-p-1$ degrees of freedom.\n",
        "\n",
        "-   The studentized residuals will have the same variance since they are identically distributed.\n",
        "\n",
        "The studentized residual for observation $i$ is defined as\n",
        "\n",
        "$$\n",
        "t_i = \\frac{\\hat{\\epsilon_i}}{\\hat{\\sigma}_{(i)}\\sqrt{1-h_i}}.\n",
        "$$\n",
        "\n",
        "Under the standard assumptions, the studentized residuals each have a $t_{n-p-1}$ distribution but are not independent.\n",
        "\n",
        "The studentized residuals for a fitted model can be obtained from an `lm` object using the `rstudent` function.\n",
        "\n",
        "We summarize the studentized residuals for the model fit to the `home_prices` data below."
      ],
      "id": "1673e7ed-fd39-43fc-b615-b296fdfafbfa"
    },
    {
      "cell_type": "code",
      "execution_count": 5,
      "metadata": {},
      "outputs": [],
      "source": [
        "stud_resid <- rstudent(lmod)\n",
        "summary(stud_resid)"
      ],
      "id": "d4fe2903-4a81-4d08-a39c-65622c6aedaa"
    },
    {
      "cell_type": "markdown",
      "metadata": {},
      "source": [
        "# Finding outliers\n",
        "\n",
        "We describe two common approaches for identifying outliers.\n",
        "\n",
        "The simplest approach is to identify the visually unusual observations from an index plot of the studentized residuals.\n",
        "\n",
        "-   An index plot is a plot of a set of statistics versus their observation number.\n",
        "-   In this case, it will be a scatter plot of the pairs $(i, t_i)$ for $i=1,2,\\ldots,n$.\n",
        "\n",
        "The other approach is to compare the set of studentized residuals with the appropriate quantile of a $t_{n-p-1}$ distribution.\n",
        "\n",
        "-   To evaluate whether a *single* observation is an outlier, we would compare its studentized residual to $t^{1-\\alpha/2}_{n-p-1}$, i.e., the $1-\\alpha$ quantile of a $t$ distribution with $n-p-1$ degrees of freedom.\n",
        "    -   If $|t_i| > t^{1-\\alpha/2}_{n-p-1}$, then observation $i$ is an outlier.\n",
        "    -   We don’t do this because we have more than one observation to evaluate.\n",
        "\n",
        "To identify the outliers from the $n$ observations of our fitted model, we should adjust the previous idea using the Bonferroni correction to address the multiple comparisons problem.\n",
        "\n",
        "We conclude observation $i$ is an outlier if $|t_i| > t^{1-\\alpha/2n}_{n-p-1}$.\n",
        "\n",
        "**`KingCountyHomeSales` outlier example**\n",
        "\n",
        "------------------------------------------------------------------------\n",
        "\n",
        "We use the methods described above to identify the outliers of the model we fit to the `KingCountyHomesSales` data.\n",
        "\n",
        "We first create an index plot of the studentized residuals based on the fitted model `lmod`."
      ],
      "id": "b25437ea-b141-4940-9c8a-c03b977bc157"
    },
    {
      "cell_type": "code",
      "execution_count": 6,
      "metadata": {},
      "outputs": [],
      "source": [
        "plot(rstudent(lmod), ylab = \"studentized residuals\")"
      ],
      "id": "4ab1ff57-94d3-418d-8f99-9759637d7d7e"
    },
    {
      "cell_type": "markdown",
      "metadata": {},
      "source": [
        "We see that there are a few outlying observations, though it is difficult to identify them.\n",
        "\n",
        "The `infIndexPlot` from the **car** package offers a more convenient alternative. `infIndexPlot` has three main arguments that we need to know about:\n",
        "\n",
        "-   `model`: the fitted model.\n",
        "-   `vars`: the statistic we want to plot. In our case we want to set this argument to `\"Studentized\"`.\n",
        "-   `id`: a list that controls how points are labeled. Run `?car::infIndexPlot` for details."
      ],
      "id": "5d9f908e-b08c-42f0-98e9-0a33c004c31a"
    },
    {
      "cell_type": "code",
      "execution_count": 7,
      "metadata": {},
      "outputs": [],
      "source": [
        "infIndexPlot(lmod, vars = \"Studentized\")"
      ],
      "id": "14a34b50-84e2-4acb-8a29-654c3051e383"
    },
    {
      "cell_type": "markdown",
      "metadata": {},
      "source": [
        "From the plot above we see that the two most unusual observations are observations 12778 and 15871.\n",
        "\n",
        "To identify outliers using the appropriate Bonferroni-corrected $t$ quantile, we can use the `outlierTest` function from the **car** package. The main argument to the `outlierTest` function is `model`, with is the fitted model. Additional arguments controlling things like the desired significance level, the maximum number of outliers to show, and the order of the results can also be specified."
      ],
      "id": "5a75f0f6-17ce-488c-b255-a67b4357fa7e"
    },
    {
      "cell_type": "code",
      "execution_count": 8,
      "metadata": {},
      "outputs": [],
      "source": [
        "outlierTest(lmod)"
      ],
      "id": "e06bcdd2-c813-4389-8aed-ccfdd948a18d"
    },
    {
      "cell_type": "markdown",
      "metadata": {},
      "source": [
        "The outlier test identifies five outliers: observations 12778, 15871, 4025, 7253, and 21051.\n",
        "\n",
        "We examine these observations in the `home_prices` data set. We see that the outliers are all large houses sold for (relatively) high prices."
      ],
      "id": "cf85a11a-6407-4a0f-83f6-a4aace423342"
    },
    {
      "cell_type": "code",
      "execution_count": 9,
      "metadata": {},
      "outputs": [],
      "source": [
        "home_prices[c(12778, 15871, 4025, 7253, 21051), ]"
      ],
      "id": "9bba4da8-12d5-4b10-b20b-cc893a590ee2"
    },
    {
      "cell_type": "markdown",
      "metadata": {},
      "source": [
        "# Finding Leverage Points\n",
        "\n",
        "The leverage values are the diagonal elements of the hat matrix $H=X(X^T X)^{-1} X^T$.\n",
        "\n",
        "The $i$th leverage value is given by $h_i=\\mathbf{H}_{i,i}$, the $i$th diagonal position of the hat matrix.\n",
        "\n",
        "We can extract the leverage values of a fitted model using the `hatvalues` function.\n",
        "\n",
        "The leverage values of a fitted model have the following two properties:\n",
        "\n",
        "-   $0\\leq h_i \\leq 1$ for $i=1,2,\\ldots,n$.\n",
        "-   $\\sum_{i=1}^n h_i = p$.\n",
        "\n",
        "An observation is declared to be a leverage point if its leverage value is unusually large.\n",
        "\n",
        "-   Observation $i$ is often declared to be an outlier if $h_i > 2p/n$.\n",
        "    -   This approach can be overly sensitive.\n",
        "-   Alternatively, we can simple make a relative comparison of the leverage values to determine the ones that are unusually large relative to the others.\n",
        "\n",
        "An easy way to use these approaches for identifying outliers is to create an index plot of the leverage values with a horizontal line through the y-axis at $2p/n$.\n",
        "\n",
        "**`home_prices` leverage example**\n",
        "\n",
        "------------------------------------------------------------------------\n",
        "\n",
        "We seek to identify the leverage points of the `home_prices` data based on our fitted model.\n",
        "\n",
        "We create an index plot of the points below."
      ],
      "id": "2030c95f-1604-4615-9bdd-6f54a54d54f4"
    },
    {
      "cell_type": "code",
      "execution_count": 10,
      "metadata": {},
      "outputs": [],
      "source": [
        "h <- hatvalues(lmod) # get leverage values\n",
        "thresh <- 2 * length(coef(lmod))/nobs(lmod) # 2*p/n\n",
        "plot(h, ylab = \"leverage\") # index plot\n",
        "abline(h = 2 * length(coef(lmod))/nobs(lmod)) #reference"
      ],
      "id": "85cf76f1-d0d2-4abc-959c-0242add02566"
    },
    {
      "cell_type": "markdown",
      "metadata": {},
      "source": [
        "We can see that there are a consider number of points above the reference line at $y = 2p/n$. There are two points noticeably different than the rest. Which observations are they?\n",
        "\n",
        "The `infIndexPlot` function can be used to identify the leverage points. We will label the 3 largest leverage vales in the plot below even though only the 2 most extreme observations appear to be leverage points."
      ],
      "id": "ca7e21c0-e399-42a3-b6a8-1a754e5301e9"
    },
    {
      "cell_type": "code",
      "execution_count": 11,
      "metadata": {},
      "outputs": [],
      "source": [
        "infIndexPlot(lmod, vars = \"hat\", id = list(n = 3))"
      ],
      "id": "61abaa07-e0af-4bd2-ba76-d6415de4ea72"
    },
    {
      "cell_type": "markdown",
      "metadata": {},
      "source": [
        "Observations 1720 and 15871 are leverage points Observation 17320 has the next largest leverage value, but doesn’t appear to be a leverage point relative to the others.\n",
        "\n",
        "# Influential Observations\n",
        "\n",
        "An **influential observation** dramatically changes the fitted model based on whether it is included in or excluded from the analysis.\n",
        "\n",
        "-   An outlier with high leverage is more likely to be influential.\n",
        "\n",
        "Measures of influence are often related to various LOO statistics.\n",
        "\n",
        "-   The LOO residuals, $d_1, d_2, \\ldots, d_n$, where \\$l_i = Y_i - \\_{i(i)}.\n",
        "-   The LOO estimates of error variance, $\\hat{\\sigma}^2_{(1)}, \\hat{\\sigma}^2_{(2)}, \\ldots, \\hat^2{\\sigma}_{(n)}$.\n",
        "\n",
        "Two other measures we haven’t yet discussed are the DFBETA and DFFITS.\n",
        "\n",
        "## DFBETA and and DFFITS\n",
        "\n",
        "The DFBETA measure of influence is an $n\\times p$ matrix of statistics that measures the change in the estimated regression coefficients when we exclude each observation from the analysis compared to the estimated coefficients using all the data.\n",
        "\n",
        "The $i$th row of DFBETA is\n",
        "\n",
        "$$\n",
        "\\text{DFBETA}_i = \\hat{\\boldsymbol{\\beta}} - \\hat{\\boldsymbol{\\beta}}_{(i)}\n",
        "$$\n",
        "\n",
        "-   $\\hat{\\boldsymbol{\\beta}} = [\\hat{\\beta}_0, \\hat{\\beta}_1, \\ldots, \\hat{\\beta}_{p-1}]$.\n",
        "-   $\\hat{\\boldsymbol{\\beta}}_{(i)} = [\\hat{\\beta}_{0(i)}, \\hat{\\beta}_{1(i)}, \\ldots, \\hat{\\beta}_{p-1(i)}]$ is the estimated regression coefficients obtained when we exclude the $i$th observation from our analysis.\n",
        "-   $\\text{DFBETA}_{ij} = \\hat{\\beta}_j - \\hat{\\beta}_{j(i)}$.\n",
        "\n",
        "The scale of the estimated coefficients can be very different, so DFBETAS is an extension of DFBETA to scales the statistics to have similar variances.\n",
        "\n",
        "DFBETAS is also an $n\\times p$ matrix of statistics with the $j$th element of the $i$th row being defined as\n",
        "\n",
        "$$\\text{DFBETAS}_{ij} = \\frac{\\hat{\\beta}_j - \\hat{\\beta}_{j(i)}}{\\hat{\\mathrm{se}}(\\hat{\\beta}_j)}.$$\n",
        "\n",
        "One way of identifying influential observations is to create index plots the DFBETA or DFBETAs values for each regression coefficient and determine the estimates that substantially change.\n",
        "\n",
        "DFFITS is the $n$-dimension vector of differences between the fitted values from the fitted model and the LOO predictions for the observed data.\n",
        "\n",
        "The $i$th DFFITS value is\n",
        "\n",
        "$$\\text{DFFITS}_i = \\hat{Y}_i - \\hat{Y}_{i(i)}.$$\n",
        "\n",
        "-   A large difference between a fitted value and its associated LOO predicted values provides evidence an observation is influential.\n",
        "\n",
        "An index plot of DFFITS will indicate the observations most influential in changing their associated predicted value.\n",
        "\n",
        "**DBETAS and DFFITS `home_prices` example**\n",
        "\n",
        "------------------------------------------------------------------------\n",
        "\n",
        "We can use the `dfbetasPlot` function in the **car** package to get index plots of the DFBETAS statistics for each coefficients. Some of the main arguments to the `dfbetasPlots` function are:\n",
        "\n",
        "-   `model`: the fitted model.\n",
        "-   `terms`: the regressor terms we want to plot using formula notation.\n",
        "-   `id.n`: the number of observations to print an associated id label.\n",
        "\n",
        "We plot the `bedrooms`, `bathrooms`, `sqft_living`, and `sqft_lot` variables for the fitted model of our `home_prices` data and id the 3 most unusual observations."
      ],
      "id": "61fb109c-68e5-49d1-9459-4e0e1451b584"
    },
    {
      "cell_type": "code",
      "execution_count": 12,
      "metadata": {},
      "outputs": [],
      "source": [
        "dfbetasPlots(lmod, terms = ~ bedrooms + bathrooms + sqft_living + sqft_lot,\n",
        "             id.n = 3)"
      ],
      "id": "c2b6c078-c68e-4d3d-aa51-be5a8c6ddb06"
    },
    {
      "cell_type": "markdown",
      "metadata": {},
      "source": [
        "From our DFBETAS plots, we see:\n",
        "\n",
        "-   Observation 15871 is impactful in determining the magnitude of the `bedrooms`, `bathrooms`, and `sqft_living` coefficients.\n",
        "-   Observation 12778 is impactful in determining the magnitude of the `sqft_living` coefficients.\n",
        "-   Observation 1720 is impactful in determining the magnitude of the `sqft_lot` coefficients.\n",
        "\n",
        "If we examine these variables for these observations, we see that the observations are unusual with respect to one or more of those variables."
      ],
      "id": "fb37d16f-edc3-41aa-b274-00903b262739"
    },
    {
      "cell_type": "code",
      "execution_count": 13,
      "metadata": {},
      "outputs": [],
      "source": [
        "home_prices[c(1720, 12778, 15871),\n",
        "            c(\"bedrooms\", \"bathrooms\", \"sqft_living\", \"sqft_lot\")]"
      ],
      "id": "bbbf6477-72d0-4ab3-bffc-d385d1b2f1bc"
    },
    {
      "cell_type": "markdown",
      "metadata": {},
      "source": [
        "We must manually create an index plot for our DFFITS statistics.\n",
        "\n",
        "We can extract the DFFITS statistics using the `dffits` on our fitted model."
      ],
      "id": "6f0ba0ec-33e3-4acf-bf17-fa2866ba4767"
    },
    {
      "cell_type": "code",
      "execution_count": 14,
      "metadata": {},
      "outputs": [],
      "source": [
        "DFFITS <- dffits(lmod)\n",
        "plot(DFFITS)"
      ],
      "id": "e132eb79-d571-4aa1-a86b-b3468da4a373"
    },
    {
      "cell_type": "markdown",
      "metadata": {},
      "source": [
        "We can see two influential observations, but we don’t know which observations they are.\n",
        "\n",
        "Since the influential observations both have DFFITS values greater than 0.75, we can use a simple logical expression to identify them."
      ],
      "id": "c3dadbb4-3546-4cdf-b6b4-ecaaff2b8b92"
    },
    {
      "cell_type": "code",
      "execution_count": 15,
      "metadata": {},
      "outputs": [],
      "source": [
        "which(DFFITS > 0.75)"
      ],
      "id": "37c6807f-9578-4525-b4ee-8f090c93d60d"
    },
    {
      "cell_type": "markdown",
      "metadata": {},
      "source": [
        "Observations 1720 and 15871 are once again identified as influential observations.\n",
        "\n",
        "A more satisfying approach is to create an interactive plot using the `plot_ly` function of the **plotly** package.\n",
        "\n",
        "The `plot_ly` function is powerful but complex. We will not discuss it in detail beyond saying that the function requires the `data` argument, which is a data frame that has all of the variables we want to plot.\n",
        "\n",
        "We create a data frame with the index number and the DFFITS statistics."
      ],
      "id": "25a67d97-bcfd-4354-b4e5-1b991b7f7e30"
    },
    {
      "cell_type": "code",
      "execution_count": 16,
      "metadata": {},
      "outputs": [],
      "source": [
        "df <- data.frame(index = seq_along(DFFITS),\n",
        "                 DFFITS = DFFITS)"
      ],
      "id": "51a4a344-ea60-4b2c-9105-b7f3879f94b3"
    },
    {
      "cell_type": "markdown",
      "metadata": {},
      "source": [
        "We now create an interactive index plot of the DFFITS statistics."
      ],
      "id": "a210de13-900d-4cda-b0e8-0ad51d95ab70"
    },
    {
      "cell_type": "code",
      "execution_count": 17,
      "metadata": {},
      "outputs": [],
      "source": [
        "# plot_ly(df, x = ~index, y = ~DFFITS, name = ~index)"
      ],
      "id": "5856fc79-c715-45f2-9305-fa8a8d71425e"
    },
    {
      "cell_type": "markdown",
      "metadata": {},
      "source": [
        "## Cook’s Distance\n",
        "\n",
        "The **Cook’s distance** summarize the potential influence of an observation with a single statistic.\n",
        "\n",
        "The Cook’s distance for the $i$ observation is\n",
        "\n",
        "$$D_i=\\frac{\\sum_{k=1}^n (Y_k - \\hat{Y}_{k(i)})^2}{p \\widehat{\\sigma}^2} = \\frac{1}{p} r_i^2 \\frac{h_i}{1-h_i}$$\n",
        "\n",
        "-   $\\hat{Y}_{k(i)}$ is the predicted response for observation $k$ when observation $i$ is not included in the analysis (this is a type of LOO residual).\n",
        "-   The **standardized residual** for observation $i$ is\n",
        "\n",
        "$$\n",
        "r_i = \\frac{\\hat{\\epsilon}_i}{\\widehat{\\sigma}\\sqrt{1-h_i}}.\n",
        "$$\n",
        "\n",
        "Cook’s distance combines both:\n",
        "\n",
        "-   The standardized residual (measurement of outlier).\n",
        "-   The leverage (as measured by the hat value $h_i$).\n",
        "\n",
        "The statistic quantifies the amount of influence potential an observation has.\n",
        "\n",
        "An index plot of the Cook’s distances can be used to identify observations with unusually large Cook’s distances.\n",
        "\n",
        "-   Cook’s distance values can be obtained using the `cooks.distance` function.\n",
        "-   Observations with unusually large Cook’s distances are declared to be influential.\n",
        "\n",
        "## Influence plots\n",
        "\n",
        "An **influence plot** plots the studentized residuals versus the leverage values.\n",
        "\n",
        "-   The `car::influencePlot` function can be used to create this.\n",
        "-   Look for observations that have unusually large residuals, leverage values, and especially both.\n",
        "-   The circles are sized proportionally to the magnitude of the Cook’s distances\n",
        "\n",
        "\\*\\*`home_prices` influential observations example\n",
        "\n",
        "An index plot of the Cook’s distances can be created using the `plot` method for fitted `lm` objects and specifying `which = 4`.\n",
        "\n",
        "-   `id.n` can used to indicate the number of observations to label."
      ],
      "id": "4c66978e-f629-42bf-ad7b-f0d44a98e08e"
    },
    {
      "cell_type": "code",
      "execution_count": 18,
      "metadata": {},
      "outputs": [],
      "source": [
        "plot(lmod, which = 4, id.n = 3)"
      ],
      "id": "1a2077ec-9014-48be-a684-de722567ee44"
    },
    {
      "cell_type": "markdown",
      "metadata": {},
      "source": [
        "Observations 1720, 12778, and 15871 have substantially larger Cook’s distances than the other observations.\n",
        "\n",
        "Alternatively, the `infIndexPlot` function from the **car** package can be used to create an index plot of the Cook’s distances.\n",
        "\n",
        "-   Set `var = \"Cook\"`."
      ],
      "id": "3a42232f-a6ba-4cef-878a-33c0009a59bd"
    },
    {
      "cell_type": "code",
      "execution_count": 19,
      "metadata": {},
      "outputs": [],
      "source": [
        "infIndexPlot(lmod, var = \"Cook\", id = list(n = 3))"
      ],
      "id": "6d30e40e-342f-4398-88f1-526f6c51bf87"
    },
    {
      "cell_type": "markdown",
      "metadata": {},
      "source": [
        "An influence plot can be created using the `influencePlot` function from the **car** package."
      ],
      "id": "5b5ec12a-3634-455a-b5da-beefaa5728e7"
    },
    {
      "cell_type": "code",
      "execution_count": 20,
      "metadata": {},
      "outputs": [],
      "source": [
        "influencePlot(lmod)"
      ],
      "id": "c950d1df-ccb9-4f0e-9988-99750b2518a9"
    },
    {
      "cell_type": "markdown",
      "metadata": {},
      "source": [
        "Observations 1720, 12778, and 15871 have substantially larger Cook’s distances than the other observations.\n",
        "\n",
        "A plot of the standardized residuals versus leverage values can be obtained using the `plot` method of fitted `lm` objects by specifying `which = 5`.\n",
        "\n",
        "-   Contours for Cook’s distance are added to the plot.\n",
        "-   Any point beyond these contours is considered an influential observation."
      ],
      "id": "9d79291b-4009-43a1-a187-f49df26c9371"
    },
    {
      "cell_type": "code",
      "execution_count": 21,
      "metadata": {},
      "outputs": [],
      "source": [
        "plot(lmod, which = 5) # standardized residuals vs leverage"
      ],
      "id": "2e03cab1-aef9-425f-a0d9-7bf44a6b8de3"
    },
    {
      "cell_type": "markdown",
      "metadata": {},
      "source": [
        "Observations 1720, 12778, and 15871 have the most unusual combinations of leverage values and standardized residuals.\n",
        "\n",
        "# What should we do about outliers and influential observations?\n",
        "\n",
        "## Should we correct or delete the observation(s)?\n",
        "\n",
        "-   **If they’re data entry errors**, either correct the problem or remove them if they can’t be corrected. They’re wrong, so they don’t tell us anything useful!\n",
        "-   **If they are not part of the population of interest**, remove them.\n",
        "    -   For example, you are studying dogs, but this observation is a cat.\n",
        "-   **Removing them just because they break the model is a really bad idea?**\n",
        "    -   Like really really bad.\n",
        "    -   Make sure to indicate that you removed them from the data set and explain why.\n",
        "    -   Just remember, it is generally going to be a bad idea.\n",
        "\n",
        "## Should we keep them and fit a different model?\n",
        "\n",
        "-   An outlier/influential point for one model may not be for another.\n",
        "-   Examine the physical context—why did it happen?\n",
        "    -   An outlier/influential point may be interesting in itself. We should aspire to be outliers!\n",
        "        -   For example, an outlier in a statistical analysis of credit card transactions may indicate fraud. We should not always strive to be outliers!\n",
        "    -   This may suggest a better model.\n",
        "-   Use **robust regression**, which is not as affected by outliers/influential observations.\n",
        "\n",
        "# Summary\n",
        "\n",
        "-   Influential observations are usually a combination of outliers and leverage points.\n",
        "-   Never automatically remove outliers or influential points! - They may provide important information that may otherwise be missed.\n",
        "-   Fit the model with and without the influential observation(s).\n",
        "    -   Do your results qualitatively change?\n",
        "\n",
        "# Practice: SAT Example\n",
        "\n",
        "Using the `sat` dataset in the faraway package to answer the questions below."
      ],
      "id": "cc8764b4-377d-414f-a28c-00f2734eb8f3"
    },
    {
      "cell_type": "code",
      "execution_count": 22,
      "metadata": {},
      "outputs": [],
      "source": [
        "data(sat, package = \"faraway\")"
      ],
      "id": "88e83711-1522-4ba9-8d1f-ada1f544c71e"
    },
    {
      "cell_type": "markdown",
      "metadata": {},
      "source": [
        "## Part 1: Fit a model with the total SAT score as the response and expend, salary, ratio, and takers as regressors.\n",
        "\n",
        "## Part 2: Perform regression diagnostics on this model to answer the following questions.\n",
        "\n",
        "-   Check for leverage points.\n",
        "-   Check for outliers.\n",
        "-   Check for influential points.\n",
        "\n",
        "# Summary of methods for identifying unusual observations\n",
        "\n",
        "## Outliers\n",
        "\n",
        "-   Index plot of studentized residuals\n",
        "-   Bonferroni outlier test\n",
        "\n",
        "## Leverage points:\n",
        "\n",
        "-   Index plot of leverage values\n",
        "\n",
        "## Influential observations:\n",
        "\n",
        "-   Index plot of DFBETA or DFBETAS or DFFITS.\n",
        "-   Index plot of Cook’s distances\n",
        "-   Influence plot\n",
        "\n",
        "# Summary of useful R functions for identifying unusual observations\n",
        "\n",
        "Assume `lmod` is the fitted model produced by the `lm` function.\n",
        "\n",
        "## Outliers\n",
        "\n",
        "-   `rstudent(lmod)` extracts the studentized residuals from a fitted model.\n",
        "-   `car::outlierTest(lmod)` performs a Bonferroni outlier test\n",
        "-   `car::infIndexPlot(lmod, vars = \"Studentized\")` creates an index plot of the studentized residuals.\n",
        "\n",
        "## Leverage points\n",
        "\n",
        "-   `hatvalues(lmod)` extracts the leverage values from a fitted model.\n",
        "-   `infIndexPlot(lmod, vars = \"hat\")` creates an index plot of the leverage values.\n",
        "\n",
        "## Influential observations\n",
        "\n",
        "-   `car::dfbetaPlots` and `car::dfbetasPlots` construct index plots of DFBETA and DFBETAS, respectively.\n",
        "-   `cooks.distance` extracts the Cook’s distances from a fitted model.\n",
        "-   `infIndexPlot(lmod, vars = \"Cook\")` constructs an index plot of the Cook’s distances.\n",
        "-   `plot(lmod, which = 4)` constructs an index plot of the Cook’s statistics.\n",
        "-   `car::influencePlot` constructs an influence plot of the studentized residuals versus the leverage values.\n",
        "-   `plot(lmod, which = 4)` constructs an influence plot of the standardized residuals versus the leverage values.\n",
        "-   `influence(lmod)` computes a number of leave-one-out-related measures of observational influence."
      ],
      "id": "20b59709-bd05-449a-9eba-207a6b190d20"
    }
  ],
  "nbformat": 4,
  "nbformat_minor": 5,
  "metadata": {
    "kernelspec": {
      "name": "ir",
      "display_name": "R",
      "language": "R"
    },
    "language_info": {
      "name": "R",
      "codemirror_mode": "r",
      "file_extension": ".r",
      "mimetype": "text/x-r-source",
      "pygments_lexer": "r",
      "version": "4.2.2"
    }
  }
}